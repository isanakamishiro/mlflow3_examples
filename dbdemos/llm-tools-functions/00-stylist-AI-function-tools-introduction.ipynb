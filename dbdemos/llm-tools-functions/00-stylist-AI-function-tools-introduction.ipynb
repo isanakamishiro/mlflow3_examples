{
 "cells": [
  {
   "cell_type": "markdown",
   "metadata": {
    "application/vnd.databricks.v1+cell": {
     "cellMetadata": {},
     "inputWidgets": {},
     "nuid": "39d31e1e-0b10-4c06-ae54-89a672e81d77",
     "showTitle": false,
     "tableResultSettingsMap": {},
     "title": ""
    }
   },
   "source": [
    "# Composable AI systems: Building and AI Stylist Specialist selling our products\n",
    "\n",
    "## What's a composable AI system\n",
    "\n",
    "LLMs are great at answering general questions. However, general intelligence alone isn't enough to provide value to your customers.\n",
    "\n",
    "To be able to provide valuable answers, extra information is required, specific to your business and the user asking the question (your customer contract ID, the last email they sent to your support, your most recent sales report etc.).\n",
    "\n",
    "Composable AI systems are designed to answer this challenge. They are more advanced AI deployments, composed of multiple entities (tools) specialized in different action (retrieving information or acting on external systems). <br/>\n",
    "\n",
    "At a high level, you build & present a set of custom functions to the AI. The LLM can then reason about it, deciding which tool should be called and information gathered to answer the customer need.\n",
    "\n",
    "## Building Composable AI Systems with Databricks Mosaic AI agent framework\n",
    "\n",
    "\n",
    "Databricks simplifies this by providing a built-in service to:\n",
    "\n",
    "- Create and store your functions (tools) leveraging UC\n",
    "- Execute the functions in a safe way\n",
    "- Reason about the tools you selected and chain them together to properly answer your question. \n",
    "\n",
    "At a high level, here is the AI system we will implement in this demo:\n",
    "\n",
    "<img src=\"https://github.com/databricks-demos/dbdemos-resources/blob/main/images/product/llm-tools-functions/llm-tools-functions-flow.png?raw=true\" width=\"900px\">\n",
    "\n",
    "\n",
    "<!-- Collect usage data (view). Remove it to disable collection or disable tracker during installation. View README for more details.  -->\n",
    "<img width=\"1px\" src=\"https://ppxrzfxige.execute-api.us-west-2.amazonaws.com/v1/analytics?category=data-science&org_id=1765512908890676&notebook=%2F00-stylist-AI-function-tools-introduction&demo_name=llm-tools-functions&event=VIEW&path=%2F_dbdemos%2Fdata-science%2Fllm-tools-functions%2F00-stylist-AI-function-tools-introduction&version=1\">"
   ]
  },
  {
   "cell_type": "code",
   "execution_count": 0,
   "metadata": {
    "application/vnd.databricks.v1+cell": {
     "cellMetadata": {},
     "inputWidgets": {},
     "nuid": "05db1589-148d-4d26-b7dd-80f98bed8a8b",
     "showTitle": false,
     "tableResultSettingsMap": {},
     "title": ""
    }
   },
   "outputs": [
    {
     "output_type": "stream",
     "name": "stdout",
     "output_type": "stream",
     "text": [
      "Collecting databricks-sdk==0.41.0\n  Downloading databricks_sdk-0.41.0-py3-none-any.whl.metadata (38 kB)\nCollecting langchain-community==0.2.10\n  Downloading langchain_community-0.2.10-py3-none-any.whl.metadata (2.7 kB)\nCollecting langchain-openai==0.1.19\n  Downloading langchain_openai-0.1.19-py3-none-any.whl.metadata (2.6 kB)\nCollecting mlflow==2.20.2\n  Downloading mlflow-2.20.2-py3-none-any.whl.metadata (30 kB)\nCollecting faker==33.1.0\n  Downloading Faker-33.1.0-py3-none-any.whl.metadata (15 kB)\nRequirement already satisfied: google-auth~=2.0 in /databricks/python3/lib/python3.12/site-packages (from databricks-sdk==0.41.0) (2.35.0)\nRequirement already satisfied: requests<3,>=2.28.1 in /databricks/python3/lib/python3.12/site-packages (from databricks-sdk==0.41.0) (2.32.2)\nRequirement already satisfied: PyYAML>=5.3 in /databricks/python3/lib/python3.12/site-packages (from langchain-community==0.2.10) (6.0.1)\nCollecting SQLAlchemy<3,>=1.4 (from langchain-community==0.2.10)\n  Downloading sqlalchemy-2.0.41-cp312-cp312-manylinux_2_17_x86_64.manylinux2014_x86_64.whl.metadata (9.6 kB)\nCollecting aiohttp<4.0.0,>=3.8.3 (from langchain-community==0.2.10)\n  Downloading aiohttp-3.11.18-cp312-cp312-manylinux_2_17_x86_64.manylinux2014_x86_64.whl.metadata (7.7 kB)\nCollecting dataclasses-json<0.7,>=0.5.7 (from langchain-community==0.2.10)\n  Downloading dataclasses_json-0.6.7-py3-none-any.whl.metadata (25 kB)\nCollecting langchain<0.3.0,>=0.2.9 (from langchain-community==0.2.10)\n  Downloading langchain-0.2.17-py3-none-any.whl.metadata (7.1 kB)\nCollecting langchain-core<0.3.0,>=0.2.23 (from langchain-community==0.2.10)\n  Downloading langchain_core-0.2.43-py3-none-any.whl.metadata (6.2 kB)\nCollecting langsmith<0.2.0,>=0.1.0 (from langchain-community==0.2.10)\n  Downloading langsmith-0.1.147-py3-none-any.whl.metadata (14 kB)\nRequirement already satisfied: numpy<2.0.0,>=1.26.0 in /databricks/python3/lib/python3.12/site-packages (from langchain-community==0.2.10) (1.26.4)\nRequirement already satisfied: tenacity!=8.4.0,<9.0.0,>=8.1.0 in /databricks/python3/lib/python3.12/site-packages (from langchain-community==0.2.10) (8.2.2)\nCollecting openai<2.0.0,>=1.32.0 (from langchain-openai==0.1.19)\n  Downloading openai-1.81.0-py3-none-any.whl.metadata (25 kB)\nCollecting tiktoken<1,>=0.7 (from langchain-openai==0.1.19)\n  Downloading tiktoken-0.9.0-cp312-cp312-manylinux_2_17_x86_64.manylinux2014_x86_64.whl.metadata (6.7 kB)\nCollecting mlflow-skinny==2.20.2 (from mlflow==2.20.2)\n  Downloading mlflow_skinny-2.20.2-py3-none-any.whl.metadata (31 kB)\nCollecting Flask<4 (from mlflow==2.20.2)\n  Downloading flask-3.1.1-py3-none-any.whl.metadata (3.0 kB)\nCollecting Jinja2<4,>=2.11 (from mlflow==2.20.2)\n  Downloading jinja2-3.1.6-py3-none-any.whl.metadata (2.9 kB)\nCollecting alembic!=1.10.0,<2 (from mlflow==2.20.2)\n  Downloading alembic-1.16.0-py3-none-any.whl.metadata (7.3 kB)\nCollecting docker<8,>=4.0.0 (from mlflow==2.20.2)\n  Downloading docker-7.1.0-py3-none-any.whl.metadata (3.8 kB)\nCollecting graphene<4 (from mlflow==2.20.2)\n  Downloading graphene-3.4.3-py2.py3-none-any.whl.metadata (6.9 kB)\nCollecting gunicorn<24 (from mlflow==2.20.2)\n  Downloading gunicorn-23.0.0-py3-none-any.whl.metadata (4.4 kB)\nCollecting markdown<4,>=3.3 (from mlflow==2.20.2)\n  Downloading markdown-3.8-py3-none-any.whl.metadata (5.1 kB)\nRequirement already satisfied: matplotlib<4 in /databricks/python3/lib/python3.12/site-packages (from mlflow==2.20.2) (3.8.4)\nRequirement already satisfied: pandas<3 in /databricks/python3/lib/python3.12/site-packages (from mlflow==2.20.2) (1.5.3)\nRequirement already satisfied: pyarrow<19,>=4.0.0 in /databricks/python3/lib/python3.12/site-packages (from mlflow==2.20.2) (15.0.2)\nRequirement already satisfied: scikit-learn<2 in /databricks/python3/lib/python3.12/site-packages (from mlflow==2.20.2) (1.4.2)\nRequirement already satisfied: scipy<2 in /databricks/python3/lib/python3.12/site-packages (from mlflow==2.20.2) (1.13.1)\nRequirement already satisfied: python-dateutil>=2.4 in /databricks/python3/lib/python3.12/site-packages (from faker==33.1.0) (2.9.0.post0)\nRequirement already satisfied: typing-extensions in /databricks/python3/lib/python3.12/site-packages (from faker==33.1.0) (4.11.0)\nRequirement already satisfied: cachetools<6,>=5.0.0 in /databricks/python3/lib/python3.12/site-packages (from mlflow-skinny==2.20.2->mlflow==2.20.2) (5.3.3)\nRequirement already satisfied: click<9,>=7.0 in /databricks/python3/lib/python3.12/site-packages (from mlflow-skinny==2.20.2->mlflow==2.20.2) (8.1.7)\nRequirement already satisfied: cloudpickle<4 in /databricks/python3/lib/python3.12/site-packages (from mlflow-skinny==2.20.2->mlflow==2.20.2) (2.2.1)\nRequirement already satisfied: gitpython<4,>=3.1.9 in /databricks/python3/lib/python3.12/site-packages (from mlflow-skinny==2.20.2->mlflow==2.20.2) (3.1.37)\nRequirement already satisfied: importlib_metadata!=4.7.0,<9,>=3.7.0 in /databricks/python3/lib/python3.12/site-packages (from mlflow-skinny==2.20.2->mlflow==2.20.2) (6.0.0)\nRequirement already satisfied: opentelemetry-api<3,>=1.9.0 in /databricks/python3/lib/python3.12/site-packages (from mlflow-skinny==2.20.2->mlflow==2.20.2) (1.27.0)\nRequirement already satisfied: opentelemetry-sdk<3,>=1.9.0 in /databricks/python3/lib/python3.12/site-packages (from mlflow-skinny==2.20.2->mlflow==2.20.2) (1.27.0)\nRequirement already satisfied: packaging<25 in /databricks/python3/lib/python3.12/site-packages (from mlflow-skinny==2.20.2->mlflow==2.20.2) (24.1)\nRequirement already satisfied: protobuf<6,>=3.12.0 in /databricks/python3/lib/python3.12/site-packages (from mlflow-skinny==2.20.2->mlflow==2.20.2) (4.24.1)\nRequirement already satisfied: pydantic<3,>=1.10.8 in /databricks/python3/lib/python3.12/site-packages (from mlflow-skinny==2.20.2->mlflow==2.20.2) (2.8.2)\nRequirement already satisfied: sqlparse<1,>=0.4.0 in /databricks/python3/lib/python3.12/site-packages (from mlflow-skinny==2.20.2->mlflow==2.20.2) (0.5.1)\nCollecting aiohappyeyeballs>=2.3.0 (from aiohttp<4.0.0,>=3.8.3->langchain-community==0.2.10)\n  Downloading aiohappyeyeballs-2.6.1-py3-none-any.whl.metadata (5.9 kB)\nCollecting aiosignal>=1.1.2 (from aiohttp<4.0.0,>=3.8.3->langchain-community==0.2.10)\n  Downloading aiosignal-1.3.2-py2.py3-none-any.whl.metadata (3.8 kB)\nCollecting attrs>=17.3.0 (from aiohttp<4.0.0,>=3.8.3->langchain-community==0.2.10)\n  Downloading attrs-25.3.0-py3-none-any.whl.metadata (10 kB)\nCollecting frozenlist>=1.1.1 (from aiohttp<4.0.0,>=3.8.3->langchain-community==0.2.10)\n  Downloading frozenlist-1.6.0-cp312-cp312-manylinux_2_5_x86_64.manylinux1_x86_64.manylinux_2_17_x86_64.manylinux2014_x86_64.whl.metadata (16 kB)\nCollecting multidict<7.0,>=4.5 (from aiohttp<4.0.0,>=3.8.3->langchain-community==0.2.10)\n  Downloading multidict-6.4.4-cp312-cp312-manylinux_2_17_x86_64.manylinux2014_x86_64.whl.metadata (5.3 kB)\nCollecting propcache>=0.2.0 (from aiohttp<4.0.0,>=3.8.3->langchain-community==0.2.10)\n  Downloading propcache-0.3.1-cp312-cp312-manylinux_2_17_x86_64.manylinux2014_x86_64.whl.metadata (10 kB)\nCollecting yarl<2.0,>=1.17.0 (from aiohttp<4.0.0,>=3.8.3->langchain-community==0.2.10)\n  Downloading yarl-1.20.0-cp312-cp312-manylinux_2_17_x86_64.manylinux2014_x86_64.whl.metadata (72 kB)\n\u001B[?25l     \u001B[90m━━━━━━━━━━━━━━━━━━━━━━━━━━━━━━━━━━━━━━━━\u001B[0m \u001B[32m0.0/72.4 kB\u001B[0m \u001B[31m?\u001B[0m eta \u001B[36m-:--:--\u001B[0m\n\u001B[2K     \u001B[90m━━━━━━━━━━━━━━━━━━━━━━━━━━━━━━━━━━━━━━━━\u001B[0m \u001B[32m72.4/72.4 kB\u001B[0m \u001B[31m4.1 MB/s\u001B[0m eta \u001B[36m0:00:00\u001B[0m\n\u001B[?25hCollecting Mako (from alembic!=1.10.0,<2->mlflow==2.20.2)\n  Downloading mako-1.3.10-py3-none-any.whl.metadata (2.9 kB)\nCollecting typing-extensions (from faker==33.1.0)\n  Downloading typing_extensions-4.13.2-py3-none-any.whl.metadata (3.0 kB)\nCollecting marshmallow<4.0.0,>=3.18.0 (from dataclasses-json<0.7,>=0.5.7->langchain-community==0.2.10)\n  Downloading marshmallow-3.26.1-py3-none-any.whl.metadata (7.3 kB)\nCollecting typing-inspect<1,>=0.4.0 (from dataclasses-json<0.7,>=0.5.7->langchain-community==0.2.10)\n  Downloading typing_inspect-0.9.0-py3-none-any.whl.metadata (1.5 kB)\nRequirement already satisfied: urllib3>=1.26.0 in /databricks/python3/lib/python3.12/site-packages (from docker<8,>=4.0.0->mlflow==2.20.2) (1.26.16)\nCollecting blinker>=1.9.0 (from Flask<4->mlflow==2.20.2)\n  Downloading blinker-1.9.0-py3-none-any.whl.metadata (1.6 kB)\nCollecting itsdangerous>=2.2.0 (from Flask<4->mlflow==2.20.2)\n  Downloading itsdangerous-2.2.0-py3-none-any.whl.metadata (1.9 kB)\nCollecting markupsafe>=2.1.1 (from Flask<4->mlflow==2.20.2)\n  Downloading MarkupSafe-3.0.2-cp312-cp312-manylinux_2_17_x86_64.manylinux2014_x86_64.whl.metadata (4.0 kB)\nCollecting werkzeug>=3.1.0 (from Flask<4->mlflow==2.20.2)\n  Downloading werkzeug-3.1.3-py3-none-any.whl.metadata (3.7 kB)\nRequirement already satisfied: pyasn1-modules>=0.2.1 in /databricks/python3/lib/python3.12/site-packages (from google-auth~=2.0->databricks-sdk==0.41.0) (0.2.8)\nRequirement already satisfied: rsa<5,>=3.1.4 in /databricks/python3/lib/python3.12/site-packages (from google-auth~=2.0->databricks-sdk==0.41.0) (4.9)\nCollecting graphql-core<3.3,>=3.1 (from graphene<4->mlflow==2.20.2)\n  Downloading graphql_core-3.2.6-py3-none-any.whl.metadata (11 kB)\nCollecting graphql-relay<3.3,>=3.1 (from graphene<4->mlflow==2.20.2)\n  Downloading graphql_relay-3.2.0-py3-none-any.whl.metadata (12 kB)\nCollecting langchain-text-splitters<0.3.0,>=0.2.0 (from langchain<0.3.0,>=0.2.9->langchain-community==0.2.10)\n  Downloading langchain_text_splitters-0.2.4-py3-none-any.whl.metadata (2.3 kB)\nCollecting jsonpatch<2.0,>=1.33 (from langchain-core<0.3.0,>=0.2.23->langchain-community==0.2.10)\n  Downloading jsonpatch-1.33-py2.py3-none-any.whl.metadata (3.0 kB)\nCollecting httpx<1,>=0.23.0 (from langsmith<0.2.0,>=0.1.0->langchain-community==0.2.10)\n  Downloading httpx-0.28.1-py3-none-any.whl.metadata (7.1 kB)\nCollecting orjson<4.0.0,>=3.9.14 (from langsmith<0.2.0,>=0.1.0->langchain-community==0.2.10)\n  Downloading orjson-3.10.18-cp312-cp312-manylinux_2_17_x86_64.manylinux2014_x86_64.whl.metadata (41 kB)\n\u001B[?25l     \u001B[90m━━━━━━━━━━━━━━━━━━━━━━━━━━━━━━━━━━━━━━━━\u001B[0m \u001B[32m0.0/41.9 kB\u001B[0m \u001B[31m?\u001B[0m eta \u001B[36m-:--:--\u001B[0m\n\u001B[2K     \u001B[90m━━━━━━━━━━━━━━━━━━━━━━━━━━━━━━━━━━━━━━━━\u001B[0m \u001B[32m41.9/41.9 kB\u001B[0m \u001B[31m3.9 MB/s\u001B[0m eta \u001B[36m0:00:00\u001B[0m\n\u001B[?25hCollecting requests-toolbelt<2.0.0,>=1.0.0 (from langsmith<0.2.0,>=0.1.0->langchain-community==0.2.10)\n  Downloading requests_toolbelt-1.0.0-py2.py3-none-any.whl.metadata (14 kB)\nRequirement already satisfied: contourpy>=1.0.1 in /databricks/python3/lib/python3.12/site-packages (from matplotlib<4->mlflow==2.20.2) (1.2.0)\nRequirement already satisfied: cycler>=0.10 in /databricks/python3/lib/python3.12/site-packages (from matplotlib<4->mlflow==2.20.2) (0.11.0)\nRequirement already satisfied: fonttools>=4.22.0 in /databricks/python3/lib/python3.12/site-packages (from matplotlib<4->mlflow==2.20.2) (4.51.0)\nRequirement already satisfied: kiwisolver>=1.3.1 in /databricks/python3/lib/python3.12/site-packages (from matplotlib<4->mlflow==2.20.2) (1.4.4)\nRequirement already satisfied: pillow>=8 in /databricks/python3/lib/python3.12/site-packages (from matplotlib<4->mlflow==2.20.2) (10.3.0)\nRequirement already satisfied: pyparsing>=2.3.1 in /databricks/python3/lib/python3.12/site-packages (from matplotlib<4->mlflow==2.20.2) (3.0.9)\nCollecting anyio<5,>=3.5.0 (from openai<2.0.0,>=1.32.0->langchain-openai==0.1.19)\n  Downloading anyio-4.9.0-py3-none-any.whl.metadata (4.7 kB)\nRequirement already satisfied: distro<2,>=1.7.0 in /usr/lib/python3/dist-packages (from openai<2.0.0,>=1.32.0->langchain-openai==0.1.19) (1.9.0)\nCollecting jiter<1,>=0.4.0 (from openai<2.0.0,>=1.32.0->langchain-openai==0.1.19)\n  Downloading jiter-0.10.0-cp312-cp312-manylinux_2_17_x86_64.manylinux2014_x86_64.whl.metadata (5.2 kB)\nCollecting sniffio (from openai<2.0.0,>=1.32.0->langchain-openai==0.1.19)\n  Downloading sniffio-1.3.1-py3-none-any.whl.metadata (3.9 kB)\nCollecting tqdm>4 (from openai<2.0.0,>=1.32.0->langchain-openai==0.1.19)\n  Downloading tqdm-4.67.1-py3-none-any.whl.metadata (57 kB)\n\u001B[?25l     \u001B[90m━━━━━━━━━━━━━━━━━━━━━━━━━━━━━━━━━━━━━━━━\u001B[0m \u001B[32m0.0/57.7 kB\u001B[0m \u001B[31m?\u001B[0m eta \u001B[36m-:--:--\u001B[0m\n\u001B[2K     \u001B[90m━━━━━━━━━━━━━━━━━━━━━━━━━━━━━━━━━━━━━━━━\u001B[0m \u001B[32m57.7/57.7 kB\u001B[0m \u001B[31m4.6 MB/s\u001B[0m eta \u001B[36m0:00:00\u001B[0m\n\u001B[?25hRequirement already satisfied: pytz>=2020.1 in /databricks/python3/lib/python3.12/site-packages (from pandas<3->mlflow==2.20.2) (2024.1)\nRequirement already satisfied: six>=1.5 in /usr/lib/python3/dist-packages (from python-dateutil>=2.4->faker==33.1.0) (1.16.0)\nRequirement already satisfied: charset-normalizer<4,>=2 in /databricks/python3/lib/python3.12/site-packages (from requests<3,>=2.28.1->databricks-sdk==0.41.0) (2.0.4)\nRequirement already satisfied: idna<4,>=2.5 in /databricks/python3/lib/python3.12/site-packages (from requests<3,>=2.28.1->databricks-sdk==0.41.0) (3.7)\nRequirement already satisfied: certifi>=2017.4.17 in /databricks/python3/lib/python3.12/site-packages (from requests<3,>=2.28.1->databricks-sdk==0.41.0) (2024.6.2)\nRequirement already satisfied: joblib>=1.2.0 in /databricks/python3/lib/python3.12/site-packages (from scikit-learn<2->mlflow==2.20.2) (1.4.2)\nRequirement already satisfied: threadpoolctl>=2.0.0 in /databricks/python3/lib/python3.12/site-packages (from scikit-learn<2->mlflow==2.20.2) (2.2.0)\nCollecting greenlet>=1 (from SQLAlchemy<3,>=1.4->langchain-community==0.2.10)\n  Downloading greenlet-3.2.2-cp312-cp312-manylinux_2_24_x86_64.manylinux_2_28_x86_64.whl.metadata (4.1 kB)\nCollecting regex>=2022.1.18 (from tiktoken<1,>=0.7->langchain-openai==0.1.19)\n  Downloading regex-2024.11.6-cp312-cp312-manylinux_2_17_x86_64.manylinux2014_x86_64.whl.metadata (40 kB)\n\u001B[?25l     \u001B[90m━━━━━━━━━━━━━━━━━━━━━━━━━━━━━━━━━━━━━━━━\u001B[0m \u001B[32m0.0/40.5 kB\u001B[0m \u001B[31m?\u001B[0m eta \u001B[36m-:--:--\u001B[0m\n\u001B[2K     \u001B[90m━━━━━━━━━━━━━━━━━━━━━━━━━━━━━━━━━━━━━━━━\u001B[0m \u001B[32m40.5/40.5 kB\u001B[0m \u001B[31m2.9 MB/s\u001B[0m eta \u001B[36m0:00:00\u001B[0m\n\u001B[?25hRequirement already satisfied: gitdb<5,>=4.0.1 in /databricks/python3/lib/python3.12/site-packages (from gitpython<4,>=3.1.9->mlflow-skinny==2.20.2->mlflow==2.20.2) (4.0.11)\nCollecting httpcore==1.* (from httpx<1,>=0.23.0->langsmith<0.2.0,>=0.1.0->langchain-community==0.2.10)\n  Downloading httpcore-1.0.9-py3-none-any.whl.metadata (21 kB)\nCollecting h11>=0.16 (from httpcore==1.*->httpx<1,>=0.23.0->langsmith<0.2.0,>=0.1.0->langchain-community==0.2.10)\n  Downloading h11-0.16.0-py3-none-any.whl.metadata (8.3 kB)\nRequirement already satisfied: zipp>=0.5 in /databricks/python3/lib/python3.12/site-packages (from importlib_metadata!=4.7.0,<9,>=3.7.0->mlflow-skinny==2.20.2->mlflow==2.20.2) (3.17.0)\nCollecting jsonpointer>=1.9 (from jsonpatch<2.0,>=1.33->langchain-core<0.3.0,>=0.2.23->langchain-community==0.2.10)\n  Downloading jsonpointer-3.0.0-py2.py3-none-any.whl.metadata (2.3 kB)\nRequirement already satisfied: deprecated>=1.2.6 in /databricks/python3/lib/python3.12/site-packages (from opentelemetry-api<3,>=1.9.0->mlflow-skinny==2.20.2->mlflow==2.20.2) (1.2.14)\nRequirement already satisfied: opentelemetry-semantic-conventions==0.48b0 in /databricks/python3/lib/python3.12/site-packages (from opentelemetry-sdk<3,>=1.9.0->mlflow-skinny==2.20.2->mlflow==2.20.2) (0.48b0)\nRequirement already satisfied: pyasn1<0.5.0,>=0.4.6 in /databricks/python3/lib/python3.12/site-packages (from pyasn1-modules>=0.2.1->google-auth~=2.0->databricks-sdk==0.41.0) (0.4.8)\nRequirement already satisfied: annotated-types>=0.4.0 in /databricks/python3/lib/python3.12/site-packages (from pydantic<3,>=1.10.8->mlflow-skinny==2.20.2->mlflow==2.20.2) (0.7.0)\nRequirement already satisfied: pydantic-core==2.20.1 in /databricks/python3/lib/python3.12/site-packages (from pydantic<3,>=1.10.8->mlflow-skinny==2.20.2->mlflow==2.20.2) (2.20.1)\nRequirement already satisfied: mypy-extensions>=0.3.0 in /databricks/python3/lib/python3.12/site-packages (from typing-inspect<1,>=0.4.0->dataclasses-json<0.7,>=0.5.7->langchain-community==0.2.10) (1.0.0)\nRequirement already satisfied: wrapt<2,>=1.10 in /databricks/python3/lib/python3.12/site-packages (from deprecated>=1.2.6->opentelemetry-api<3,>=1.9.0->mlflow-skinny==2.20.2->mlflow==2.20.2) (1.14.1)\nRequirement already satisfied: smmap<6,>=3.0.1 in /databricks/python3/lib/python3.12/site-packages (from gitdb<5,>=4.0.1->gitpython<4,>=3.1.9->mlflow-skinny==2.20.2->mlflow==2.20.2) (5.0.0)\nDownloading databricks_sdk-0.41.0-py3-none-any.whl (637 kB)\n\u001B[?25l   \u001B[90m━━━━━━━━━━━━━━━━━━━━━━━━━━━━━━━━━━━━━━━━\u001B[0m \u001B[32m0.0/637.5 kB\u001B[0m \u001B[31m?\u001B[0m eta \u001B[36m-:--:--\u001B[0m\n\u001B[2K   \u001B[91m━━━━━━━━━━━━━━━━━━━\u001B[0m\u001B[90m╺\u001B[0m\u001B[90m━━━━━━━━━━━━━━━━━━━━\u001B[0m \u001B[32m307.2/637.5 kB\u001B[0m \u001B[31m9.1 MB/s\u001B[0m eta \u001B[36m0:00:01\u001B[0m\n\u001B[2K   \u001B[91m━━━━━━━━━━━━━━━━━━━━━━━━━━━━━━━━━━━━━━━\u001B[0m\u001B[91m╸\u001B[0m \u001B[32m634.9/637.5 kB\u001B[0m \u001B[31m9.5 MB/s\u001B[0m eta \u001B[36m0:00:01\u001B[0m\n\u001B[2K   \u001B[90m━━━━━━━━━━━━━━━━━━━━━━━━━━━━━━━━━━━━━━━━\u001B[0m \u001B[32m637.5/637.5 kB\u001B[0m \u001B[31m8.0 MB/s\u001B[0m eta \u001B[36m0:00:00\u001B[0m\n\u001B[?25hDownloading langchain_community-0.2.10-py3-none-any.whl (2.3 MB)\n\u001B[?25l   \u001B[90m━━━━━━━━━━━━━━━━━━━━━━━━━━━━━━━━━━━━━━━━\u001B[0m \u001B[32m0.0/2.3 MB\u001B[0m \u001B[31m?\u001B[0m eta \u001B[36m-:--:--\u001B[0m\n\u001B[2K   \u001B[91m━━━━━━━\u001B[0m\u001B[90m╺\u001B[0m\u001B[90m━━━━━━━━━━━━━━━━━━━━━━━━━━━━━━━━\u001B[0m \u001B[32m0.4/2.3 MB\u001B[0m \u001B[31m12.5 MB/s\u001B[0m eta \u001B[36m0:00:01\u001B[0m\n\u001B[2K   \u001B[91m━━━━━━━━━━━━━━━━\u001B[0m\u001B[90m╺\u001B[0m\u001B[90m━━━━━━━━━━━━━━━━━━━━━━━\u001B[0m \u001B[32m0.9/2.3 MB\u001B[0m \u001B[31m13.3 MB/s\u001B[0m eta \u001B[36m0:00:01\u001B[0m\n\u001B[2K   \u001B[91m━━━━━━━━━━━━━━━━━━━━━━━━━━\u001B[0m\u001B[90m╺\u001B[0m\u001B[90m━━━━━━━━━━━━━\u001B[0m \u001B[32m1.5/2.3 MB\u001B[0m \u001B[31m14.5 MB/s\u001B[0m eta \u001B[36m0:00:01\u001B[0m\n\u001B[2K   \u001B[91m━━━━━━━━━━━━━━━━━━━━━━━━━━━━━━━━━━━━━━\u001B[0m\u001B[91m╸\u001B[0m\u001B[90m━\u001B[0m \u001B[32m2.2/2.3 MB\u001B[0m \u001B[31m15.9 MB/s\u001B[0m eta \u001B[36m0:00:01\u001B[0m\n\u001B[2K   \u001B[90m━━━━━━━━━━━━━━━━━━━━━━━━━━━━━━━━━━━━━━━━\u001B[0m \u001B[32m2.3/2.3 MB\u001B[0m \u001B[31m14.2 MB/s\u001B[0m eta \u001B[36m0:00:00\u001B[0m\n\u001B[?25hDownloading langchain_openai-0.1.19-py3-none-any.whl (47 kB)\n\u001B[?25l   \u001B[90m━━━━━━━━━━━━━━━━━━━━━━━━━━━━━━━━━━━━━━━━\u001B[0m \u001B[32m0.0/47.1 kB\u001B[0m \u001B[31m?\u001B[0m eta \u001B[36m-:--:--\u001B[0m\n\u001B[2K   \u001B[90m━━━━━━━━━━━━━━━━━━━━━━━━━━━━━━━━━━━━━━━━\u001B[0m \u001B[32m47.1/47.1 kB\u001B[0m \u001B[31m4.4 MB/s\u001B[0m eta \u001B[36m0:00:00\u001B[0m\n\u001B[?25hDownloading mlflow-2.20.2-py3-none-any.whl (28.4 MB)\n\u001B[?25l   \u001B[90m━━━━━━━━━━━━━━━━━━━━━━━━━━━━━━━━━━━━━━━━\u001B[0m \u001B[32m0.0/28.4 MB\u001B[0m \u001B[31m?\u001B[0m eta \u001B[36m-:--:--\u001B[0m\n\u001B[2K   \u001B[91m━\u001B[0m\u001B[90m╺\u001B[0m\u001B[90m━━━━━━━━━━━━━━━━━━━━━━━━━━━━━━━━━━━━━━\u001B[0m \u001B[32m0.9/28.4 MB\u001B[0m \u001B[31m26.1 MB/s\u001B[0m eta \u001B[36m0:00:02\u001B[0m\n\u001B[2K   \u001B[91m━━\u001B[0m\u001B[91m╸\u001B[0m\u001B[90m━━━━━━━━━━━━━━━━━━━━━━━━━━━━━━━━━━━━━\u001B[0m \u001B[32m1.9/28.4 MB\u001B[0m \u001B[31m27.9 MB/s\u001B[0m eta \u001B[36m0:00:01\u001B[0m\n\u001B[2K   \u001B[91m━━━━\u001B[0m\u001B[90m╺\u001B[0m\u001B[90m━━━━━━━━━━━━━━━━━━━━━━━━━━━━━━━━━━━\u001B[0m \u001B[32m3.1/28.4 MB\u001B[0m \u001B[31m30.2 MB/s\u001B[0m eta \u001B[36m0:00:01\u001B[0m\n\u001B[2K   \u001B[91m━━━━━━\u001B[0m\u001B[91m╸\u001B[0m\u001B[90m━━━━━━━━━━━━━━━━━━━━━━━━━━━━━━━━━\u001B[0m \u001B[32m4.6/28.4 MB\u001B[0m \u001B[31m33.1 MB/s\u001B[0m eta \u001B[36m0:00:01\u001B[0m\n\u001B[2K   \u001B[91m━━━━━━━━\u001B[0m\u001B[91m╸\u001B[0m\u001B[90m━━━━━━━━━━━━━━━━━━━━━━━━━━━━━━━\u001B[0m \u001B[32m6.3/28.4 MB\u001B[0m \u001B[31m36.4 MB/s\u001B[0m eta \u001B[36m0:00:01\u001B[0m\n\u001B[2K   \u001B[91m━━━━━━━━━━━━\u001B[0m\u001B[90m╺\u001B[0m\u001B[90m━━━━━━━━━━━━━━━━━━━━━━━━━━━\u001B[0m \u001B[32m8.5/28.4 MB\u001B[0m \u001B[31m40.6 MB/s\u001B[0m eta \u001B[36m0:00:01\u001B[0m\n\u001B[2K   \u001B[91m━━━━━━━━━━━━━━━\u001B[0m\u001B[91m╸\u001B[0m\u001B[90m━━━━━━━━━━━━━━━━━━━━━━━━\u001B[0m \u001B[32m11.1/28.4 MB\u001B[0m \u001B[31m48.4 MB/s\u001B[0m eta \u001B[36m0:00:01\u001B[0m\n\u001B[2K   \u001B[91m━━━━━━━━━━━━━━━━━━━\u001B[0m\u001B[91m╸\u001B[0m\u001B[90m━━━━━━━━━━━━━━━━━━━━\u001B[0m \u001B[32m14.1/28.4 MB\u001B[0m \u001B[31m63.6 MB/s\u001B[0m eta \u001B[36m0:00:01\u001B[0m\n\u001B[2K   \u001B[91m━━━━━━━━━━━━━━━━━━━━━━━━━\u001B[0m\u001B[90m╺\u001B[0m\u001B[90m━━━━━━━━━━━━━━\u001B[0m \u001B[32m17.9/28.4 MB\u001B[0m \u001B[31m84.3 MB/s\u001B[0m eta \u001B[36m0:00:01\u001B[0m\n\u001B[2K   \u001B[91m━━━━━━━━━━━━━━━━━━━━━━━━━━━━━━\u001B[0m\u001B[91m╸\u001B[0m\u001B[90m━━━━━━━━━\u001B[0m \u001B[32m21.7/28.4 MB\u001B[0m \u001B[31m99.2 MB/s\u001B[0m eta \u001B[36m0:00:01\u001B[0m\n\u001B[2K   \u001B[91m━━━━━━━━━━━━━━━━━━━━━━━━━━━━━━━━━━━\u001B[0m\u001B[91m╸\u001B[0m\u001B[90m━━━━\u001B[0m \u001B[32m25.5/28.4 MB\u001B[0m \u001B[31m107.2 MB/s\u001B[0m eta \u001B[36m0:00:01\u001B[0m\n\u001B[2K   \u001B[91m━━━━━━━━━━━━━━━━━━━━━━━━━━━━━━━━━━━━━━━\u001B[0m\u001B[91m╸\u001B[0m \u001B[32m28.4/28.4 MB\u001B[0m \u001B[31m116.7 MB/s\u001B[0m eta \u001B[36m0:00:01\u001B[0m\n\u001B[2K   \u001B[91m━━━━━━━━━━━━━━━━━━━━━━━━━━━━━━━━━━━━━━━\u001B[0m\u001B[91m╸\u001B[0m \u001B[32m28.4/28.4 MB\u001B[0m \u001B[31m116.7 MB/s\u001B[0m eta \u001B[36m0:00:01\u001B[0m\n\u001B[2K   \u001B[91m━━━━━━━━━━━━━━━━━━━━━━━━━━━━━━━━━━━━━━━\u001B[0m\u001B[91m╸\u001B[0m \u001B[32m28.4/28.4 MB\u001B[0m \u001B[31m116.7 MB/s\u001B[0m eta \u001B[36m0:00:01\u001B[0m\n\u001B[2K   \u001B[90m━━━━━━━━━━━━━━━━━━━━━━━━━━━━━━━━━━━━━━━━\u001B[0m \u001B[32m28.4/28.4 MB\u001B[0m \u001B[31m58.5 MB/s\u001B[0m eta \u001B[36m0:00:00\u001B[0m\n\u001B[?25hDownloading Faker-33.1.0-py3-none-any.whl (1.9 MB)\n\u001B[?25l   \u001B[90m━━━━━━━━━━━━━━━━━━━━━━━━━━━━━━━━━━━━━━━━\u001B[0m \u001B[32m0.0/1.9 MB\u001B[0m \u001B[31m?\u001B[0m eta \u001B[36m-:--:--\u001B[0m\n\u001B[2K   \u001B[90m━━━━━━━━━━━━━━━━━━━━━━━━━━━━━━━━━━━━━━━━\u001B[0m \u001B[32m1.9/1.9 MB\u001B[0m \u001B[31m72.8 MB/s\u001B[0m eta \u001B[36m0:00:00\u001B[0m\n\u001B[?25hDownloading mlflow_skinny-2.20.2-py3-none-any.whl (6.0 MB)\n\u001B[?25l   \u001B[90m━━━━━━━━━━━━━━━━━━━━━━━━━━━━━━━━━━━━━━━━\u001B[0m \u001B[32m0.0/6.0 MB\u001B[0m \u001B[31m?\u001B[0m eta \u001B[36m-:--:--\u001B[0m\n\u001B[2K   \u001B[91m━━━━━━━━━━━━━━━━━━━━━━━━━━\u001B[0m\u001B[90m╺\u001B[0m\u001B[90m━━━━━━━━━━━━━\u001B[0m \u001B[32m3.9/6.0 MB\u001B[0m \u001B[31m118.0 MB/s\u001B[0m eta \u001B[36m0:00:01\u001B[0m\n\u001B[2K   \u001B[91m━━━━━━━━━━━━━━━━━━━━━━━━━━━━━━━━━━━━━━━\u001B[0m\u001B[91m╸\u001B[0m \u001B[32m6.0/6.0 MB\u001B[0m \u001B[31m126.5 MB/s\u001B[0m eta \u001B[36m0:00:01\u001B[0m\n\u001B[2K   \u001B[90m━━━━━━━━━━━━━━━━━━━━━━━━━━━━━━━━━━━━━━━━\u001B[0m \u001B[32m6.0/6.0 MB\u001B[0m \u001B[31m82.6 MB/s\u001B[0m eta \u001B[36m0:00:00\u001B[0m\n\u001B[?25hDownloading aiohttp-3.11.18-cp312-cp312-manylinux_2_17_x86_64.manylinux2014_x86_64.whl (1.7 MB)\n\u001B[?25l   \u001B[90m━━━━━━━━━━━━━━━━━━━━━━━━━━━━━━━━━━━━━━━━\u001B[0m \u001B[32m0.0/1.7 MB\u001B[0m \u001B[31m?\u001B[0m eta \u001B[36m-:--:--\u001B[0m\n\u001B[2K   \u001B[90m━━━━━━━━━━━━━━━━━━━━━━━━━━━━━━━━━━━━━━━━\u001B[0m \u001B[32m1.7/1.7 MB\u001B[0m \u001B[31m69.8 MB/s\u001B[0m eta \u001B[36m0:00:00\u001B[0m\n\u001B[?25hDownloading alembic-1.16.0-py3-none-any.whl (242 kB)\n\u001B[?25l   \u001B[90m━━━━━━━━━━━━━━━━━━━━━━━━━━━━━━━━━━━━━━━━\u001B[0m \u001B[32m0.0/242.5 kB\u001B[0m \u001B[31m?\u001B[0m eta \u001B[36m-:--:--\u001B[0m\n\u001B[2K   \u001B[90m━━━━━━━━━━━━━━━━━━━━━━━━━━━━━━━━━━━━━━━━\u001B[0m \u001B[32m242.5/242.5 kB\u001B[0m \u001B[31m20.3 MB/s\u001B[0m eta \u001B[36m0:00:00\u001B[0m\n\u001B[?25hDownloading dataclasses_json-0.6.7-py3-none-any.whl (28 kB)\nDownloading docker-7.1.0-py3-none-any.whl (147 kB)\n\u001B[?25l   \u001B[90m━━━━━━━━━━━━━━━━━━━━━━━━━━━━━━━━━━━━━━━━\u001B[0m \u001B[32m0.0/147.8 kB\u001B[0m \u001B[31m?\u001B[0m eta \u001B[36m-:--:--\u001B[0m\n\u001B[2K   \u001B[90m━━━━━━━━━━━━━━━━━━━━━━━━━━━━━━━━━━━━━━━━\u001B[0m \u001B[32m147.8/147.8 kB\u001B[0m \u001B[31m12.6 MB/s\u001B[0m eta \u001B[36m0:00:00\u001B[0m\n\u001B[?25hDownloading flask-3.1.1-py3-none-any.whl (103 kB)\n\u001B[?25l   \u001B[90m━━━━━━━━━━━━━━━━━━━━━━━━━━━━━━━━━━━━━━━━\u001B[0m \u001B[32m0.0/103.3 kB\u001B[0m \u001B[31m?\u001B[0m eta \u001B[36m-:--:--\u001B[0m\n\u001B[2K   \u001B[90m━━━━━━━━━━━━━━━━━━━━━━━━━━━━━━━━━━━━━━━━\u001B[0m \u001B[32m103.3/103.3 kB\u001B[0m \u001B[31m11.9 MB/s\u001B[0m eta \u001B[36m0:00:00\u001B[0m\n\u001B[?25hDownloading graphene-3.4.3-py2.py3-none-any.whl (114 kB)\n\u001B[?25l   \u001B[90m━━━━━━━━━━━━━━━━━━━━━━━━━━━━━━━━━━━━━━━━\u001B[0m \u001B[32m0.0/114.9 kB\u001B[0m \u001B[31m?\u001B[0m eta \u001B[36m-:--:--\u001B[0m\n\u001B[2K   \u001B[90m━━━━━━━━━━━━━━━━━━━━━━━━━━━━━━━━━━━━━━━━\u001B[0m \u001B[32m114.9/114.9 kB\u001B[0m \u001B[31m10.7 MB/s\u001B[0m eta \u001B[36m0:00:00\u001B[0m\n\u001B[?25hDownloading gunicorn-23.0.0-py3-none-any.whl (85 kB)\n\u001B[?25l   \u001B[90m━━━━━━━━━━━━━━━━━━━━━━━━━━━━━━━━━━━━━━━━\u001B[0m \u001B[32m0.0/85.0 kB\u001B[0m \u001B[31m?\u001B[0m eta \u001B[36m-:--:--\u001B[0m\n\u001B[2K   \u001B[90m━━━━━━━━━━━━━━━━━━━━━━━━━━━━━━━━━━━━━━━━\u001B[0m \u001B[32m85.0/85.0 kB\u001B[0m \u001B[31m9.0 MB/s\u001B[0m eta \u001B[36m0:00:00\u001B[0m\n\u001B[?25hDownloading jinja2-3.1.6-py3-none-any.whl (134 kB)\n\u001B[?25l   \u001B[90m━━━━━━━━━━━━━━━━━━━━━━━━━━━━━━━━━━━━━━━━\u001B[0m \u001B[32m0.0/134.9 kB\u001B[0m \u001B[31m?\u001B[0m eta \u001B[36m-:--:--\u001B[0m\n\u001B[2K   \u001B[90m━━━━━━━━━━━━━━━━━━━━━━━━━━━━━━━━━━━━━━━━\u001B[0m \u001B[32m134.9/134.9 kB\u001B[0m \u001B[31m15.6 MB/s\u001B[0m eta \u001B[36m0:00:00\u001B[0m\n\u001B[?25hDownloading langchain-0.2.17-py3-none-any.whl (1.0 MB)\n\u001B[?25l   \u001B[90m━━━━━━━━━━━━━━━━━━━━━━━━━━━━━━━━━━━━━━━━\u001B[0m \u001B[32m0.0/1.0 MB\u001B[0m \u001B[31m?\u001B[0m eta \u001B[36m-:--:--\u001B[0m\n\u001B[2K   \u001B[90m━━━━━━━━━━━━━━━━━━━━━━━━━━━━━━━━━━━━━━━━\u001B[0m \u001B[32m1.0/1.0 MB\u001B[0m \u001B[31m58.0 MB/s\u001B[0m eta \u001B[36m0:00:00\u001B[0m\n\u001B[?25hDownloading langchain_core-0.2.43-py3-none-any.whl (397 kB)\n\u001B[?25l   \u001B[90m━━━━━━━━━━━━━━━━━━━━━━━━━━━━━━━━━━━━━━━━\u001B[0m \u001B[32m0.0/397.1 kB\u001B[0m \u001B[31m?\u001B[0m eta \u001B[36m-:--:--\u001B[0m\n\u001B[2K   \u001B[90m━━━━━━━━━━━━━━━━━━━━━━━━━━━━━━━━━━━━━━━━\u001B[0m \u001B[32m397.1/397.1 kB\u001B[0m \u001B[31m31.8 MB/s\u001B[0m eta \u001B[36m0:00:00\u001B[0m\n\u001B[?25hDownloading langsmith-0.1.147-py3-none-any.whl (311 kB)\n\u001B[?25l   \u001B[90m━━━━━━━━━━━━━━━━━━━━━━━━━━━━━━━━━━━━━━━━\u001B[0m \u001B[32m0.0/311.8 kB\u001B[0m \u001B[31m?\u001B[0m eta \u001B[36m-:--:--\u001B[0m\n\u001B[2K   \u001B[90m━━━━━━━━━━━━━━━━━━━━━━━━━━━━━━━━━━━━━━━━\u001B[0m \u001B[32m311.8/311.8 kB\u001B[0m \u001B[31m29.8 MB/s\u001B[0m eta \u001B[36m0:00:00\u001B[0m\n\u001B[?25hDownloading markdown-3.8-py3-none-any.whl (106 kB)\n\u001B[?25l   \u001B[90m━━━━━━━━━━━━━━━━━━━━━━━━━━━━━━━━━━━━━━━━\u001B[0m \u001B[32m0.0/106.2 kB\u001B[0m \u001B[31m?\u001B[0m eta \u001B[36m-:--:--\u001B[0m\n\u001B[2K   \u001B[90m━━━━━━━━━━━━━━━━━━━━━━━━━━━━━━━━━━━━━━━━\u001B[0m \u001B[32m106.2/106.2 kB\u001B[0m \u001B[31m11.7 MB/s\u001B[0m eta \u001B[36m0:00:00\u001B[0m\n\u001B[?25hDownloading openai-1.81.0-py3-none-any.whl (717 kB)\n\u001B[?25l   \u001B[90m━━━━━━━━━━━━━━━━━━━━━━━━━━━━━━━━━━━━━━━━\u001B[0m \u001B[32m0.0/717.5 kB\u001B[0m \u001B[31m?\u001B[0m eta \u001B[36m-:--:--\u001B[0m\n\u001B[2K   \u001B[90m━━━━━━━━━━━━━━━━━━━━━━━━━━━━━━━━━━━━━━━━\u001B[0m \u001B[32m717.5/717.5 kB\u001B[0m \u001B[31m52.4 MB/s\u001B[0m eta \u001B[36m0:00:00\u001B[0m\n\u001B[?25hDownloading sqlalchemy-2.0.41-cp312-cp312-manylinux_2_17_x86_64.manylinux2014_x86_64.whl (3.3 MB)\n\u001B[?25l   \u001B[90m━━━━━━━━━━━━━━━━━━━━━━━━━━━━━━━━━━━━━━━━\u001B[0m \u001B[32m0.0/3.3 MB\u001B[0m \u001B[31m?\u001B[0m eta \u001B[36m-:--:--\u001B[0m\n\u001B[2K   \u001B[91m━━━━━━━━━━━━━━━━━━━━━━━━━━━━━━━━━━━━━━━\u001B[0m\u001B[91m╸\u001B[0m \u001B[32m3.3/3.3 MB\u001B[0m \u001B[31m144.9 MB/s\u001B[0m eta \u001B[36m0:00:01\u001B[0m\n\u001B[2K   \u001B[90m━━━━━━━━━━━━━━━━━━━━━━━━━━━━━━━━━━━━━━━━\u001B[0m \u001B[32m3.3/3.3 MB\u001B[0m \u001B[31m83.8 MB/s\u001B[0m eta \u001B[36m0:00:00\u001B[0m\n\u001B[?25hDownloading tiktoken-0.9.0-cp312-cp312-manylinux_2_17_x86_64.manylinux2014_x86_64.whl (1.2 MB)\n\u001B[?25l   \u001B[90m━━━━━━━━━━━━━━━━━━━━━━━━━━━━━━━━━━━━━━━━\u001B[0m \u001B[32m0.0/1.2 MB\u001B[0m \u001B[31m?\u001B[0m eta \u001B[36m-:--:--\u001B[0m\n\u001B[2K   \u001B[90m━━━━━━━━━━━━━━━━━━━━━━━━━━━━━━━━━━━━━━━━\u001B[0m \u001B[32m1.2/1.2 MB\u001B[0m \u001B[31m62.9 MB/s\u001B[0m eta \u001B[36m0:00:00\u001B[0m\n\u001B[?25hDownloading typing_extensions-4.13.2-py3-none-any.whl (45 kB)\n\u001B[?25l   \u001B[90m━━━━━━━━━━━━━━━━━━━━━━━━━━━━━━━━━━━━━━━━\u001B[0m \u001B[32m0.0/45.8 kB\u001B[0m \u001B[31m?\u001B[0m eta \u001B[36m-:--:--\u001B[0m\n\u001B[2K   \u001B[90m━━━━━━━━━━━━━━━━━━━━━━━━━━━━━━━━━━━━━━━━\u001B[0m \u001B[32m45.8/45.8 kB\u001B[0m \u001B[31m4.0 MB/s\u001B[0m eta \u001B[36m0:00:00\u001B[0m\n\u001B[?25hDownloading aiohappyeyeballs-2.6.1-py3-none-any.whl (15 kB)\nDownloading aiosignal-1.3.2-py2.py3-none-any.whl (7.6 kB)\nDownloading anyio-4.9.0-py3-none-any.whl (100 kB)\n\u001B[?25l   \u001B[90m━━━━━━━━━━━━━━━━━━━━━━━━━━━━━━━━━━━━━━━━\u001B[0m \u001B[32m0.0/100.9 kB\u001B[0m \u001B[31m?\u001B[0m eta \u001B[36m-:--:--\u001B[0m\n\u001B[2K   \u001B[90m━━━━━━━━━━━━━━━━━━━━━━━━━━━━━━━━━━━━━━━━\u001B[0m \u001B[32m100.9/100.9 kB\u001B[0m \u001B[31m9.8 MB/s\u001B[0m eta \u001B[36m0:00:00\u001B[0m\n\u001B[?25hDownloading attrs-25.3.0-py3-none-any.whl (63 kB)\n\u001B[?25l   \u001B[90m━━━━━━━━━━━━━━━━━━━━━━━━━━━━━━━━━━━━━━━━\u001B[0m \u001B[32m0.0/63.8 kB\u001B[0m \u001B[31m?\u001B[0m eta \u001B[36m-:--:--\u001B[0m\n\u001B[2K   \u001B[90m━━━━━━━━━━━━━━━━━━━━━━━━━━━━━━━━━━━━━━━━\u001B[0m \u001B[32m63.8/63.8 kB\u001B[0m \u001B[31m7.2 MB/s\u001B[0m eta \u001B[36m0:00:00\u001B[0m\n\u001B[?25hDownloading blinker-1.9.0-py3-none-any.whl (8.5 kB)\nDownloading frozenlist-1.6.0-cp312-cp312-manylinux_2_5_x86_64.manylinux1_x86_64.manylinux_2_17_x86_64.manylinux2014_x86_64.whl (316 kB)\n\u001B[?25l   \u001B[90m━━━━━━━━━━━━━━━━━━━━━━━━━━━━━━━━━━━━━━━━\u001B[0m \u001B[32m0.0/316.2 kB\u001B[0m \u001B[31m?\u001B[0m eta \u001B[36m-:--:--\u001B[0m\n\u001B[2K   \u001B[90m━━━━━━━━━━━━━━━━━━━━━━━━━━━━━━━━━━━━━━━━\u001B[0m \u001B[32m316.2/316.2 kB\u001B[0m \u001B[31m26.0 MB/s\u001B[0m eta \u001B[36m0:00:00\u001B[0m\n\u001B[?25hDownloading graphql_core-3.2.6-py3-none-any.whl (203 kB)\n\u001B[?25l   \u001B[90m━━━━━━━━━━━━━━━━━━━━━━━━━━━━━━━━━━━━━━━━\u001B[0m \u001B[32m0.0/203.4 kB\u001B[0m \u001B[31m?\u001B[0m eta \u001B[36m-:--:--\u001B[0m\n\u001B[2K   \u001B[90m━━━━━━━━━━━━━━━━━━━━━━━━━━━━━━━━━━━━━━━━\u001B[0m \u001B[32m203.4/203.4 kB\u001B[0m \u001B[31m18.6 MB/s\u001B[0m eta \u001B[36m0:00:00\u001B[0m\n\u001B[?25hDownloading graphql_relay-3.2.0-py3-none-any.whl (16 kB)\nDownloading greenlet-3.2.2-cp312-cp312-manylinux_2_24_x86_64.manylinux_2_28_x86_64.whl (603 kB)\n\u001B[?25l   \u001B[90m━━━━━━━━━━━━━━━━━━━━━━━━━━━━━━━━━━━━━━━━\u001B[0m \u001B[32m0.0/603.9 kB\u001B[0m \u001B[31m?\u001B[0m eta \u001B[36m-:--:--\u001B[0m\n\u001B[2K   \u001B[90m━━━━━━━━━━━━━━━━━━━━━━━━━━━━━━━━━━━━━━━━\u001B[0m \u001B[32m603.9/603.9 kB\u001B[0m \u001B[31m42.1 MB/s\u001B[0m eta \u001B[36m0:00:00\u001B[0m\n\u001B[?25hDownloading httpx-0.28.1-py3-none-any.whl (73 kB)\n\u001B[?25l   \u001B[90m━━━━━━━━━━━━━━━━━━━━━━━━━━━━━━━━━━━━━━━━\u001B[0m \u001B[32m0.0/73.5 kB\u001B[0m \u001B[31m?\u001B[0m eta \u001B[36m-:--:--\u001B[0m\n\u001B[2K   \u001B[90m━━━━━━━━━━━━━━━━━━━━━━━━━━━━━━━━━━━━━━━━\u001B[0m \u001B[32m73.5/73.5 kB\u001B[0m \u001B[31m7.2 MB/s\u001B[0m eta \u001B[36m0:00:00\u001B[0m\n\u001B[?25hDownloading httpcore-1.0.9-py3-none-any.whl (78 kB)\n\u001B[?25l   \u001B[90m━━━━━━━━━━━━━━━━━━━━━━━━━━━━━━━━━━━━━━━━\u001B[0m \u001B[32m0.0/78.8 kB\u001B[0m \u001B[31m?\u001B[0m eta \u001B[36m-:--:--\u001B[0m\n\u001B[2K   \u001B[90m━━━━━━━━━━━━━━━━━━━━━━━━━━━━━━━━━━━━━━━━\u001B[0m \u001B[32m78.8/78.8 kB\u001B[0m \u001B[31m9.2 MB/s\u001B[0m eta \u001B[36m0:00:00\u001B[0m\n\u001B[?25hDownloading itsdangerous-2.2.0-py3-none-any.whl (16 kB)\nDownloading jiter-0.10.0-cp312-cp312-manylinux_2_17_x86_64.manylinux2014_x86_64.whl (352 kB)\n\u001B[?25l   \u001B[90m━━━━━━━━━━━━━━━━━━━━━━━━━━━━━━━━━━━━━━━━\u001B[0m \u001B[32m0.0/352.0 kB\u001B[0m \u001B[31m?\u001B[0m eta \u001B[36m-:--:--\u001B[0m\n\u001B[2K   \u001B[90m━━━━━━━━━━━━━━━━━━━━━━━━━━━━━━━━━━━━━━━━\u001B[0m \u001B[32m352.0/352.0 kB\u001B[0m \u001B[31m33.0 MB/s\u001B[0m eta \u001B[36m0:00:00\u001B[0m\n\u001B[?25hDownloading jsonpatch-1.33-py2.py3-none-any.whl (12 kB)\nDownloading langchain_text_splitters-0.2.4-py3-none-any.whl (25 kB)\nDownloading MarkupSafe-3.0.2-cp312-cp312-manylinux_2_17_x86_64.manylinux2014_x86_64.whl (23 kB)\nDownloading marshmallow-3.26.1-py3-none-any.whl (50 kB)\n\u001B[?25l   \u001B[90m━━━━━━━━━━━━━━━━━━━━━━━━━━━━━━━━━━━━━━━━\u001B[0m \u001B[32m0.0/50.9 kB\u001B[0m \u001B[31m?\u001B[0m eta \u001B[36m-:--:--\u001B[0m\n\u001B[2K   \u001B[90m━━━━━━━━━━━━━━━━━━━━━━━━━━━━━━━━━━━━━━━━\u001B[0m \u001B[32m50.9/50.9 kB\u001B[0m \u001B[31m6.0 MB/s\u001B[0m eta \u001B[36m0:00:00\u001B[0m\n\u001B[?25hDownloading multidict-6.4.4-cp312-cp312-manylinux_2_17_x86_64.manylinux2014_x86_64.whl (223 kB)\n\u001B[?25l   \u001B[90m━━━━━━━━━━━━━━━━━━━━━━━━━━━━━━━━━━━━━━━━\u001B[0m \u001B[32m0.0/223.8 kB\u001B[0m \u001B[31m?\u001B[0m eta \u001B[36m-:--:--\u001B[0m\n\u001B[2K   \u001B[90m━━━━━━━━━━━━━━━━━━━━━━━━━━━━━━━━━━━━━━━━\u001B[0m \u001B[32m223.8/223.8 kB\u001B[0m \u001B[31m25.7 MB/s\u001B[0m eta \u001B[36m0:00:00\u001B[0m\n\u001B[?25hDownloading orjson-3.10.18-cp312-cp312-manylinux_2_17_x86_64.manylinux2014_x86_64.whl (133 kB)\n\u001B[?25l   \u001B[90m━━━━━━━━━━━━━━━━━━━━━━━━━━━━━━━━━━━━━━━━\u001B[0m \u001B[32m0.0/133.1 kB\u001B[0m \u001B[31m?\u001B[0m eta \u001B[36m-:--:--\u001B[0m\n\u001B[2K   \u001B[90m━━━━━━━━━━━━━━━━━━━━━━━━━━━━━━━━━━━━━━━━\u001B[0m \u001B[32m133.1/133.1 kB\u001B[0m \u001B[31m13.0 MB/s\u001B[0m eta \u001B[36m0:00:00\u001B[0m\n\u001B[?25hDownloading propcache-0.3.1-cp312-cp312-manylinux_2_17_x86_64.manylinux2014_x86_64.whl (245 kB)\n\u001B[?25l   \u001B[90m━━━━━━━━━━━━━━━━━━━━━━━━━━━━━━━━━━━━━━━━\u001B[0m \u001B[32m0.0/245.0 kB\u001B[0m \u001B[31m?\u001B[0m eta \u001B[36m-:--:--\u001B[0m\n\u001B[2K   \u001B[90m━━━━━━━━━━━━━━━━━━━━━━━━━━━━━━━━━━━━━━━━\u001B[0m \u001B[32m245.0/245.0 kB\u001B[0m \u001B[31m24.0 MB/s\u001B[0m eta \u001B[36m0:00:00\u001B[0m\n\u001B[?25hDownloading regex-2024.11.6-cp312-cp312-manylinux_2_17_x86_64.manylinux2014_x86_64.whl (796 kB)\n\u001B[?25l   \u001B[90m━━━━━━━━━━━━━━━━━━━━━━━━━━━━━━━━━━━━━━━━\u001B[0m \u001B[32m0.0/796.9 kB\u001B[0m \u001B[31m?\u001B[0m eta \u001B[36m-:--:--\u001B[0m\n\u001B[2K   \u001B[90m━━━━━━━━━━━━━━━━━━━━━━━━━━━━━━━━━━━━━━━━\u001B[0m \u001B[32m796.9/796.9 kB\u001B[0m \u001B[31m56.4 MB/s\u001B[0m eta \u001B[36m0:00:00\u001B[0m\n\u001B[?25hDownloading requests_toolbelt-1.0.0-py2.py3-none-any.whl (54 kB)\n\u001B[?25l   \u001B[90m━━━━━━━━━━━━━━━━━━━━━━━━━━━━━━━━━━━━━━━━\u001B[0m \u001B[32m0.0/54.5 kB\u001B[0m \u001B[31m?\u001B[0m eta \u001B[36m-:--:--\u001B[0m\n\u001B[2K   \u001B[90m━━━━━━━━━━━━━━━━━━━━━━━━━━━━━━━━━━━━━━━━\u001B[0m \u001B[32m54.5/54.5 kB\u001B[0m \u001B[31m4.6 MB/s\u001B[0m eta \u001B[36m0:00:00\u001B[0m\n\u001B[?25hDownloading sniffio-1.3.1-py3-none-any.whl (10 kB)\nDownloading tqdm-4.67.1-py3-none-any.whl (78 kB)\n\u001B[?25l   \u001B[90m━━━━━━━━━━━━━━━━━━━━━━━━━━━━━━━━━━━━━━━━\u001B[0m \u001B[32m0.0/78.5 kB\u001B[0m \u001B[31m?\u001B[0m eta \u001B[36m-:--:--\u001B[0m\n\u001B[2K   \u001B[90m━━━━━━━━━━━━━━━━━━━━━━━━━━━━━━━━━━━━━━━━\u001B[0m \u001B[32m78.5/78.5 kB\u001B[0m \u001B[31m7.1 MB/s\u001B[0m eta \u001B[36m0:00:00\u001B[0m\n\u001B[?25hDownloading typing_inspect-0.9.0-py3-none-any.whl (8.8 kB)\nDownloading werkzeug-3.1.3-py3-none-any.whl (224 kB)\n\u001B[?25l   \u001B[90m━━━━━━━━━━━━━━━━━━━━━━━━━━━━━━━━━━━━━━━━\u001B[0m \u001B[32m0.0/224.5 kB\u001B[0m \u001B[31m?\u001B[0m eta \u001B[36m-:--:--\u001B[0m\n\u001B[2K   \u001B[90m━━━━━━━━━━━━━━━━━━━━━━━━━━━━━━━━━━━━━━━━\u001B[0m \u001B[32m224.5/224.5 kB\u001B[0m \u001B[31m14.7 MB/s\u001B[0m eta \u001B[36m0:00:00\u001B[0m\n\u001B[?25hDownloading yarl-1.20.0-cp312-cp312-manylinux_2_17_x86_64.manylinux2014_x86_64.whl (349 kB)\n\u001B[?25l   \u001B[90m━━━━━━━━━━━━━━━━━━━━━━━━━━━━━━━━━━━━━━━━\u001B[0m \u001B[32m0.0/349.2 kB\u001B[0m \u001B[31m?\u001B[0m eta \u001B[36m-:--:--\u001B[0m\n\u001B[2K   \u001B[90m━━━━━━━━━━━━━━━━━━━━━━━━━━━━━━━━━━━━━━━━\u001B[0m \u001B[32m349.2/349.2 kB\u001B[0m \u001B[31m23.7 MB/s\u001B[0m eta \u001B[36m0:00:00\u001B[0m\n\u001B[?25hDownloading mako-1.3.10-py3-none-any.whl (78 kB)\n\u001B[?25l   \u001B[90m━━━━━━━━━━━━━━━━━━━━━━━━━━━━━━━━━━━━━━━━\u001B[0m \u001B[32m0.0/78.5 kB\u001B[0m \u001B[31m?\u001B[0m eta \u001B[36m-:--:--\u001B[0m\n\u001B[2K   \u001B[90m━━━━━━━━━━━━━━━━━━━━━━━━━━━━━━━━━━━━━━━━\u001B[0m \u001B[32m78.5/78.5 kB\u001B[0m \u001B[31m8.6 MB/s\u001B[0m eta \u001B[36m0:00:00\u001B[0m\n\u001B[?25hDownloading jsonpointer-3.0.0-py2.py3-none-any.whl (7.6 kB)\nDownloading h11-0.16.0-py3-none-any.whl (37 kB)\nInstalling collected packages: typing-extensions, tqdm, sniffio, regex, propcache, orjson, multidict, marshmallow, markupsafe, markdown, jsonpointer, jiter, itsdangerous, h11, gunicorn, greenlet, graphql-core, frozenlist, blinker, attrs, aiohappyeyeballs, yarl, werkzeug, typing-inspect, tiktoken, SQLAlchemy, requests-toolbelt, Mako, jsonpatch, Jinja2, httpcore, graphql-relay, faker, docker, anyio, aiosignal, httpx, graphene, Flask, dataclasses-json, databricks-sdk, alembic, aiohttp, openai, langsmith, mlflow-skinny, langchain-core, mlflow, langchain-text-splitters, langchain-openai, langchain, langchain-community\n  Attempting uninstall: typing-extensions\n    Found existing installation: typing_extensions 4.11.0\n    Not uninstalling typing-extensions at /databricks/python3/lib/python3.12/site-packages, outside environment /local_disk0/.ephemeral_nfs/envs/pythonEnv-fe81d059-cf99-4645-8adc-e334157f9d4c\n    Can't uninstall 'typing_extensions'. No files were found to uninstall.\n  Attempting uninstall: blinker\n    Found existing installation: blinker 1.7.0\n    Not uninstalling blinker at /usr/lib/python3/dist-packages, outside environment /local_disk0/.ephemeral_nfs/envs/pythonEnv-fe81d059-cf99-4645-8adc-e334157f9d4c\n    Can't uninstall 'blinker'. No files were found to uninstall.\n  Attempting uninstall: databricks-sdk\n    Found existing installation: databricks-sdk 0.30.0\n    Not uninstalling databricks-sdk at /databricks/python3/lib/python3.12/site-packages, outside environment /local_disk0/.ephemeral_nfs/envs/pythonEnv-fe81d059-cf99-4645-8adc-e334157f9d4c\n    Can't uninstall 'databricks-sdk'. No files were found to uninstall.\n  Attempting uninstall: mlflow-skinny\n    Found existing installation: mlflow-skinny 2.19.0\n    Not uninstalling mlflow-skinny at /databricks/python3/lib/python3.12/site-packages, outside environment /local_disk0/.ephemeral_nfs/envs/pythonEnv-fe81d059-cf99-4645-8adc-e334157f9d4c\n    Can't uninstall 'mlflow-skinny'. No files were found to uninstall.\nSuccessfully installed Flask-3.1.1 Jinja2-3.1.6 Mako-1.3.10 SQLAlchemy-2.0.41 aiohappyeyeballs-2.6.1 aiohttp-3.11.18 aiosignal-1.3.2 alembic-1.16.0 anyio-4.9.0 attrs-25.3.0 blinker-1.9.0 databricks-sdk-0.41.0 dataclasses-json-0.6.7 docker-7.1.0 faker-33.1.0 frozenlist-1.6.0 graphene-3.4.3 graphql-core-3.2.6 graphql-relay-3.2.0 greenlet-3.2.2 gunicorn-23.0.0 h11-0.16.0 httpcore-1.0.9 httpx-0.28.1 itsdangerous-2.2.0 jiter-0.10.0 jsonpatch-1.33 jsonpointer-3.0.0 langchain-0.2.17 langchain-community-0.2.10 langchain-core-0.2.43 langchain-openai-0.1.19 langchain-text-splitters-0.2.4 langsmith-0.1.147 markdown-3.8 markupsafe-3.0.2 marshmallow-3.26.1 mlflow-2.20.2 mlflow-skinny-2.20.2 multidict-6.4.4 openai-1.81.0 orjson-3.10.18 propcache-0.3.1 regex-2024.11.6 requests-toolbelt-1.0.0 sniffio-1.3.1 tiktoken-0.9.0 tqdm-4.67.1 typing-extensions-4.13.2 typing-inspect-0.9.0 werkzeug-3.1.3 yarl-1.20.0\n\u001B[43mNote: you may need to restart the kernel using %restart_python or dbutils.library.restartPython() to use updated packages.\u001B[0m\n"
     ]
    }
   ],
   "source": [
    "%pip install databricks-sdk==0.41.0 langchain-community==0.2.10 langchain-openai==0.1.19 mlflow==2.20.2 faker==33.1.0\n",
    "dbutils.library.restartPython()"
   ]
  },
  {
   "cell_type": "code",
   "execution_count": 0,
   "metadata": {
    "application/vnd.databricks.v1+cell": {
     "cellMetadata": {},
     "inputWidgets": {},
     "nuid": "e14ee7b5-572d-4000-8e8c-98e92e38f91c",
     "showTitle": false,
     "tableResultSettingsMap": {},
     "title": ""
    },
    "jupyter": {
     "outputs_hidden": true
    }
   },
   "outputs": [
    {
     "output_type": "stream",
     "name": "stdout",
     "output_type": "stream",
     "text": [
      "Requirement already satisfied: faker in /local_disk0/.ephemeral_nfs/envs/pythonEnv-fe81d059-cf99-4645-8adc-e334157f9d4c/lib/python3.12/site-packages (33.1.0)\nRequirement already satisfied: python-dateutil>=2.4 in /databricks/python3/lib/python3.12/site-packages (from faker) (2.9.0.post0)\nRequirement already satisfied: typing-extensions in /local_disk0/.ephemeral_nfs/envs/pythonEnv-fe81d059-cf99-4645-8adc-e334157f9d4c/lib/python3.12/site-packages (from faker) (4.13.2)\nRequirement already satisfied: six>=1.5 in /usr/lib/python3/dist-packages (from python-dateutil>=2.4->faker) (1.16.0)\n\u001B[43mNote: you may need to restart the kernel using %restart_python or dbutils.library.restartPython() to use updated packages.\u001B[0m\n"
     ]
    },
    {
     "output_type": "stream",
     "name": "stdout",
     "output_type": "stream",
     "text": [
      "USE CATALOG `main__build`\nusing catalog.database `main__build`.`dbdemos_agent_tools`\n"
     ]
    }
   ],
   "source": [
    "%run ./_resources/00-init-stylist $reset_all=false"
   ]
  },
  {
   "cell_type": "markdown",
   "metadata": {
    "application/vnd.databricks.v1+cell": {
     "cellMetadata": {},
     "inputWidgets": {},
     "nuid": "1199ad1c-07d8-41c4-9633-875a88830e0a",
     "showTitle": false,
     "tableResultSettingsMap": {},
     "title": ""
    }
   },
   "source": [
    "## Creating our tools: Using Unity Catalog Functions\n",
    "\n",
    "Let's start by defining the functions our LLM will be able to execute. These functions can contain any logic, from simple SQL to advanced python."
   ]
  },
  {
   "cell_type": "markdown",
   "metadata": {
    "application/vnd.databricks.v1+cell": {
     "cellMetadata": {},
     "inputWidgets": {},
     "nuid": "70095b6f-1501-411e-ba95-6192489c7b50",
     "showTitle": false,
     "tableResultSettingsMap": {},
     "title": ""
    }
   },
   "source": [
    "### Computing Mathematics: converting inches to centimeters\n",
    "\n",
    "Our online shop is selling across all regions, and we know our customers often ask to convert cm to inches. However, plain LLMs are quite bad at executing math. To solve this, let's create a simple function doing the conversion.\n",
    "\n",
    "We'll save this function within Unity Catalog. You can open the explorer to review the functions created in this notebook.\n",
    "\n",
    "*Note: This is a very simple first example for this demo. We'll implement a broader math tool later on.*"
   ]
  },
  {
   "cell_type": "code",
   "execution_count": 0,
   "metadata": {
    "application/vnd.databricks.v1+cell": {
     "cellMetadata": {},
     "inputWidgets": {},
     "nuid": "e1336b5d-8502-4364-9abe-7c7ef4fa2a89",
     "showTitle": true,
     "tableResultSettingsMap": {},
     "title": "Convert inch to cm"
    }
   },
   "outputs": [
    {
     "output_type": "display_data",
     "data": {
      "text/html": [
       "<style scoped>\n",
       "  .table-result-container {\n",
       "    max-height: 300px;\n",
       "    overflow: auto;\n",
       "  }\n",
       "  table, th, td {\n",
       "    border: 1px solid black;\n",
       "    border-collapse: collapse;\n",
       "  }\n",
       "  th, td {\n",
       "    padding: 5px;\n",
       "  }\n",
       "  th {\n",
       "    text-align: left;\n",
       "  }\n",
       "</style><div class='table-result-container'><table class='table-result'><thead style='background-color: white'><tr><th>10_inches_in_cm</th></tr></thead><tbody><tr><td>25.4</td></tr></tbody></table></div>"
      ]
     },
     "metadata": {
      "application/vnd.databricks.v1+output": {
       "addedWidgets": {},
       "aggData": [],
       "aggError": "",
       "aggOverflow": false,
       "aggSchema": [],
       "aggSeriesLimitReached": false,
       "aggType": "",
       "arguments": {},
       "columnCustomDisplayInfos": {},
       "data": [
        [
         25.4
        ]
       ],
       "datasetInfos": [
        {
         "name": "_sqldf",
         "schema": {
          "fields": [
           {
            "metadata": {},
            "name": "10_inches_in_cm",
            "nullable": false,
            "type": "float"
           }
          ],
          "type": "struct"
         },
         "tableIdentifier": null,
         "typeStr": "pyspark.sql.dataframe.DataFrame"
        }
       ],
       "dbfsResultPath": null,
       "isJsonSchema": true,
       "metadata": {
        "createTempViewForImplicitDf": true,
        "dataframeName": "_sqldf",
        "executionCount": 12
       },
       "overflow": false,
       "plotOptions": {
        "customPlotOptions": {},
        "displayType": "table",
        "pivotAggregation": null,
        "pivotColumns": null,
        "xColumns": null,
        "yColumns": null
       },
       "removedWidgets": [],
       "schema": [
        {
         "metadata": "{}",
         "name": "10_inches_in_cm",
         "type": "\"float\""
        }
       ],
       "type": "table"
      }
     },
     "output_type": "display_data"
    }
   ],
   "source": [
    "%sql\n",
    "CREATE OR REPLACE FUNCTION convert_inch_to_cm(size_in_inch FLOAT)\n",
    "RETURNS FLOAT\n",
    "LANGUAGE SQL\n",
    "COMMENT 'convert size from inch to cm'\n",
    "RETURN size_in_inch * 2.54;\n",
    "\n",
    "-- let's test our function:\n",
    "SELECT convert_inch_to_cm(10) as 10_inches_in_cm;"
   ]
  },
  {
   "cell_type": "markdown",
   "metadata": {
    "application/vnd.databricks.v1+cell": {
     "cellMetadata": {},
     "inputWidgets": {},
     "nuid": "37922a8d-1b90-4d55-b660-380e85a796f4",
     "showTitle": false,
     "tableResultSettingsMap": {},
     "title": ""
    }
   },
   "source": [
    "### Executing a tool to fetch internal data: getting the latest customer orders\n",
    "\n",
    "We want our stylist assistant to be able to list all existing customer orders"
   ]
  },
  {
   "cell_type": "code",
   "execution_count": 0,
   "metadata": {
    "application/vnd.databricks.v1+cell": {
     "cellMetadata": {},
     "inputWidgets": {},
     "nuid": "ca597862-920d-438b-912b-aa077ee930b1",
     "showTitle": false,
     "tableResultSettingsMap": {},
     "title": ""
    }
   },
   "outputs": [
    {
     "output_type": "display_data",
     "data": {
      "text/html": [
       "<style scoped>\n",
       "  .table-result-container {\n",
       "    max-height: 300px;\n",
       "    overflow: auto;\n",
       "  }\n",
       "  table, th, td {\n",
       "    border: 1px solid black;\n",
       "    border-collapse: collapse;\n",
       "  }\n",
       "  th, td {\n",
       "    padding: 5px;\n",
       "  }\n",
       "  th {\n",
       "    text-align: left;\n",
       "  }\n",
       "</style><div class='table-result-container'><table class='table-result'><thead style='background-color: white'><tr><th>user_id</th><th>id</th><th>transaction_date</th><th>item_count</th><th>amount</th><th>order_status</th></tr></thead><tbody><tr><td>d8ca793f-7f06-42d3-be1b-929e32fc8bc9</td><td>6b27ee7a-7c9a-4cce-887f-9824fecfd43a</td><td>01-04-2025 12:48:21</td><td>3.0</td><td>102.0</td><td>Shipped</td></tr><tr><td>d8ca793f-7f06-42d3-be1b-929e32fc8bc9</td><td>616ac7ab-d4a3-4055-8a8d-288b6560efbb</td><td>01-02-2025 12:43:57</td><td>3.0</td><td>99.0</td><td>Pending</td></tr><tr><td>d8ca793f-7f06-42d3-be1b-929e32fc8bc9</td><td>d0e4b750-f0bd-40df-8ce2-560a4c79463a</td><td>01-01-2025 11:50:24</td><td>1.0</td><td>31.0</td><td>Pending</td></tr><tr><td>d8ca793f-7f06-42d3-be1b-929e32fc8bc9</td><td>f132dc37-e460-4c95-854c-2fbf8310feb1</td><td>01-01-2025 09:36:44</td><td>2.0</td><td>72.0</td><td>Pending</td></tr></tbody></table></div>"
      ]
     },
     "metadata": {
      "application/vnd.databricks.v1+output": {
       "addedWidgets": {},
       "aggData": [],
       "aggError": "",
       "aggOverflow": false,
       "aggSchema": [],
       "aggSeriesLimitReached": false,
       "aggType": "",
       "arguments": {},
       "columnCustomDisplayInfos": {},
       "data": [
        [
         "d8ca793f-7f06-42d3-be1b-929e32fc8bc9",
         "6b27ee7a-7c9a-4cce-887f-9824fecfd43a",
         "01-04-2025 12:48:21",
         3.0,
         102.0,
         "Shipped"
        ],
        [
         "d8ca793f-7f06-42d3-be1b-929e32fc8bc9",
         "616ac7ab-d4a3-4055-8a8d-288b6560efbb",
         "01-02-2025 12:43:57",
         3.0,
         99.0,
         "Pending"
        ],
        [
         "d8ca793f-7f06-42d3-be1b-929e32fc8bc9",
         "d0e4b750-f0bd-40df-8ce2-560a4c79463a",
         "01-01-2025 11:50:24",
         1.0,
         31.0,
         "Pending"
        ],
        [
         "d8ca793f-7f06-42d3-be1b-929e32fc8bc9",
         "f132dc37-e460-4c95-854c-2fbf8310feb1",
         "01-01-2025 09:36:44",
         2.0,
         72.0,
         "Pending"
        ]
       ],
       "datasetInfos": [
        {
         "name": "_sqldf",
         "schema": {
          "fields": [
           {
            "metadata": {},
            "name": "user_id",
            "nullable": true,
            "type": "string"
           },
           {
            "metadata": {},
            "name": "id",
            "nullable": true,
            "type": "string"
           },
           {
            "metadata": {},
            "name": "transaction_date",
            "nullable": true,
            "type": "string"
           },
           {
            "metadata": {},
            "name": "item_count",
            "nullable": true,
            "type": "double"
           },
           {
            "metadata": {},
            "name": "amount",
            "nullable": true,
            "type": "double"
           },
           {
            "metadata": {},
            "name": "order_status",
            "nullable": true,
            "type": "string"
           }
          ],
          "type": "struct"
         },
         "tableIdentifier": null,
         "typeStr": "pyspark.sql.dataframe.DataFrame"
        }
       ],
       "dbfsResultPath": null,
       "isJsonSchema": true,
       "metadata": {
        "createTempViewForImplicitDf": true,
        "dataframeName": "_sqldf",
        "executionCount": 13
       },
       "overflow": false,
       "plotOptions": {
        "customPlotOptions": {},
        "displayType": "table",
        "pivotAggregation": null,
        "pivotColumns": null,
        "xColumns": null,
        "yColumns": null
       },
       "removedWidgets": [],
       "schema": [
        {
         "metadata": "{}",
         "name": "user_id",
         "type": "\"string\""
        },
        {
         "metadata": "{}",
         "name": "id",
         "type": "\"string\""
        },
        {
         "metadata": "{}",
         "name": "transaction_date",
         "type": "\"string\""
        },
        {
         "metadata": "{}",
         "name": "item_count",
         "type": "\"double\""
        },
        {
         "metadata": "{}",
         "name": "amount",
         "type": "\"double\""
        },
        {
         "metadata": "{}",
         "name": "order_status",
         "type": "\"string\""
        }
       ],
       "type": "table"
      }
     },
     "output_type": "display_data"
    }
   ],
   "source": [
    "%sql\n",
    "CREATE OR REPLACE FUNCTION get_customer_orders ()\n",
    "RETURNS TABLE(user_id STRING,\n",
    "  id STRING,\n",
    "  transaction_date STRING,\n",
    "  item_count DOUBLE,\n",
    "  amount DOUBLE,\n",
    "  order_status STRING)\n",
    "COMMENT 'Returns a list of customer orders for the given customer ID (expect a UUID)'\n",
    "LANGUAGE SQL\n",
    "    RETURN\n",
    "    SELECT o.* from tools_orders o \n",
    "    inner join tools_customers c on c.id = o.user_id \n",
    "    where email=current_user() ORDER BY transaction_date desc;\n",
    "\n",
    "SELECT * FROM get_customer_orders();"
   ]
  },
  {
   "cell_type": "markdown",
   "metadata": {
    "application/vnd.databricks.v1+cell": {
     "cellMetadata": {},
     "inputWidgets": {},
     "nuid": "4869ce03-b92a-4f91-bbe0-ee4d7c97c28a",
     "showTitle": false,
     "tableResultSettingsMap": {},
     "title": ""
    }
   },
   "source": [
    "### Executing a Python function to fetch external dataset in realtime: getting the weather\n",
    "\n",
    "We want our stylist assistant to give us recommendations based on the weather. Let's add a tool to fetch the weather based on longitude/latitude, using Python to call an external Weather API.\n",
    "\n",
    "**Note: This will be run by a serverless compute, and accessing external data, therefore requires serverless network egress access. If this fails in a serverless setup/playground, make sure you are allowing it in your networking configuration (open the workspace network option at admin account level)**"
   ]
  },
  {
   "cell_type": "code",
   "execution_count": 0,
   "metadata": {
    "application/vnd.databricks.v1+cell": {
     "cellMetadata": {},
     "inputWidgets": {},
     "nuid": "49bb635a-44b1-4d2c-a25c-a429b65d8218",
     "showTitle": false,
     "tableResultSettingsMap": {},
     "title": ""
    }
   },
   "outputs": [
    {
     "output_type": "display_data",
     "data": {
      "text/html": [
       "<style scoped>\n",
       "  .table-result-container {\n",
       "    max-height: 300px;\n",
       "    overflow: auto;\n",
       "  }\n",
       "  table, th, td {\n",
       "    border: 1px solid black;\n",
       "    border-collapse: collapse;\n",
       "  }\n",
       "  th, td {\n",
       "    padding: 5px;\n",
       "  }\n",
       "  th {\n",
       "    text-align: left;\n",
       "  }\n",
       "</style><div class='table-result-container'><table class='table-result'><thead style='background-color: white'><tr><th>weather</th></tr></thead><tbody><tr><td>List(25.0, 0.0)</td></tr></tbody></table></div>"
      ]
     },
     "metadata": {
      "application/vnd.databricks.v1+output": {
       "addedWidgets": {},
       "aggData": [],
       "aggError": "",
       "aggOverflow": false,
       "aggSchema": [],
       "aggSeriesLimitReached": false,
       "aggType": "",
       "arguments": {},
       "columnCustomDisplayInfos": {},
       "data": [
        [
         [
          25.0,
          0.0
         ]
        ]
       ],
       "datasetInfos": [
        {
         "name": "_sqldf",
         "schema": {
          "fields": [
           {
            "metadata": {},
            "name": "weather",
            "nullable": true,
            "type": {
             "fields": [
              {
               "metadata": {},
               "name": "temperature_in_celsius",
               "nullable": true,
               "type": "double"
              },
              {
               "metadata": {},
               "name": "rain_in_mm",
               "nullable": true,
               "type": "double"
              }
             ],
             "type": "struct"
            }
           }
          ],
          "type": "struct"
         },
         "tableIdentifier": null,
         "typeStr": "pyspark.sql.dataframe.DataFrame"
        }
       ],
       "dbfsResultPath": null,
       "isJsonSchema": true,
       "metadata": {
        "createTempViewForImplicitDf": true,
        "dataframeName": "_sqldf",
        "executionCount": 14
       },
       "overflow": false,
       "plotOptions": {
        "customPlotOptions": {},
        "displayType": "table",
        "pivotAggregation": null,
        "pivotColumns": null,
        "xColumns": null,
        "yColumns": null
       },
       "removedWidgets": [],
       "schema": [
        {
         "metadata": "{}",
         "name": "weather",
         "type": "{\"type\":\"struct\",\"fields\":[{\"name\":\"temperature_in_celsius\",\"type\":\"double\",\"nullable\":true,\"metadata\":{}},{\"name\":\"rain_in_mm\",\"type\":\"double\",\"nullable\":true,\"metadata\":{}}]}"
        }
       ],
       "type": "table"
      }
     },
     "output_type": "display_data"
    }
   ],
   "source": [
    "%sql\n",
    "CREATE OR REPLACE FUNCTION get_weather(latitude DOUBLE, longitude DOUBLE)\n",
    "RETURNS STRUCT<temperature_in_celsius DOUBLE, rain_in_mm DOUBLE>\n",
    "LANGUAGE PYTHON\n",
    "COMMENT 'This function retrieves the current temperature and rain information for a given latitude and longitude using the Open-Meteo API.'\n",
    "AS\n",
    "$$\n",
    "  try:\n",
    "    import requests as r\n",
    "    #Note: this is provided for education only, non commercial - please get a license for real usage: https://api.open-meteo.com. Let s comment it to avoid issues for now\n",
    "    #weather = r.get(f'https://api.open-meteo.com/v1/forecast?latitude={latitude}&longitude={longitude}&current=temperature_2m,rain&forecast_days=1').json()\n",
    "    return {\n",
    "      \"temperature_in_celsius\": weather[\"current\"][\"temperature_2m\"],\n",
    "      \"rain_in_mm\": weather[\"current\"][\"rain\"]\n",
    "    }\n",
    "  except:\n",
    "    return {\"temperature_in_celsius\": 25.0, \"rain_in_mm\": 0.0}\n",
    "$$;\n",
    "\n",
    "-- let's test our function:\n",
    "SELECT get_weather(52.52, 13.41) as weather;"
   ]
  },
  {
   "cell_type": "markdown",
   "metadata": {
    "application/vnd.databricks.v1+cell": {
     "cellMetadata": {},
     "inputWidgets": {},
     "nuid": "8b513a6d-683c-405e-b6b7-12114a06016d",
     "showTitle": false,
     "tableResultSettingsMap": {},
     "title": ""
    }
   },
   "source": [
    "### Creating a function calling LLMs with specific prompt as a tool\n",
    "\n",
    "You can also register tools containing custom prompts that your LLM can use to to execute actions based on the customer context.\n",
    "\n",
    "Let's create a tool that recommend the style for our user, based on the current weather."
   ]
  },
  {
   "cell_type": "code",
   "execution_count": 0,
   "metadata": {
    "application/vnd.databricks.v1+cell": {
     "cellMetadata": {},
     "inputWidgets": {},
     "nuid": "ec27c3da-61b7-436a-8f23-f192bdc6ef90",
     "showTitle": false,
     "tableResultSettingsMap": {},
     "title": ""
    }
   },
   "outputs": [
    {
     "output_type": "display_data",
     "data": {
      "text/html": [
       "<style scoped>\n",
       "  .table-result-container {\n",
       "    max-height: 300px;\n",
       "    overflow: auto;\n",
       "  }\n",
       "  table, th, td {\n",
       "    border: 1px solid black;\n",
       "    border-collapse: collapse;\n",
       "  }\n",
       "  th, td {\n",
       "    padding: 5px;\n",
       "  }\n",
       "  th {\n",
       "    text-align: left;\n",
       "  }\n",
       "</style><div class='table-result-container'><table class='table-result'><thead style='background-color: white'><tr><th>main.dbdemos_agent_tools.recommend_outfit_description(I need a dress for an interview., 30.1, 0.0)</th></tr></thead><tbody><tr><td>I'd be happy to help you with an outfit recommendation for your interview.\n",
       "\n",
       "Considering the warm weather (30.1°C) and no rain, I would suggest a lightweight, breathable, and professional dress. Here are a few ideas:\n",
       "\n",
       "* A knee-length or just above the knee dress in a neutral color such as:\n",
       "\t+ Navy blue (a classic and professional choice)\n",
       "\t+ Black (timeless and versatile)\n",
       "\t+ Light gray or beige (great for a more modern and sleek look)\n",
       "* A dress made from a comfortable and breathable fabric such as cotton, linen, or silk.\n",
       "* A dress with a modest neckline and sleeves (cap sleeves or short sleeves) to ensure a professional and polished look.\n",
       "\n",
       "To add some visual interest to your outfit, you could consider:\n",
       "* A statement piece of jewelry, such as a simple necklace or earrings, in a subtle color like silver, gold, or pearl.\n",
       "* A pair of low to moderate heels (around 2-3 inches) in a neutral color that complements your dress.\n",
       "* A simple belt to cinch at the waist and create a defined silhouette.\n",
       "\n",
       "Some popular dress styles for interviews include:\n",
       "* A shift dress: a simple, straight-cut dress that skims the body.\n",
       "* A fit-and-flare dress: a dress that fits closely at the waist and flares out at the hem.\n",
       "* A sheath dress: a form-fitting dress that skims the body and hits just above the knee.\n",
       "\n",
       "Remember, the key is to look polished, professional, and confident. Choose a dress that makes you feel great, and don't forget to pay attention to grooming and accessories to complete your overall look.\n",
       "\n",
       "Do you have any specific color preferences or dress styles in mind? Or would you like more specific recommendations based on your personal style?</td></tr></tbody></table></div>"
      ]
     },
     "metadata": {
      "application/vnd.databricks.v1+output": {
       "addedWidgets": {},
       "aggData": [],
       "aggError": "",
       "aggOverflow": false,
       "aggSchema": [],
       "aggSeriesLimitReached": false,
       "aggType": "",
       "arguments": {},
       "columnCustomDisplayInfos": {},
       "data": [
        [
         "I'd be happy to help you with an outfit recommendation for your interview.\n\nConsidering the warm weather (30.1°C) and no rain, I would suggest a lightweight, breathable, and professional dress. Here are a few ideas:\n\n* A knee-length or just above the knee dress in a neutral color such as:\n\t+ Navy blue (a classic and professional choice)\n\t+ Black (timeless and versatile)\n\t+ Light gray or beige (great for a more modern and sleek look)\n* A dress made from a comfortable and breathable fabric such as cotton, linen, or silk.\n* A dress with a modest neckline and sleeves (cap sleeves or short sleeves) to ensure a professional and polished look.\n\nTo add some visual interest to your outfit, you could consider:\n* A statement piece of jewelry, such as a simple necklace or earrings, in a subtle color like silver, gold, or pearl.\n* A pair of low to moderate heels (around 2-3 inches) in a neutral color that complements your dress.\n* A simple belt to cinch at the waist and create a defined silhouette.\n\nSome popular dress styles for interviews include:\n* A shift dress: a simple, straight-cut dress that skims the body.\n* A fit-and-flare dress: a dress that fits closely at the waist and flares out at the hem.\n* A sheath dress: a form-fitting dress that skims the body and hits just above the knee.\n\nRemember, the key is to look polished, professional, and confident. Choose a dress that makes you feel great, and don't forget to pay attention to grooming and accessories to complete your overall look.\n\nDo you have any specific color preferences or dress styles in mind? Or would you like more specific recommendations based on your personal style?"
        ]
       ],
       "datasetInfos": [
        {
         "name": "_sqldf",
         "schema": {
          "fields": [
           {
            "metadata": {
             "__autoGeneratedAlias": "true"
            },
            "name": "main.dbdemos_agent_tools.recommend_outfit_description(I need a dress for an interview., 30.1, 0.0)",
            "nullable": true,
            "type": "string"
           }
          ],
          "type": "struct"
         },
         "tableIdentifier": null,
         "typeStr": "pyspark.sql.dataframe.DataFrame"
        }
       ],
       "dbfsResultPath": null,
       "isJsonSchema": true,
       "metadata": {
        "createTempViewForImplicitDf": true,
        "dataframeName": "_sqldf",
        "executionCount": 15
       },
       "overflow": false,
       "plotOptions": {
        "customPlotOptions": {},
        "displayType": "table",
        "pivotAggregation": null,
        "pivotColumns": null,
        "xColumns": null,
        "yColumns": null
       },
       "removedWidgets": [],
       "schema": [
        {
         "metadata": "{\"__autoGeneratedAlias\":\"true\"}",
         "name": "main.dbdemos_agent_tools.recommend_outfit_description(I need a dress for an interview., 30.1, 0.0)",
         "type": "\"string\""
        }
       ],
       "type": "table"
      }
     },
     "output_type": "display_data"
    }
   ],
   "source": [
    "%sql\n",
    "CREATE OR REPLACE FUNCTION recommend_outfit_description(requested_style STRING, temperature_in_celsius FLOAT, rain_in_mm FLOAT)\n",
    "RETURNS STRING\n",
    "LANGUAGE SQL\n",
    "COMMENT 'This function generate a stylist outfit description based on initial request and the current weather.'\n",
    "RETURN SELECT ai_query('databricks-meta-llama-3-3-70b-instruct',\n",
    "    CONCAT(\"You are a stylist assistant. Your goal is to give recommendation on what would be the best outfit for today. The current temperature is \",temperature_in_celsius ,\" celsius and rain is:\", rain_in_mm, \"mm. Give size in inches if any. Don't assume customer size if they don't share it. Give ideas of colors and other items to match. The user added this instruction based on what they like: \", requested_style)\n",
    "  ) AS recommended_outfit;\n",
    "\n",
    "-- let's test our function:\n",
    "SELECT recommend_outfit_description(\"I need a dress for an interview.\", 30.1, 0.0)"
   ]
  },
  {
   "cell_type": "markdown",
   "metadata": {
    "application/vnd.databricks.v1+cell": {
     "cellMetadata": {},
     "inputWidgets": {},
     "nuid": "54b9a5ba-e640-4c50-818a-15b3f0d2f73d",
     "showTitle": false,
     "tableResultSettingsMap": {},
     "title": ""
    }
   },
   "source": [
    "### Using Vector search to find similar content as a tool\n",
    "\n",
    "Let's now add a tool to recomment similar items, based on an article description.\n",
    "\n",
    "We'll be using Databricks Vector Search to perform a realtime similarity search and return articles that we could suggest from our database.\n",
    "\n",
    "To do so, you can leverage the new `vector_search` SQL function. See [Documentation](https://docs.databricks.com/en/sql/language-manual/functions/vector_search.html) for more details.\n",
    "\n",
    "<div style=\"background-color: #e3efff\"> To simplify this demo, we'll fake the call to the vector_search and make it work without pre-loading the demo</div>"
   ]
  },
  {
   "cell_type": "code",
   "execution_count": 0,
   "metadata": {
    "application/vnd.databricks.v1+cell": {
     "cellMetadata": {},
     "inputWidgets": {},
     "nuid": "1c953063-117b-4937-8225-a9fc4ed25bd8",
     "showTitle": false,
     "tableResultSettingsMap": {},
     "title": ""
    }
   },
   "outputs": [],
   "source": [
    "%sql\n",
    "-- Commenting this as the index isn't pre-loaded in the demo to simplify the experience.\n",
    "-- CREATE OR REPLACE FUNCTION find_clothes_matching_description (description STRING)\n",
    "-- RETURNS TABLE (category STRING, color STRING, id STRING, price DOUBLE, search_score DOUBLE)\n",
    "-- LANGUAGE SQL\n",
    "-- COMMENT 'Finds clothes in our catalog matching the description using AI query and returns a table of results.'\n",
    "-- RETURN\n",
    "--  SELECT * FROM VECTOR_SEARCH(index => 'catalog.schema.clothing_index', query => query, num_results => 3) vs\n"
   ]
  },
  {
   "cell_type": "code",
   "execution_count": 0,
   "metadata": {
    "application/vnd.databricks.v1+cell": {
     "cellMetadata": {},
     "inputWidgets": {},
     "nuid": "5b64a5c9-8b5d-4d6d-b986-a5953b7924dd",
     "showTitle": false,
     "tableResultSettingsMap": {},
     "title": ""
    }
   },
   "outputs": [
    {
     "output_type": "display_data",
     "data": {
      "text/html": [
       "<style scoped>\n",
       "  .table-result-container {\n",
       "    max-height: 300px;\n",
       "    overflow: auto;\n",
       "  }\n",
       "  table, th, td {\n",
       "    border: 1px solid black;\n",
       "    border-collapse: collapse;\n",
       "  }\n",
       "  th, td {\n",
       "    padding: 5px;\n",
       "  }\n",
       "  th {\n",
       "    text-align: left;\n",
       "  }\n",
       "</style><div class='table-result-container'><table class='table-result'><thead style='background-color: white'><tr><th>id</th><th>name</th><th>color</th><th>category</th><th>price</th><th>description</th></tr></thead><tbody><tr><td>1</td><td>Red Evening Dress</td><td>red</td><td>dress</td><td>99.99</td><td>A beautiful red evening dress perfect for formal events</td></tr><tr><td>2</td><td>Red Summer Dress</td><td>red</td><td>dress</td><td>49.99</td><td>A casual red summer dress great for everyday wear</td></tr><tr><td>3</td><td>Red Cocktail Dress</td><td>red</td><td>dress</td><td>79.99</td><td>A stylish red cocktail dress ideal for parties and social gatherings</td></tr></tbody></table></div>"
      ]
     },
     "metadata": {
      "application/vnd.databricks.v1+output": {
       "addedWidgets": {},
       "aggData": [],
       "aggError": "",
       "aggOverflow": false,
       "aggSchema": [],
       "aggSeriesLimitReached": false,
       "aggType": "",
       "arguments": {},
       "columnCustomDisplayInfos": {},
       "data": [
        [
         1,
         "Red Evening Dress",
         "red",
         "dress",
         99.99,
         "A beautiful red evening dress perfect for formal events"
        ],
        [
         2,
         "Red Summer Dress",
         "red",
         "dress",
         49.99,
         "A casual red summer dress great for everyday wear"
        ],
        [
         3,
         "Red Cocktail Dress",
         "red",
         "dress",
         79.99,
         "A stylish red cocktail dress ideal for parties and social gatherings"
        ]
       ],
       "datasetInfos": [
        {
         "name": "_sqldf",
         "schema": {
          "fields": [
           {
            "metadata": {},
            "name": "id",
            "nullable": true,
            "type": "long"
           },
           {
            "metadata": {},
            "name": "name",
            "nullable": true,
            "type": "string"
           },
           {
            "metadata": {},
            "name": "color",
            "nullable": true,
            "type": "string"
           },
           {
            "metadata": {},
            "name": "category",
            "nullable": true,
            "type": "string"
           },
           {
            "metadata": {},
            "name": "price",
            "nullable": true,
            "type": "double"
           },
           {
            "metadata": {},
            "name": "description",
            "nullable": true,
            "type": "string"
           }
          ],
          "type": "struct"
         },
         "tableIdentifier": null,
         "typeStr": "pyspark.sql.dataframe.DataFrame"
        }
       ],
       "dbfsResultPath": null,
       "isJsonSchema": true,
       "metadata": {
        "createTempViewForImplicitDf": true,
        "dataframeName": "_sqldf",
        "executionCount": 17
       },
       "overflow": false,
       "plotOptions": {
        "customPlotOptions": {},
        "displayType": "table",
        "pivotAggregation": null,
        "pivotColumns": null,
        "xColumns": null,
        "yColumns": null
       },
       "removedWidgets": [],
       "schema": [
        {
         "metadata": "{}",
         "name": "id",
         "type": "\"long\""
        },
        {
         "metadata": "{}",
         "name": "name",
         "type": "\"string\""
        },
        {
         "metadata": "{}",
         "name": "color",
         "type": "\"string\""
        },
        {
         "metadata": "{}",
         "name": "category",
         "type": "\"string\""
        },
        {
         "metadata": "{}",
         "name": "price",
         "type": "\"double\""
        },
        {
         "metadata": "{}",
         "name": "description",
         "type": "\"string\""
        }
       ],
       "type": "table"
      }
     },
     "output_type": "display_data"
    }
   ],
   "source": [
    "%sql\n",
    "-- Generate fake data instead of calling the VS index with vector_search;\n",
    "CREATE OR REPLACE FUNCTION find_clothes_matching_description (description STRING)\n",
    "RETURNS TABLE (id BIGINT, name STRING, color STRING, category STRING, price DOUBLE, description STRING)\n",
    "COMMENT 'Finds existing clothes in our catalog matching the description using AI query and returns a table of results.'\n",
    "RETURN\n",
    "SELECT clothes.* FROM (\n",
    "  SELECT explode(from_json(\n",
    "    ai_query(\n",
    "      'databricks-meta-llama-3-3-70b-instruct', \n",
    "      CONCAT(\n",
    "        'returns a json list of 3 json object clothes: <\"id\": bigint, \"name\": string, \"color\": string, \"category\": string, \"price\": double, \"description\": string>. These clothes should match the following user description: ', description, '. Return only the answer as a javascript json object ready to be parsed, no comment or text or javascript or ``` at the beginning.' ) ), 'ARRAY<STRUCT<id: BIGINT, name: STRING, color: STRING, category: STRING, price: DOUBLE, description: STRING>>' )) AS clothes );\n",
    "\n",
    "-- let's test our function:\n",
    "SELECT * FROM find_clothes_matching_description('a red dress');"
   ]
  },
  {
   "cell_type": "markdown",
   "metadata": {
    "application/vnd.databricks.v1+cell": {
     "cellMetadata": {},
     "inputWidgets": {},
     "nuid": "5c1c70de-afdd-4b37-a7f4-51a79dff40f2",
     "showTitle": false,
     "tableResultSettingsMap": {},
     "title": ""
    }
   },
   "source": [
    "## Using Databricks Playground to test our functions\n",
    "\n",
    "Databricks Playground provides a built-in integration with your functions. It'll analyze which functions are available, and call them to properly answer your question.\n",
    "\n",
    "\n",
    "<img src=\"https://github.com/databricks-demos/dbdemos-resources/blob/main/images/product/llm-tools-functions/llm-tools-functions-playground.gif?raw=true\" style=\"float: right; margin-left: 10px; margin-bottom: 10px;\">\n",
    "\n",
    "To try out our functions with playground:\n",
    "- Open the [Playground](/ml/playground) \n",
    "- Select a model supporting tools (like Llama3.1)\n",
    "- Add the functions you want your model to leverage (`catalog.schema.function_name`)\n",
    "- Ask a question (for example to convert inch to cm), and playground will do the magic for you!\n",
    "\n",
    "<br/>\n",
    "<div style=\"background-color: #d4e7ff; padding: 10px; border-radius: 15px;clear:both\">\n",
    "<strong>Note:</strong> Tools in playground is in preview, reach-out your Databricks Account team for more details and to enable it.\n",
    "</div>\n"
   ]
  },
  {
   "cell_type": "markdown",
   "metadata": {
    "application/vnd.databricks.v1+cell": {
     "cellMetadata": {},
     "inputWidgets": {},
     "nuid": "3f7d8965-ce48-40b2-a900-d9d14516b482",
     "showTitle": false,
     "tableResultSettingsMap": {},
     "title": ""
    }
   },
   "source": [
    "\n",
    "## Building an AI system leveraging our Databricks UC functions with Langchain\n",
    "\n",
    "These tools can also directly be leveraged on custom model. In this case, you'll be in charge of chaining and calling the functions yourself (the playground does it for you!)\n",
    "\n",
    "Langchain makes it easy for you. You can create your own custom AI System using a Langchain model and a list of existing tools (in our case, the tools will be the functions we just created)"
   ]
  },
  {
   "cell_type": "markdown",
   "metadata": {
    "application/vnd.databricks.v1+cell": {
     "cellMetadata": {},
     "inputWidgets": {},
     "nuid": "6cbafd87-ddb3-4ee7-8370-b768566af658",
     "showTitle": false,
     "tableResultSettingsMap": {},
     "title": ""
    }
   },
   "source": [
    "### Enable MLflow Tracing\n",
    "\n",
    "Enabling MLflow Tracing is required to:\n",
    "- View the chain's trace visualization in this notebook\n",
    "- Capture the chain's trace in production via Inference Tables\n",
    "- Evaluate the chain via the Mosaic AI Evaluation Suite"
   ]
  },
  {
   "cell_type": "code",
   "execution_count": 0,
   "metadata": {
    "application/vnd.databricks.v1+cell": {
     "cellMetadata": {},
     "inputWidgets": {},
     "nuid": "c923125e-fc2b-4955-85cc-08aeaa63aa90",
     "showTitle": false,
     "tableResultSettingsMap": {},
     "title": ""
    }
   },
   "outputs": [],
   "source": [
    "import mlflow\n",
    "mlflow.langchain.autolog()"
   ]
  },
  {
   "cell_type": "markdown",
   "metadata": {
    "application/vnd.databricks.v1+cell": {
     "cellMetadata": {},
     "inputWidgets": {},
     "nuid": "472699d5-b989-4081-a17d-2fb9dfdf7c24",
     "showTitle": false,
     "tableResultSettingsMap": {},
     "title": ""
    }
   },
   "source": [
    "### Start by creating our tools from Unity Catalog\n",
    "\n",
    "Let's use UCFunctionToolkit to select which functions we want to use as tool for our demo:"
   ]
  },
  {
   "cell_type": "code",
   "execution_count": 0,
   "metadata": {
    "application/vnd.databricks.v1+cell": {
     "cellMetadata": {},
     "inputWidgets": {},
     "nuid": "73dcd3a4-4a53-46ad-91b5-6e19fb3809f3",
     "showTitle": false,
     "tableResultSettingsMap": {},
     "title": ""
    }
   },
   "outputs": [
    {
     "output_type": "stream",
     "name": "stdout",
     "output_type": "stream",
     "text": [
      "This demo will be using the wg dbdemos-shared-endpoint to execute the functions\n"
     ]
    },
    {
     "output_type": "display_data",
     "data": {
      "text/html": [
       "<style scoped>\n",
       "  .table-result-container {\n",
       "    max-height: 300px;\n",
       "    overflow: auto;\n",
       "  }\n",
       "  table, th, td {\n",
       "    border: 1px solid black;\n",
       "    border-collapse: collapse;\n",
       "  }\n",
       "  th, td {\n",
       "    padding: 5px;\n",
       "  }\n",
       "  th {\n",
       "    text-align: left;\n",
       "  }\n",
       "</style><div class='table-result-container'><table class='table-result'><thead style='background-color: white'><tr><th>name</th><th>description</th><th>args_schema</th><th>return_direct</th><th>verbose</th><th>callbacks</th><th>callback_manager</th><th>tags</th><th>metadata</th><th>handle_tool_error</th><th>handle_validation_error</th><th>response_format</th><th>func</th><th>coroutine</th></tr></thead><tbody><tr><td>main__build__dbdemos_agent_tools__compute_math</td><td>Run any mathematical function and returns the result as output. Supports python syntax like math.sqrt(13)</td><td><class 'pydantic.v1.main.main__build__dbdemos_agent_tools__compute_math__params'></td><td>False</td><td>False</td><td>None</td><td>None</td><td>None</td><td>None</td><td>False</td><td>False</td><td>content</td><td><function UCFunctionToolkit._make_tool.<locals>.func at 0x7d84bffbfce0></td><td>None</td></tr><tr><td>main__build__dbdemos_agent_tools__convert_inch_to_cm</td><td>convert size from inch to cm</td><td><class 'pydantic.v1.main.main__build__dbdemos_agent_tools__convert_inch_to_cm__params'></td><td>False</td><td>False</td><td>None</td><td>None</td><td>None</td><td>None</td><td>False</td><td>False</td><td>content</td><td><function UCFunctionToolkit._make_tool.<locals>.func at 0x7d84a4de7740></td><td>None</td></tr><tr><td>main__build__dbdemos_agent_tools__cookies_franchise_by_city</td><td>This function takes in a city name and returns a table of any franchises that are in that city.</td><td><class 'pydantic.v1.main.main__build__dbdemos_agent_tools__cookies_franchise_by_city__params'></td><td>False</td><td>False</td><td>None</td><td>None</td><td>None</td><td>None</td><td>False</td><td>False</td><td>content</td><td><function UCFunctionToolkit._make_tool.<locals>.func at 0x7d84a4de7880></td><td>None</td></tr><tr><td>main__build__dbdemos_agent_tools__cookies_franchise_sales</td><td>This function takes an ID as input, and this time does an aggregate to return the sales for that franchise_id</td><td><class 'pydantic.v1.main.main__build__dbdemos_agent_tools__cookies_franchise_sales__params'></td><td>False</td><td>False</td><td>None</td><td>None</td><td>None</td><td>None</td><td>False</td><td>False</td><td>content</td><td><function UCFunctionToolkit._make_tool.<locals>.func at 0x7d84a4de7ce0></td><td>None</td></tr><tr><td>ld__dbdemos_agent_tools__cookies_summarize_best_sellers_feedback</td><td>This function will fetch the best feedback from a product and summarize them</td><td><class 'pydantic.v1.main.main__build__dbdemos_agent_tools__cookies_summarize_best_sellers_feedback__params'></td><td>False</td><td>False</td><td>None</td><td>None</td><td>None</td><td>None</td><td>False</td><td>False</td><td>content</td><td><function UCFunctionToolkit._make_tool.<locals>.func at 0x7d84a4de72e0></td><td>None</td></tr><tr><td>main__build__dbdemos_agent_tools__execute_python_code</td><td>Run python code. The code should end with a return statement and this function will return it as a string. Only send valid python to this function. Here is an exampe of python code input: 'def square_function(number):\\n  return number*number\\n\\nreturn square_function(3)'</td><td><class 'pydantic.v1.main.main__build__dbdemos_agent_tools__execute_python_code__params'></td><td>False</td><td>False</td><td>None</td><td>None</td><td>None</td><td>None</td><td>False</td><td>False</td><td>content</td><td><function UCFunctionToolkit._make_tool.<locals>.func at 0x7d84a4de7ec0></td><td>None</td></tr><tr><td>n__build__dbdemos_agent_tools__find_clothes_matching_description</td><td>Finds existing clothes in our catalog matching the description using AI query and returns a table of results.</td><td><class 'pydantic.v1.main.main__build__dbdemos_agent_tools__find_clothes_matching_description__params'></td><td>False</td><td>False</td><td>None</td><td>None</td><td>None</td><td>None</td><td>False</td><td>False</td><td>content</td><td><function UCFunctionToolkit._make_tool.<locals>.func at 0x7d84a48d4180></td><td>None</td></tr><tr><td>main__build__dbdemos_agent_tools__get_customer_orders</td><td>Returns a list of customer orders for the given customer ID (expect a UUID)</td><td><class 'pydantic.v1.main.BaseModel'></td><td>False</td><td>False</td><td>None</td><td>None</td><td>None</td><td>None</td><td>False</td><td>False</td><td>content</td><td><function UCFunctionToolkit._make_tool.<locals>.func at 0x7d84be8a9da0></td><td>None</td></tr><tr><td>main__build__dbdemos_agent_tools__get_weather</td><td>This function retrieves the current temperature and rain information for a given latitude and longitude using the Open-Meteo API.</td><td><class 'pydantic.v1.main.main__build__dbdemos_agent_tools__get_weather__params'></td><td>False</td><td>False</td><td>None</td><td>None</td><td>None</td><td>None</td><td>False</td><td>False</td><td>content</td><td><function UCFunctionToolkit._make_tool.<locals>.func at 0x7d84a48d4540></td><td>None</td></tr><tr><td>main__build__dbdemos_agent_tools__recommend_outfit_description</td><td>This function generate a stylist outfit description based on initial request and the current weather.</td><td><class 'pydantic.v1.main.main__build__dbdemos_agent_tools__recommend_outfit_description__params'></td><td>False</td><td>False</td><td>None</td><td>None</td><td>None</td><td>None</td><td>False</td><td>False</td><td>content</td><td><function UCFunctionToolkit._make_tool.<locals>.func at 0x7d84a48d4040></td><td>None</td></tr></tbody></table></div>"
      ]
     },
     "metadata": {
      "application/vnd.databricks.v1+output": {
       "addedWidgets": {},
       "aggData": [],
       "aggError": "",
       "aggOverflow": false,
       "aggSchema": [],
       "aggSeriesLimitReached": false,
       "aggType": "",
       "arguments": {},
       "columnCustomDisplayInfos": {},
       "data": [
        [
         "main__build__dbdemos_agent_tools__compute_math",
         "Run any mathematical function and returns the result as output. Supports python syntax like math.sqrt(13)",
         "<class 'pydantic.v1.main.main__build__dbdemos_agent_tools__compute_math__params'>",
         "False",
         "False",
         "None",
         "None",
         "None",
         "None",
         "False",
         "False",
         "content",
         "<function UCFunctionToolkit._make_tool.<locals>.func at 0x7d84bffbfce0>",
         "None"
        ],
        [
         "main__build__dbdemos_agent_tools__convert_inch_to_cm",
         "convert size from inch to cm",
         "<class 'pydantic.v1.main.main__build__dbdemos_agent_tools__convert_inch_to_cm__params'>",
         "False",
         "False",
         "None",
         "None",
         "None",
         "None",
         "False",
         "False",
         "content",
         "<function UCFunctionToolkit._make_tool.<locals>.func at 0x7d84a4de7740>",
         "None"
        ],
        [
         "main__build__dbdemos_agent_tools__cookies_franchise_by_city",
         "This function takes in a city name and returns a table of any franchises that are in that city.",
         "<class 'pydantic.v1.main.main__build__dbdemos_agent_tools__cookies_franchise_by_city__params'>",
         "False",
         "False",
         "None",
         "None",
         "None",
         "None",
         "False",
         "False",
         "content",
         "<function UCFunctionToolkit._make_tool.<locals>.func at 0x7d84a4de7880>",
         "None"
        ],
        [
         "main__build__dbdemos_agent_tools__cookies_franchise_sales",
         "This function takes an ID as input, and this time does an aggregate to return the sales for that franchise_id",
         "<class 'pydantic.v1.main.main__build__dbdemos_agent_tools__cookies_franchise_sales__params'>",
         "False",
         "False",
         "None",
         "None",
         "None",
         "None",
         "False",
         "False",
         "content",
         "<function UCFunctionToolkit._make_tool.<locals>.func at 0x7d84a4de7ce0>",
         "None"
        ],
        [
         "ld__dbdemos_agent_tools__cookies_summarize_best_sellers_feedback",
         "This function will fetch the best feedback from a product and summarize them",
         "<class 'pydantic.v1.main.main__build__dbdemos_agent_tools__cookies_summarize_best_sellers_feedback__params'>",
         "False",
         "False",
         "None",
         "None",
         "None",
         "None",
         "False",
         "False",
         "content",
         "<function UCFunctionToolkit._make_tool.<locals>.func at 0x7d84a4de72e0>",
         "None"
        ],
        [
         "main__build__dbdemos_agent_tools__execute_python_code",
         "Run python code. The code should end with a return statement and this function will return it as a string. Only send valid python to this function. Here is an exampe of python code input: 'def square_function(number):\\n  return number*number\\n\\nreturn square_function(3)'",
         "<class 'pydantic.v1.main.main__build__dbdemos_agent_tools__execute_python_code__params'>",
         "False",
         "False",
         "None",
         "None",
         "None",
         "None",
         "False",
         "False",
         "content",
         "<function UCFunctionToolkit._make_tool.<locals>.func at 0x7d84a4de7ec0>",
         "None"
        ],
        [
         "n__build__dbdemos_agent_tools__find_clothes_matching_description",
         "Finds existing clothes in our catalog matching the description using AI query and returns a table of results.",
         "<class 'pydantic.v1.main.main__build__dbdemos_agent_tools__find_clothes_matching_description__params'>",
         "False",
         "False",
         "None",
         "None",
         "None",
         "None",
         "False",
         "False",
         "content",
         "<function UCFunctionToolkit._make_tool.<locals>.func at 0x7d84a48d4180>",
         "None"
        ],
        [
         "main__build__dbdemos_agent_tools__get_customer_orders",
         "Returns a list of customer orders for the given customer ID (expect a UUID)",
         "<class 'pydantic.v1.main.BaseModel'>",
         "False",
         "False",
         "None",
         "None",
         "None",
         "None",
         "False",
         "False",
         "content",
         "<function UCFunctionToolkit._make_tool.<locals>.func at 0x7d84be8a9da0>",
         "None"
        ],
        [
         "main__build__dbdemos_agent_tools__get_weather",
         "This function retrieves the current temperature and rain information for a given latitude and longitude using the Open-Meteo API.",
         "<class 'pydantic.v1.main.main__build__dbdemos_agent_tools__get_weather__params'>",
         "False",
         "False",
         "None",
         "None",
         "None",
         "None",
         "False",
         "False",
         "content",
         "<function UCFunctionToolkit._make_tool.<locals>.func at 0x7d84a48d4540>",
         "None"
        ],
        [
         "main__build__dbdemos_agent_tools__recommend_outfit_description",
         "This function generate a stylist outfit description based on initial request and the current weather.",
         "<class 'pydantic.v1.main.main__build__dbdemos_agent_tools__recommend_outfit_description__params'>",
         "False",
         "False",
         "None",
         "None",
         "None",
         "None",
         "False",
         "False",
         "content",
         "<function UCFunctionToolkit._make_tool.<locals>.func at 0x7d84a48d4040>",
         "None"
        ]
       ],
       "datasetInfos": [],
       "dbfsResultPath": null,
       "isJsonSchema": true,
       "metadata": {},
       "overflow": false,
       "plotOptions": {
        "customPlotOptions": {},
        "displayType": "table",
        "pivotAggregation": null,
        "pivotColumns": null,
        "xColumns": null,
        "yColumns": null
       },
       "removedWidgets": [],
       "schema": [
        {
         "metadata": "{}",
         "name": "name",
         "type": "\"string\""
        },
        {
         "metadata": "{}",
         "name": "description",
         "type": "\"string\""
        },
        {
         "metadata": "{}",
         "name": "args_schema",
         "type": "\"string\""
        },
        {
         "metadata": "{}",
         "name": "return_direct",
         "type": "\"string\""
        },
        {
         "metadata": "{}",
         "name": "verbose",
         "type": "\"string\""
        },
        {
         "metadata": "{}",
         "name": "callbacks",
         "type": "\"string\""
        },
        {
         "metadata": "{}",
         "name": "callback_manager",
         "type": "\"string\""
        },
        {
         "metadata": "{}",
         "name": "tags",
         "type": "\"string\""
        },
        {
         "metadata": "{}",
         "name": "metadata",
         "type": "\"string\""
        },
        {
         "metadata": "{}",
         "name": "handle_tool_error",
         "type": "\"string\""
        },
        {
         "metadata": "{}",
         "name": "handle_validation_error",
         "type": "\"string\""
        },
        {
         "metadata": "{}",
         "name": "response_format",
         "type": "\"string\""
        },
        {
         "metadata": "{}",
         "name": "func",
         "type": "\"string\""
        },
        {
         "metadata": "{}",
         "name": "coroutine",
         "type": "\"string\""
        }
       ],
       "type": "table"
      }
     },
     "output_type": "display_data"
    }
   ],
   "source": [
    "from langchain_community.tools.databricks import UCFunctionToolkit\n",
    "import pandas as pd\n",
    "wh = get_shared_warehouse(name = None) #Get the first shared wh we can. See _resources/01-init for details\n",
    "print(f'This demo will be using the wg {wh.name} to execute the functions')\n",
    "\n",
    "def get_tools():\n",
    "    return (\n",
    "        UCFunctionToolkit(warehouse_id=wh.id)\n",
    "        # Include functions as tools using their qualified names.\n",
    "        # You can use \"{catalog_name}.{schema_name}.*\" to get all functions in a schema.\n",
    "        .include(f\"{catalog}.{db}.*\")\n",
    "        .get_tools())\n",
    "\n",
    "display_tools(get_tools()) #display in a table the tools - see _resource/00-init for details"
   ]
  },
  {
   "cell_type": "markdown",
   "metadata": {
    "application/vnd.databricks.v1+cell": {
     "cellMetadata": {},
     "inputWidgets": {},
     "nuid": "f5005c1f-e983-4b45-b18b-cc11d37213bd",
     "showTitle": false,
     "tableResultSettingsMap": {},
     "title": ""
    }
   },
   "source": [
    "### Let's create our langchain agent using the tools we just created"
   ]
  },
  {
   "cell_type": "code",
   "execution_count": 0,
   "metadata": {
    "application/vnd.databricks.v1+cell": {
     "cellMetadata": {},
     "inputWidgets": {},
     "nuid": "2bc236fc-deaf-4e18-bbdf-06c20470b174",
     "showTitle": true,
     "tableResultSettingsMap": {},
     "title": "Create the chat"
    }
   },
   "outputs": [],
   "source": [
    "\n",
    "from langchain_openai import ChatOpenAI\n",
    "from databricks.sdk import WorkspaceClient\n",
    "\n",
    "# Note: langchain_community.chat_models.ChatDatabricks doesn't support create_tool_calling_agent yet - it'll soon be availableK. Let's use ChatOpenAI for now\n",
    "llm = ChatOpenAI(\n",
    "  base_url=f\"{WorkspaceClient().config.host}/serving-endpoints/\",\n",
    "  api_key=dbutils.notebook.entry_point.getDbutils().notebook().getContext().apiToken().get(),\n",
    "  model=\"databricks-meta-llama-3-3-70b-instruct\"\n",
    ")\n"
   ]
  },
  {
   "cell_type": "code",
   "execution_count": 0,
   "metadata": {
    "application/vnd.databricks.v1+cell": {
     "cellMetadata": {},
     "inputWidgets": {},
     "nuid": "51ee01a5-f811-4646-b811-27ee14a74f45",
     "showTitle": true,
     "tableResultSettingsMap": {},
     "title": "Define the Prompt"
    }
   },
   "outputs": [],
   "source": [
    "from langchain_core.prompts import ChatPromptTemplate\n",
    "from langchain_community.chat_models import ChatDatabricks\n",
    "\n",
    "def get_prompt(history = [], prompt = None):\n",
    "    if not prompt:\n",
    "            prompt = \"\"\"You are a helpful fashion assistant. Your task is to recommend cothes to the users. You can use the following tools:\n",
    "    - Use the convert_inch_to_cm to covert inch to cm if the customer ask for it\n",
    "    - Use get_customer_orders to get the list of orders and their status, total amount and number of article. \n",
    "    - Use find_clothes_matching_description to find existing clothes from our internal catalog and suggest article to the customer\n",
    "    - Use recommend_outfit if a customer ask you for a style. This function take the weather as parameter. Use the get_weather function first before calling this function to get the current temperature and rain. The current user location is 52.52, 13.41.\n",
    "\n",
    "    Make sure to use the appropriate tool for each step and provide a coherent response to the user. Don't mention tools to your users. Only answer what the user is asking for. If the question isn't related to the tools or style/clothe, say you're sorry but can't answer\"\"\"\n",
    "    return ChatPromptTemplate.from_messages([\n",
    "            (\"system\", prompt),\n",
    "            (\"human\", \"{input}\"),\n",
    "            (\"placeholder\", \"{agent_scratchpad}\"),\n",
    "    ])"
   ]
  },
  {
   "cell_type": "code",
   "execution_count": 0,
   "metadata": {
    "application/vnd.databricks.v1+cell": {
     "cellMetadata": {},
     "inputWidgets": {},
     "nuid": "1023c4cc-ddee-4a95-8d12-04d65b8d7d8d",
     "showTitle": false,
     "tableResultSettingsMap": {},
     "title": ""
    }
   },
   "outputs": [],
   "source": [
    "from langchain.agents import AgentExecutor, create_tool_calling_agent\n",
    "prompt = get_prompt()\n",
    "tools = get_tools()\n",
    "agent = create_tool_calling_agent(llm, tools, prompt)\n",
    "agent_executor = AgentExecutor(agent=agent, tools=tools, verbose=True)"
   ]
  },
  {
   "cell_type": "markdown",
   "metadata": {
    "application/vnd.databricks.v1+cell": {
     "cellMetadata": {},
     "inputWidgets": {},
     "nuid": "7f497e42-eaef-4ede-873e-a7532bbab7fd",
     "showTitle": false,
     "tableResultSettingsMap": {},
     "title": ""
    }
   },
   "source": [
    "### Let's give it a try: Asking to run a simple size conversion.\n",
    "Under the hood, we want this to call our Math conversion function:"
   ]
  },
  {
   "cell_type": "code",
   "execution_count": 0,
   "metadata": {
    "application/vnd.databricks.v1+cell": {
     "cellMetadata": {},
     "inputWidgets": {},
     "nuid": "ee01ca7e-b2ba-4a50-85d6-ae79daa2e091",
     "showTitle": false,
     "tableResultSettingsMap": {},
     "title": ""
    }
   },
   "outputs": [
    {
     "output_type": "stream",
     "name": "stderr",
     "output_type": "stream",
     "text": [
      "Error in StdOutCallbackHandler.on_chain_start callback: AttributeError(\"'NoneType' object has no attribute 'get'\")\n"
     ]
    },
    {
     "output_type": "stream",
     "name": "stdout",
     "output_type": "stream",
     "text": [
      "\u001B[32;1m\u001B[1;3m\nInvoking: `main__build__dbdemos_agent_tools__convert_inch_to_cm` with `{'size_in_inch': 12}`\n\n\n\u001B[0m\u001B[33;1m\u001B[1;3m{\"format\": \"SCALAR\", \"value\": \"30.48\", \"truncated\": false}\u001B[0m\u001B[32;1m\u001B[1;3m12 inches is equal to 30.48 cm.\u001B[0m\n\n\u001B[1m> Finished chain.\u001B[0m\n"
     ]
    },
    {
     "output_type": "execute_result",
     "data": {
      "text/plain": [
       "{'input': \"what's 12in in cm?\", 'output': '12 inches is equal to 30.48 cm.'}"
      ]
     },
     "execution_count": 23,
     "metadata": {},
     "output_type": "execute_result"
    },
    {
     "output_type": "display_data",
     "data": {
      "application/databricks.mlflow.trace": "\"tr-7c57897a6f974affb448895093cef3d2\"",
      "text/plain": [
       "Trace(request_id=tr-7c57897a6f974affb448895093cef3d2)"
      ]
     },
     "metadata": {},
     "output_type": "display_data"
    }
   ],
   "source": [
    "#make sure our log is enabled to properly display and trace the call chain \n",
    "mlflow.langchain.autolog()\n",
    "agent_executor.invoke({\"input\": \"what's 12in in cm?\"})"
   ]
  },
  {
   "cell_type": "code",
   "execution_count": 0,
   "metadata": {
    "application/vnd.databricks.v1+cell": {
     "cellMetadata": {},
     "inputWidgets": {},
     "nuid": "09e682ab-cd9d-490d-a074-cff63ddc35ea",
     "showTitle": false,
     "tableResultSettingsMap": {},
     "title": ""
    }
   },
   "outputs": [
    {
     "output_type": "stream",
     "name": "stderr",
     "output_type": "stream",
     "text": [
      "Error in StdOutCallbackHandler.on_chain_start callback: AttributeError(\"'NoneType' object has no attribute 'get'\")\n"
     ]
    },
    {
     "output_type": "stream",
     "name": "stdout",
     "output_type": "stream",
     "text": [
      "\u001B[32;1m\u001B[1;3m\nInvoking: `main__build__dbdemos_agent_tools__get_customer_orders` with `{}`\n\n\n\u001B[0m\u001B[33;1m\u001B[1;3m{\"format\": \"CSV\", \"value\": \"user_id,id,transaction_date,item_count,amount,order_status\\nd8ca793f-7f06-42d3-be1b-929e32fc8bc9,6b27ee7a-7c9a-4cce-887f-9824fecfd43a,01-04-2025 12:48:21,3.0,102.0,Shipped\\nd8ca793f-7f06-42d3-be1b-929e32fc8bc9,616ac7ab-d4a3-4055-8a8d-288b6560efbb,01-02-2025 12:43:57,3.0,99.0,Pending\\nd8ca793f-7f06-42d3-be1b-929e32fc8bc9,d0e4b750-f0bd-40df-8ce2-560a4c79463a,01-01-2025 11:50:24,1.0,31.0,Pending\\nd8ca793f-7f06-42d3-be1b-929e32fc8bc9,f132dc37-e460-4c95-854c-2fbf8310feb1,01-01-2025 09:36:44,2.0,72.0,Pending\\n\", \"truncated\": false}\u001B[0m\u001B[32;1m\u001B[1;3mYou have four recent orders. \n\n1. Order ID: 6b27ee7a-7c9a-4cce-887f-9824fecfd43a, dated 01-04-2025, with 3 items and a total amount of $102. The status of this order is \"Shipped\".\n\n2. Order ID: 616ac7ab-d4a3-4055-8a8d-288b6560efbb, dated 01-02-2025, with 3 items and a total amount of $99. The status of this order is \"Pending\".\n\n3. Order ID: d0e4b750-f0bd-40df-8ce2-560a4c79463a, dated 01-01-2025, with 1 item and a total amount of $31. The status of this order is \"Pending\".\n\n4. Order ID: f132dc37-e460-4c95-854c-2fbf8310feb1, dated 01-01-2025, with 2 items and a total amount of $72. The status of this order is \"Pending\".\n\nLet me know if you need any further assistance!\u001B[0m\n\n\u001B[1m> Finished chain.\u001B[0m\n"
     ]
    },
    {
     "output_type": "execute_result",
     "data": {
      "text/plain": [
       "{'input': 'what are my latest orders?',\n",
       " 'output': 'You have four recent orders. \\n\\n1. Order ID: 6b27ee7a-7c9a-4cce-887f-9824fecfd43a, dated 01-04-2025, with 3 items and a total amount of $102. The status of this order is \"Shipped\".\\n\\n2. Order ID: 616ac7ab-d4a3-4055-8a8d-288b6560efbb, dated 01-02-2025, with 3 items and a total amount of $99. The status of this order is \"Pending\".\\n\\n3. Order ID: d0e4b750-f0bd-40df-8ce2-560a4c79463a, dated 01-01-2025, with 1 item and a total amount of $31. The status of this order is \"Pending\".\\n\\n4. Order ID: f132dc37-e460-4c95-854c-2fbf8310feb1, dated 01-01-2025, with 2 items and a total amount of $72. The status of this order is \"Pending\".\\n\\nLet me know if you need any further assistance!'}"
      ]
     },
     "execution_count": 24,
     "metadata": {},
     "output_type": "execute_result"
    },
    {
     "output_type": "display_data",
     "data": {
      "application/databricks.mlflow.trace": "\"tr-76e87f6139cc4f588d0453a7c48ad0e4\"",
      "text/plain": [
       "Trace(request_id=tr-76e87f6139cc4f588d0453a7c48ad0e4)"
      ]
     },
     "metadata": {},
     "output_type": "display_data"
    }
   ],
   "source": [
    "agent_executor.invoke({\"input\": \"what are my latest orders?\"})"
   ]
  },
  {
   "cell_type": "markdown",
   "metadata": {
    "application/vnd.databricks.v1+cell": {
     "cellMetadata": {},
     "inputWidgets": {},
     "nuid": "b9e53d90-7941-4a74-b3bb-95678e1bac16",
     "showTitle": false,
     "tableResultSettingsMap": {},
     "title": ""
    }
   },
   "source": [
    "### Chaining multiple tools\n",
    "\n",
    "Let's see if the agent can properly chain the calls, using multiple tools and passing the values from one to another. We'll ask for an outfit for today, and the expectation is that the LLM will fetch the weather before."
   ]
  },
  {
   "cell_type": "code",
   "execution_count": 0,
   "metadata": {
    "application/vnd.databricks.v1+cell": {
     "cellMetadata": {},
     "inputWidgets": {},
     "nuid": "afabd767-5cdb-48b2-9a2e-b802a555af5e",
     "showTitle": false,
     "tableResultSettingsMap": {},
     "title": ""
    }
   },
   "outputs": [
    {
     "output_type": "stream",
     "name": "stderr",
     "output_type": "stream",
     "text": [
      "Error in StdOutCallbackHandler.on_chain_start callback: AttributeError(\"'NoneType' object has no attribute 'get'\")\n"
     ]
    },
    {
     "output_type": "stream",
     "name": "stdout",
     "output_type": "stream",
     "text": [
      "\u001B[32;1m\u001B[1;3m\nInvoking: `main__build__dbdemos_agent_tools__get_weather` with `{'latitude': 52.52, 'longitude': 13.41}`\n\n\n\u001B[0m\u001B[38;5;200m\u001B[1;3m{\"format\": \"SCALAR\", \"value\": \"{\\\"temperature_in_celsius\\\":\\\"25.0\\\",\\\"rain_in_mm\\\":\\\"0.0\\\"}\", \"truncated\": false}\u001B[0m\u001B[32;1m\u001B[1;3m\nInvoking: `main__build__dbdemos_agent_tools__recommend_outfit_description` with `{'requested_style': 'interview', 'temperature_in_celsius': 25.0, 'rain_in_mm': 0.0}`\n\n\n\u001B[0m\u001B[36;1m\u001B[1;3m{\"format\": \"SCALAR\", \"value\": \"A job interview! You'll want to make a great impression. Considering the pleasant weather today (25.0\\u00b0C and no rain), I'd recommend an outfit that's professional, yet breathable and comfortable.\\n\\nFor a stylish and professional look, I suggest:\\n\\n**For Women:**\\n\\n* A tailored blouse (perhaps in a light, pastel shade such as pale blue, lavender, or mint green) with a modest neckline and short sleeves.\\n* A pair of well-fitted trousers or a pencil skirt (around 24-26 inches in length) in a neutral color like navy, black, or gray.\\n* A classic two-button blazer (around 24-26 inches in length) to add a polished touch.\\n\\n**For Men:**\\n\\n* A crisp, white dress shirt with a conservative collar style and short sleeves.\\n* A pair of fitted dress pants (around 32-34 inches in length) in a neutral color like navy, black, or gray.\\n* A slim-fit blazer (around 32-34 inches in length) to complete the professional look.\\n\\n**Additional Tips:**\\n\\n* Keep jewelry to a minimum, opting for simple, elegant pieces like a classic watch, simple earrings, or a slim necklace.\\n* Choose shoes that are polished and comfortable, such as loafers, ballet flats, or low-heeled pumps.\\n* Consider adding a pop of color with a scarf, tie, or pocket square to add some personality to your outfit.\\n* Make sure your outfit is clean, ironed, and well-fitted to show that you're detail-oriented and take pride in your appearance.\\n\\nRemember, the key is to look professional, confident, and put-together. You got this!\", \"truncated\": false}\u001B[0m\u001B[32;1m\u001B[1;3mIt seems like you're looking for a professional outfit for your interview. Considering the pleasant weather today (25°C and no rain), I'd recommend an outfit that's professional, yet breathable and comfortable. \n\nFor a stylish and professional look, I suggest:\n\n**For Women:**\n\n* A tailored blouse (perhaps in a light, pastel shade such as pale blue, lavender, or mint green) with a modest neckline and short sleeves.\n* A pair of well-fitted trousers or a pencil skirt (around 24-26 inches in length) in a neutral color like navy, black, or gray.\n* A classic two-button blazer (around 24-26 inches in length) to add a polished touch.\n\n**For Men:**\n\n* A crisp, white dress shirt with a conservative collar style and short sleeves.\n* A pair of fitted dress pants (around 32-34 inches in length) in a neutral color like navy, black, or gray.\n* A slim-fit blazer (around 32-34 inches in length) to complete the professional look.\n\n**Additional Tips:**\n\n* Keep jewelry to a minimum, opting for simple, elegant pieces like a classic watch, simple earrings, or a slim necklace.\n* Choose shoes that are polished and comfortable, such as loafers, ballet flats, or low-heeled pumps.\n* Consider adding a pop of color with a scarf, tie, or pocket square to add some personality to your outfit.\n* Make sure your outfit is clean, ironed, and well-fitted to show that you're detail-oriented and take pride in your appearance.\n\nRemember, the key is to look professional, confident, and put-together. You got this!\u001B[0m\n\n\u001B[1m> Finished chain.\u001B[0m\n"
     ]
    },
    {
     "output_type": "display_data",
     "data": {
      "application/databricks.mlflow.trace": "\"tr-10532c3b8ccd47a18b9f7adeba568baf\"",
      "text/plain": [
       "Trace(request_id=tr-10532c3b8ccd47a18b9f7adeba568baf)"
      ]
     },
     "metadata": {},
     "output_type": "display_data"
    }
   ],
   "source": [
    "agent_executor = AgentExecutor(agent=agent, tools=tools, verbose=True)\n",
    "answer = agent_executor.invoke({\"input\": \"I need a dress for an interview I have today. What style would you recommend for today?\"})"
   ]
  },
  {
   "cell_type": "code",
   "execution_count": 0,
   "metadata": {
    "application/vnd.databricks.v1+cell": {
     "cellMetadata": {},
     "inputWidgets": {},
     "nuid": "4feae992-8455-4923-8cf5-156e91b2c104",
     "showTitle": false,
     "tableResultSettingsMap": {},
     "title": ""
    }
   },
   "outputs": [
    {
     "output_type": "stream",
     "name": "stderr",
     "output_type": "stream",
     "text": [
      "Error in StdOutCallbackHandler.on_chain_start callback: AttributeError(\"'NoneType' object has no attribute 'get'\")\n"
     ]
    },
    {
     "output_type": "stream",
     "name": "stdout",
     "output_type": "stream",
     "text": [
      "\u001B[32;1m\u001B[1;3m\nInvoking: `n__build__dbdemos_agent_tools__find_clothes_matching_description` with `{'description': 'red dresses'}`\n\n\n\u001B[0m\u001B[36;1m\u001B[1;3m{\"format\": \"CSV\", \"value\": \"id,name,color,category,price,description\\n1,Red Evening Dress,red,dresses,99.99,A beautiful red evening dress perfect for formal events\\n2,Long Red Dress,red,dresses,79.99,A stunning long red dress for any occasion\\n3,Red Cocktail Dress,red,dresses,129.99,A chic red cocktail dress for a night out with friends\\n\", \"truncated\": false}\u001B[0m\u001B[32;1m\u001B[1;3mHere are some red dresses you can buy:\n\n1. Red Evening Dress - a beautiful red evening dress perfect for formal events, priced at $99.99\n2. Long Red Dress - a stunning long red dress for any occasion, priced at $79.99\n3. Red Cocktail Dress - a chic red cocktail dress for a night out with friends, priced at $129.99\n\nLet me know if you'd like more information or if you have any specific preferences!\u001B[0m\n\n\u001B[1m> Finished chain.\u001B[0m\n"
     ]
    },
    {
     "output_type": "display_data",
     "data": {
      "application/databricks.mlflow.trace": "\"tr-c50ed23634c849dd8126a77f4f4e90c5\"",
      "text/plain": [
       "Trace(request_id=tr-c50ed23634c849dd8126a77f4f4e90c5)"
      ]
     },
     "metadata": {},
     "output_type": "display_data"
    }
   ],
   "source": [
    "#Note: in a real app, we would include the preview discussion as history to keep the reference.\n",
    "answer = agent_executor.invoke({\"input\": \"Can you give me a list of red dresses I can buy?\"})"
   ]
  },
  {
   "cell_type": "code",
   "execution_count": 0,
   "metadata": {
    "application/vnd.databricks.v1+cell": {
     "cellMetadata": {},
     "inputWidgets": {},
     "nuid": "2072eb70-095c-44a7-b0a5-6e2db4b11deb",
     "showTitle": false,
     "tableResultSettingsMap": {},
     "title": ""
    }
   },
   "outputs": [
    {
     "output_type": "display_data",
     "data": {
      "text/html": [
       "Here are some red dresses you can buy:<br><br>1. Red Evening Dress - a beautiful red evening dress perfect for formal events, priced at $99.99<br>2. Long Red Dress - a stunning long red dress for any occasion, priced at $79.99<br>3. Red Cocktail Dress - a chic red cocktail dress for a night out with friends, priced at $129.99<br><br>Let me know if you'd like more information or if you have any specific preferences!"
      ]
     },
     "metadata": {},
     "output_type": "display_data"
    }
   ],
   "source": [
    "displayHTML(answer['output'].replace('\\n', '<br>'))"
   ]
  },
  {
   "cell_type": "markdown",
   "metadata": {
    "application/vnd.databricks.v1+cell": {
     "cellMetadata": {},
     "inputWidgets": {},
     "nuid": "6a34dc12-7b3b-468f-a9af-a29b5b259b63",
     "showTitle": false,
     "tableResultSettingsMap": {},
     "title": ""
    }
   },
   "source": [
    "## Extra: running more advanced functions using python:\n",
    "\n",
    "Let's see a few more advanced tools example"
   ]
  },
  {
   "cell_type": "markdown",
   "metadata": {
    "application/vnd.databricks.v1+cell": {
     "cellMetadata": {},
     "inputWidgets": {},
     "nuid": "b6064858-6360-4886-8fa4-b7b103abf8ab",
     "showTitle": false,
     "tableResultSettingsMap": {},
     "title": ""
    }
   },
   "source": [
    "### Calculator tool: Supporting math operations \n",
    "Let's add a function to allow our LLM to execute any Math operation. \n",
    "\n",
    "Databricks runs the python in a safe container. However, we'll filter what the function can do to avoid any potential issues with prompt injection (so that the user cannot execute other python instructions)."
   ]
  },
  {
   "cell_type": "code",
   "execution_count": 0,
   "metadata": {
    "application/vnd.databricks.v1+cell": {
     "cellMetadata": {},
     "inputWidgets": {},
     "nuid": "04238714-ef74-4e0e-844d-99b47d178d5c",
     "showTitle": false,
     "tableResultSettingsMap": {},
     "title": ""
    }
   },
   "outputs": [
    {
     "output_type": "display_data",
     "data": {
      "text/html": [
       "<style scoped>\n",
       "  .table-result-container {\n",
       "    max-height: 300px;\n",
       "    overflow: auto;\n",
       "  }\n",
       "  table, th, td {\n",
       "    border: 1px solid black;\n",
       "    border-collapse: collapse;\n",
       "  }\n",
       "  th, td {\n",
       "    padding: 5px;\n",
       "  }\n",
       "  th {\n",
       "    text-align: left;\n",
       "  }\n",
       "</style><div class='table-result-container'><table class='table-result'><thead style='background-color: white'><tr><th>result</th></tr></thead><tbody><tr><td>1.3333333333333333</td></tr></tbody></table></div>"
      ]
     },
     "metadata": {
      "application/vnd.databricks.v1+output": {
       "addedWidgets": {},
       "aggData": [],
       "aggError": "",
       "aggOverflow": false,
       "aggSchema": [],
       "aggSeriesLimitReached": false,
       "aggType": "",
       "arguments": {},
       "columnCustomDisplayInfos": {},
       "data": [
        [
         "1.3333333333333333"
        ]
       ],
       "datasetInfos": [
        {
         "name": "_sqldf",
         "schema": {
          "fields": [
           {
            "metadata": {},
            "name": "result",
            "nullable": true,
            "type": "string"
           }
          ],
          "type": "struct"
         },
         "tableIdentifier": null,
         "typeStr": "pyspark.sql.dataframe.DataFrame"
        }
       ],
       "dbfsResultPath": null,
       "isJsonSchema": true,
       "metadata": {
        "createTempViewForImplicitDf": true,
        "dataframeName": "_sqldf",
        "executionCount": 28
       },
       "overflow": false,
       "plotOptions": {
        "customPlotOptions": {},
        "displayType": "table",
        "pivotAggregation": null,
        "pivotColumns": null,
        "xColumns": null,
        "yColumns": null
       },
       "removedWidgets": [],
       "schema": [
        {
         "metadata": "{}",
         "name": "result",
         "type": "\"string\""
        }
       ],
       "type": "table"
      }
     },
     "output_type": "display_data"
    }
   ],
   "source": [
    "%sql\n",
    "CREATE OR REPLACE FUNCTION compute_math(expr STRING)\n",
    "RETURNS STRING\n",
    "LANGUAGE PYTHON\n",
    "COMMENT 'Run any mathematical function and returns the result as output. Supports python syntax like math.sqrt(13)'\n",
    "AS\n",
    "$$\n",
    "  import ast\n",
    "  import operator\n",
    "  import math\n",
    "  operators = {ast.Add: operator.add, ast.Sub: operator.sub, ast.Mult: operator.mul, ast.Div: operator.truediv, ast.Pow: operator.pow, ast.Mod: operator.mod, ast.FloorDiv: operator.floordiv, ast.UAdd: operator.pos, ast.USub: operator.neg}\n",
    "    \n",
    "  # Supported functions from the math module\n",
    "  functions = {name: getattr(math, name) for name in dir(math) if callable(getattr(math, name))}\n",
    "\n",
    "  def eval_node(node):\n",
    "    if isinstance(node, ast.Num):  # <number>\n",
    "      return node.n\n",
    "    elif isinstance(node, ast.BinOp):  # <left> <operator> <right>\n",
    "      return operators[type(node.op)](eval_node(node.left), eval_node(node.right))\n",
    "    elif isinstance(node, ast.UnaryOp):  # <operator> <operand> e.g., -1\n",
    "      return operators[type(node.op)](eval_node(node.operand))\n",
    "    elif isinstance(node, ast.Call):  # <func>(<args>)\n",
    "      func = node.func.id\n",
    "      if func in functions:\n",
    "        args = [eval_node(arg) for arg in node.args]\n",
    "        return functions[func](*args)\n",
    "      else:\n",
    "        raise TypeError(f\"Unsupported function: {func}\")\n",
    "    else:\n",
    "      raise TypeError(f\"Unsupported type: {type(node)}\")  \n",
    "  try:\n",
    "    if expr.startswith('```') and expr.endswith('```'):\n",
    "      expr = expr[3:-3].strip()      \n",
    "    node = ast.parse(expr, mode='eval').body\n",
    "    return eval_node(node)\n",
    "  except Exception as ex:\n",
    "    return str(ex)\n",
    "$$;\n",
    "-- let's test our function:\n",
    "SELECT compute_math(\"(2+2)/3\") as result;"
   ]
  },
  {
   "cell_type": "markdown",
   "metadata": {
    "application/vnd.databricks.v1+cell": {
     "cellMetadata": {},
     "inputWidgets": {},
     "nuid": "98207e91-c463-48d1-ab7e-dfa8b2afbdfb",
     "showTitle": false,
     "tableResultSettingsMap": {},
     "title": ""
    }
   },
   "source": [
    "### Run any python function\n",
    "\n",
    "If we are creating a coding assistant, it can be useful to allow our AI System to run python code to try them and output the results to the user. **Be careful doing that, as any code could be executed by the user.**\n",
    "\n",
    "Here is an example:"
   ]
  },
  {
   "cell_type": "code",
   "execution_count": 0,
   "metadata": {
    "application/vnd.databricks.v1+cell": {
     "cellMetadata": {},
     "inputWidgets": {},
     "nuid": "9b5487d2-b638-44a8-b886-17d2a1b971ec",
     "showTitle": false,
     "tableResultSettingsMap": {},
     "title": ""
    }
   },
   "outputs": [
    {
     "output_type": "display_data",
     "data": {
      "text/html": [
       "<style scoped>\n",
       "  .table-result-container {\n",
       "    max-height: 300px;\n",
       "    overflow: auto;\n",
       "  }\n",
       "  table, th, td {\n",
       "    border: 1px solid black;\n",
       "    border-collapse: collapse;\n",
       "  }\n",
       "  th, td {\n",
       "    padding: 5px;\n",
       "  }\n",
       "  th {\n",
       "    text-align: left;\n",
       "  }\n",
       "</style><div class='table-result-container'><table class='table-result'><thead style='background-color: white'><tr><th>result</th></tr></thead><tbody><tr><td>Hello World! Hello World! Hello World! </td></tr></tbody></table></div>"
      ]
     },
     "metadata": {
      "application/vnd.databricks.v1+output": {
       "addedWidgets": {},
       "aggData": [],
       "aggError": "",
       "aggOverflow": false,
       "aggSchema": [],
       "aggSeriesLimitReached": false,
       "aggType": "",
       "arguments": {},
       "columnCustomDisplayInfos": {},
       "data": [
        [
         "Hello World! Hello World! Hello World! "
        ]
       ],
       "datasetInfos": [
        {
         "name": "_sqldf",
         "schema": {
          "fields": [
           {
            "metadata": {},
            "name": "result",
            "nullable": true,
            "type": "string"
           }
          ],
          "type": "struct"
         },
         "tableIdentifier": null,
         "typeStr": "pyspark.sql.dataframe.DataFrame"
        }
       ],
       "dbfsResultPath": null,
       "isJsonSchema": true,
       "metadata": {
        "createTempViewForImplicitDf": true,
        "dataframeName": "_sqldf",
        "executionCount": 29
       },
       "overflow": false,
       "plotOptions": {
        "customPlotOptions": {},
        "displayType": "table",
        "pivotAggregation": null,
        "pivotColumns": null,
        "xColumns": null,
        "yColumns": null
       },
       "removedWidgets": [],
       "schema": [
        {
         "metadata": "{}",
         "name": "result",
         "type": "\"string\""
        }
       ],
       "type": "table"
      }
     },
     "output_type": "display_data"
    }
   ],
   "source": [
    "%sql\n",
    "CREATE OR REPLACE FUNCTION execute_python_code(python_code STRING)\n",
    "RETURNS STRING\n",
    "LANGUAGE PYTHON\n",
    "COMMENT \"Run python code. The code should end with a return statement and this function will return it as a string. Only send valid python to this function. Here is an exampe of python code input: 'def square_function(number):\\\\n  return number*number\\\\n\\\\nreturn square_function(3)'\"\n",
    "AS\n",
    "$$\n",
    "    import traceback\n",
    "    try:\n",
    "        import re\n",
    "        # Remove code block markers (e.g., ```python) and strip whitespace```\n",
    "        python_code = re.sub(r\"^\\s*```(?:python)?|```\\s*$\", \"\", python_code).strip()\n",
    "        # Unescape any escaped newline characters\n",
    "        python_code = python_code.replace(\"\\\\n\", \"\\n\")\n",
    "        # Properly indent the code for wrapping\n",
    "        indented_code = \"\\n    \".join(python_code.split(\"\\n\"))\n",
    "        # Define a wrapper function to execute the code\n",
    "        exec_globals = {}\n",
    "        exec_locals = {}\n",
    "        wrapper_code = \"def _temp_function():\\n    \"+indented_code\n",
    "        exec(wrapper_code, exec_globals, exec_locals)\n",
    "        # Execute the wrapped function and return its output\n",
    "        result = exec_locals[\"_temp_function\"]()\n",
    "        return result\n",
    "    except Exception as ex:\n",
    "        return traceback.format_exc()\n",
    "$$;\n",
    "-- let's test our function:\n",
    "\n",
    "SELECT execute_python_code(\"return 'Hello World! '* 3\") as result;"
   ]
  },
  {
   "cell_type": "code",
   "execution_count": 0,
   "metadata": {
    "application/vnd.databricks.v1+cell": {
     "cellMetadata": {},
     "inputWidgets": {},
     "nuid": "fb81f5fc-455a-459f-afac-37516f765ca1",
     "showTitle": false,
     "tableResultSettingsMap": {},
     "title": ""
    }
   },
   "outputs": [
    {
     "output_type": "stream",
     "name": "stderr",
     "output_type": "stream",
     "text": [
      "Error in StdOutCallbackHandler.on_chain_start callback: AttributeError(\"'NoneType' object has no attribute 'get'\")\n"
     ]
    },
    {
     "output_type": "stream",
     "name": "stdout",
     "output_type": "stream",
     "text": [
      "\u001B[32;1m\u001B[1;3m\nInvoking: `main__build__dbdemos_agent_tools__execute_python_code` with `{'python_code': 'def fibonacci(n):\\n  if n <= 0:\\n    return \"Input should be positive integer.\"\\n  elif n == 1:\\n    return 0\\n  elif n == 2:\\n    return 1\\n  else:\\n    a, b = 0, 1\\n    for _ in range(2, n):\\n      a, b = b, a + b\\n    return b\\n\\nreturn fibonacci(5)'}`\n\n\n\u001B[0m\u001B[38;5;200m\u001B[1;3m{\"format\": \"SCALAR\", \"value\": \"3\", \"truncated\": false}\u001B[0m\u001B[32;1m\u001B[1;3mThe result of the Fibonacci sequence for 5 is 3.\u001B[0m\n\n\u001B[1m> Finished chain.\u001B[0m\n"
     ]
    },
    {
     "output_type": "display_data",
     "data": {
      "text/html": [
       "The result of the Fibonacci sequence for 5 is 3."
      ]
     },
     "metadata": {},
     "output_type": "display_data"
    },
    {
     "output_type": "display_data",
     "data": {
      "application/databricks.mlflow.trace": "\"tr-b47dc0002aa243cfaa639b7973b0a808\"",
      "text/plain": [
       "Trace(request_id=tr-b47dc0002aa243cfaa639b7973b0a808)"
      ]
     },
     "metadata": {},
     "output_type": "display_data"
    }
   ],
   "source": [
    "from langchain.agents import AgentExecutor, create_tool_calling_agent\n",
    "prompt = get_prompt(prompt=\"You are an assistant for a python developer. Internally, you have a tool named execute_python_code that can generate and run python code to help answering what the customer is asking. input: valid python code as a string. output: the result of the return value from the code execution. Don't mention you have tools or the tools name. Make sure you send the full python code at once to the function and that the code has a return statement at the end to capture the result. Don't print anything in the code you write, return the result you need as final instruction. Make sure the python code is valid. Only send python. Here is an example: 'def square_function(number):\\\\n  return number*number\\\\n\\\\nreturn square_function(3)'\")\n",
    "tools = get_tools()\n",
    "agent = create_tool_calling_agent(llm, tools, prompt)\n",
    "agent_executor = AgentExecutor(agent=agent, tools=tools, verbose=True)\n",
    "\n",
    "#Let's print the answer! Note that the LLM often makes a few error, but then analyze it and self-correct.\n",
    "answer = agent_executor.invoke({\"input\": \"What's the result of the fibonacci suite? Display its result for 5.\"})\n",
    "displayHTML(answer['output'].replace('\\n', '<br>'))"
   ]
  },
  {
   "cell_type": "markdown",
   "metadata": {
    "application/vnd.databricks.v1+cell": {
     "cellMetadata": {},
     "inputWidgets": {},
     "nuid": "7bf92b7a-b5e4-41a6-9f9c-65fbd0971e4d",
     "showTitle": false,
     "tableResultSettingsMap": {},
     "title": ""
    }
   },
   "source": [
    "## Deploying our Agent Executor as Model Serving Endpoint\n",
    "\n",
    "We're now ready to package our chain within MLFLow, and deploy it as a Model Serving Endpoint, leveraging Databricks Agent Framework and its review application."
   ]
  },
  {
   "cell_type": "code",
   "execution_count": 0,
   "metadata": {
    "application/vnd.databricks.v1+cell": {
     "cellMetadata": {},
     "inputWidgets": {},
     "nuid": "05f82c08-ba85-4760-9b9c-330b1ea40204",
     "showTitle": true,
     "tableResultSettingsMap": {},
     "title": "Create the chain"
    }
   },
   "outputs": [],
   "source": [
    "# TODO: write this as a separate file if you want to deploy it properly\n",
    "from langchain.schema.runnable import RunnableLambda\n",
    "from langchain_core.output_parsers import StrOutputParser\n",
    "\n",
    "# Function to extract the user's query\n",
    "def extract_user_query_string(chat_messages_array):\n",
    "    return chat_messages_array[-1][\"content\"]\n",
    "\n",
    "# Wrapping the agent_executor invocation\n",
    "def agent_executor_wrapper(input_data):\n",
    "    result = agent_executor.invoke({\"input\": input_data})\n",
    "    return result[\"output\"]\n",
    "\n",
    "# Create the chain using the | operator with StrOutputParser\n",
    "chain = (\n",
    "    RunnableLambda(lambda data: extract_user_query_string(data[\"messages\"]))  # Extract the user query\n",
    "    | RunnableLambda(agent_executor_wrapper)  # Pass the query to the agent executor\n",
    "    | StrOutputParser()  # Optionally parse the output to ensure it's a clean string\n",
    ")"
   ]
  },
  {
   "cell_type": "code",
   "execution_count": 0,
   "metadata": {
    "application/vnd.databricks.v1+cell": {
     "cellMetadata": {},
     "inputWidgets": {},
     "nuid": "a8dfd89b-1555-442a-b9ce-c5ca546bbb05",
     "showTitle": true,
     "tableResultSettingsMap": {},
     "title": "Let's try our chain"
    }
   },
   "outputs": [
    {
     "output_type": "stream",
     "name": "stderr",
     "output_type": "stream",
     "text": [
      "Error in StdOutCallbackHandler.on_chain_start callback: AttributeError(\"'NoneType' object has no attribute 'get'\")\n"
     ]
    },
    {
     "output_type": "stream",
     "name": "stdout",
     "output_type": "stream",
     "text": [
      "\u001B[32;1m\u001B[1;3m\nInvoking: `main__build__dbdemos_agent_tools__execute_python_code` with `{'python_code': 'def fibonacci(n):\\n  if n <= 0:\\n    return \"Input should be a positive integer.\"\\n  elif n == 1:\\n    return 0\\n  elif n == 2:\\n    return 1\\n  else:\\n    a, b = 0, 1\\n    for _ in range(2, n):\\n      a, b = b, a + b\\n    return b\\n\\nreturn fibonacci(5)'}`\n\n\n\u001B[0m\u001B[38;5;200m\u001B[1;3m{\"format\": \"SCALAR\", \"value\": \"3\", \"truncated\": false}\u001B[0m\u001B[32;1m\u001B[1;3mThe Fibonacci sequence value for 5 is 3.\u001B[0m\n\n\u001B[1m> Finished chain.\u001B[0m\n"
     ]
    },
    {
     "output_type": "display_data",
     "data": {
      "text/html": [
       "The Fibonacci sequence value for 5 is 3."
      ]
     },
     "metadata": {},
     "output_type": "display_data"
    },
    {
     "output_type": "display_data",
     "data": {
      "application/databricks.mlflow.trace": "\"tr-68e0353a7e034d36a15ba8e6ce75adf9\"",
      "text/plain": [
       "Trace(request_id=tr-68e0353a7e034d36a15ba8e6ce75adf9)"
      ]
     },
     "metadata": {},
     "output_type": "display_data"
    }
   ],
   "source": [
    "# Example input data\n",
    "input_data = {\n",
    "    \"messages\": [\n",
    "        {\"content\": \"Write a function that computes the Fibonacci sequence in Python and displays its result for 5.\"}\n",
    "    ]\n",
    "}\n",
    "# Run the chain\n",
    "answer = chain.invoke(input_data)\n",
    "displayHTML(answer.replace('\\n', '<br>'))"
   ]
  },
  {
   "cell_type": "markdown",
   "metadata": {
    "application/vnd.databricks.v1+cell": {
     "cellMetadata": {},
     "inputWidgets": {},
     "nuid": "eec967ab-7143-4d46-98dc-ad5da7f93582",
     "showTitle": false,
     "tableResultSettingsMap": {},
     "title": ""
    }
   },
   "source": [
    "## Deploying the agent as a model serving endpoint\n",
    "\n",
    "Databricks automatically generates all the required notebooks and setup for you to deploy these agents!\n",
    "\n",
    "To deploy them with the latest configuration, open [Databricks Playground ](/ml/playground), select the tools you want to use and click on the \"Export Notebook\" button on the top!\n",
    "\n",
    "This will generate notebooks pre-configured for you, including the review application to start testing and collecting your new model!"
   ]
  },
  {
   "cell_type": "markdown",
   "metadata": {
    "application/vnd.databricks.v1+cell": {
     "cellMetadata": {},
     "inputWidgets": {},
     "nuid": "1785ace8-bed0-4194-9e80-aac6712c677c",
     "showTitle": false,
     "tableResultSettingsMap": {},
     "title": ""
    }
   },
   "source": [
    "## Conclusion\n",
    "That's it, we saw how you can leverage Databricks Functions as tools within your AI system.\n",
    "\n",
    "This demo gave you a simple overview and some examples to get started. You can take it to the next level within your own AI Systems!\n",
    "\n",
    "Once your application is complete and your chain ready to be deployed, you can easily serve your model as a Model Serving Endpoint, acting as your Compound AI System!\n",
    "\n",
    "### Coming soon\n",
    "\n",
    "We'll soon update this demo to add more examples, including:\n",
    "- how to properly leverage secrets within AI functions to call external systems having Authentication\n",
    "- generating images and calling ML model endpoints\n",
    "- Use Genie as an agent to query any table!\n",
    "- More to come!\n",
    "\n",
    "Stay tuned!"
   ]
  }
 ],
 "metadata": {
  "application/vnd.databricks.v1+notebook": {
   "computePreferences": null,
   "dashboards": [],
   "environmentMetadata": {
    "environment_version": "2"
   },
   "inputWidgetPreferences": null,
   "language": "python",
   "notebookMetadata": {
    "pythonIndentUnit": 2
   },
   "notebookName": "00-stylist-AI-function-tools-introduction",
   "widgets": {}
  },
  "language_info": {
   "name": "python"
  }
 },
 "nbformat": 4,
 "nbformat_minor": 0
}
