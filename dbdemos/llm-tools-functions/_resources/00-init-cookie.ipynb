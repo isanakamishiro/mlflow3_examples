{
 "cells": [
  {
   "cell_type": "markdown",
   "metadata": {
    "application/vnd.databricks.v1+cell": {
     "cellMetadata": {},
     "inputWidgets": {},
     "nuid": "9e2f9d0b-9857-4388-82c3-0febe3c6043c",
     "showTitle": false,
     "tableResultSettingsMap": {},
     "title": ""
    }
   },
   "source": [
    "# init notebook setting up the backend. \n",
    "\n",
    "Do not edit the notebook, it contains import and helpers for the demo\n",
    "\n",
    "<!-- Collect usage data (view). Remove it to disable collection or disable tracker during installation. View README for more details.  -->\n",
    "<img width=\"1px\" src=\"https://ppxrzfxige.execute-api.us-west-2.amazonaws.com/v1/analytics?category=data-science&org_id=1765512908890676&notebook=%2F_resources%2F00-init-cookie&demo_name=llm-tools-functions&event=VIEW&path=%2F_dbdemos%2Fdata-science%2Fllm-tools-functions%2F_resources%2F00-init-cookie&version=1\">"
   ]
  },
  {
   "cell_type": "code",
   "execution_count": 0,
   "metadata": {
    "application/vnd.databricks.v1+cell": {
     "cellMetadata": {},
     "inputWidgets": {},
     "nuid": "b6c63eaa-2311-4380-b5f6-8d35badf108a",
     "showTitle": false,
     "tableResultSettingsMap": {},
     "title": ""
    },
    "jupyter": {
     "outputs_hidden": true
    }
   },
   "outputs": [],
   "source": [
    "%run ./00-init"
   ]
  },
  {
   "cell_type": "code",
   "execution_count": 0,
   "metadata": {
    "application/vnd.databricks.v1+cell": {
     "cellMetadata": {},
     "inputWidgets": {},
     "nuid": "228d5f57-cc5b-46cf-97cf-a9c6102c46ae",
     "showTitle": false,
     "tableResultSettingsMap": {},
     "title": ""
    }
   },
   "outputs": [],
   "source": [
    "import concurrent.futures\n",
    "\n",
    "volume_folder = f\"/Volumes/{catalog}/{db}/{volume_name}/cookies\"\n",
    "\n",
    "def download_and_save_table(table):\n",
    "    if not spark.catalog.tableExists(\"cookies_\"+table):\n",
    "        DBDemos.download_file_from_git(volume_folder + \"/\" + table, \"databricks-demos\", \"dbdemos-dataset\", \"llm/cookies-demo/\" + table)\n",
    "        spark.read.format('parquet').load(volume_folder + \"/\" + table).write.mode('overwrite').saveAsTable(\"cookies_\"+table)\n",
    "\n",
    "try:\n",
    "    tables = [\"customer_reviews\", \"customers\", \"franchises\", \"gold_reviews_chunked\", \"suppliers\", \"transactions\"]\n",
    "    with concurrent.futures.ThreadPoolExecutor(max_workers=5) as executor:\n",
    "        executor.map(download_and_save_table, tables)\n",
    "except Exception as e:\n",
    "    print(f\"Couldn't download the data properly for the demo, do you have access to internet?\")\n",
    "    raise e"
   ]
  }
 ],
 "metadata": {
  "application/vnd.databricks.v1+notebook": {
   "computePreferences": null,
   "dashboards": [],
   "environmentMetadata": {
    "environment_version": "2"
   },
   "inputWidgetPreferences": null,
   "language": "python",
   "notebookMetadata": {
    "pythonIndentUnit": 2
   },
   "notebookName": "00-init-cookie",
   "widgets": {}
  },
  "language_info": {
   "name": "python"
  }
 },
 "nbformat": 4,
 "nbformat_minor": 0
}
