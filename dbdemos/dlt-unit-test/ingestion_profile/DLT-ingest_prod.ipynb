{
 "cells": [
  {
   "cell_type": "markdown",
   "metadata": {
    "application/vnd.databricks.v1+cell": {
     "cellMetadata": {},
     "inputWidgets": {},
     "nuid": "2edb6880-a49c-4715-996f-a9c054bb70a8",
     "showTitle": false,
     "tableResultSettingsMap": {},
     "title": ""
    }
   },
   "source": [
    "# Defining the Production source\n",
    "\n",
    "## Adding an abstraction layer for testability \n",
    "\n",
    "By defining the ingestion source in an external table, we can easily switch from the production source to a test one.\n",
    "\n",
    "This lets you easily replace an ingestion from a Kafka server in production by a small csv file in your test. \n",
    "\n",
    "This notebook correspond to the PROD stream (the **green** input source on the left)\n",
    "\n",
    "<img width=\"1000px\" src=\"https://github.com/QuentinAmbard/databricks-demo/raw/main/product_demos/dlt-advanecd/DLT-advanced-unit-test-1.png\"/>\n",
    "\n",
    "<!-- Collect usage data (view). Remove it to disable collection. View README for more details.  -->\n",
    "<img width=\"1px\" src=\"https://ppxrzfxige.execute-api.us-west-2.amazonaws.com/v1/analytics?category=data-engineering&org_id=1765512908890676&notebook=%2Fingestion_profile%2FDLT-ingest_prod&demo_name=dlt-unit-test&event=VIEW&path=%2F_dbdemos%2Fdata-engineering%2Fdlt-unit-test%2Fingestion_profile%2FDLT-ingest_prod&version=1\">"
   ]
  },
  {
   "cell_type": "markdown",
   "metadata": {
    "application/vnd.databricks.v1+cell": {
     "cellMetadata": {},
     "inputWidgets": {},
     "nuid": "41f328e0-908c-45d9-82e2-125720d4254c",
     "showTitle": false,
     "tableResultSettingsMap": {},
     "title": ""
    }
   },
   "source": [
    "## Production Source for customer dataset\n",
    "\n",
    "\n",
    "In prod, we'll be using the autoloader to our prod landing folder. \n",
    "\n",
    "To give more flexibility in our deployment, we'll go further and set the location as a DLT parameter"
   ]
  },
  {
   "cell_type": "code",
   "execution_count": 0,
   "metadata": {
    "application/vnd.databricks.v1+cell": {
     "cellMetadata": {},
     "inputWidgets": {},
     "nuid": "e95c3d0a-47ad-4647-a4e3-f1f8e2d45a51",
     "showTitle": true,
     "tableResultSettingsMap": {},
     "title": "Ingest raw User stream data in incremental mode"
    }
   },
   "outputs": [],
   "source": [
    "import dlt\n",
    "DEFAULT_LANDING_PATH = \"/Volumes/main/dbdemos_dlt_unit_test/raw_data/prod\"\n",
    "\n",
    "@dlt.view(comment=\"Raw user data - Production\")\n",
    "def raw_user_data():\n",
    "  landing_path = spark.conf.get(\"mypipeline.landing_path\", DEFAULT_LANDING_PATH)\n",
    "  return (\n",
    "    spark.readStream.format(\"cloudFiles\")\n",
    "      .option(\"cloudFiles.format\", \"json\")\n",
    "      .option(\"cloudFiles.schemaHints\", \"id int\")\n",
    "      .load(f\"{landing_path}/users_json\")\n",
    "  )"
   ]
  },
  {
   "cell_type": "code",
   "execution_count": 0,
   "metadata": {
    "application/vnd.databricks.v1+cell": {
     "cellMetadata": {},
     "inputWidgets": {},
     "nuid": "a5b67956-ca01-4455-9cbd-0c02207d41b8",
     "showTitle": true,
     "tableResultSettingsMap": {},
     "title": "Ingest user spending score"
    }
   },
   "outputs": [],
   "source": [
    "@dlt.view(comment=\"Raw spend data - Production\")\n",
    "def raw_spend_data():\n",
    "  landing_path = spark.conf.get(\"mypipeline.landing_path\", DEFAULT_LANDING_PATH)\n",
    "  return(\n",
    "    spark.readStream.format(\"cloudFiles\")\n",
    "    .option(\"cloudFiles.format\",\"csv\")\n",
    "    .option(\"cloudFiles.schemaHints\",\"id int, age int, annual_income float, spending_core float\")\n",
    "    .load(f\"{landing_path}/spend_csv\")\n",
    "  )"
   ]
  }
 ],
 "metadata": {
  "application/vnd.databricks.v1+notebook": {
   "computePreferences": null,
   "dashboards": [],
   "environmentMetadata": {
    "environment_version": "2"
   },
   "inputWidgetPreferences": null,
   "language": "python",
   "notebookMetadata": {
    "pythonIndentUnit": 4
   },
   "notebookName": "DLT-ingest_prod",
   "widgets": {}
  },
  "language_info": {
   "name": "python"
  }
 },
 "nbformat": 4,
 "nbformat_minor": 0
}
