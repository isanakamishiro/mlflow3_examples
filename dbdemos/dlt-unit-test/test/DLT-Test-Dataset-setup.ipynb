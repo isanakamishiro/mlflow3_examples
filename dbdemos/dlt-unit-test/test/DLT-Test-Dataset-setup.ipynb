{
 "cells": [
  {
   "cell_type": "markdown",
   "metadata": {
    "application/vnd.databricks.v1+cell": {
     "cellMetadata": {},
     "inputWidgets": {},
     "nuid": "43fe3762-a842-477f-86d1-6e40bf29a8b8",
     "showTitle": false,
     "tableResultSettingsMap": {},
     "title": ""
    }
   },
   "source": [
    "# Test Datasets setup\n",
    "\n",
    "We have 2 files that we'll be using as dataset saved in git within the project (you can open them directly under the `dataset` folder). \n",
    "\n",
    "All we have to do is move these local files to our blob storage so that we can read them within our DLT test pipeline.\n",
    "\n",
    "*Note: We could also have used Faker to generate them dynamically.*\n",
    "\n",
    "<!-- Collect usage data (view). Remove it to disable collection. View README for more details.  -->\n",
    "<img width=\"1px\" src=\"https://ppxrzfxige.execute-api.us-west-2.amazonaws.com/v1/analytics?category=data-engineering&org_id=1765512908890676&notebook=%2Ftest%2FDLT-Test-Dataset-setup&demo_name=dlt-unit-test&event=VIEW&path=%2F_dbdemos%2Fdata-engineering%2Fdlt-unit-test%2Ftest%2FDLT-Test-Dataset-setup&version=1\">"
   ]
  },
  {
   "cell_type": "code",
   "execution_count": 0,
   "metadata": {
    "application/vnd.databricks.v1+cell": {
     "cellMetadata": {},
     "inputWidgets": {},
     "nuid": "567af02d-f8a2-4ca9-a912-62b618af587c",
     "showTitle": false,
     "tableResultSettingsMap": {},
     "title": ""
    }
   },
   "outputs": [],
   "source": [
    "catalog = \"main\"\n",
    "schema = dbName = db = \"dbdemos_dlt_unit_test\"\n",
    "volume_name = \"raw_data\""
   ]
  },
  {
   "cell_type": "code",
   "execution_count": 0,
   "metadata": {
    "application/vnd.databricks.v1+cell": {
     "cellMetadata": {},
     "inputWidgets": {},
     "nuid": "d2bb49dc-0e7f-4e60-b5b7-d9b194a706ef",
     "showTitle": false,
     "tableResultSettingsMap": {},
     "title": ""
    }
   },
   "outputs": [],
   "source": [
    "spark.sql(f'CREATE CATALOG IF NOT EXISTS `{catalog}`')\n",
    "spark.sql(f'USE CATALOG `{catalog}`')\n",
    "spark.sql(f'CREATE SCHEMA IF NOT EXISTS `{catalog}`.`{schema}`')\n",
    "spark.sql(f'USE SCHEMA `{schema}`')\n",
    "spark.sql(f'CREATE VOLUME IF NOT EXISTS `{catalog}`.`{schema}`.`{volume_name}`')\n",
    "volume_folder =  f\"/Volumes/{catalog}/{db}/{volume_name}\""
   ]
  },
  {
   "cell_type": "code",
   "execution_count": 0,
   "metadata": {
    "application/vnd.databricks.v1+cell": {
     "cellMetadata": {},
     "inputWidgets": {},
     "nuid": "ff5c2f30-2606-40a9-8924-e24b75adc56a",
     "showTitle": true,
     "tableResultSettingsMap": {},
     "title": "Move our test resources to DBFS for tests"
    }
   },
   "outputs": [
    {
     "output_type": "stream",
     "name": "stdout",
     "output_type": "stream",
     "text": [
      "Wrote 139 bytes.\nWrote 2038 bytes.\n"
     ]
    },
    {
     "output_type": "execute_result",
     "data": {
      "text/plain": [
       "True"
      ]
     },
     "execution_count": 4,
     "metadata": {},
     "output_type": "execute_result"
    }
   ],
   "source": [
    "#We could use repo arbitrary files, but we'll prefer working without files to support workpsace (non repo) deployment too.\n",
    "#dbutils.fs.rm(\"/Volumes/main/dbdemos_dlt_unit_test/raw_data/test/customers/users_json\", True)\n",
    "#dbutils.fs.mkdirs(\"/Volumes/main/dbdemos_dlt_unit_test/raw_data/test/users_json\")\n",
    "#dbutils.fs.mkdirs(\"/Volumes/main/dbdemos_dlt_unit_test/raw_data/test/spend_csv\")\n",
    "\n",
    "#import shutil\n",
    "#shutil.copyfile(\"./dataset/users.json\", \"/Volumes/main/dbdemos_dlt_unit_test/raw_data/test/users_json/users.json\")\n",
    "#shutil.copyfile(\"./dataset/spend.csv\", \"/Volumes/main/dbdemos_dlt_unit_test/raw_data/test/spend_csv/spend.csv\")\n",
    "\n",
    "\n",
    "spend_csv = \"\"\"id,age,annual_income,spending_core\n",
    "3,47,858.9,99.4\n",
    "1,47,861.9,48.1\n",
    "2,97,486.4,880.8\n",
    "4,,283.8,117.8\n",
    ",95,847.5,840.9\n",
    "invalid_id,1,514.5,284.5\"\"\"\n",
    "\n",
    "dbutils.fs.put('/Volumes/main/dbdemos_dlt_unit_test/raw_data/test/spend_csv/spend.csv', spend_csv, True)\n",
    "    \n",
    "users_json = \"\"\"{\"id\":1,\"email\":\"joneschristina@example.org\",\"creation_date\":\"11-28-2021 12:08:46\",\"last_activity_date\":\"08-20-2021 08:24:44\",\"firstname\":\"Randall\",\"lastname\":\"Espinoza\",\"address\":\"71571 Jennifer Creek - East John, CO 81653\",\"city\":\"Port Nicholas\",\"last_ip\":\"22.207.225.77\",\"postcode\":\"62389\"}\n",
    "{\"id\":4,\"email\":\"christybautista@example.net\",\"creation_date\":\"06-30-2022 22:51:30\",\"last_activity_date\":\"08-22-2021 17:25:06\",\"firstname\":\"Jose\",\"lastname\":\"Bell\",\"address\":\"865 Young Crest - Lake Adriennebury, VA 67749\",\"city\":\"Brownstad\",\"last_ip\":\"159.111.101.250\",\"postcode\":\"52432\"}\n",
    "{\"id\":0,\"email\":\"amccormick@example.com\",\"creation_date\":\"10-21-2021 02:37:38\",\"last_activity_date\":\"07-22-2021 15:06:48\",\"firstname\":\"Dylan\",\"lastname\":\"Barber\",\"address\":\"7995 Ronald Flat Suite 597 - Williefurt, AL 37894\",\"city\":\"Port Steven\",\"last_ip\":\"173.88.213.168\",\"postcode\":\"58368\"}\n",
    "{\"id\":3,\"email\":\"jenniferbennett@example.org\",\"creation_date\":\"07-06-2022 12:27:24\",\"last_activity_date\":\"01-09-2022 15:04:45\",\"firstname\":\"Phillip\",\"lastname\":\"Morgan\",\"address\":\"523 Garza Crossroad - New Maryview, OK 92301\",\"city\":\"Julieshire\",\"last_ip\":\"170.233.120.199\",\"postcode\":\"34528\"}\n",
    "{\"id\":2,\"email\":\"alexis25@example.org\",\"creation_date\":\"09-10-2021 02:31:37\",\"last_activity_date\":\"01-11-2022 20:39:01\",\"firstname\":\"Gregory\",\"lastname\":\"Crane\",\"address\":\"068 Shawn Port - West Jessica, KS 84864\",\"city\":\"South Tonya\",\"last_ip\":\"192.220.63.96\",\"postcode\":\"88033\"}\n",
    "{\"email\":\"davidporter@example.com\",\"creation_date\":\"05-28-2022 09:54:50\",\"last_activity_date\":\"12-18-2021 21:48:48\",\"firstname\":\"Jeremy\",\"lastname\":\"Knight\",\"address\":\"06183 Acevedo Bypass - Petermouth, ME 34177\",\"city\":\"West Brianburgh\",\"last_ip\":\"53.240.159.208\",\"postcode\":\"73380\"}\n",
    "{\"id\":\"invalid ID\",\"email\":\"margaret84@example.com\",\"creation_date\":\"12-20-2021 19:57:28\",\"last_activity_date\":\"07-27-2021 09:39:28\",\"firstname\":\"Angela\",\"lastname\":\"Adams\",\"address\":\"098 Daniel Ferry Suite 565 - South Andrea, ND 36326\",\"city\":\"New Mariafort\",\"last_ip\":\"7.176.250.65\",\"postcode\":\"21300\"}\"\"\"\n",
    "\n",
    "dbutils.fs.put('/Volumes/main/dbdemos_dlt_unit_test/raw_data/test/users_json/users.json', users_json, True)"
   ]
  },
  {
   "cell_type": "markdown",
   "metadata": {
    "application/vnd.databricks.v1+cell": {
     "cellMetadata": {},
     "inputWidgets": {},
     "nuid": "b62f6e2d-bc10-4b50-8e02-86a3104afaf5",
     "showTitle": false,
     "tableResultSettingsMap": {},
     "title": ""
    }
   },
   "source": [
    "## Review Users dataset\n",
    "\n",
    "The ./dataset/users.json dataset contains:\n",
    "\n",
    "* 4 \"standard users\"\n",
    "* 1 user with Null ID\n",
    "* 1 user with an ID as a string"
   ]
  },
  {
   "cell_type": "code",
   "execution_count": 0,
   "metadata": {
    "application/vnd.databricks.v1+cell": {
     "cellMetadata": {},
     "inputWidgets": {},
     "nuid": "5b421549-8111-49be-bcbc-63075e28cc74",
     "showTitle": false,
     "tableResultSettingsMap": {},
     "title": ""
    }
   },
   "outputs": [
    {
     "output_type": "display_data",
     "data": {
      "text/html": [
       "<style scoped>\n",
       "  .ansiout {\n",
       "    display: block;\n",
       "    unicode-bidi: embed;\n",
       "    white-space: pre-wrap;\n",
       "    word-wrap: break-word;\n",
       "    word-break: break-all;\n",
       "    font-family: \"Menlo\", \"Monaco\", \"Consolas\", \"Ubuntu Mono\", \"Source Code Pro\", monospace;\n",
       "    font-size: 13px;\n",
       "    color: #555;\n",
       "    margin-left: 4px;\n",
       "    line-height: 19px;\n",
       "  }\n",
       "</style>\n",
       "<div class=\"ansiout\">{&quot;id&quot;:1,&quot;email&quot;:&quot;joneschristina@example.org&quot;,&quot;creation_date&quot;:&quot;11-28-2021 12:08:46&quot;,&quot;last_activity_date&quot;:&quot;08-20-2021 08:24:44&quot;,&quot;firstname&quot;:&quot;Randall&quot;,&quot;lastname&quot;:&quot;Espinoza&quot;,&quot;address&quot;:&quot;71571 Jennifer Creek - East John, CO 81653&quot;,&quot;city&quot;:&quot;Port Nicholas&quot;,&quot;last_ip&quot;:&quot;22.207.225.77&quot;,&quot;postcode&quot;:&quot;62389&quot;}\n",
       "{&quot;id&quot;:4,&quot;email&quot;:&quot;christybautista@example.net&quot;,&quot;creation_date&quot;:&quot;06-30-2022 22:51:30&quot;,&quot;last_activity_date&quot;:&quot;08-22-2021 17:25:06&quot;,&quot;firstname&quot;:&quot;Jose&quot;,&quot;lastname&quot;:&quot;Bell&quot;,&quot;address&quot;:&quot;865 Young Crest - Lake Adriennebury, VA 67749&quot;,&quot;city&quot;:&quot;Brownstad&quot;,&quot;last_ip&quot;:&quot;159.111.101.250&quot;,&quot;postcode&quot;:&quot;52432&quot;}\n",
       "{&quot;id&quot;:0,&quot;email&quot;:&quot;amccormick@example.com&quot;,&quot;creation_date&quot;:&quot;10-21-2021 02:37:38&quot;,&quot;last_activity_date&quot;:&quot;07-22-2021 15:06:48&quot;,&quot;firstname&quot;:&quot;Dylan&quot;,&quot;lastname&quot;:&quot;Barber&quot;,&quot;address&quot;:&quot;7995 Ronald Flat Suite 597 - Williefurt, AL 37894&quot;,&quot;city&quot;:&quot;Port Steven&quot;,&quot;last_ip&quot;:&quot;173.88.213.168&quot;,&quot;postcode&quot;:&quot;58368&quot;}\n",
       "{&quot;id&quot;:3,&quot;email&quot;:&quot;jenniferbennett@example.org&quot;,&quot;creation_date&quot;:&quot;07-06-2022 12:27:24&quot;,&quot;last_activity_date&quot;:&quot;01-09-2022 15:04:45&quot;,&quot;firstname&quot;:&quot;Phillip&quot;,&quot;lastname&quot;:&quot;Morgan&quot;,&quot;address&quot;:&quot;523 Garza Crossroad - New Maryview, OK 92301&quot;,&quot;city&quot;:&quot;Julieshire&quot;,&quot;last_ip&quot;:&quot;170.233.120.199&quot;,&quot;postcode&quot;:&quot;34528&quot;}\n",
       "{&quot;id&quot;:2,&quot;email&quot;:&quot;alexis25@example.org&quot;,&quot;creation_date&quot;:&quot;09-10-2021 02:31:37&quot;,&quot;last_activity_date&quot;:&quot;01-11-2022 20:39:01&quot;,&quot;firstname&quot;:&quot;Gregory&quot;,&quot;lastname&quot;:&quot;Crane&quot;,&quot;address&quot;:&quot;068 Shawn Port - West Jessica, KS 84864&quot;,&quot;city&quot;:&quot;South Tonya&quot;,&quot;last_ip&quot;:&quot;192.220.63.96&quot;,&quot;postcode&quot;:&quot;88033&quot;}\n",
       "{&quot;email&quot;:&quot;davidporter@example.com&quot;,&quot;creation_date&quot;:&quot;05-28-2022 09:54:50&quot;,&quot;last_activity_date&quot;:&quot;12-18-2021 21:48:48&quot;,&quot;firstname&quot;:&quot;Jeremy&quot;,&quot;lastname&quot;:&quot;Knight&quot;,&quot;address&quot;:&quot;06183 Acevedo Bypass - Petermouth, ME 34177&quot;,&quot;city&quot;:&quot;West Brianburgh&quot;,&quot;last_ip&quot;:&quot;53.240.159.208&quot;,&quot;postcode&quot;:&quot;73380&quot;}\n",
       "{&quot;id&quot;:&quot;invalid ID&quot;,&quot;email&quot;:&quot;margaret84@example.com&quot;,&quot;creation_date&quot;:&quot;12-20-2021 19:57:28&quot;,&quot;last_activity_date&quot;:&quot;07-27-2021 09:39:28&quot;,&quot;firstname&quot;:&quot;Angela&quot;,&quot;lastname&quot;:&quot;Adams&quot;,&quot;address&quot;:&quot;098 Daniel Ferry Suite 565 - South Andrea, ND 36326&quot;,&quot;city&quot;:&quot;New Mariafort&quot;,&quot;last_ip&quot;:&quot;7.176.250.65&quot;,&quot;postcode&quot;:&quot;21300&quot;}</div>"
      ]
     },
     "metadata": {
      "application/vnd.databricks.v1+output": {
       "addedWidgets": {},
       "arguments": {},
       "data": "<div class=\"ansiout\">{&quot;id&quot;:1,&quot;email&quot;:&quot;joneschristina@example.org&quot;,&quot;creation_date&quot;:&quot;11-28-2021 12:08:46&quot;,&quot;last_activity_date&quot;:&quot;08-20-2021 08:24:44&quot;,&quot;firstname&quot;:&quot;Randall&quot;,&quot;lastname&quot;:&quot;Espinoza&quot;,&quot;address&quot;:&quot;71571 Jennifer Creek - East John, CO 81653&quot;,&quot;city&quot;:&quot;Port Nicholas&quot;,&quot;last_ip&quot;:&quot;22.207.225.77&quot;,&quot;postcode&quot;:&quot;62389&quot;}\n{&quot;id&quot;:4,&quot;email&quot;:&quot;christybautista@example.net&quot;,&quot;creation_date&quot;:&quot;06-30-2022 22:51:30&quot;,&quot;last_activity_date&quot;:&quot;08-22-2021 17:25:06&quot;,&quot;firstname&quot;:&quot;Jose&quot;,&quot;lastname&quot;:&quot;Bell&quot;,&quot;address&quot;:&quot;865 Young Crest - Lake Adriennebury, VA 67749&quot;,&quot;city&quot;:&quot;Brownstad&quot;,&quot;last_ip&quot;:&quot;159.111.101.250&quot;,&quot;postcode&quot;:&quot;52432&quot;}\n{&quot;id&quot;:0,&quot;email&quot;:&quot;amccormick@example.com&quot;,&quot;creation_date&quot;:&quot;10-21-2021 02:37:38&quot;,&quot;last_activity_date&quot;:&quot;07-22-2021 15:06:48&quot;,&quot;firstname&quot;:&quot;Dylan&quot;,&quot;lastname&quot;:&quot;Barber&quot;,&quot;address&quot;:&quot;7995 Ronald Flat Suite 597 - Williefurt, AL 37894&quot;,&quot;city&quot;:&quot;Port Steven&quot;,&quot;last_ip&quot;:&quot;173.88.213.168&quot;,&quot;postcode&quot;:&quot;58368&quot;}\n{&quot;id&quot;:3,&quot;email&quot;:&quot;jenniferbennett@example.org&quot;,&quot;creation_date&quot;:&quot;07-06-2022 12:27:24&quot;,&quot;last_activity_date&quot;:&quot;01-09-2022 15:04:45&quot;,&quot;firstname&quot;:&quot;Phillip&quot;,&quot;lastname&quot;:&quot;Morgan&quot;,&quot;address&quot;:&quot;523 Garza Crossroad - New Maryview, OK 92301&quot;,&quot;city&quot;:&quot;Julieshire&quot;,&quot;last_ip&quot;:&quot;170.233.120.199&quot;,&quot;postcode&quot;:&quot;34528&quot;}\n{&quot;id&quot;:2,&quot;email&quot;:&quot;alexis25@example.org&quot;,&quot;creation_date&quot;:&quot;09-10-2021 02:31:37&quot;,&quot;last_activity_date&quot;:&quot;01-11-2022 20:39:01&quot;,&quot;firstname&quot;:&quot;Gregory&quot;,&quot;lastname&quot;:&quot;Crane&quot;,&quot;address&quot;:&quot;068 Shawn Port - West Jessica, KS 84864&quot;,&quot;city&quot;:&quot;South Tonya&quot;,&quot;last_ip&quot;:&quot;192.220.63.96&quot;,&quot;postcode&quot;:&quot;88033&quot;}\n{&quot;email&quot;:&quot;davidporter@example.com&quot;,&quot;creation_date&quot;:&quot;05-28-2022 09:54:50&quot;,&quot;last_activity_date&quot;:&quot;12-18-2021 21:48:48&quot;,&quot;firstname&quot;:&quot;Jeremy&quot;,&quot;lastname&quot;:&quot;Knight&quot;,&quot;address&quot;:&quot;06183 Acevedo Bypass - Petermouth, ME 34177&quot;,&quot;city&quot;:&quot;West Brianburgh&quot;,&quot;last_ip&quot;:&quot;53.240.159.208&quot;,&quot;postcode&quot;:&quot;73380&quot;}\n{&quot;id&quot;:&quot;invalid ID&quot;,&quot;email&quot;:&quot;margaret84@example.com&quot;,&quot;creation_date&quot;:&quot;12-20-2021 19:57:28&quot;,&quot;last_activity_date&quot;:&quot;07-27-2021 09:39:28&quot;,&quot;firstname&quot;:&quot;Angela&quot;,&quot;lastname&quot;:&quot;Adams&quot;,&quot;address&quot;:&quot;098 Daniel Ferry Suite 565 - South Andrea, ND 36326&quot;,&quot;city&quot;:&quot;New Mariafort&quot;,&quot;last_ip&quot;:&quot;7.176.250.65&quot;,&quot;postcode&quot;:&quot;21300&quot;}</div>",
       "datasetInfos": [],
       "metadata": {},
       "removedWidgets": [],
       "type": "html"
      }
     },
     "output_type": "display_data"
    }
   ],
   "source": [
    "%fs head /Volumes/main/dbdemos_dlt_unit_test/raw_data/test/users_json/users.json"
   ]
  },
  {
   "cell_type": "markdown",
   "metadata": {
    "application/vnd.databricks.v1+cell": {
     "cellMetadata": {},
     "inputWidgets": {},
     "nuid": "85945deb-5a45-4a2a-a128-3889cc600b40",
     "showTitle": false,
     "tableResultSettingsMap": {},
     "title": ""
    }
   },
   "source": [
    "## Review Spend dataset\n",
    "\n",
    "The ./dataset/spend.csv dataset contains:\n",
    "\n",
    "* 3 \"standard spends\"\n",
    "* 1 spend with Null age\n",
    "* 1 spend with null ID\n",
    "* 1 spend with incompatible schema (ID as string)"
   ]
  },
  {
   "cell_type": "code",
   "execution_count": 0,
   "metadata": {
    "application/vnd.databricks.v1+cell": {
     "cellMetadata": {},
     "inputWidgets": {},
     "nuid": "7860afe6-afd6-4297-a092-9ae4ae603d14",
     "showTitle": false,
     "tableResultSettingsMap": {},
     "title": ""
    }
   },
   "outputs": [
    {
     "output_type": "display_data",
     "data": {
      "text/html": [
       "<style scoped>\n",
       "  .ansiout {\n",
       "    display: block;\n",
       "    unicode-bidi: embed;\n",
       "    white-space: pre-wrap;\n",
       "    word-wrap: break-word;\n",
       "    word-break: break-all;\n",
       "    font-family: \"Menlo\", \"Monaco\", \"Consolas\", \"Ubuntu Mono\", \"Source Code Pro\", monospace;\n",
       "    font-size: 13px;\n",
       "    color: #555;\n",
       "    margin-left: 4px;\n",
       "    line-height: 19px;\n",
       "  }\n",
       "</style>\n",
       "<div class=\"ansiout\">id,age,annual_income,spending_core\n",
       "3,47,858.9,99.4\n",
       "1,47,861.9,48.1\n",
       "2,97,486.4,880.8\n",
       "4,,283.8,117.8\n",
       ",95,847.5,840.9\n",
       "invalid_id,1,514.5,284.5</div>"
      ]
     },
     "metadata": {
      "application/vnd.databricks.v1+output": {
       "addedWidgets": {},
       "arguments": {},
       "data": "<div class=\"ansiout\">id,age,annual_income,spending_core\n3,47,858.9,99.4\n1,47,861.9,48.1\n2,97,486.4,880.8\n4,,283.8,117.8\n,95,847.5,840.9\ninvalid_id,1,514.5,284.5</div>",
       "datasetInfos": [],
       "metadata": {},
       "removedWidgets": [],
       "type": "html"
      }
     },
     "output_type": "display_data"
    }
   ],
   "source": [
    "%fs head /Volumes/main/dbdemos_dlt_unit_test/raw_data/test/spend_csv/spend.csv"
   ]
  },
  {
   "cell_type": "markdown",
   "metadata": {
    "application/vnd.databricks.v1+cell": {
     "cellMetadata": {},
     "inputWidgets": {},
     "nuid": "854ffa93-1932-4a2e-9bf0-58cf36a14413",
     "showTitle": false,
     "tableResultSettingsMap": {},
     "title": ""
    }
   },
   "source": [
    "That's it, our dataset is ready!"
   ]
  }
 ],
 "metadata": {
  "application/vnd.databricks.v1+notebook": {
   "computePreferences": null,
   "dashboards": [],
   "environmentMetadata": {
    "environment_version": "2"
   },
   "inputWidgetPreferences": null,
   "language": "python",
   "notebookMetadata": {
    "pythonIndentUnit": 2
   },
   "notebookName": "DLT-Test-Dataset-setup",
   "widgets": {}
  },
  "language_info": {
   "name": "python"
  }
 },
 "nbformat": 4,
 "nbformat_minor": 0
}
