{
 "cells": [
  {
   "cell_type": "markdown",
   "metadata": {
    "application/vnd.databricks.v1+cell": {
     "cellMetadata": {},
     "inputWidgets": {},
     "nuid": "0ba76588-7ea5-4286-81da-9485a328296c",
     "showTitle": false,
     "tableResultSettingsMap": {},
     "title": ""
    }
   },
   "source": [
    "# Testing our DLT pipeline\n",
    "\n",
    "Tests can be added directly as expectation within DLT.\n",
    "\n",
    "This is typically done using a companion notebook and creating a test version of the DLT pipeline.\n",
    "\n",
    "The test DLT pipeline will consume a small test datasets that we'll use to perform cheks on the output: given a specific input, we test the transformation logic by ensuring the output is correct, adding wrong data as input to cover all cases.\n",
    "\n",
    "By leveraging expectations, we can simply run a test DLT pipeline. If the pipeline fail, this means that our tests are failing and something is incorrect.\n",
    "\n",
    "<img style=\"float: right\" width=\"1000px\" src=\"https://github.com/QuentinAmbard/databricks-demo/raw/main/product_demos/dlt-advanecd/DLT-advanced-unit-test-3.png\"/>\n",
    "\n",
    "<!-- Collect usage data (view). Remove it to disable collection. View README for more details.  -->\n",
    "<img width=\"1px\" src=\"https://ppxrzfxige.execute-api.us-west-2.amazonaws.com/v1/analytics?category=data-engineering&org_id=1765512908890676&notebook=%2Ftest%2FDLT-Tests&demo_name=dlt-unit-test&event=VIEW&path=%2F_dbdemos%2Fdata-engineering%2Fdlt-unit-test%2Ftest%2FDLT-Tests&version=1\">"
   ]
  },
  {
   "cell_type": "markdown",
   "metadata": {
    "application/vnd.databricks.v1+cell": {
     "cellMetadata": {},
     "inputWidgets": {},
     "nuid": "948da6ea-7be4-4fab-837f-4580322cb7be",
     "showTitle": false,
     "tableResultSettingsMap": {},
     "title": ""
    }
   },
   "source": [
    "## Testing incorrect schema ingestion\n",
    "\n",
    "The first thing we'd like to test is that our pipeline is robust and will discard incorrect rows.\n",
    "\n",
    "As example, this line from our test dataset should be discarded and flagged as incorrect:\n",
    "```\n",
    "{\"id\":\"invalid ID\", \"email\":\"margaret84@example.com\", ....}\n",
    "```"
   ]
  },
  {
   "cell_type": "code",
   "execution_count": 0,
   "metadata": {
    "application/vnd.databricks.v1+cell": {
     "cellMetadata": {},
     "inputWidgets": {},
     "nuid": "b8ed8e8f-acb8-49a8-8f10-5257dfa119c4",
     "showTitle": true,
     "tableResultSettingsMap": {},
     "title": "Let's make sure incorrect input rows (bad schema) are dropped"
    }
   },
   "outputs": [],
   "source": [
    "CREATE TEMPORARY LIVE TABLE TEST_user_bronze_dlt (\n",
    "  CONSTRAINT incorrect_data_removed EXPECT (not_empty_rescued_data = 0) ON VIOLATION FAIL UPDATE\n",
    ")\n",
    "COMMENT \"TEST: bronze table properly drops row with incorrect schema\"\n",
    "AS SELECT count(*) as not_empty_rescued_data from live.user_bronze_dlt  where _rescued_data is not null or email='margaret84@example.com'"
   ]
  },
  {
   "cell_type": "markdown",
   "metadata": {
    "application/vnd.databricks.v1+cell": {
     "cellMetadata": {},
     "inputWidgets": {},
     "nuid": "5cc1444b-8ac2-4b78-bc21-232ca62488bd",
     "showTitle": false,
     "tableResultSettingsMap": {},
     "title": ""
    }
   },
   "source": [
    "## Let's continue our tests on the silver table with multiple checks at once\n",
    "\n",
    "We'll next ensure that our silver table transformation does the following:\n",
    "\n",
    "* null ids are removed (our test dataset contains null)\n",
    "* we should have 4 rows as output (based on the input)\n",
    "* the emails are properly anonymized"
   ]
  },
  {
   "cell_type": "code",
   "execution_count": 0,
   "metadata": {
    "application/vnd.databricks.v1+cell": {
     "cellMetadata": {},
     "inputWidgets": {},
     "nuid": "64713d9a-f8e4-495c-9e99-aaf06278f84e",
     "showTitle": false,
     "tableResultSettingsMap": {},
     "title": ""
    }
   },
   "outputs": [],
   "source": [
    "CREATE TEMPORARY LIVE TABLE TEST_user_silver_dlt_anonymize (\n",
    "  CONSTRAINT keep_all_rows              EXPECT (num_rows = 4)      ON VIOLATION FAIL UPDATE, \n",
    "  CONSTRAINT email_should_be_anonymized EXPECT (clear_email = 0)  ON VIOLATION FAIL UPDATE,\n",
    "  CONSTRAINT null_ids_removed           EXPECT (null_id_count = 0) ON VIOLATION FAIL UPDATE  \n",
    ")\n",
    "COMMENT \"TEST: check silver table removes null ids and anonymize emails\"\n",
    "AS (\n",
    "  WITH\n",
    "   rows_test  AS (SELECT count(*) AS num_rows       FROM live.user_silver_dlt),\n",
    "   email_test AS (SELECT count(*) AS clear_email    FROM live.user_silver_dlt  WHERE email LIKE '%@%'),\n",
    "   id_test    AS (SELECT count(*) AS null_id_count  FROM live.user_silver_dlt  WHERE id IS NULL)\n",
    "  SELECT * from email_test, id_test, rows_test)"
   ]
  },
  {
   "cell_type": "markdown",
   "metadata": {
    "application/vnd.databricks.v1+cell": {
     "cellMetadata": {},
     "inputWidgets": {},
     "nuid": "b36e9cf2-1b2f-4dc2-8087-8d2fd4caf498",
     "showTitle": false,
     "tableResultSettingsMap": {},
     "title": ""
    }
   },
   "source": [
    "## Testing Primary key uniqueness\n",
    "\n",
    "Finally, we'll enforce uniqueness on the gold table to avoid any duplicates"
   ]
  },
  {
   "cell_type": "code",
   "execution_count": 0,
   "metadata": {
    "application/vnd.databricks.v1+cell": {
     "cellMetadata": {},
     "inputWidgets": {},
     "nuid": "fac0c0ab-4037-4813-83fc-75ec512606b6",
     "showTitle": false,
     "tableResultSettingsMap": {},
     "title": ""
    }
   },
   "outputs": [],
   "source": [
    "CREATE TEMPORARY LIVE TABLE TEST_user_gold_dlt (\n",
    "  CONSTRAINT pk_must_be_unique EXPECT (duplicate = 1) ON VIOLATION FAIL UPDATE\n",
    ")\n",
    "COMMENT \"TEST: check that gold table only contains unique customer id\"\n",
    "AS SELECT count(*) as duplicate, id FROM live.user_gold_dlt GROUP BY id"
   ]
  },
  {
   "cell_type": "markdown",
   "metadata": {
    "application/vnd.databricks.v1+cell": {
     "cellMetadata": {},
     "inputWidgets": {},
     "nuid": "4577924b-85aa-4116-913d-8b03e08d6612",
     "showTitle": false,
     "tableResultSettingsMap": {},
     "title": ""
    }
   },
   "source": [
    "That's it. All we have to do now is run the full pipeline.\n",
    "\n",
    "If one of the condition defined in the TEST table fail, the test pipeline expectation will fail and we'll know something need to be fixed!\n",
    "\n",
    "You can open the <a dbdemos-pipeline-id=\"dlt-test\" href=\"#joblist/pipelines/fcdb3d8e-104c-422b-a0a1-1c30a57f1650\">Delta Live Table Pipeline for unit-test</a> to see the tests in action"
   ]
  }
 ],
 "metadata": {
  "application/vnd.databricks.v1+notebook": {
   "computePreferences": null,
   "dashboards": [],
   "environmentMetadata": {
    "environment_version": "2"
   },
   "inputWidgetPreferences": null,
   "language": "sql",
   "notebookMetadata": {
    "pythonIndentUnit": 4
   },
   "notebookName": "DLT-Tests",
   "widgets": {}
  },
  "language_info": {
   "name": "sql"
  }
 },
 "nbformat": 4,
 "nbformat_minor": 0
}
