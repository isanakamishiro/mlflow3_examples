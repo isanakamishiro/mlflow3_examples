{
 "cells": [
  {
   "cell_type": "markdown",
   "metadata": {
    "application/vnd.databricks.v1+cell": {
     "cellMetadata": {},
     "inputWidgets": {},
     "nuid": "2a4b37ba-b2c4-4115-9ced-cfb0ac969000",
     "showTitle": false,
     "tableResultSettingsMap": {},
     "title": ""
    }
   },
   "source": [
    "# Delta live table - Unit testing\n",
    "\n",
    "## Why testing?\n",
    "\n",
    "Deploying tests on your DLT pipelines will guarantee that your ingestion is always stable and future proof.\n",
    "\n",
    "The tests can be deployed as part of traditional CI/CD pipeline and can be run before a new version deployment, ensuring that a new version won't introduce a regression.\n",
    "\n",
    "This is critical in the Lakehouse ecosystem, as the data we produce will then leveraged downstream:\n",
    "\n",
    "* By Data Analyst for reporting/BI\n",
    "* By Data Scientists to build ML model for downstream applications\n",
    "\n",
    "## Unit testing strategy with DLT\n",
    "\n",
    "Delta Live Table logic can be unit tested leveraging Expectation.\n",
    "\n",
    "At a high level, the DLT pipelines can be constructed as following:\n",
    "\n",
    "* The ingestion step (first step of the pipeline on the left) is written in a separate notebook. This correspond to the left **green** (prod) and **blue** (test) input sources.\n",
    "   * The Production pipeline is defined with the PROD ingestion notebook:[./ingestion_profile/DLT-ingest_prod]($./ingestion_profile/DLT-ingest_prod) and connects to the live datasource (ex: kafka server, staging blob storage)\n",
    "   * The Test pipeline (only used to run the unit test) is defined with the TEST ingestion notebook: [./ingestion_profile/DLT-ingest_test]($./ingestion_profile/DLT-ingest_test) and can consume from local files used for our unit tests (ex: adhoc csv file)\n",
    "* A common DLT pipeline logic is used for both the prod and the test pipeline (the **yellow** in the graph)\n",
    "* An additional notebook containing all the unit tests is used in the TEST pipeline (the **blue `TEST_xxx` tables** in the image on the right side)\n",
    "\n",
    "\n",
    "<div><img width=\"1100\" src=\"https://github.com/QuentinAmbard/databricks-demo/raw/main/product_demos/dlt-advanecd/DLT-advanced-unit-test-0.png\"/></div>\n",
    "\n",
    "## Accessing the DLT pipeline\n",
    "\n",
    "Your pipeline has been created! You can directly access the <a dbdemos-pipeline-id=\"dlt-test\" href=\"#joblist/pipelines/fcdb3d8e-104c-422b-a0a1-1c30a57f1650\">Delta Live Table Pipeline for unit-test demo</a>.\n",
    "\n",
    "<!-- Collect usage data (view). Remove it to disable collection. View README for more details.  -->\n",
    "<img width=\"1px\" src=\"https://ppxrzfxige.execute-api.us-west-2.amazonaws.com/v1/analytics?category=data-engineering&org_id=1765512908890676&notebook=%2FDLT-pipeline-to-test&demo_name=dlt-unit-test&event=VIEW&path=%2F_dbdemos%2Fdata-engineering%2Fdlt-unit-test%2FDLT-pipeline-to-test&version=1\">"
   ]
  },
  {
   "cell_type": "markdown",
   "metadata": {
    "application/vnd.databricks.v1+cell": {
     "cellMetadata": {},
     "inputWidgets": {},
     "nuid": "7f5c9532-96ca-4eb2-ae3b-9ac8f23a3182",
     "showTitle": false,
     "tableResultSettingsMap": {},
     "title": ""
    }
   },
   "source": [
    "\n",
    "## Main Pipeline definition\n",
    "\n",
    "<img style=\"float: right\" width=\"700px\" src=\"https://github.com/QuentinAmbard/databricks-demo/raw/main/product_demos/dlt-advanecd/DLT-advanced-unit-test-2.png\"/>\n",
    "\n",
    "This notebook contains the main pipeline definition, the one we want to test (in yellow in the diagram).\n",
    "\n",
    "For this example, we centralized our main expectations in a metadata table that we'll use in the table definition.\n",
    "\n",
    "Theses expectations are your usual expectations, used to ensure and track data quality during the ingestion process. \n",
    "\n",
    "We can then build DBSQL dashboard on top of it and triggers alarms when we see error in our data (ex: incompatible schema, increasing our expectation count)"
   ]
  },
  {
   "cell_type": "code",
   "execution_count": 0,
   "metadata": {
    "application/vnd.databricks.v1+cell": {
     "cellMetadata": {},
     "inputWidgets": {},
     "nuid": "2e70c0ca-b6f4-4aad-8141-1ef8ea37829a",
     "showTitle": true,
     "tableResultSettingsMap": {},
     "title": "Define all our expectations as a metadata table"
    }
   },
   "outputs": [],
   "source": [
    "# In this example, we'll store our rules as a delta table for more flexibility & reusability. \n",
    "# While this isn't directly related to Unit test, it can also help for programatical analysis/reporting.\n",
    "catalog = \"main\"\n",
    "schema = dbName = db = \"dbdemos_dlt_unit_test\"\n",
    "\n",
    "data = [\n",
    " # tag/table name      name              constraint\n",
    " (\"user_bronze_dlt\",  \"correct_schema\", \"_rescued_data IS NULL\"),\n",
    " (\"user_silver_dlt\",  \"valid_id\",       \"id IS NOT NULL AND id > 0\"),\n",
    " (\"spend_silver_dlt\", \"valid_id\",       \"id IS NOT NULL AND id > 0\"),\n",
    " (\"user_gold_dlt\",    \"valid_age\",      \"age IS NOT NULL\"),\n",
    " (\"user_gold_dlt\",    \"valid_income\",   \"annual_income IS NOT NULL\"),\n",
    " (\"user_gold_dlt\",    \"valid_score\",    \"spending_core IS NOT NULL\")\n",
    "]\n",
    "#Typically only run once, this doesn't have to be part of the DLT pipeline.\n",
    "spark.createDataFrame(data=data, schema=[\"tag\", \"name\", \"constraint\"]).write.mode(\"overwrite\").saveAsTable(f\"{catalog}.{schema}.expectations\")"
   ]
  },
  {
   "cell_type": "code",
   "execution_count": 0,
   "metadata": {
    "application/vnd.databricks.v1+cell": {
     "cellMetadata": {},
     "inputWidgets": {},
     "nuid": "8a52d8d1-6166-46b1-80f8-f22e61995d16",
     "showTitle": true,
     "tableResultSettingsMap": {},
     "title": "Make expectations portable and reusable from a Delta Table"
    }
   },
   "outputs": [],
   "source": [
    "#Return the rules matching the tag as a format ready for DLT annotation.\n",
    "from pyspark.sql.functions import expr, col\n",
    "\n",
    "def get_rules(tag):\n",
    "  \"\"\"\n",
    "    loads data quality rules from csv file\n",
    "    :param tag: tag to match\n",
    "    :return: dictionary of rules that matched the tag\n",
    "  \"\"\"\n",
    "  rules = {}\n",
    "  df = spark.table(f\"{catalog}.{schema}.expectations\").where(f\"tag = '{tag}'\")\n",
    "  for row in df.collect():\n",
    "    rules[row['name']] = row['constraint']\n",
    "  return rules\n"
   ]
  },
  {
   "cell_type": "markdown",
   "metadata": {
    "application/vnd.databricks.v1+cell": {
     "cellMetadata": {},
     "inputWidgets": {},
     "nuid": "dd0dade7-fa24-4a36-941b-7cba240e1eb3",
     "showTitle": false,
     "tableResultSettingsMap": {},
     "title": ""
    }
   },
   "source": [
    "### 1/ Loading our data\n",
    "\n",
    "This is the first step of the pipeline. Note that we consume the data from the `raw_user_data` view.\n",
    "\n",
    "This view is defined in the ingestion notebooks:\n",
    "* For PROD: [./ingestion_profile/DLT-ingest_prod]($./ingestion_profile/DLT-ingest_prod), reading from prod system (ex: kafka)\n",
    "* For TEST: [./ingestion_profile/DLT-ingest_test]($./ingestion_profile/DLT-ingest_test), consuming the test dataset (csv files)\n",
    "\n",
    "Start by reviewing the notebooks to see how the data is ingested.\n",
    "\n",
    "\n",
    "*Note: DLT is available as SQL or Python, this example will use Python*"
   ]
  },
  {
   "cell_type": "code",
   "execution_count": 0,
   "metadata": {
    "application/vnd.databricks.v1+cell": {
     "cellMetadata": {},
     "inputWidgets": {},
     "nuid": "0d4240a0-6f51-4032-a0d3-b8ea592929f0",
     "showTitle": true,
     "tableResultSettingsMap": {},
     "title": "Ingest raw User stream data in incremental mode"
    }
   },
   "outputs": [],
   "source": [
    "import dlt\n",
    "\n",
    "@dlt.table(comment=\"Raw user data\")\n",
    "@dlt.expect_all_or_drop(get_rules('user_bronze_dlt')) #get the rules from our centralized table.\n",
    "def user_bronze_dlt():\n",
    "  return dlt.read_stream(\"raw_user_data\")"
   ]
  },
  {
   "cell_type": "markdown",
   "metadata": {
    "application/vnd.databricks.v1+cell": {
     "cellMetadata": {},
     "inputWidgets": {},
     "nuid": "4462e20f-e3ef-4d53-9549-3b76ca50f2ee",
     "showTitle": false,
     "tableResultSettingsMap": {},
     "title": ""
    }
   },
   "source": [
    "### 2/ Customer Silver layer\n",
    "The silver layer is consuming **incremental** data from the bronze one, and cleaning up some information.\n",
    "\n",
    "We're also adding an expectation on the ID. As the ID will be used in the next join operation, ID should never be null and be positive.\n",
    "\n",
    "Note that the expectations have been defined in the metadata expectation table under `user_silver_dlt`"
   ]
  },
  {
   "cell_type": "code",
   "execution_count": 0,
   "metadata": {
    "application/vnd.databricks.v1+cell": {
     "cellMetadata": {},
     "inputWidgets": {},
     "nuid": "4d00235d-00f5-4493-92a2-1da79aa6334d",
     "showTitle": true,
     "tableResultSettingsMap": {},
     "title": "Clean and anonymize User data"
    }
   },
   "outputs": [],
   "source": [
    "from pyspark.sql.functions import *\n",
    "\n",
    "@dlt.table(comment=\"User data cleaned and anonymized for analysis.\")\n",
    "@dlt.expect_all_or_drop(get_rules('user_silver_dlt'))\n",
    "def user_silver_dlt():\n",
    "  return (\n",
    "    dlt.read_stream(\"user_bronze_dlt\").select(\n",
    "      col(\"id\").cast(\"int\"),\n",
    "      sha1(\"email\").alias(\"email\"),\n",
    "      to_timestamp(col(\"creation_date\"),\"MM-dd-yyyy HH:mm:ss\").alias(\"creation_date\"),\n",
    "      to_timestamp(col(\"last_activity_date\"),\"MM-dd-yyyy HH:mm:ss\").alias(\"last_activity_date\"),\n",
    "      \"firstname\", \n",
    "      \"lastname\", \n",
    "      \"address\", \n",
    "      \"city\", \n",
    "      \"last_ip\", \n",
    "      \"postcode\"\n",
    "    )\n",
    "  )"
   ]
  },
  {
   "cell_type": "markdown",
   "metadata": {
    "application/vnd.databricks.v1+cell": {
     "cellMetadata": {},
     "inputWidgets": {},
     "nuid": "f8c99fb1-dafe-46c2-a14b-de932ac8eeb6",
     "showTitle": false,
     "tableResultSettingsMap": {},
     "title": ""
    }
   },
   "source": [
    "### 3/ Ingest spend information\n",
    "\n",
    "This is the same logic as for the customer data, we consume from the view defined in the TEST/PROD ingestion notebooks.\n",
    "\n",
    "We're also adding an expectation on the ID column as we'll join the 2 tables based on this field, and we want to track it's data quality"
   ]
  },
  {
   "cell_type": "code",
   "execution_count": 0,
   "metadata": {
    "application/vnd.databricks.v1+cell": {
     "cellMetadata": {},
     "inputWidgets": {},
     "nuid": "056f8a7b-06b0-4d7c-bf29-6285b2b95cb6",
     "showTitle": true,
     "tableResultSettingsMap": {},
     "title": "Ingest user spending score"
    }
   },
   "outputs": [],
   "source": [
    "@dlt.table(comment=\"Spending score from raw data\")\n",
    "@dlt.expect_all_or_drop(get_rules('spend_silver_dlt'))\n",
    "def spend_silver_dlt():\n",
    "    return dlt.read_stream(\"raw_spend_data\")"
   ]
  },
  {
   "cell_type": "markdown",
   "metadata": {
    "application/vnd.databricks.v1+cell": {
     "cellMetadata": {},
     "inputWidgets": {},
     "nuid": "29365cc7-276f-4ed9-9560-79d15061038e",
     "showTitle": false,
     "tableResultSettingsMap": {},
     "title": ""
    }
   },
   "source": [
    "### 4/ Joining the 2 tables to create the gold layer\n",
    "We can now join the 2 tables on customer ID to create our final gold table.\n",
    "\n",
    "As our ML model will be using `age`, `annual_income` and `spending_score` we're adding expectation to only keep valid entries "
   ]
  },
  {
   "cell_type": "code",
   "execution_count": 0,
   "metadata": {
    "application/vnd.databricks.v1+cell": {
     "cellMetadata": {},
     "inputWidgets": {},
     "nuid": "586c7122-860a-4198-a336-a28347c19a5d",
     "showTitle": true,
     "tableResultSettingsMap": {},
     "title": "Join both data to create our final table"
    }
   },
   "outputs": [],
   "source": [
    "@dlt.table(comment=\"Final user table with all information for Analysis / ML\")\n",
    "@dlt.expect_all_or_drop(get_rules('user_gold_dlt'))\n",
    "def user_gold_dlt():\n",
    "  return dlt.read_stream(\"user_silver_dlt\").join(dlt.read(\"spend_silver_dlt\"), [\"id\"], \"left\")"
   ]
  },
  {
   "cell_type": "markdown",
   "metadata": {
    "application/vnd.databricks.v1+cell": {
     "cellMetadata": {},
     "inputWidgets": {},
     "nuid": "4eb663b5-8f07-4104-ad83-2abcff6d392d",
     "showTitle": false,
     "tableResultSettingsMap": {},
     "title": ""
    }
   },
   "source": [
    "# Our pipeline is now ready to be tested!\n",
    "\n",
    "Our pipeline now entirely defined.\n",
    "\n",
    "Here are a couple of example we might want to test:\n",
    "\n",
    "* Are we safely handling wrong data type as entry (ex: customer ID is sent as an incompatible STRING)\n",
    "* Are we resilient to NULL values in our primary keys\n",
    "* Are we enforcing uniqueness in our primary keys\n",
    "* Are we properly applying business logic (ex: proper aggregation, anonymization of PII field etc)"
   ]
  },
  {
   "cell_type": "markdown",
   "metadata": {
    "application/vnd.databricks.v1+cell": {
     "cellMetadata": {},
     "inputWidgets": {},
     "nuid": "fd2bb94a-6df6-41ef-88e7-a336d594846e",
     "showTitle": false,
     "tableResultSettingsMap": {},
     "title": ""
    }
   },
   "source": [
    "## Creating the test dataset\n",
    "\n",
    "The next step is to create a test dataset.\n",
    "\n",
    "Creating the test dataset is a critical step. As any Unit tests, we need to add all possible data variation to ensure our logic is properly implemented.\n",
    "\n",
    "As example, let's make sure we'll ingest data having NULL id or ids as string.\n",
    "\n",
    "Open the [./test/DLT-Test-Dataset-setup]($./test/DLT-Test-Dataset-setup) notebook to see how this is done"
   ]
  },
  {
   "cell_type": "markdown",
   "metadata": {
    "application/vnd.databricks.v1+cell": {
     "cellMetadata": {},
     "inputWidgets": {},
     "nuid": "437df8fe-8a71-46cf-8ff9-049ce39e1c00",
     "showTitle": false,
     "tableResultSettingsMap": {},
     "title": ""
    }
   },
   "source": [
    "## Defining the Unit Tests\n",
    "\n",
    "We now have the data ready.\n",
    "\n",
    "The final step is creating the actual test.\n",
    "\n",
    "Open the [./test/DLT-Tests]($./test/DLT-Tests) notebook to see how this is done!"
   ]
  },
  {
   "cell_type": "markdown",
   "metadata": {
    "application/vnd.databricks.v1+cell": {
     "cellMetadata": {},
     "inputWidgets": {},
     "nuid": "a471844d-b338-4028-8196-e82fdfe99dcd",
     "showTitle": false,
     "tableResultSettingsMap": {},
     "title": ""
    }
   },
   "source": [
    "# That's it! our pipeline is fully ready & tested.\n",
    "\n",
    "We can then process as usual: build dashboard to track production metrics (ex: data quality & quantity) but also BI reporting & Data Science for final business use-case leveraging the Lakehouse:\n",
    "\n",
    "Here is a full example of the test pipeline definition.\n",
    "\n",
    "Note that we have 3 notebooks in the DLT pipeline:\n",
    "\n",
    "* **DLT-ingest_test**: ingesting our test datasets\n",
    "* **DLT-pipeline-to-test**: the actual pipeline we want to test\n",
    "* **test/DLT-Tests**: the test definition\n",
    "\n",
    "Remember that you'll have to schedule FULL REFRESH everytime your run the pipeline to get accurate test results (we want to consume all the entry dataset from scratch).\n",
    "\n",
    "This test pipeline can be scheduled to run within a Workflow, or as part of a CICD step (ex: triggered after a git commit)\n",
    "\n",
    "```\n",
    "{\n",
    "    \"clusters\": [\n",
    "        {\n",
    "            \"label\": \"default\",\n",
    "            \"autoscale\": {\n",
    "                \"min_workers\": 1,\n",
    "                \"max_workers\": 5\n",
    "            }\n",
    "        }\n",
    "    ],\n",
    "    \"development\": true,\n",
    "    \"continuous\": false,\n",
    "    \"channel\": \"CURRENT\",\n",
    "    \"edition\": \"advanced\",\n",
    "    \"libraries\": [\n",
    "        {\n",
    "            \"notebook\": {\n",
    "                \"path\": \"/Repos/xxxx/Delta-Live-Table-Unit-Test/ingestion_profile/DLT-ingest_test\"\n",
    "            }\n",
    "        },\n",
    "        {\n",
    "            \"notebook\": {\n",
    "                \"path\": \"/Repos/xxxx/Delta-Live-Table-Unit-Test/DLT-pipeline-to-test\"\n",
    "            }\n",
    "        },\n",
    "        {\n",
    "            \"notebook\": {\n",
    "                \"path\": \"/Repos/xxxx/Delta-Live-Table-Unit-Test/test/DLT-Tests\"\n",
    "            }\n",
    "        }\n",
    "    ],\n",
    "    \"name\": \"dbdemos_dlt_unit_test_{{CATALOG}}_{{SCHEMA}}\",\n",
    "    \"catalog\": \"{{CATALOG}}\",\n",
    "    \"target\": \"{{SCHEMA}}\"\n",
    "}\n",
    "```"
   ]
  },
  {
   "cell_type": "markdown",
   "metadata": {
    "application/vnd.databricks.v1+cell": {
     "cellMetadata": {},
     "inputWidgets": {},
     "nuid": "e6c8848a-0ac3-4079-8815-b46935f977f9",
     "showTitle": false,
     "tableResultSettingsMap": {},
     "title": ""
    }
   },
   "source": [
    "# Going further with DLT"
   ]
  },
  {
   "cell_type": "markdown",
   "metadata": {
    "application/vnd.databricks.v1+cell": {
     "cellMetadata": {},
     "inputWidgets": {},
     "nuid": "972f848b-e5a4-4d72-b40b-56ba92abbfcf",
     "showTitle": false,
     "tableResultSettingsMap": {},
     "title": ""
    }
   },
   "source": [
    "## Checking your data quality metrics with Delta Live Table\n",
    "Delta Live Tables tracks all your data quality metrics. You can leverage the expecations directly as SQL table with Databricks SQL to track your expectation metrics and send alerts as required. This let you build the following dashboards:\n",
    "\n",
    "<img width=\"1000\" src=\"https://github.com/QuentinAmbard/databricks-demo/raw/main/retail/resources/images/retail-dlt-data-quality-dashboard.png\">"
   ]
  },
  {
   "cell_type": "markdown",
   "metadata": {
    "application/vnd.databricks.v1+cell": {
     "cellMetadata": {},
     "inputWidgets": {},
     "nuid": "bf1ad368-5e96-4b8f-908a-ad08cac55ad5",
     "showTitle": false,
     "tableResultSettingsMap": {},
     "title": ""
    }
   },
   "source": [
    "## Building our first business dashboard with Databricks SQL\n",
    "\n",
    "Once the data is ingested, we switch to Databricks SQL to build a new dashboard based on all the data we ingested.\n",
    "\n",
    "Here is an example:\n",
    "\n",
    "<img width=\"1000\" src=\"https://github.com/QuentinAmbard/databricks-demo/raw/main/retail/resources/images/retail-dashboard.png\"/>"
   ]
  }
 ],
 "metadata": {
  "application/vnd.databricks.v1+notebook": {
   "computePreferences": null,
   "dashboards": [],
   "environmentMetadata": {
    "environment_version": "2"
   },
   "inputWidgetPreferences": null,
   "language": "python",
   "notebookMetadata": {
    "pythonIndentUnit": 4
   },
   "notebookName": "DLT-pipeline-to-test",
   "widgets": {}
  },
  "language_info": {
   "name": "python"
  }
 },
 "nbformat": 4,
 "nbformat_minor": 0
}
