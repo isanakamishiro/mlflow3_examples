{
 "cells": [
  {
   "cell_type": "markdown",
   "metadata": {
    "application/vnd.databricks.v1+cell": {
     "cellMetadata": {},
     "inputWidgets": {},
     "nuid": "69aa3385-94a2-4deb-833e-91173df76fa3",
     "showTitle": false,
     "tableResultSettingsMap": {},
     "title": ""
    }
   },
   "source": [
    "# MLflow3 Example: ResponseAgentとLangGraphを使った単純なツールコールエージェントの実装\n",
    "\n",
    "**ResponseAgentとは?**\n",
    "- https://mlflow.org/docs/latest/genai/flavors/responses-agent-intro\n",
    "\n",
    "**ResponseAgentのサービング**\n",
    "- https://mlflow.org/docs/latest/genai/serving/responses-agent"
   ]
  },
  {
   "cell_type": "code",
   "execution_count": 0,
   "metadata": {
    "application/vnd.databricks.v1+cell": {
     "cellMetadata": {
      "byteLimit": 2048000,
      "rowLimit": 10000
     },
     "inputWidgets": {},
     "nuid": "e041d869-e698-4789-a410-3de4f80ac46f",
     "showTitle": true,
     "tableResultSettingsMap": {},
     "title": "Installing and Updating Databricks and MLflow Packages"
    }
   },
   "outputs": [
    {
     "output_type": "stream",
     "name": "stdout",
     "output_type": "stream",
     "text": [
      "Requirement already satisfied: mlflow>=3.1 in /local_disk0/.ephemeral_nfs/envs/pythonEnv-d380882e-49bc-4108-91cb-39d4d4f55785/lib/python3.11/site-packages (from mlflow[databricks]>=3.1) (3.1.0)\nRequirement already satisfied: databricks-agents in /local_disk0/.ephemeral_nfs/envs/pythonEnv-d380882e-49bc-4108-91cb-39d4d4f55785/lib/python3.11/site-packages (1.0.1)\nRequirement already satisfied: databricks-langchain in /local_disk0/.ephemeral_nfs/envs/pythonEnv-d380882e-49bc-4108-91cb-39d4d4f55785/lib/python3.11/site-packages (0.5.1)\nRequirement already satisfied: langgraph in /local_disk0/.ephemeral_nfs/envs/pythonEnv-d380882e-49bc-4108-91cb-39d4d4f55785/lib/python3.11/site-packages (0.4.8)\nRequirement already satisfied: unitycatalog-ai[databricks] in /local_disk0/.ephemeral_nfs/envs/pythonEnv-d380882e-49bc-4108-91cb-39d4d4f55785/lib/python3.11/site-packages (0.3.1)\nRequirement already satisfied: unitycatalog-langchain[databricks] in /local_disk0/.ephemeral_nfs/envs/pythonEnv-d380882e-49bc-4108-91cb-39d4d4f55785/lib/python3.11/site-packages (0.2.0)\nRequirement already satisfied: mlflow-skinny==3.1.0 in /local_disk0/.ephemeral_nfs/envs/pythonEnv-d380882e-49bc-4108-91cb-39d4d4f55785/lib/python3.11/site-packages (from mlflow>=3.1->mlflow[databricks]>=3.1) (3.1.0)\nRequirement already satisfied: Flask<4 in /local_disk0/.ephemeral_nfs/envs/pythonEnv-d380882e-49bc-4108-91cb-39d4d4f55785/lib/python3.11/site-packages (from mlflow>=3.1->mlflow[databricks]>=3.1) (3.1.1)\nRequirement already satisfied: alembic!=1.10.0,<2 in /local_disk0/.ephemeral_nfs/envs/pythonEnv-d380882e-49bc-4108-91cb-39d4d4f55785/lib/python3.11/site-packages (from mlflow>=3.1->mlflow[databricks]>=3.1) (1.16.1)\nRequirement already satisfied: docker<8,>=4.0.0 in /local_disk0/.ephemeral_nfs/envs/pythonEnv-d380882e-49bc-4108-91cb-39d4d4f55785/lib/python3.11/site-packages (from mlflow>=3.1->mlflow[databricks]>=3.1) (7.1.0)\nRequirement already satisfied: graphene<4 in /local_disk0/.ephemeral_nfs/envs/pythonEnv-d380882e-49bc-4108-91cb-39d4d4f55785/lib/python3.11/site-packages (from mlflow>=3.1->mlflow[databricks]>=3.1) (3.4.3)\nRequirement already satisfied: gunicorn<24 in /local_disk0/.ephemeral_nfs/envs/pythonEnv-d380882e-49bc-4108-91cb-39d4d4f55785/lib/python3.11/site-packages (from mlflow>=3.1->mlflow[databricks]>=3.1) (23.0.0)\nRequirement already satisfied: matplotlib<4 in /databricks/python3/lib/python3.11/site-packages (from mlflow>=3.1->mlflow[databricks]>=3.1) (3.7.2)\nRequirement already satisfied: numpy<3 in /local_disk0/.ephemeral_nfs/envs/pythonEnv-d380882e-49bc-4108-91cb-39d4d4f55785/lib/python3.11/site-packages (from mlflow>=3.1->mlflow[databricks]>=3.1) (1.26.4)\nRequirement already satisfied: pandas<3 in /databricks/python3/lib/python3.11/site-packages (from mlflow>=3.1->mlflow[databricks]>=3.1) (1.5.3)\nRequirement already satisfied: pyarrow<21,>=4.0.0 in /databricks/python3/lib/python3.11/site-packages (from mlflow>=3.1->mlflow[databricks]>=3.1) (14.0.1)\nRequirement already satisfied: scikit-learn<2 in /databricks/python3/lib/python3.11/site-packages (from mlflow>=3.1->mlflow[databricks]>=3.1) (1.3.0)\nRequirement already satisfied: scipy<2 in /databricks/python3/lib/python3.11/site-packages (from mlflow>=3.1->mlflow[databricks]>=3.1) (1.11.1)\nRequirement already satisfied: sqlalchemy<3,>=1.4.0 in /local_disk0/.ephemeral_nfs/envs/pythonEnv-d380882e-49bc-4108-91cb-39d4d4f55785/lib/python3.11/site-packages (from mlflow>=3.1->mlflow[databricks]>=3.1) (2.0.41)\nRequirement already satisfied: cachetools<7,>=5.0.0 in /databricks/python3/lib/python3.11/site-packages (from mlflow-skinny==3.1.0->mlflow>=3.1->mlflow[databricks]>=3.1) (5.5.0)\nRequirement already satisfied: click<9,>=7.0 in /local_disk0/.ephemeral_nfs/envs/pythonEnv-d380882e-49bc-4108-91cb-39d4d4f55785/lib/python3.11/site-packages (from mlflow-skinny==3.1.0->mlflow>=3.1->mlflow[databricks]>=3.1) (8.2.1)\nRequirement already satisfied: cloudpickle<4 in /databricks/python3/lib/python3.11/site-packages (from mlflow-skinny==3.1.0->mlflow>=3.1->mlflow[databricks]>=3.1) (3.0.0)\nRequirement already satisfied: databricks-sdk<1,>=0.20.0 in /local_disk0/.ephemeral_nfs/envs/pythonEnv-d380882e-49bc-4108-91cb-39d4d4f55785/lib/python3.11/site-packages (from mlflow-skinny==3.1.0->mlflow>=3.1->mlflow[databricks]>=3.1) (0.55.0)\nRequirement already satisfied: fastapi<1 in /local_disk0/.ephemeral_nfs/envs/pythonEnv-d380882e-49bc-4108-91cb-39d4d4f55785/lib/python3.11/site-packages (from mlflow-skinny==3.1.0->mlflow>=3.1->mlflow[databricks]>=3.1) (0.115.12)\nRequirement already satisfied: gitpython<4,>=3.1.9 in /databricks/python3/lib/python3.11/site-packages (from mlflow-skinny==3.1.0->mlflow>=3.1->mlflow[databricks]>=3.1) (3.1.43)\nRequirement already satisfied: importlib_metadata!=4.7.0,<9,>=3.7.0 in /databricks/python3/lib/python3.11/site-packages (from mlflow-skinny==3.1.0->mlflow>=3.1->mlflow[databricks]>=3.1) (6.0.0)\nRequirement already satisfied: opentelemetry-api<3,>=1.9.0 in /local_disk0/.ephemeral_nfs/envs/pythonEnv-d380882e-49bc-4108-91cb-39d4d4f55785/lib/python3.11/site-packages (from mlflow-skinny==3.1.0->mlflow>=3.1->mlflow[databricks]>=3.1) (1.34.1)\nRequirement already satisfied: opentelemetry-sdk<3,>=1.9.0 in /local_disk0/.ephemeral_nfs/envs/pythonEnv-d380882e-49bc-4108-91cb-39d4d4f55785/lib/python3.11/site-packages (from mlflow-skinny==3.1.0->mlflow>=3.1->mlflow[databricks]>=3.1) (1.34.1)\nRequirement already satisfied: packaging<26 in /databricks/python3/lib/python3.11/site-packages (from mlflow-skinny==3.1.0->mlflow>=3.1->mlflow[databricks]>=3.1) (23.2)\nRequirement already satisfied: protobuf<7,>=3.12.0 in /local_disk0/.ephemeral_nfs/envs/pythonEnv-d380882e-49bc-4108-91cb-39d4d4f55785/lib/python3.11/site-packages (from mlflow-skinny==3.1.0->mlflow>=3.1->mlflow[databricks]>=3.1) (4.25.8)\nRequirement already satisfied: pydantic<3,>=1.10.8 in /local_disk0/.ephemeral_nfs/envs/pythonEnv-d380882e-49bc-4108-91cb-39d4d4f55785/lib/python3.11/site-packages (from mlflow-skinny==3.1.0->mlflow>=3.1->mlflow[databricks]>=3.1) (2.11.6)\nRequirement already satisfied: pyyaml<7,>=5.1 in /databricks/python3/lib/python3.11/site-packages (from mlflow-skinny==3.1.0->mlflow>=3.1->mlflow[databricks]>=3.1) (6.0)\nRequirement already satisfied: requests<3,>=2.17.3 in /databricks/python3/lib/python3.11/site-packages (from mlflow-skinny==3.1.0->mlflow>=3.1->mlflow[databricks]>=3.1) (2.31.0)\nRequirement already satisfied: sqlparse<1,>=0.4.0 in /databricks/python3/lib/python3.11/site-packages (from mlflow-skinny==3.1.0->mlflow>=3.1->mlflow[databricks]>=3.1) (0.5.1)\nRequirement already satisfied: typing-extensions<5,>=4.0.0 in /local_disk0/.ephemeral_nfs/envs/pythonEnv-d380882e-49bc-4108-91cb-39d4d4f55785/lib/python3.11/site-packages (from mlflow-skinny==3.1.0->mlflow>=3.1->mlflow[databricks]>=3.1) (4.14.0)\nRequirement already satisfied: uvicorn<1 in /local_disk0/.ephemeral_nfs/envs/pythonEnv-d380882e-49bc-4108-91cb-39d4d4f55785/lib/python3.11/site-packages (from mlflow-skinny==3.1.0->mlflow>=3.1->mlflow[databricks]>=3.1) (0.34.3)\nRequirement already satisfied: nest-asyncio in /databricks/python3/lib/python3.11/site-packages (from unitycatalog-ai[databricks]) (1.5.6)\nRequirement already satisfied: unitycatalog-client in /local_disk0/.ephemeral_nfs/envs/pythonEnv-d380882e-49bc-4108-91cb-39d4d4f55785/lib/python3.11/site-packages (from unitycatalog-ai[databricks]) (0.3.0)\nRequirement already satisfied: databricks-connect<16.4,>=15.1.0 in /local_disk0/.ephemeral_nfs/envs/pythonEnv-d380882e-49bc-4108-91cb-39d4d4f55785/lib/python3.11/site-packages (from unitycatalog-ai[databricks]) (16.1.6)\nRequirement already satisfied: langchain-community>=0.2.0 in /local_disk0/.ephemeral_nfs/envs/pythonEnv-d380882e-49bc-4108-91cb-39d4d4f55785/lib/python3.11/site-packages (from unitycatalog-langchain[databricks]) (0.3.25)\nRequirement already satisfied: langchain>=0.2.0 in /local_disk0/.ephemeral_nfs/envs/pythonEnv-d380882e-49bc-4108-91cb-39d4d4f55785/lib/python3.11/site-packages (from unitycatalog-langchain[databricks]) (0.3.25)\nRequirement already satisfied: dataclasses-json in /local_disk0/.ephemeral_nfs/envs/pythonEnv-d380882e-49bc-4108-91cb-39d4d4f55785/lib/python3.11/site-packages (from databricks-agents) (0.6.7)\nRequirement already satisfied: jinja2>=3.0.0 in /local_disk0/.ephemeral_nfs/envs/pythonEnv-d380882e-49bc-4108-91cb-39d4d4f55785/lib/python3.11/site-packages (from databricks-agents) (3.1.6)\nRequirement already satisfied: tenacity>=8.5 in /local_disk0/.ephemeral_nfs/envs/pythonEnv-d380882e-49bc-4108-91cb-39d4d4f55785/lib/python3.11/site-packages (from databricks-agents) (9.1.2)\nRequirement already satisfied: tiktoken>=0.8.0 in /local_disk0/.ephemeral_nfs/envs/pythonEnv-d380882e-49bc-4108-91cb-39d4d4f55785/lib/python3.11/site-packages (from databricks-agents) (0.9.0)\nRequirement already satisfied: tqdm in /local_disk0/.ephemeral_nfs/envs/pythonEnv-d380882e-49bc-4108-91cb-39d4d4f55785/lib/python3.11/site-packages (from databricks-agents) (4.67.1)\nRequirement already satisfied: urllib3>=2.0 in /local_disk0/.ephemeral_nfs/envs/pythonEnv-d380882e-49bc-4108-91cb-39d4d4f55785/lib/python3.11/site-packages (from databricks-agents) (2.0.7)\nRequirement already satisfied: databricks-ai-bridge>=0.4.2 in /local_disk0/.ephemeral_nfs/envs/pythonEnv-d380882e-49bc-4108-91cb-39d4d4f55785/lib/python3.11/site-packages (from databricks-langchain) (0.5.1)\nRequirement already satisfied: databricks-vectorsearch>=0.50 in /local_disk0/.ephemeral_nfs/envs/pythonEnv-d380882e-49bc-4108-91cb-39d4d4f55785/lib/python3.11/site-packages (from databricks-langchain) (0.56)\nRequirement already satisfied: langchain-core>=0.1 in /local_disk0/.ephemeral_nfs/envs/pythonEnv-d380882e-49bc-4108-91cb-39d4d4f55785/lib/python3.11/site-packages (from langgraph) (0.3.65)\nRequirement already satisfied: langgraph-checkpoint>=2.0.26 in /local_disk0/.ephemeral_nfs/envs/pythonEnv-d380882e-49bc-4108-91cb-39d4d4f55785/lib/python3.11/site-packages (from langgraph) (2.0.26)\nRequirement already satisfied: langgraph-prebuilt>=0.2.0 in /local_disk0/.ephemeral_nfs/envs/pythonEnv-d380882e-49bc-4108-91cb-39d4d4f55785/lib/python3.11/site-packages (from langgraph) (0.2.2)\nRequirement already satisfied: langgraph-sdk>=0.1.42 in /local_disk0/.ephemeral_nfs/envs/pythonEnv-d380882e-49bc-4108-91cb-39d4d4f55785/lib/python3.11/site-packages (from langgraph) (0.1.70)\nRequirement already satisfied: xxhash>=3.5.0 in /local_disk0/.ephemeral_nfs/envs/pythonEnv-d380882e-49bc-4108-91cb-39d4d4f55785/lib/python3.11/site-packages (from langgraph) (3.5.0)\nRequirement already satisfied: azure-storage-file-datalake>12 in /databricks/python3/lib/python3.11/site-packages (from mlflow[databricks]>=3.1) (12.14.0)\nRequirement already satisfied: google-cloud-storage>=1.30.0 in /databricks/python3/lib/python3.11/site-packages (from mlflow[databricks]>=3.1) (2.18.2)\nRequirement already satisfied: boto3>1 in /databricks/python3/lib/python3.11/site-packages (from mlflow[databricks]>=3.1) (1.34.39)\nRequirement already satisfied: botocore in /databricks/python3/lib/python3.11/site-packages (from mlflow[databricks]>=3.1) (1.34.39)\nRequirement already satisfied: Mako in /local_disk0/.ephemeral_nfs/envs/pythonEnv-d380882e-49bc-4108-91cb-39d4d4f55785/lib/python3.11/site-packages (from alembic!=1.10.0,<2->mlflow>=3.1->mlflow[databricks]>=3.1) (1.3.10)\nRequirement already satisfied: azure-core<2.0.0,>=1.28.0 in /databricks/python3/lib/python3.11/site-packages (from azure-storage-file-datalake>12->mlflow[databricks]>=3.1) (1.32.0)\nRequirement already satisfied: azure-storage-blob<13.0.0,>=12.19.0 in /databricks/python3/lib/python3.11/site-packages (from azure-storage-file-datalake>12->mlflow[databricks]>=3.1) (12.19.1)\nRequirement already satisfied: isodate>=0.6.1 in /databricks/python3/lib/python3.11/site-packages (from azure-storage-file-datalake>12->mlflow[databricks]>=3.1) (0.7.2)\nRequirement already satisfied: jmespath<2.0.0,>=0.7.1 in /databricks/python3/lib/python3.11/site-packages (from boto3>1->mlflow[databricks]>=3.1) (0.10.0)\nRequirement already satisfied: s3transfer<0.11.0,>=0.10.0 in /databricks/python3/lib/python3.11/site-packages (from boto3>1->mlflow[databricks]>=3.1) (0.10.3)\nRequirement already satisfied: python-dateutil<3.0.0,>=2.1 in /databricks/python3/lib/python3.11/site-packages (from botocore->mlflow[databricks]>=3.1) (2.8.2)\nRequirement already satisfied: tabulate>=0.9.0 in /local_disk0/.ephemeral_nfs/envs/pythonEnv-d380882e-49bc-4108-91cb-39d4d4f55785/lib/python3.11/site-packages (from databricks-ai-bridge>=0.4.2->databricks-langchain) (0.9.0)\nRequirement already satisfied: googleapis-common-protos>=1.56.4 in /databricks/python3/lib/python3.11/site-packages (from databricks-connect<16.4,>=15.1.0->unitycatalog-ai[databricks]) (1.65.0)\nRequirement already satisfied: grpcio-status>=1.59.3 in /local_disk0/.ephemeral_nfs/envs/pythonEnv-d380882e-49bc-4108-91cb-39d4d4f55785/lib/python3.11/site-packages (from databricks-connect<16.4,>=15.1.0->unitycatalog-ai[databricks]) (1.62.3)\nRequirement already satisfied: grpcio>=1.59.3 in /databricks/python3/lib/python3.11/site-packages (from databricks-connect<16.4,>=15.1.0->unitycatalog-ai[databricks]) (1.69.0)\nRequirement already satisfied: py4j==0.10.9.7 in /databricks/python3/lib/python3.11/site-packages (from databricks-connect<16.4,>=15.1.0->unitycatalog-ai[databricks]) (0.10.9.7)\nRequirement already satisfied: setuptools>=68.0.0 in /databricks/python3/lib/python3.11/site-packages (from databricks-connect<16.4,>=15.1.0->unitycatalog-ai[databricks]) (75.1.0)\nRequirement already satisfied: six in /usr/lib/python3/dist-packages (from databricks-connect<16.4,>=15.1.0->unitycatalog-ai[databricks]) (1.16.0)\nRequirement already satisfied: google-auth~=2.0 in /databricks/python3/lib/python3.11/site-packages (from databricks-sdk<1,>=0.20.0->mlflow-skinny==3.1.0->mlflow>=3.1->mlflow[databricks]>=3.1) (2.35.0)\nRequirement already satisfied: deprecation>=2 in /local_disk0/.ephemeral_nfs/envs/pythonEnv-d380882e-49bc-4108-91cb-39d4d4f55785/lib/python3.11/site-packages (from databricks-vectorsearch>=0.50->databricks-langchain) (2.1.0)\nRequirement already satisfied: blinker>=1.9.0 in /local_disk0/.ephemeral_nfs/envs/pythonEnv-d380882e-49bc-4108-91cb-39d4d4f55785/lib/python3.11/site-packages (from Flask<4->mlflow>=3.1->mlflow[databricks]>=3.1) (1.9.0)\nRequirement already satisfied: itsdangerous>=2.2.0 in /local_disk0/.ephemeral_nfs/envs/pythonEnv-d380882e-49bc-4108-91cb-39d4d4f55785/lib/python3.11/site-packages (from Flask<4->mlflow>=3.1->mlflow[databricks]>=3.1) (2.2.0)\nRequirement already satisfied: markupsafe>=2.1.1 in /local_disk0/.ephemeral_nfs/envs/pythonEnv-d380882e-49bc-4108-91cb-39d4d4f55785/lib/python3.11/site-packages (from Flask<4->mlflow>=3.1->mlflow[databricks]>=3.1) (3.0.2)\nRequirement already satisfied: werkzeug>=3.1.0 in /local_disk0/.ephemeral_nfs/envs/pythonEnv-d380882e-49bc-4108-91cb-39d4d4f55785/lib/python3.11/site-packages (from Flask<4->mlflow>=3.1->mlflow[databricks]>=3.1) (3.1.3)\nRequirement already satisfied: google-api-core<3.0.0dev,>=2.15.0 in /databricks/python3/lib/python3.11/site-packages (from google-cloud-storage>=1.30.0->mlflow[databricks]>=3.1) (2.18.0)\nRequirement already satisfied: google-cloud-core<3.0dev,>=2.3.0 in /databricks/python3/lib/python3.11/site-packages (from google-cloud-storage>=1.30.0->mlflow[databricks]>=3.1) (2.4.1)\nRequirement already satisfied: google-resumable-media>=2.7.2 in /databricks/python3/lib/python3.11/site-packages (from google-cloud-storage>=1.30.0->mlflow[databricks]>=3.1) (2.7.2)\nRequirement already satisfied: google-crc32c<2.0dev,>=1.0 in /databricks/python3/lib/python3.11/site-packages (from google-cloud-storage>=1.30.0->mlflow[databricks]>=3.1) (1.6.0)\nRequirement already satisfied: graphql-core<3.3,>=3.1 in /local_disk0/.ephemeral_nfs/envs/pythonEnv-d380882e-49bc-4108-91cb-39d4d4f55785/lib/python3.11/site-packages (from graphene<4->mlflow>=3.1->mlflow[databricks]>=3.1) (3.2.6)\nRequirement already satisfied: graphql-relay<3.3,>=3.1 in /local_disk0/.ephemeral_nfs/envs/pythonEnv-d380882e-49bc-4108-91cb-39d4d4f55785/lib/python3.11/site-packages (from graphene<4->mlflow>=3.1->mlflow[databricks]>=3.1) (3.2.0)\nRequirement already satisfied: langchain-text-splitters<1.0.0,>=0.3.8 in /local_disk0/.ephemeral_nfs/envs/pythonEnv-d380882e-49bc-4108-91cb-39d4d4f55785/lib/python3.11/site-packages (from langchain>=0.2.0->unitycatalog-langchain[databricks]) (0.3.8)\nRequirement already satisfied: langsmith<0.4,>=0.1.17 in /local_disk0/.ephemeral_nfs/envs/pythonEnv-d380882e-49bc-4108-91cb-39d4d4f55785/lib/python3.11/site-packages (from langchain>=0.2.0->unitycatalog-langchain[databricks]) (0.3.45)\nRequirement already satisfied: aiohttp<4.0.0,>=3.8.3 in /local_disk0/.ephemeral_nfs/envs/pythonEnv-d380882e-49bc-4108-91cb-39d4d4f55785/lib/python3.11/site-packages (from langchain-community>=0.2.0->unitycatalog-langchain[databricks]) (3.12.12)\nRequirement already satisfied: pydantic-settings<3.0.0,>=2.4.0 in /local_disk0/.ephemeral_nfs/envs/pythonEnv-d380882e-49bc-4108-91cb-39d4d4f55785/lib/python3.11/site-packages (from langchain-community>=0.2.0->unitycatalog-langchain[databricks]) (2.9.1)\nRequirement already satisfied: httpx-sse<1.0.0,>=0.4.0 in /local_disk0/.ephemeral_nfs/envs/pythonEnv-d380882e-49bc-4108-91cb-39d4d4f55785/lib/python3.11/site-packages (from langchain-community>=0.2.0->unitycatalog-langchain[databricks]) (0.4.0)\nRequirement already satisfied: marshmallow<4.0.0,>=3.18.0 in /local_disk0/.ephemeral_nfs/envs/pythonEnv-d380882e-49bc-4108-91cb-39d4d4f55785/lib/python3.11/site-packages (from dataclasses-json->databricks-agents) (3.26.1)\nRequirement already satisfied: typing-inspect<1,>=0.4.0 in /local_disk0/.ephemeral_nfs/envs/pythonEnv-d380882e-49bc-4108-91cb-39d4d4f55785/lib/python3.11/site-packages (from dataclasses-json->databricks-agents) (0.9.0)\nRequirement already satisfied: jsonpatch<2.0,>=1.33 in /local_disk0/.ephemeral_nfs/envs/pythonEnv-d380882e-49bc-4108-91cb-39d4d4f55785/lib/python3.11/site-packages (from langchain-core>=0.1->langgraph) (1.33)\nRequirement already satisfied: ormsgpack<2.0.0,>=1.8.0 in /local_disk0/.ephemeral_nfs/envs/pythonEnv-d380882e-49bc-4108-91cb-39d4d4f55785/lib/python3.11/site-packages (from langgraph-checkpoint>=2.0.26->langgraph) (1.10.0)\nRequirement already satisfied: httpx>=0.25.2 in /local_disk0/.ephemeral_nfs/envs/pythonEnv-d380882e-49bc-4108-91cb-39d4d4f55785/lib/python3.11/site-packages (from langgraph-sdk>=0.1.42->langgraph) (0.28.1)\nRequirement already satisfied: orjson>=3.10.1 in /local_disk0/.ephemeral_nfs/envs/pythonEnv-d380882e-49bc-4108-91cb-39d4d4f55785/lib/python3.11/site-packages (from langgraph-sdk>=0.1.42->langgraph) (3.10.18)\nRequirement already satisfied: contourpy>=1.0.1 in /databricks/python3/lib/python3.11/site-packages (from matplotlib<4->mlflow>=3.1->mlflow[databricks]>=3.1) (1.0.5)\nRequirement already satisfied: cycler>=0.10 in /databricks/python3/lib/python3.11/site-packages (from matplotlib<4->mlflow>=3.1->mlflow[databricks]>=3.1) (0.11.0)\nRequirement already satisfied: fonttools>=4.22.0 in /databricks/python3/lib/python3.11/site-packages (from matplotlib<4->mlflow>=3.1->mlflow[databricks]>=3.1) (4.25.0)\nRequirement already satisfied: kiwisolver>=1.0.1 in /databricks/python3/lib/python3.11/site-packages (from matplotlib<4->mlflow>=3.1->mlflow[databricks]>=3.1) (1.4.4)\nRequirement already satisfied: pillow>=6.2.0 in /databricks/python3/lib/python3.11/site-packages (from matplotlib<4->mlflow>=3.1->mlflow[databricks]>=3.1) (10.3.0)\nRequirement already satisfied: pyparsing<3.1,>=2.3.1 in /databricks/python3/lib/python3.11/site-packages (from matplotlib<4->mlflow>=3.1->mlflow[databricks]>=3.1) (3.0.9)\nRequirement already satisfied: pytz>=2020.1 in /databricks/python3/lib/python3.11/site-packages (from pandas<3->mlflow>=3.1->mlflow[databricks]>=3.1) (2022.7)\nRequirement already satisfied: annotated-types>=0.6.0 in /local_disk0/.ephemeral_nfs/envs/pythonEnv-d380882e-49bc-4108-91cb-39d4d4f55785/lib/python3.11/site-packages (from pydantic<3,>=1.10.8->mlflow-skinny==3.1.0->mlflow>=3.1->mlflow[databricks]>=3.1) (0.7.0)\nRequirement already satisfied: pydantic-core==2.33.2 in /local_disk0/.ephemeral_nfs/envs/pythonEnv-d380882e-49bc-4108-91cb-39d4d4f55785/lib/python3.11/site-packages (from pydantic<3,>=1.10.8->mlflow-skinny==3.1.0->mlflow>=3.1->mlflow[databricks]>=3.1) (2.33.2)\nRequirement already satisfied: typing-inspection>=0.4.0 in /local_disk0/.ephemeral_nfs/envs/pythonEnv-d380882e-49bc-4108-91cb-39d4d4f55785/lib/python3.11/site-packages (from pydantic<3,>=1.10.8->mlflow-skinny==3.1.0->mlflow>=3.1->mlflow[databricks]>=3.1) (0.4.1)\nRequirement already satisfied: joblib>=1.1.1 in /databricks/python3/lib/python3.11/site-packages (from scikit-learn<2->mlflow>=3.1->mlflow[databricks]>=3.1) (1.2.0)\nRequirement already satisfied: threadpoolctl>=2.0.0 in /databricks/python3/lib/python3.11/site-packages (from scikit-learn<2->mlflow>=3.1->mlflow[databricks]>=3.1) (2.2.0)\nRequirement already satisfied: greenlet>=1 in /local_disk0/.ephemeral_nfs/envs/pythonEnv-d380882e-49bc-4108-91cb-39d4d4f55785/lib/python3.11/site-packages (from sqlalchemy<3,>=1.4.0->mlflow>=3.1->mlflow[databricks]>=3.1) (3.2.3)\nRequirement already satisfied: regex>=2022.1.18 in /local_disk0/.ephemeral_nfs/envs/pythonEnv-d380882e-49bc-4108-91cb-39d4d4f55785/lib/python3.11/site-packages (from tiktoken>=0.8.0->databricks-agents) (2024.11.6)\nRequirement already satisfied: aiohttp-retry>=2.8.3 in /local_disk0/.ephemeral_nfs/envs/pythonEnv-d380882e-49bc-4108-91cb-39d4d4f55785/lib/python3.11/site-packages (from unitycatalog-client->unitycatalog-ai[databricks]) (2.9.1)\nRequirement already satisfied: aiohappyeyeballs>=2.5.0 in /local_disk0/.ephemeral_nfs/envs/pythonEnv-d380882e-49bc-4108-91cb-39d4d4f55785/lib/python3.11/site-packages (from aiohttp<4.0.0,>=3.8.3->langchain-community>=0.2.0->unitycatalog-langchain[databricks]) (2.6.1)\nRequirement already satisfied: aiosignal>=1.1.2 in /local_disk0/.ephemeral_nfs/envs/pythonEnv-d380882e-49bc-4108-91cb-39d4d4f55785/lib/python3.11/site-packages (from aiohttp<4.0.0,>=3.8.3->langchain-community>=0.2.0->unitycatalog-langchain[databricks]) (1.3.2)\nRequirement already satisfied: attrs>=17.3.0 in /local_disk0/.ephemeral_nfs/envs/pythonEnv-d380882e-49bc-4108-91cb-39d4d4f55785/lib/python3.11/site-packages (from aiohttp<4.0.0,>=3.8.3->langchain-community>=0.2.0->unitycatalog-langchain[databricks]) (25.3.0)\nRequirement already satisfied: frozenlist>=1.1.1 in /local_disk0/.ephemeral_nfs/envs/pythonEnv-d380882e-49bc-4108-91cb-39d4d4f55785/lib/python3.11/site-packages (from aiohttp<4.0.0,>=3.8.3->langchain-community>=0.2.0->unitycatalog-langchain[databricks]) (1.7.0)\nRequirement already satisfied: multidict<7.0,>=4.5 in /local_disk0/.ephemeral_nfs/envs/pythonEnv-d380882e-49bc-4108-91cb-39d4d4f55785/lib/python3.11/site-packages (from aiohttp<4.0.0,>=3.8.3->langchain-community>=0.2.0->unitycatalog-langchain[databricks]) (6.4.4)\nRequirement already satisfied: propcache>=0.2.0 in /local_disk0/.ephemeral_nfs/envs/pythonEnv-d380882e-49bc-4108-91cb-39d4d4f55785/lib/python3.11/site-packages (from aiohttp<4.0.0,>=3.8.3->langchain-community>=0.2.0->unitycatalog-langchain[databricks]) (0.3.2)\nRequirement already satisfied: yarl<2.0,>=1.17.0 in /local_disk0/.ephemeral_nfs/envs/pythonEnv-d380882e-49bc-4108-91cb-39d4d4f55785/lib/python3.11/site-packages (from aiohttp<4.0.0,>=3.8.3->langchain-community>=0.2.0->unitycatalog-langchain[databricks]) (1.20.1)\nRequirement already satisfied: cryptography>=2.1.4 in /databricks/python3/lib/python3.11/site-packages (from azure-storage-blob<13.0.0,>=12.19.0->azure-storage-file-datalake>12->mlflow[databricks]>=3.1) (41.0.3)\nRequirement already satisfied: starlette<0.47.0,>=0.40.0 in /local_disk0/.ephemeral_nfs/envs/pythonEnv-d380882e-49bc-4108-91cb-39d4d4f55785/lib/python3.11/site-packages (from fastapi<1->mlflow-skinny==3.1.0->mlflow>=3.1->mlflow[databricks]>=3.1) (0.46.2)\nRequirement already satisfied: gitdb<5,>=4.0.1 in /databricks/python3/lib/python3.11/site-packages (from gitpython<4,>=3.1.9->mlflow-skinny==3.1.0->mlflow>=3.1->mlflow[databricks]>=3.1) (4.0.11)\nRequirement already satisfied: proto-plus<2.0.0dev,>=1.22.3 in /databricks/python3/lib/python3.11/site-packages (from google-api-core<3.0.0dev,>=2.15.0->google-cloud-storage>=1.30.0->mlflow[databricks]>=3.1) (1.25.0)\nRequirement already satisfied: pyasn1-modules>=0.2.1 in /databricks/python3/lib/python3.11/site-packages (from google-auth~=2.0->databricks-sdk<1,>=0.20.0->mlflow-skinny==3.1.0->mlflow>=3.1->mlflow[databricks]>=3.1) (0.2.8)\nRequirement already satisfied: rsa<5,>=3.1.4 in /databricks/python3/lib/python3.11/site-packages (from google-auth~=2.0->databricks-sdk<1,>=0.20.0->mlflow-skinny==3.1.0->mlflow>=3.1->mlflow[databricks]>=3.1) (4.9)\nRequirement already satisfied: anyio in /local_disk0/.ephemeral_nfs/envs/pythonEnv-d380882e-49bc-4108-91cb-39d4d4f55785/lib/python3.11/site-packages (from httpx>=0.25.2->langgraph-sdk>=0.1.42->langgraph) (4.9.0)\nRequirement already satisfied: certifi in /databricks/python3/lib/python3.11/site-packages (from httpx>=0.25.2->langgraph-sdk>=0.1.42->langgraph) (2023.7.22)\nRequirement already satisfied: httpcore==1.* in /local_disk0/.ephemeral_nfs/envs/pythonEnv-d380882e-49bc-4108-91cb-39d4d4f55785/lib/python3.11/site-packages (from httpx>=0.25.2->langgraph-sdk>=0.1.42->langgraph) (1.0.9)\nRequirement already satisfied: idna in /databricks/python3/lib/python3.11/site-packages (from httpx>=0.25.2->langgraph-sdk>=0.1.42->langgraph) (3.4)\nRequirement already satisfied: h11>=0.16 in /local_disk0/.ephemeral_nfs/envs/pythonEnv-d380882e-49bc-4108-91cb-39d4d4f55785/lib/python3.11/site-packages (from httpcore==1.*->httpx>=0.25.2->langgraph-sdk>=0.1.42->langgraph) (0.16.0)\nRequirement already satisfied: zipp>=0.5 in /databricks/python3/lib/python3.11/site-packages (from importlib_metadata!=4.7.0,<9,>=3.7.0->mlflow-skinny==3.1.0->mlflow>=3.1->mlflow[databricks]>=3.1) (3.11.0)\nRequirement already satisfied: jsonpointer>=1.9 in /local_disk0/.ephemeral_nfs/envs/pythonEnv-d380882e-49bc-4108-91cb-39d4d4f55785/lib/python3.11/site-packages (from jsonpatch<2.0,>=1.33->langchain-core>=0.1->langgraph) (3.0.0)\nRequirement already satisfied: requests-toolbelt<2.0.0,>=1.0.0 in /local_disk0/.ephemeral_nfs/envs/pythonEnv-d380882e-49bc-4108-91cb-39d4d4f55785/lib/python3.11/site-packages (from langsmith<0.4,>=0.1.17->langchain>=0.2.0->unitycatalog-langchain[databricks]) (1.0.0)\nRequirement already satisfied: zstandard<0.24.0,>=0.23.0 in /databricks/python3/lib/python3.11/site-packages (from langsmith<0.4,>=0.1.17->langchain>=0.2.0->unitycatalog-langchain[databricks]) (0.23.0)\nRequirement already satisfied: opentelemetry-semantic-conventions==0.55b1 in /local_disk0/.ephemeral_nfs/envs/pythonEnv-d380882e-49bc-4108-91cb-39d4d4f55785/lib/python3.11/site-packages (from opentelemetry-sdk<3,>=1.9.0->mlflow-skinny==3.1.0->mlflow>=3.1->mlflow[databricks]>=3.1) (0.55b1)\nRequirement already satisfied: python-dotenv>=0.21.0 in /local_disk0/.ephemeral_nfs/envs/pythonEnv-d380882e-49bc-4108-91cb-39d4d4f55785/lib/python3.11/site-packages (from pydantic-settings<3.0.0,>=2.4.0->langchain-community>=0.2.0->unitycatalog-langchain[databricks]) (1.1.0)\nRequirement already satisfied: charset-normalizer<4,>=2 in /databricks/python3/lib/python3.11/site-packages (from requests<3,>=2.17.3->mlflow-skinny==3.1.0->mlflow>=3.1->mlflow[databricks]>=3.1) (2.0.4)\nRequirement already satisfied: mypy-extensions>=0.3.0 in /databricks/python3/lib/python3.11/site-packages (from typing-inspect<1,>=0.4.0->dataclasses-json->databricks-agents) (0.4.3)\nRequirement already satisfied: cffi>=1.12 in /databricks/python3/lib/python3.11/site-packages (from cryptography>=2.1.4->azure-storage-blob<13.0.0,>=12.19.0->azure-storage-file-datalake>12->mlflow[databricks]>=3.1) (1.15.1)\nRequirement already satisfied: smmap<6,>=3.0.1 in /databricks/python3/lib/python3.11/site-packages (from gitdb<5,>=4.0.1->gitpython<4,>=3.1.9->mlflow-skinny==3.1.0->mlflow>=3.1->mlflow[databricks]>=3.1) (5.0.1)\nRequirement already satisfied: pyasn1<0.5.0,>=0.4.6 in /databricks/python3/lib/python3.11/site-packages (from pyasn1-modules>=0.2.1->google-auth~=2.0->databricks-sdk<1,>=0.20.0->mlflow-skinny==3.1.0->mlflow>=3.1->mlflow[databricks]>=3.1) (0.4.8)\nRequirement already satisfied: sniffio>=1.1 in /local_disk0/.ephemeral_nfs/envs/pythonEnv-d380882e-49bc-4108-91cb-39d4d4f55785/lib/python3.11/site-packages (from anyio->httpx>=0.25.2->langgraph-sdk>=0.1.42->langgraph) (1.3.1)\nRequirement already satisfied: pycparser in /databricks/python3/lib/python3.11/site-packages (from cffi>=1.12->cryptography>=2.1.4->azure-storage-blob<13.0.0,>=12.19.0->azure-storage-file-datalake>12->mlflow[databricks]>=3.1) (2.21)\n\u001B[43mNote: you may need to restart the kernel using %restart_python or dbutils.library.restartPython() to use updated packages.\u001B[0m\n"
     ]
    }
   ],
   "source": [
    "%pip install -U mlflow[databricks]>=3.1 unitycatalog-ai[databricks] unitycatalog-langchain[databricks] databricks-agents databricks-langchain langgraph \n",
    "\n",
    "%restart_python"
   ]
  },
  {
   "cell_type": "markdown",
   "metadata": {
    "application/vnd.databricks.v1+cell": {
     "cellMetadata": {},
     "inputWidgets": {},
     "nuid": "c0754580-f1e2-498e-b167-e4a2d20448e0",
     "showTitle": false,
     "tableResultSettingsMap": {},
     "title": ""
    }
   },
   "source": [
    "## カスタムResponseAgentの定義"
   ]
  },
  {
   "cell_type": "code",
   "execution_count": 0,
   "metadata": {
    "application/vnd.databricks.v1+cell": {
     "cellMetadata": {
      "byteLimit": 2048000,
      "rowLimit": 10000
     },
     "inputWidgets": {},
     "nuid": "8d294575-13e8-4864-9cd8-c5575fdd8306",
     "showTitle": true,
     "tableResultSettingsMap": {},
     "title": "Creating a Simple Response Agent with MLflow"
    }
   },
   "outputs": [
    {
     "output_type": "stream",
     "name": "stdout",
     "output_type": "stream",
     "text": [
      "Overwriting agents/simple_responses_agent.py\n"
     ]
    }
   ],
   "source": [
    "%%writefile agents/simple_responses_agent.py\n",
    "import mlflow\n",
    "from mlflow.pyfunc import ResponsesAgent\n",
    "from mlflow.types.responses import (\n",
    "    ResponsesAgentRequest,\n",
    "    ResponsesAgentResponse,\n",
    "    ResponsesAgentStreamEvent,\n",
    ")\n",
    "from mlflow.entities import SpanType\n",
    "from typing import Generator, Any\n",
    "from databricks_langchain import ChatDatabricks, UCFunctionToolkit\n",
    "from langgraph.prebuilt import create_react_agent\n",
    "from langchain_core.messages import (\n",
    "    BaseMessage,\n",
    "    AIMessage,\n",
    "    ToolMessage,\n",
    "    AIMessageChunk,\n",
    ")\n",
    "from langchain_core.tools import BaseTool, tool\n",
    "from functools import reduce\n",
    "\n",
    "\n",
    "# ダミーツール\n",
    "@tool\n",
    "def get_weather(city: str) -> str:\n",
    "    \"\"\"指定された都市の天気を取得します\n",
    "\n",
    "    Args:\n",
    "        city (str): 都市名\n",
    "\n",
    "    Returns:\n",
    "        str: 天気情報\n",
    "    \"\"\"\n",
    "    return f\"It's always sunny in {city}!\"\n",
    "\n",
    "\n",
    "# Tracingの有効化\n",
    "mlflow.langchain.autolog()\n",
    "\n",
    "# Agent\n",
    "class SimpleResponsesAgent(ResponsesAgent):\n",
    "    def __init__(self, model, tools: list[BaseTool]):\n",
    "        \"\"\"SimpleResponsesAgentの初期化\n",
    "\n",
    "        Args:\n",
    "            model: 使用するモデル\n",
    "            tools (list[BaseTool]): 使用するツールのリスト\n",
    "        \"\"\"\n",
    "        self.model = model\n",
    "        self.tools = tools\n",
    "\n",
    "    @mlflow.trace(span_type=SpanType.AGENT)\n",
    "    def predict(self, request: ResponsesAgentRequest) -> ResponsesAgentResponse:\n",
    "        \"\"\"リクエストに基づいて予測を行います\n",
    "\n",
    "        Args:\n",
    "            request (ResponsesAgentRequest): 予測リクエスト\n",
    "\n",
    "        Returns:\n",
    "            ResponsesAgentResponse: 予測結果のレスポンス\n",
    "        \"\"\"\n",
    "        events = [\n",
    "            event\n",
    "            for event in self.predict_stream(request)\n",
    "            if event.type == \"response.output_item.done\"\n",
    "        ]\n",
    "        outputs = [event.item for event in events]\n",
    "        # usage総量を計算\n",
    "        usages = [event.usage for event in events]\n",
    "        total_usage = {\n",
    "            \"input_tokens_details\": {\"cached_tokens\": 0},\n",
    "            \"output_tokens_details\": {\"reasoning_tokens\": 0},\n",
    "            **reduce(\n",
    "                lambda x, y: {k: x.get(k, 0) + y.get(k, 0) for k in set(x) | set(y)},\n",
    "                usages,\n",
    "            ),\n",
    "        }\n",
    "\n",
    "        return ResponsesAgentResponse(output=outputs, usage=total_usage)\n",
    "\n",
    "    @mlflow.trace(span_type=SpanType.AGENT)\n",
    "    def predict_stream(\n",
    "        self, request: ResponsesAgentRequest\n",
    "    ) -> Generator[ResponsesAgentStreamEvent, None, None]:\n",
    "        \"\"\"ストリームモードで予測を行います\n",
    "\n",
    "        Args:\n",
    "            request (ResponsesAgentRequest): 予測リクエスト\n",
    "\n",
    "        Yields:\n",
    "            ResponsesAgentStreamEvent: ストリームイベント\n",
    "        \"\"\"\n",
    "        messages, params = self._convert_request_to_lc_request(request)\n",
    "        react_agent = create_react_agent(self.model.bind(**params), tools=self.tools)\n",
    "\n",
    "        for chunk in react_agent.stream({\"messages\": messages}, stream_mode=\"updates\"):\n",
    "            for value in chunk.values():\n",
    "                messages = value.get(\"messages\", [])\n",
    "                responses = self._convert_lc_messages_to_response(messages)\n",
    "                for response in responses:\n",
    "                    yield response\n",
    "\n",
    "    @mlflow.trace(span_type=SpanType.PARSER)\n",
    "    def _convert_request_to_lc_request(\n",
    "        self, request: ResponsesAgentRequest\n",
    "    ) -> (list[BaseMessage], dict[str, Any]):\n",
    "        \"\"\"リクエストをLangChainのメッセージおよびパラメータ形式に変換します\n",
    "\n",
    "        Args:\n",
    "            request (ResponsesAgentRequest): 変換するリクエスト\n",
    "\n",
    "        Returns:\n",
    "            tuple: メッセージリスト、パラメータ辞書\n",
    "        \"\"\"\n",
    "\n",
    "        lc_request = request.model_dump_compat(exclude_none=True)\n",
    "        custom_inputs = lc_request.pop(\"custom_inputs\", {})\n",
    "\n",
    "        # custom_inputsは通常のパラメータとして展開\n",
    "        lc_request.update(custom_inputs)\n",
    "        messages = lc_request.pop(\"input\")\n",
    "\n",
    "        # LangChainで有効なパラメータのみに限定\n",
    "        valid_params = [\n",
    "            \"temperature\",\n",
    "            \"max_output_tokens\",\n",
    "            \"top_p\",\n",
    "            \"top_k\",\n",
    "        ]\n",
    "        params = {k: v for k, v in lc_request.items() if k in valid_params}\n",
    "        if \"max_output_tokens\" in params:\n",
    "            params[\"max_tokens\"] = params.pop(\"max_output_tokens\")\n",
    "\n",
    "        return messages, params\n",
    "\n",
    "    @mlflow.trace(span_type=SpanType.PARSER)\n",
    "    def _convert_lc_messages_to_response(\n",
    "        self, messages: list[BaseMessage]\n",
    "    ) -> list[ResponsesAgentStreamEvent]:\n",
    "        \"\"\"LangChainメッセージをレスポンス出力に変換します\n",
    "\n",
    "        Args:\n",
    "            messages (list[BaseMessage]): 変換するメッセージリスト\n",
    "\n",
    "        Returns:\n",
    "            list[ResponsesAgentStreamEvent]: レスポンス出力のリスト\n",
    "        \"\"\"\n",
    "\n",
    "        def _create_response_agent_stream_event(\n",
    "            item, usage, metadata\n",
    "        ) -> ResponsesAgentStreamEvent:\n",
    "            return ResponsesAgentStreamEvent(\n",
    "                type=\"response.output_item.done\",\n",
    "                item=item,\n",
    "                usage=_convert_lc_usage_to_openai_usage(usage),\n",
    "                metadata=metadata,\n",
    "            )\n",
    "\n",
    "        def _convert_lc_usage_to_openai_usage(usage: dict[str, int]) -> dict[str, int]:\n",
    "            return {\n",
    "                \"input_tokens\": usage.get(\"prompt_tokens\", 0),\n",
    "                \"output_tokens\": usage.get(\"completion_tokens\", 0),\n",
    "                \"total_tokens\": usage.get(\"total_tokens\", 0),\n",
    "            }\n",
    "\n",
    "        outputs = []\n",
    "        for message in messages:\n",
    "            if isinstance(message, ToolMessage):\n",
    "                item = self.create_function_call_output_item(\n",
    "                    output=message.content,\n",
    "                    call_id=message.tool_call_id,\n",
    "                )\n",
    "                metadata = message.response_metadata\n",
    "                usage = metadata.pop(\"usage\", {})\n",
    "                outputs.append(\n",
    "                    _create_response_agent_stream_event(item, usage, metadata)\n",
    "                )\n",
    "            elif (\n",
    "                isinstance(message, (AIMessage, AIMessageChunk)) and message.tool_calls\n",
    "            ):\n",
    "                metadata = message.response_metadata\n",
    "                usage = metadata.pop(\"usage\", {})\n",
    "                for tool_call in message.tool_calls:\n",
    "                    item = self.create_function_call_item(\n",
    "                        id=message.id,\n",
    "                        call_id=tool_call.get(\"id\"),\n",
    "                        name=tool_call.get(\"name\"),\n",
    "                        arguments=str(tool_call.get(\"args\")),\n",
    "                    )\n",
    "                    outputs.append(\n",
    "                        _create_response_agent_stream_event(item, usage, metadata)\n",
    "                    )\n",
    "                    # 1件目のみusageを設定\n",
    "                    usage = {}\n",
    "            elif isinstance(message, (AIMessage, AIMessageChunk)):\n",
    "                item = self.create_text_output_item(\n",
    "                    text=message.content,\n",
    "                    id=message.id,\n",
    "                )\n",
    "                metadata = message.response_metadata\n",
    "                usage = metadata.pop(\"usage\", {})\n",
    "                outputs.append(\n",
    "                    _create_response_agent_stream_event(item, usage, metadata)\n",
    "                )\n",
    "            else:\n",
    "                raise ValueError(f\"Unknown message: {message}\")\n",
    "        return outputs\n",
    "\n",
    "\n",
    "# Databricksネイティブのllama-3-1-405b-instructを利用\n",
    "LLM_ENDPOINT_NAME = \"databricks-meta-llama-3-1-405b-instruct\"\n",
    "llm = ChatDatabricks(model=LLM_ENDPOINT_NAME)\n",
    "\n",
    "# 利用可能なツールとして、get_weather関数とUnity Catalogのsystem.ai配下の関数を設定\n",
    "func_name = f\"system.ai.python_exec\"\n",
    "uc_toolkit = UCFunctionToolkit(function_names=[func_name])\n",
    "LC_TOOLS = [get_weather] + uc_toolkit.tools\n",
    "\n",
    "# mlflowにエージェントを設定\n",
    "agent = SimpleResponsesAgent(model=llm, tools=LC_TOOLS)\n",
    "mlflow.models.set_model(agent)"
   ]
  },
  {
   "cell_type": "markdown",
   "metadata": {
    "application/vnd.databricks.v1+cell": {
     "cellMetadata": {},
     "inputWidgets": {},
     "nuid": "e0f0d395-c876-4e3b-bedc-b30db2d89e0d",
     "showTitle": false,
     "tableResultSettingsMap": {},
     "title": ""
    }
   },
   "source": [
    "動作試験"
   ]
  },
  {
   "cell_type": "code",
   "execution_count": 0,
   "metadata": {
    "application/vnd.databricks.v1+cell": {
     "cellMetadata": {
      "byteLimit": 2048000,
      "rowLimit": 10000
     },
     "inputWidgets": {},
     "nuid": "0a10963d-d174-4bbf-9061-c9d628be330b",
     "showTitle": true,
     "tableResultSettingsMap": {},
     "title": "Restart Python Environment"
    }
   },
   "outputs": [],
   "source": [
    "%restart_python"
   ]
  },
  {
   "cell_type": "code",
   "execution_count": 0,
   "metadata": {
    "application/vnd.databricks.v1+cell": {
     "cellMetadata": {
      "byteLimit": 2048000,
      "rowLimit": 10000
     },
     "inputWidgets": {},
     "nuid": "7a8cc9e0-e298-4619-953d-4d9755c85255",
     "showTitle": true,
     "tableResultSettingsMap": {},
     "title": "Agent Response Predictions for User Queries"
    }
   },
   "outputs": [
    {
     "output_type": "stream",
     "name": "stderr",
     "output_type": "stream",
     "text": [
      "/local_disk0/.ephemeral_nfs/envs/pythonEnv-d380882e-49bc-4108-91cb-39d4d4f55785/lib/python3.11/site-packages/databricks/connect/session.py:454: UserWarning: Ignoring the default notebook Spark session and creating a new Spark Connect session. To use the default notebook Spark session, use DatabricksSession.builder.getOrCreate() with no additional parameters.\n  warnings.warn(new_notebook_session_msg)\n"
     ]
    },
    {
     "output_type": "stream",
     "name": "stdout",
     "output_type": "stream",
     "text": [
      "type='response.output_item.done' custom_outputs=None item={'type': 'function_call', 'id': 'run--69c56a83-1f65-4567-951b-7cfda9aa5639-0', 'call_id': 'call_804651ef-d4e5-41cd-ae89-07b5c9358c4f', 'name': 'system__ai__python_exec', 'arguments': \"{'code': 'result = 4*3\\\\\\\\nprint(result)'}\", 'content': 'system__ai__python_exec'} usage={'input_tokens': 956, 'output_tokens': 28, 'total_tokens': 984} metadata={'id': 'chatcmpl_72ed6757-9776-4251-adb3-dcbccbd335d2', 'object': 'chat.completion', 'created': 1749889674, 'model': 'meta-llama-3.1-405b-instruct-081924', 'model_name': 'meta-llama-3.1-405b-instruct-081924'}\ntype='response.output_item.done' custom_outputs=None item={'type': 'function_call_output', 'call_id': 'call_804651ef-d4e5-41cd-ae89-07b5c9358c4f', 'output': '{\"format\": \"SCALAR\", \"value\": \"12\\\\n\"}', 'content': '{\"format\": \"SCALAR\", \"value\": \"12\\\\n\"}'} usage={'input_tokens': 0, 'output_tokens': 0, 'total_tokens': 0} metadata={}\ntype='response.output_item.done' custom_outputs=None item={'id': 'run--8af27f9c-9fdb-48bc-b215-c6d0039ea1e8-0', 'content': [{'text': 'The answer is 12.', 'type': 'output_text'}], 'role': 'assistant', 'type': 'message'} usage={'input_tokens': 1014, 'output_tokens': 7, 'total_tokens': 1021} metadata={'id': 'chatcmpl_736d910e-de1d-4d9a-b656-554d35c8c025', 'object': 'chat.completion', 'created': 1749889676, 'model': 'meta-llama-3.1-405b-instruct-081924', 'model_name': 'meta-llama-3.1-405b-instruct-081924'}\n"
     ]
    },
    {
     "output_type": "display_data",
     "data": {
      "application/databricks.mlflow.trace": "\"tr-1e0257132151447d84b45542b7882451\"",
      "text/plain": [
       "Trace(trace_id=tr-1e0257132151447d84b45542b7882451)"
      ]
     },
     "metadata": {},
     "output_type": "display_data"
    }
   ],
   "source": [
    "import os\n",
    "import sys\n",
    "\n",
    "sys.path.append(os.path.join(os.getcwd(), \"agents\"))\n",
    "\n",
    "from simple_responses_agent import (\n",
    "    SimpleResponsesAgent,\n",
    "    ResponsesAgentRequest,\n",
    "    agent,\n",
    ")\n",
    "\n",
    "input = {\n",
    "    \"input\": [{\"role\": \"user\", \"content\": \"what is the weather in Tokyo?\"}],\n",
    "    # \"input\": [{\"role\": \"user\", \"content\":\"aa\"}],    \n",
    "    \"context\": {\"conversation_id\": \"123\", \"user_id\": \"456\"},\n",
    "    \"max_output_tokens\": 100,\n",
    "    \"top_p\": 0.8,\n",
    "    \"temperature\": 0.1,\n",
    "}\n",
    "print(agent.predict(ResponsesAgentRequest(**input)))\n",
    "\n",
    "input = {\n",
    "    \"input\": [{\"role\": \"user\", \"content\": \"what is 4*3 in python\"}],\n",
    "    \"context\": {\"conversation_id\": \"123\", \"user_id\": \"456\"},\n",
    "    \"top_p\": 0.0,\n",
    "}\n",
    "for event in agent.predict_stream(ResponsesAgentRequest(**input)):\n",
    "    print(event)"
   ]
  },
  {
   "cell_type": "markdown",
   "metadata": {
    "application/vnd.databricks.v1+cell": {
     "cellMetadata": {},
     "inputWidgets": {},
     "nuid": "3ab9c7cc-6a27-4a79-8f6a-2160e7b4433a",
     "showTitle": false,
     "tableResultSettingsMap": {},
     "title": ""
    }
   },
   "source": [
    "\n",
    "## エージェントのロギング・テスト"
   ]
  },
  {
   "cell_type": "code",
   "execution_count": 0,
   "metadata": {
    "application/vnd.databricks.v1+cell": {
     "cellMetadata": {
      "byteLimit": 2048000,
      "rowLimit": 10000
     },
     "inputWidgets": {},
     "nuid": "4a981f80-9820-4b51-abe3-cd9dc552f911",
     "showTitle": true,
     "tableResultSettingsMap": {},
     "title": "Logging MLflow Model with Databricks Resources"
    }
   },
   "outputs": [
    {
     "output_type": "stream",
     "name": "stderr",
     "output_type": "stream",
     "text": [
      "🔗 View Logged Model at: https://dbc-f1d46cb2-e7aa.cloud.databricks.com/ml/experiments/e4d5134ffa8248e396d26e1e1d9a67a6/models/m-5a82ded1cce34c1dad1d3d6acf8fcf6a?o=1765512908890676\n2025/06/14 09:19:49 INFO mlflow.pyfunc: Predicting on input example to validate output\n"
     ]
    }
   ],
   "source": [
    "import mlflow\n",
    "from mlflow.models.resources import (\n",
    "    DatabricksServingEndpoint,\n",
    "    DatabricksFunction,\n",
    ")\n",
    "from simple_responses_agent import LLM_ENDPOINT_NAME\n",
    "\n",
    "resources = [\n",
    "    DatabricksServingEndpoint(endpoint_name=LLM_ENDPOINT_NAME),\n",
    "    DatabricksFunction(function_name=\"system.ai.python_exec\"),\n",
    "]\n",
    "\n",
    "with mlflow.start_run():\n",
    "    logged_agent_info = mlflow.pyfunc.log_model(\n",
    "        python_model=\"agents/simple_responses_agent.py\",\n",
    "        name=\"simple_responses_agent\",\n",
    "        pip_requirements=[\n",
    "            \"mlflow>=3.1.0\",\n",
    "            \"langgraph==0.4.8\",\n",
    "            \"databricks-langchain==0.5.1\",\n",
    "            \"unitycatalog-langchain==0.2.0\",\n",
    "            \"unitycatalog-ai==0.3.1\",\n",
    "            \"protobuf==4.25.8\",\n",
    "        ],\n",
    "        resources=resources,\n",
    "    )"
   ]
  },
  {
   "cell_type": "code",
   "execution_count": 0,
   "metadata": {
    "application/vnd.databricks.v1+cell": {
     "cellMetadata": {
      "byteLimit": 2048000,
      "rowLimit": 10000
     },
     "inputWidgets": {},
     "nuid": "ceb01917-5c3e-422d-9dba-04a98272f5aa",
     "showTitle": true,
     "tableResultSettingsMap": {},
     "title": "Streaming Weather Predictions Using MLflow Model"
    }
   },
   "outputs": [
    {
     "output_type": "display_data",
     "data": {
      "application/vnd.jupyter.widget-view+json": {
       "model_id": "ee97e3ae58f2469daf0753fc45adb855",
       "version_major": 2,
       "version_minor": 0
      },
      "text/plain": [
       "Downloading artifacts:   0%|          | 0/12 [00:00<?, ?it/s]"
      ]
     },
     "metadata": {},
     "output_type": "display_data"
    },
    {
     "output_type": "stream",
     "name": "stderr",
     "output_type": "stream",
     "text": [
      "2025/06/14 08:46:36 WARNING mlflow.utils.requirements_utils: Detected one or more mismatches between the model's dependencies and the current Python environment:\n - protobuf (current: 4.25.8, required: protobuf==3.20.0)\nTo fix the mismatches, call `mlflow.pyfunc.get_model_dependencies(model_uri)` to fetch the model's environment and install dependencies using the resulting environment file.\n"
     ]
    },
    {
     "output_type": "stream",
     "name": "stdout",
     "output_type": "stream",
     "text": [
      "{'arguments': \"{'city': 'Tokyo'}\",\n 'call_id': 'call_bceea16a-766b-4fce-b3bc-380c03aee5e7',\n 'content': 'get_weather',\n 'id': 'run--48d60513-f67b-4dae-91f7-5cb243c3d438-0',\n 'name': 'get_weather',\n 'type': 'function_call'}\n-----------------\n{'call_id': 'call_bceea16a-766b-4fce-b3bc-380c03aee5e7',\n 'content': \"It's always sunny in Tokyo!\",\n 'output': \"It's always sunny in Tokyo!\",\n 'type': 'function_call_output'}\n-----------------\n{'content': [{'text': \"It's always sunny in Tokyo!\", 'type': 'output_text'}],\n 'id': 'run--e651d622-aa19-465c-934b-51d3523ac68b-0',\n 'role': 'assistant',\n 'type': 'message'}\n-----------------\n"
     ]
    },
    {
     "output_type": "display_data",
     "data": {
      "application/databricks.mlflow.trace": "\"tr-3a43f4de77cc02ffca366cabc0db7456\"",
      "text/plain": [
       "Trace(trace_id=tr-3a43f4de77cc02ffca366cabc0db7456)"
      ]
     },
     "metadata": {},
     "output_type": "display_data"
    }
   ],
   "source": [
    "import mlflow\n",
    "from pprint import pprint\n",
    "\n",
    "model_uri = logged_agent_info.model_uri\n",
    "agent = mlflow.pyfunc.load_model(model_uri)\n",
    "\n",
    "input = {\n",
    "    \"input\": [\n",
    "        {\"role\": \"user\", \"content\": \"what is the weather in Tokyo?\"},\n",
    "    ],\n",
    "    \"max_output_tokens\": 1000,\n",
    "    \"top_p\": 0.8,\n",
    "    \"temperature\": 0.1,\n",
    "}\n",
    "\n",
    "for event in agent.predict_stream(input):\n",
    "    pprint(event.get(\"item\"))\n",
    "    print(\"-----------------\")"
   ]
  },
  {
   "cell_type": "markdown",
   "metadata": {
    "application/vnd.databricks.v1+cell": {
     "cellMetadata": {},
     "inputWidgets": {},
     "nuid": "871a7134-dbef-4a74-aa14-fe2f16be1cf3",
     "showTitle": false,
     "tableResultSettingsMap": {},
     "title": ""
    }
   },
   "source": [
    "## デプロイ"
   ]
  },
  {
   "cell_type": "code",
   "execution_count": 0,
   "metadata": {
    "application/vnd.databricks.v1+cell": {
     "cellMetadata": {
      "byteLimit": 2048000,
      "rowLimit": 10000
     },
     "inputWidgets": {},
     "nuid": "8e651086-253d-493d-9818-2cfe79f971b7",
     "showTitle": true,
     "tableResultSettingsMap": {},
     "title": "Registering an ML Model in Databricks UC"
    }
   },
   "outputs": [
    {
     "output_type": "stream",
     "name": "stderr",
     "output_type": "stream",
     "text": [
      "Registered model 'examples.mlflow.simple_responses_agent' already exists. Creating a new version of this model...\n"
     ]
    },
    {
     "output_type": "display_data",
     "data": {
      "application/vnd.jupyter.widget-view+json": {
       "model_id": "6c0c986ce63e44239c81d3a7f468d3ad",
       "version_major": 2,
       "version_minor": 0
      },
      "text/plain": [
       "Downloading artifacts:   0%|          | 0/12 [00:00<?, ?it/s]"
      ]
     },
     "metadata": {},
     "output_type": "display_data"
    },
    {
     "output_type": "display_data",
     "data": {
      "application/vnd.jupyter.widget-view+json": {
       "model_id": "e877e1084fd94cef9452b82b14daa8ed",
       "version_major": 2,
       "version_minor": 0
      },
      "text/plain": [
       "Uploading artifacts:   0%|          | 0/13 [00:00<?, ?it/s]"
      ]
     },
     "metadata": {},
     "output_type": "display_data"
    },
    {
     "output_type": "stream",
     "name": "stderr",
     "output_type": "stream",
     "text": [
      "🔗 Created version '7' of model 'examples.mlflow.simple_responses_agent': https://dbc-f1d46cb2-e7aa.cloud.databricks.com/explore/data/models/examples/mlflow/simple_responses_agent/version/7?o=1765512908890676\n"
     ]
    }
   ],
   "source": [
    "import mlflow\n",
    "\n",
    "catalog = \"examples\"\n",
    "schema = \"mlflow\"\n",
    "model_name = f\"{catalog}.{schema}.simple_responses_agent\"\n",
    "\n",
    "mlflow.set_registry_uri(\"databricks-uc\")\n",
    "\n",
    "registered_model = mlflow.register_model(model_uri=logged_agent_info.model_uri, name=model_name)"
   ]
  },
  {
   "cell_type": "code",
   "execution_count": 0,
   "metadata": {
    "application/vnd.databricks.v1+cell": {
     "cellMetadata": {
      "byteLimit": 2048000,
      "rowLimit": 10000
     },
     "inputWidgets": {},
     "nuid": "02230539-120a-4093-8db6-c3cdc21384a7",
     "showTitle": true,
     "tableResultSettingsMap": {},
     "title": "Deploying a Model and Retrieving Endpoint URL"
    }
   },
   "outputs": [
    {
     "output_type": "display_data",
     "data": {
      "application/vnd.jupyter.widget-view+json": {
       "model_id": "d2c58a0b726541a0be1a81fde0d56653",
       "version_major": 2,
       "version_minor": 0
      },
      "text/plain": [
       "Downloading artifacts:   0%|          | 0/1 [00:00<?, ?it/s]"
      ]
     },
     "metadata": {},
     "output_type": "display_data"
    },
    {
     "output_type": "display_data",
     "data": {
      "application/vnd.jupyter.widget-view+json": {
       "model_id": "8718bc947581479788fe580d8b2190ea",
       "version_major": 2,
       "version_minor": 0
      },
      "text/plain": [
       "Downloading artifacts:   0%|          | 0/1 [00:00<?, ?it/s]"
      ]
     },
     "metadata": {},
     "output_type": "display_data"
    },
    {
     "output_type": "stream",
     "name": "stdout",
     "output_type": "stream",
     "text": [
      "\n    Deployment of examples.mlflow.simple_responses_agent version 7 initiated.  This can take up to 15 minutes and the Review App & Query Endpoint will not work until this deployment finishes.\n\n    View status: https://dbc-f1d46cb2-e7aa.cloud.databricks.com/ml/endpoints/agents_examples-mlflow-simple_responses_agent\n    Review App: https://dbc-f1d46cb2-e7aa.cloud.databricks.com/ml/review-v2/chat?endpoint=agents_examples-mlflow-simple_responses_agent\n    Monitor: https://dbc-f1d46cb2-e7aa.cloud.databricks.com/ml/experiments/e4d5134ffa8248e396d26e1e1d9a67a6?compareRunsMode=TRACES\n"
     ]
    },
    {
     "output_type": "execute_result",
     "data": {
      "text/plain": [
       "'https://dbc-f1d46cb2-e7aa.cloud.databricks.com/serving-endpoints/agents_examples-mlflow-simple_responses_agent/served-models/examples-mlflow-simple_responses_agent_7/invocations'"
      ]
     },
     "execution_count": 48,
     "metadata": {},
     "output_type": "execute_result"
    }
   ],
   "source": [
    "from databricks import agents\n",
    "\n",
    "deployment = agents.deploy(\n",
    "    registered_model.name, registered_model.version, scale_to_zero=False\n",
    ")\n",
    "\n",
    "# Retrieve the query endpoint URL for making API requests\n",
    "deployment.query_endpoint"
   ]
  }
 ],
 "metadata": {
  "application/vnd.databricks.v1+notebook": {
   "computePreferences": null,
   "dashboards": [],
   "environmentMetadata": {
    "base_environment": "",
    "environment_version": "2"
   },
   "inputWidgetPreferences": null,
   "language": "python",
   "notebookMetadata": {
    "pythonIndentUnit": 4
   },
   "notebookName": "001_response_agent",
   "widgets": {}
  },
  "language_info": {
   "name": "python"
  }
 },
 "nbformat": 4,
 "nbformat_minor": 0
}
