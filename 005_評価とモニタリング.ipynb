{
 "cells": [
  {
   "cell_type": "markdown",
   "metadata": {
    "application/vnd.databricks.v1+cell": {
     "cellMetadata": {},
     "inputWidgets": {},
     "nuid": "a7a4cc62-9984-4971-b023-4305924545e7",
     "showTitle": false,
     "tableResultSettingsMap": {},
     "title": ""
    }
   },
   "source": [
    "\n",
    "# アプリケーションの評価と改善\n",
    "\n",
    "https://docs.databricks.com/aws/ja/mlflow3/genai/eval-monitor/evaluate-app"
   ]
  },
  {
   "cell_type": "code",
   "execution_count": 0,
   "metadata": {
    "application/vnd.databricks.v1+cell": {
     "cellMetadata": {
      "byteLimit": 2048000,
      "rowLimit": 10000
     },
     "inputWidgets": {},
     "nuid": "4e0673f8-ea86-4339-b170-dac739ee7fe0",
     "showTitle": false,
     "tableResultSettingsMap": {},
     "title": ""
    }
   },
   "outputs": [
    {
     "output_type": "stream",
     "name": "stdout",
     "output_type": "stream",
     "text": [
      "Requirement already satisfied: mlflow>=3.1.1 in /local_disk0/.ephemeral_nfs/envs/pythonEnv-bfbb4a02-2002-4df7-9a4f-9e84bb78d90d/lib/python3.11/site-packages (from mlflow[databricks]>=3.1.1) (3.1.1)\nRequirement already satisfied: openai in /local_disk0/.ephemeral_nfs/envs/pythonEnv-bfbb4a02-2002-4df7-9a4f-9e84bb78d90d/lib/python3.11/site-packages (1.91.0)\nRequirement already satisfied: mlflow-skinny==3.1.1 in /local_disk0/.ephemeral_nfs/envs/pythonEnv-bfbb4a02-2002-4df7-9a4f-9e84bb78d90d/lib/python3.11/site-packages (from mlflow>=3.1.1->mlflow[databricks]>=3.1.1) (3.1.1)\nRequirement already satisfied: Flask<4 in /local_disk0/.ephemeral_nfs/envs/pythonEnv-bfbb4a02-2002-4df7-9a4f-9e84bb78d90d/lib/python3.11/site-packages (from mlflow>=3.1.1->mlflow[databricks]>=3.1.1) (3.1.1)\nRequirement already satisfied: alembic!=1.10.0,<2 in /local_disk0/.ephemeral_nfs/envs/pythonEnv-bfbb4a02-2002-4df7-9a4f-9e84bb78d90d/lib/python3.11/site-packages (from mlflow>=3.1.1->mlflow[databricks]>=3.1.1) (1.16.2)\nRequirement already satisfied: docker<8,>=4.0.0 in /local_disk0/.ephemeral_nfs/envs/pythonEnv-bfbb4a02-2002-4df7-9a4f-9e84bb78d90d/lib/python3.11/site-packages (from mlflow>=3.1.1->mlflow[databricks]>=3.1.1) (7.1.0)\nRequirement already satisfied: graphene<4 in /local_disk0/.ephemeral_nfs/envs/pythonEnv-bfbb4a02-2002-4df7-9a4f-9e84bb78d90d/lib/python3.11/site-packages (from mlflow>=3.1.1->mlflow[databricks]>=3.1.1) (3.4.3)\nRequirement already satisfied: gunicorn<24 in /local_disk0/.ephemeral_nfs/envs/pythonEnv-bfbb4a02-2002-4df7-9a4f-9e84bb78d90d/lib/python3.11/site-packages (from mlflow>=3.1.1->mlflow[databricks]>=3.1.1) (23.0.0)\nRequirement already satisfied: matplotlib<4 in /databricks/python3/lib/python3.11/site-packages (from mlflow>=3.1.1->mlflow[databricks]>=3.1.1) (3.7.2)\nRequirement already satisfied: numpy<3 in /databricks/python3/lib/python3.11/site-packages (from mlflow>=3.1.1->mlflow[databricks]>=3.1.1) (1.23.5)\nRequirement already satisfied: pandas<3 in /databricks/python3/lib/python3.11/site-packages (from mlflow>=3.1.1->mlflow[databricks]>=3.1.1) (1.5.3)\nRequirement already satisfied: pyarrow<21,>=4.0.0 in /databricks/python3/lib/python3.11/site-packages (from mlflow>=3.1.1->mlflow[databricks]>=3.1.1) (14.0.1)\nRequirement already satisfied: scikit-learn<2 in /databricks/python3/lib/python3.11/site-packages (from mlflow>=3.1.1->mlflow[databricks]>=3.1.1) (1.3.0)\nRequirement already satisfied: scipy<2 in /databricks/python3/lib/python3.11/site-packages (from mlflow>=3.1.1->mlflow[databricks]>=3.1.1) (1.11.1)\nRequirement already satisfied: sqlalchemy<3,>=1.4.0 in /local_disk0/.ephemeral_nfs/envs/pythonEnv-bfbb4a02-2002-4df7-9a4f-9e84bb78d90d/lib/python3.11/site-packages (from mlflow>=3.1.1->mlflow[databricks]>=3.1.1) (2.0.41)\nRequirement already satisfied: cachetools<7,>=5.0.0 in /databricks/python3/lib/python3.11/site-packages (from mlflow-skinny==3.1.1->mlflow>=3.1.1->mlflow[databricks]>=3.1.1) (5.5.0)\nRequirement already satisfied: click<9,>=7.0 in /local_disk0/.ephemeral_nfs/envs/pythonEnv-bfbb4a02-2002-4df7-9a4f-9e84bb78d90d/lib/python3.11/site-packages (from mlflow-skinny==3.1.1->mlflow>=3.1.1->mlflow[databricks]>=3.1.1) (8.2.1)\nRequirement already satisfied: cloudpickle<4 in /databricks/python3/lib/python3.11/site-packages (from mlflow-skinny==3.1.1->mlflow>=3.1.1->mlflow[databricks]>=3.1.1) (3.0.0)\nRequirement already satisfied: databricks-sdk<1,>=0.20.0 in /local_disk0/.ephemeral_nfs/envs/pythonEnv-bfbb4a02-2002-4df7-9a4f-9e84bb78d90d/lib/python3.11/site-packages (from mlflow-skinny==3.1.1->mlflow>=3.1.1->mlflow[databricks]>=3.1.1) (0.55.0)\nRequirement already satisfied: fastapi<1 in /local_disk0/.ephemeral_nfs/envs/pythonEnv-bfbb4a02-2002-4df7-9a4f-9e84bb78d90d/lib/python3.11/site-packages (from mlflow-skinny==3.1.1->mlflow>=3.1.1->mlflow[databricks]>=3.1.1) (0.115.13)\nRequirement already satisfied: gitpython<4,>=3.1.9 in /databricks/python3/lib/python3.11/site-packages (from mlflow-skinny==3.1.1->mlflow>=3.1.1->mlflow[databricks]>=3.1.1) (3.1.43)\nRequirement already satisfied: importlib_metadata!=4.7.0,<9,>=3.7.0 in /databricks/python3/lib/python3.11/site-packages (from mlflow-skinny==3.1.1->mlflow>=3.1.1->mlflow[databricks]>=3.1.1) (6.0.0)\nRequirement already satisfied: opentelemetry-api<3,>=1.9.0 in /local_disk0/.ephemeral_nfs/envs/pythonEnv-bfbb4a02-2002-4df7-9a4f-9e84bb78d90d/lib/python3.11/site-packages (from mlflow-skinny==3.1.1->mlflow>=3.1.1->mlflow[databricks]>=3.1.1) (1.34.1)\nRequirement already satisfied: opentelemetry-sdk<3,>=1.9.0 in /local_disk0/.ephemeral_nfs/envs/pythonEnv-bfbb4a02-2002-4df7-9a4f-9e84bb78d90d/lib/python3.11/site-packages (from mlflow-skinny==3.1.1->mlflow>=3.1.1->mlflow[databricks]>=3.1.1) (1.34.1)\nRequirement already satisfied: packaging<26 in /databricks/python3/lib/python3.11/site-packages (from mlflow-skinny==3.1.1->mlflow>=3.1.1->mlflow[databricks]>=3.1.1) (23.2)\nRequirement already satisfied: protobuf<7,>=3.12.0 in /local_disk0/.ephemeral_nfs/envs/pythonEnv-bfbb4a02-2002-4df7-9a4f-9e84bb78d90d/lib/python3.11/site-packages (from mlflow-skinny==3.1.1->mlflow>=3.1.1->mlflow[databricks]>=3.1.1) (4.25.8)\nRequirement already satisfied: pydantic<3,>=1.10.8 in /local_disk0/.ephemeral_nfs/envs/pythonEnv-bfbb4a02-2002-4df7-9a4f-9e84bb78d90d/lib/python3.11/site-packages (from mlflow-skinny==3.1.1->mlflow>=3.1.1->mlflow[databricks]>=3.1.1) (2.11.7)\nRequirement already satisfied: pyyaml<7,>=5.1 in /databricks/python3/lib/python3.11/site-packages (from mlflow-skinny==3.1.1->mlflow>=3.1.1->mlflow[databricks]>=3.1.1) (6.0)\nRequirement already satisfied: requests<3,>=2.17.3 in /databricks/python3/lib/python3.11/site-packages (from mlflow-skinny==3.1.1->mlflow>=3.1.1->mlflow[databricks]>=3.1.1) (2.31.0)\nRequirement already satisfied: sqlparse<1,>=0.4.0 in /databricks/python3/lib/python3.11/site-packages (from mlflow-skinny==3.1.1->mlflow>=3.1.1->mlflow[databricks]>=3.1.1) (0.5.1)\nRequirement already satisfied: typing-extensions<5,>=4.0.0 in /local_disk0/.ephemeral_nfs/envs/pythonEnv-bfbb4a02-2002-4df7-9a4f-9e84bb78d90d/lib/python3.11/site-packages (from mlflow-skinny==3.1.1->mlflow>=3.1.1->mlflow[databricks]>=3.1.1) (4.14.0)\nRequirement already satisfied: uvicorn<1 in /local_disk0/.ephemeral_nfs/envs/pythonEnv-bfbb4a02-2002-4df7-9a4f-9e84bb78d90d/lib/python3.11/site-packages (from mlflow-skinny==3.1.1->mlflow>=3.1.1->mlflow[databricks]>=3.1.1) (0.34.3)\nRequirement already satisfied: anyio<5,>=3.5.0 in /local_disk0/.ephemeral_nfs/envs/pythonEnv-bfbb4a02-2002-4df7-9a4f-9e84bb78d90d/lib/python3.11/site-packages (from openai) (4.9.0)\nRequirement already satisfied: distro<2,>=1.7.0 in /usr/lib/python3/dist-packages (from openai) (1.7.0)\nRequirement already satisfied: httpx<1,>=0.23.0 in /local_disk0/.ephemeral_nfs/envs/pythonEnv-bfbb4a02-2002-4df7-9a4f-9e84bb78d90d/lib/python3.11/site-packages (from openai) (0.28.1)\nRequirement already satisfied: jiter<1,>=0.4.0 in /local_disk0/.ephemeral_nfs/envs/pythonEnv-bfbb4a02-2002-4df7-9a4f-9e84bb78d90d/lib/python3.11/site-packages (from openai) (0.10.0)\nRequirement already satisfied: sniffio in /local_disk0/.ephemeral_nfs/envs/pythonEnv-bfbb4a02-2002-4df7-9a4f-9e84bb78d90d/lib/python3.11/site-packages (from openai) (1.3.1)\nRequirement already satisfied: tqdm>4 in /local_disk0/.ephemeral_nfs/envs/pythonEnv-bfbb4a02-2002-4df7-9a4f-9e84bb78d90d/lib/python3.11/site-packages (from openai) (4.67.1)\nRequirement already satisfied: azure-storage-file-datalake>12 in /databricks/python3/lib/python3.11/site-packages (from mlflow[databricks]>=3.1.1) (12.14.0)\nRequirement already satisfied: google-cloud-storage>=1.30.0 in /databricks/python3/lib/python3.11/site-packages (from mlflow[databricks]>=3.1.1) (2.18.2)\nRequirement already satisfied: boto3>1 in /databricks/python3/lib/python3.11/site-packages (from mlflow[databricks]>=3.1.1) (1.34.39)\nRequirement already satisfied: botocore in /databricks/python3/lib/python3.11/site-packages (from mlflow[databricks]>=3.1.1) (1.34.39)\nRequirement already satisfied: databricks-agents<2.0,>=1.0.0 in /local_disk0/.ephemeral_nfs/envs/pythonEnv-bfbb4a02-2002-4df7-9a4f-9e84bb78d90d/lib/python3.11/site-packages (from mlflow[databricks]>=3.1.1) (1.1.0)\nRequirement already satisfied: Mako in /local_disk0/.ephemeral_nfs/envs/pythonEnv-bfbb4a02-2002-4df7-9a4f-9e84bb78d90d/lib/python3.11/site-packages (from alembic!=1.10.0,<2->mlflow>=3.1.1->mlflow[databricks]>=3.1.1) (1.3.10)\nRequirement already satisfied: idna>=2.8 in /databricks/python3/lib/python3.11/site-packages (from anyio<5,>=3.5.0->openai) (3.4)\nRequirement already satisfied: azure-core<2.0.0,>=1.28.0 in /databricks/python3/lib/python3.11/site-packages (from azure-storage-file-datalake>12->mlflow[databricks]>=3.1.1) (1.32.0)\nRequirement already satisfied: azure-storage-blob<13.0.0,>=12.19.0 in /databricks/python3/lib/python3.11/site-packages (from azure-storage-file-datalake>12->mlflow[databricks]>=3.1.1) (12.19.1)\nRequirement already satisfied: isodate>=0.6.1 in /databricks/python3/lib/python3.11/site-packages (from azure-storage-file-datalake>12->mlflow[databricks]>=3.1.1) (0.7.2)\nRequirement already satisfied: jmespath<2.0.0,>=0.7.1 in /databricks/python3/lib/python3.11/site-packages (from boto3>1->mlflow[databricks]>=3.1.1) (0.10.0)\nRequirement already satisfied: s3transfer<0.11.0,>=0.10.0 in /databricks/python3/lib/python3.11/site-packages (from boto3>1->mlflow[databricks]>=3.1.1) (0.10.3)\nRequirement already satisfied: python-dateutil<3.0.0,>=2.1 in /databricks/python3/lib/python3.11/site-packages (from botocore->mlflow[databricks]>=3.1.1) (2.8.2)\nRequirement already satisfied: urllib3<2.1,>=1.25.4 in /local_disk0/.ephemeral_nfs/envs/pythonEnv-bfbb4a02-2002-4df7-9a4f-9e84bb78d90d/lib/python3.11/site-packages (from botocore->mlflow[databricks]>=3.1.1) (2.0.7)\nRequirement already satisfied: databricks-connect in /databricks/python3/lib/python3.11/site-packages (from databricks-agents<2.0,>=1.0.0->mlflow[databricks]>=3.1.1) (15.4.5)\nRequirement already satisfied: dataclasses-json in /local_disk0/.ephemeral_nfs/envs/pythonEnv-bfbb4a02-2002-4df7-9a4f-9e84bb78d90d/lib/python3.11/site-packages (from databricks-agents<2.0,>=1.0.0->mlflow[databricks]>=3.1.1) (0.6.7)\nRequirement already satisfied: jinja2>=3.0.0 in /local_disk0/.ephemeral_nfs/envs/pythonEnv-bfbb4a02-2002-4df7-9a4f-9e84bb78d90d/lib/python3.11/site-packages (from databricks-agents<2.0,>=1.0.0->mlflow[databricks]>=3.1.1) (3.1.6)\nRequirement already satisfied: tenacity>=8.5 in /local_disk0/.ephemeral_nfs/envs/pythonEnv-bfbb4a02-2002-4df7-9a4f-9e84bb78d90d/lib/python3.11/site-packages (from databricks-agents<2.0,>=1.0.0->mlflow[databricks]>=3.1.1) (9.1.2)\nRequirement already satisfied: tiktoken>=0.8.0 in /local_disk0/.ephemeral_nfs/envs/pythonEnv-bfbb4a02-2002-4df7-9a4f-9e84bb78d90d/lib/python3.11/site-packages (from databricks-agents<2.0,>=1.0.0->mlflow[databricks]>=3.1.1) (0.9.0)\nRequirement already satisfied: blinker>=1.9.0 in /local_disk0/.ephemeral_nfs/envs/pythonEnv-bfbb4a02-2002-4df7-9a4f-9e84bb78d90d/lib/python3.11/site-packages (from Flask<4->mlflow>=3.1.1->mlflow[databricks]>=3.1.1) (1.9.0)\nRequirement already satisfied: itsdangerous>=2.2.0 in /local_disk0/.ephemeral_nfs/envs/pythonEnv-bfbb4a02-2002-4df7-9a4f-9e84bb78d90d/lib/python3.11/site-packages (from Flask<4->mlflow>=3.1.1->mlflow[databricks]>=3.1.1) (2.2.0)\nRequirement already satisfied: markupsafe>=2.1.1 in /local_disk0/.ephemeral_nfs/envs/pythonEnv-bfbb4a02-2002-4df7-9a4f-9e84bb78d90d/lib/python3.11/site-packages (from Flask<4->mlflow>=3.1.1->mlflow[databricks]>=3.1.1) (3.0.2)\nRequirement already satisfied: werkzeug>=3.1.0 in /local_disk0/.ephemeral_nfs/envs/pythonEnv-bfbb4a02-2002-4df7-9a4f-9e84bb78d90d/lib/python3.11/site-packages (from Flask<4->mlflow>=3.1.1->mlflow[databricks]>=3.1.1) (3.1.3)\nRequirement already satisfied: google-auth<3.0dev,>=2.26.1 in /databricks/python3/lib/python3.11/site-packages (from google-cloud-storage>=1.30.0->mlflow[databricks]>=3.1.1) (2.35.0)\nRequirement already satisfied: google-api-core<3.0.0dev,>=2.15.0 in /databricks/python3/lib/python3.11/site-packages (from google-cloud-storage>=1.30.0->mlflow[databricks]>=3.1.1) (2.18.0)\nRequirement already satisfied: google-cloud-core<3.0dev,>=2.3.0 in /databricks/python3/lib/python3.11/site-packages (from google-cloud-storage>=1.30.0->mlflow[databricks]>=3.1.1) (2.4.1)\nRequirement already satisfied: google-resumable-media>=2.7.2 in /databricks/python3/lib/python3.11/site-packages (from google-cloud-storage>=1.30.0->mlflow[databricks]>=3.1.1) (2.7.2)\nRequirement already satisfied: google-crc32c<2.0dev,>=1.0 in /databricks/python3/lib/python3.11/site-packages (from google-cloud-storage>=1.30.0->mlflow[databricks]>=3.1.1) (1.6.0)\nRequirement already satisfied: graphql-core<3.3,>=3.1 in /local_disk0/.ephemeral_nfs/envs/pythonEnv-bfbb4a02-2002-4df7-9a4f-9e84bb78d90d/lib/python3.11/site-packages (from graphene<4->mlflow>=3.1.1->mlflow[databricks]>=3.1.1) (3.2.6)\nRequirement already satisfied: graphql-relay<3.3,>=3.1 in /local_disk0/.ephemeral_nfs/envs/pythonEnv-bfbb4a02-2002-4df7-9a4f-9e84bb78d90d/lib/python3.11/site-packages (from graphene<4->mlflow>=3.1.1->mlflow[databricks]>=3.1.1) (3.2.0)\nRequirement already satisfied: certifi in /databricks/python3/lib/python3.11/site-packages (from httpx<1,>=0.23.0->openai) (2023.7.22)\nRequirement already satisfied: httpcore==1.* in /local_disk0/.ephemeral_nfs/envs/pythonEnv-bfbb4a02-2002-4df7-9a4f-9e84bb78d90d/lib/python3.11/site-packages (from httpx<1,>=0.23.0->openai) (1.0.9)\nRequirement already satisfied: h11>=0.16 in /local_disk0/.ephemeral_nfs/envs/pythonEnv-bfbb4a02-2002-4df7-9a4f-9e84bb78d90d/lib/python3.11/site-packages (from httpcore==1.*->httpx<1,>=0.23.0->openai) (0.16.0)\nRequirement already satisfied: contourpy>=1.0.1 in /databricks/python3/lib/python3.11/site-packages (from matplotlib<4->mlflow>=3.1.1->mlflow[databricks]>=3.1.1) (1.0.5)\nRequirement already satisfied: cycler>=0.10 in /databricks/python3/lib/python3.11/site-packages (from matplotlib<4->mlflow>=3.1.1->mlflow[databricks]>=3.1.1) (0.11.0)\nRequirement already satisfied: fonttools>=4.22.0 in /databricks/python3/lib/python3.11/site-packages (from matplotlib<4->mlflow>=3.1.1->mlflow[databricks]>=3.1.1) (4.25.0)\nRequirement already satisfied: kiwisolver>=1.0.1 in /databricks/python3/lib/python3.11/site-packages (from matplotlib<4->mlflow>=3.1.1->mlflow[databricks]>=3.1.1) (1.4.4)\nRequirement already satisfied: pillow>=6.2.0 in /databricks/python3/lib/python3.11/site-packages (from matplotlib<4->mlflow>=3.1.1->mlflow[databricks]>=3.1.1) (10.3.0)\nRequirement already satisfied: pyparsing<3.1,>=2.3.1 in /databricks/python3/lib/python3.11/site-packages (from matplotlib<4->mlflow>=3.1.1->mlflow[databricks]>=3.1.1) (3.0.9)\nRequirement already satisfied: pytz>=2020.1 in /databricks/python3/lib/python3.11/site-packages (from pandas<3->mlflow>=3.1.1->mlflow[databricks]>=3.1.1) (2022.7)\nRequirement already satisfied: annotated-types>=0.6.0 in /local_disk0/.ephemeral_nfs/envs/pythonEnv-bfbb4a02-2002-4df7-9a4f-9e84bb78d90d/lib/python3.11/site-packages (from pydantic<3,>=1.10.8->mlflow-skinny==3.1.1->mlflow>=3.1.1->mlflow[databricks]>=3.1.1) (0.7.0)\nRequirement already satisfied: pydantic-core==2.33.2 in /local_disk0/.ephemeral_nfs/envs/pythonEnv-bfbb4a02-2002-4df7-9a4f-9e84bb78d90d/lib/python3.11/site-packages (from pydantic<3,>=1.10.8->mlflow-skinny==3.1.1->mlflow>=3.1.1->mlflow[databricks]>=3.1.1) (2.33.2)\nRequirement already satisfied: typing-inspection>=0.4.0 in /local_disk0/.ephemeral_nfs/envs/pythonEnv-bfbb4a02-2002-4df7-9a4f-9e84bb78d90d/lib/python3.11/site-packages (from pydantic<3,>=1.10.8->mlflow-skinny==3.1.1->mlflow>=3.1.1->mlflow[databricks]>=3.1.1) (0.4.1)\nRequirement already satisfied: joblib>=1.1.1 in /databricks/python3/lib/python3.11/site-packages (from scikit-learn<2->mlflow>=3.1.1->mlflow[databricks]>=3.1.1) (1.2.0)\nRequirement already satisfied: threadpoolctl>=2.0.0 in /databricks/python3/lib/python3.11/site-packages (from scikit-learn<2->mlflow>=3.1.1->mlflow[databricks]>=3.1.1) (2.2.0)\nRequirement already satisfied: greenlet>=1 in /local_disk0/.ephemeral_nfs/envs/pythonEnv-bfbb4a02-2002-4df7-9a4f-9e84bb78d90d/lib/python3.11/site-packages (from sqlalchemy<3,>=1.4.0->mlflow>=3.1.1->mlflow[databricks]>=3.1.1) (3.2.3)\nRequirement already satisfied: six>=1.11.0 in /usr/lib/python3/dist-packages (from azure-core<2.0.0,>=1.28.0->azure-storage-file-datalake>12->mlflow[databricks]>=3.1.1) (1.16.0)\nRequirement already satisfied: cryptography>=2.1.4 in /databricks/python3/lib/python3.11/site-packages (from azure-storage-blob<13.0.0,>=12.19.0->azure-storage-file-datalake>12->mlflow[databricks]>=3.1.1) (41.0.3)\nRequirement already satisfied: starlette<0.47.0,>=0.40.0 in /local_disk0/.ephemeral_nfs/envs/pythonEnv-bfbb4a02-2002-4df7-9a4f-9e84bb78d90d/lib/python3.11/site-packages (from fastapi<1->mlflow-skinny==3.1.1->mlflow>=3.1.1->mlflow[databricks]>=3.1.1) (0.46.2)\nRequirement already satisfied: gitdb<5,>=4.0.1 in /databricks/python3/lib/python3.11/site-packages (from gitpython<4,>=3.1.9->mlflow-skinny==3.1.1->mlflow>=3.1.1->mlflow[databricks]>=3.1.1) (4.0.11)\nRequirement already satisfied: googleapis-common-protos<2.0.dev0,>=1.56.2 in /databricks/python3/lib/python3.11/site-packages (from google-api-core<3.0.0dev,>=2.15.0->google-cloud-storage>=1.30.0->mlflow[databricks]>=3.1.1) (1.65.0)\nRequirement already satisfied: proto-plus<2.0.0dev,>=1.22.3 in /databricks/python3/lib/python3.11/site-packages (from google-api-core<3.0.0dev,>=2.15.0->google-cloud-storage>=1.30.0->mlflow[databricks]>=3.1.1) (1.25.0)\nRequirement already satisfied: pyasn1-modules>=0.2.1 in /databricks/python3/lib/python3.11/site-packages (from google-auth<3.0dev,>=2.26.1->google-cloud-storage>=1.30.0->mlflow[databricks]>=3.1.1) (0.2.8)\nRequirement already satisfied: rsa<5,>=3.1.4 in /databricks/python3/lib/python3.11/site-packages (from google-auth<3.0dev,>=2.26.1->google-cloud-storage>=1.30.0->mlflow[databricks]>=3.1.1) (4.9)\nRequirement already satisfied: zipp>=0.5 in /databricks/python3/lib/python3.11/site-packages (from importlib_metadata!=4.7.0,<9,>=3.7.0->mlflow-skinny==3.1.1->mlflow>=3.1.1->mlflow[databricks]>=3.1.1) (3.11.0)\nRequirement already satisfied: opentelemetry-semantic-conventions==0.55b1 in /local_disk0/.ephemeral_nfs/envs/pythonEnv-bfbb4a02-2002-4df7-9a4f-9e84bb78d90d/lib/python3.11/site-packages (from opentelemetry-sdk<3,>=1.9.0->mlflow-skinny==3.1.1->mlflow>=3.1.1->mlflow[databricks]>=3.1.1) (0.55b1)\nRequirement already satisfied: charset-normalizer<4,>=2 in /databricks/python3/lib/python3.11/site-packages (from requests<3,>=2.17.3->mlflow-skinny==3.1.1->mlflow>=3.1.1->mlflow[databricks]>=3.1.1) (2.0.4)\nRequirement already satisfied: regex>=2022.1.18 in /local_disk0/.ephemeral_nfs/envs/pythonEnv-bfbb4a02-2002-4df7-9a4f-9e84bb78d90d/lib/python3.11/site-packages (from tiktoken>=0.8.0->databricks-agents<2.0,>=1.0.0->mlflow[databricks]>=3.1.1) (2024.11.6)\nRequirement already satisfied: grpcio-status>=1.59.3 in /local_disk0/.ephemeral_nfs/envs/pythonEnv-bfbb4a02-2002-4df7-9a4f-9e84bb78d90d/lib/python3.11/site-packages (from databricks-connect->databricks-agents<2.0,>=1.0.0->mlflow[databricks]>=3.1.1) (1.62.3)\nRequirement already satisfied: grpcio>=1.59.3 in /databricks/python3/lib/python3.11/site-packages (from databricks-connect->databricks-agents<2.0,>=1.0.0->mlflow[databricks]>=3.1.1) (1.69.0)\nRequirement already satisfied: py4j==0.10.9.7 in /databricks/python3/lib/python3.11/site-packages (from databricks-connect->databricks-agents<2.0,>=1.0.0->mlflow[databricks]>=3.1.1) (0.10.9.7)\nRequirement already satisfied: setuptools>=68.0.0 in /databricks/python3/lib/python3.11/site-packages (from databricks-connect->databricks-agents<2.0,>=1.0.0->mlflow[databricks]>=3.1.1) (75.1.0)\nRequirement already satisfied: marshmallow<4.0.0,>=3.18.0 in /local_disk0/.ephemeral_nfs/envs/pythonEnv-bfbb4a02-2002-4df7-9a4f-9e84bb78d90d/lib/python3.11/site-packages (from dataclasses-json->databricks-agents<2.0,>=1.0.0->mlflow[databricks]>=3.1.1) (3.26.1)\nRequirement already satisfied: typing-inspect<1,>=0.4.0 in /local_disk0/.ephemeral_nfs/envs/pythonEnv-bfbb4a02-2002-4df7-9a4f-9e84bb78d90d/lib/python3.11/site-packages (from dataclasses-json->databricks-agents<2.0,>=1.0.0->mlflow[databricks]>=3.1.1) (0.9.0)\nRequirement already satisfied: cffi>=1.12 in /databricks/python3/lib/python3.11/site-packages (from cryptography>=2.1.4->azure-storage-blob<13.0.0,>=12.19.0->azure-storage-file-datalake>12->mlflow[databricks]>=3.1.1) (1.15.1)\nRequirement already satisfied: smmap<6,>=3.0.1 in /databricks/python3/lib/python3.11/site-packages (from gitdb<5,>=4.0.1->gitpython<4,>=3.1.9->mlflow-skinny==3.1.1->mlflow>=3.1.1->mlflow[databricks]>=3.1.1) (5.0.1)\nRequirement already satisfied: pyasn1<0.5.0,>=0.4.6 in /databricks/python3/lib/python3.11/site-packages (from pyasn1-modules>=0.2.1->google-auth<3.0dev,>=2.26.1->google-cloud-storage>=1.30.0->mlflow[databricks]>=3.1.1) (0.4.8)\nRequirement already satisfied: mypy-extensions>=0.3.0 in /databricks/python3/lib/python3.11/site-packages (from typing-inspect<1,>=0.4.0->dataclasses-json->databricks-agents<2.0,>=1.0.0->mlflow[databricks]>=3.1.1) (0.4.3)\nRequirement already satisfied: pycparser in /databricks/python3/lib/python3.11/site-packages (from cffi>=1.12->cryptography>=2.1.4->azure-storage-blob<13.0.0,>=12.19.0->azure-storage-file-datalake>12->mlflow[databricks]>=3.1.1) (2.21)\n\u001B[43mNote: you may need to restart the kernel using %restart_python or dbutils.library.restartPython() to use updated packages.\u001B[0m\n"
     ]
    }
   ],
   "source": [
    "%pip install \"mlflow[databricks]>=3.1.1\" openai\n",
    "\n",
    "%restart_python"
   ]
  },
  {
   "cell_type": "markdown",
   "metadata": {
    "application/vnd.databricks.v1+cell": {
     "cellMetadata": {},
     "inputWidgets": {},
     "nuid": "bb0fd8a8-30e5-4add-af20-206bedeedd1c",
     "showTitle": false,
     "tableResultSettingsMap": {},
     "title": ""
    }
   },
   "source": [
    "## ステップ 1: アプリケーションを作成する\n",
    "\n",
    "このガイドでは、次のような Eメール 生成アプリを評価します。\n",
    "\n",
    "- CRMデータベースから顧客情報を取得します\n",
    "- 取得した情報に基づいてパーソナライズされたフォローアップEメール\n",
    "\n",
    "Eメール生成アプリを作りましょう。 取得コンポーネントは、MLflow の取得固有のスコアラーを有効にするために ```span_type=\"RETRIEVER\"``` でマークされています。"
   ]
  },
  {
   "cell_type": "code",
   "execution_count": 0,
   "metadata": {
    "application/vnd.databricks.v1+cell": {
     "cellMetadata": {
      "byteLimit": 2048000,
      "rowLimit": 10000
     },
     "inputWidgets": {},
     "nuid": "33b357b8-ddf1-48ac-a53e-6a31bb847eb1",
     "showTitle": false,
     "tableResultSettingsMap": {},
     "title": ""
    }
   },
   "outputs": [
    {
     "output_type": "stream",
     "name": "stdout",
     "output_type": "stream",
     "text": [
      "以下は、商品デモの後にアリスさんへフォローアップするメールの例です。\n\n---\n\n件名: エンタープライズ機能に関するフォローアップ\n\nアリスさん\n\n先日は、当社の製品デモにご参加いただき、誠にありがとうございました。エンタープライズ機能に対するご関心を記憶しています。この度、ご質問いただいた機能やサポートチケットに関する現在の状況についてご報告いたします。\n\n1. **高度な分析とリアルタイムダッシュボード**：当社のソリューションは、詳細な分析とリアルタイムのデータ提供を可能とします。これにより、ビジネスのインサイトを深め、迅速な意思決定をサポートします。\n2. **API統合**：APIを通じての統合は、システム間のシームレスなデータ交換を可能にします。この機能については、先週解決したAPIの遅延問題（Ticket #123）以来、さらなる最適化が行われています。\n3. **カスタムレポートとマルチユーザーサポート**：ご要望に応え、カスタマイズ可能なレポート機能と複数ユーザーのサポートが提供可能です。これにより、チームのコラボレーションとレポートのカスタマイズが容易になります。\n4. **SSO認証とデータエクスポート**：シングルサインオン（SSO）認証とデータエクスポート機能も提供しています。これらは、セキュリティとデータの可搬性を向上させるための重要な機能です。\n5. **500人以上のユーザー向けの価格設定**：ご要望に応じて、エンタープライズプランの価格について詳細を提供します。請求に関する詳細な情報を別途送付します。\n\nまた、ご要望のあった一括インポートに関する機能リクエスト（Ticket #124）とGDPRコンプライアンスに関する質問（Ticket #125）についても、担当チームが対応中です。ご了承ください。\n\nアカウントマネージャーのサラ・ジョンソンもご連絡先をご共有しております。ご不明な点や追加の質問がございましたら、いつでもお気軽にご連絡ください。サラはあなたのニーズに合わせたサポートを提供いたします。\n\n今後ともどうぞよろしくお願い申し上げます。\n\n---\n[あなたの名前]  \n営業担当  \n[会社名]  \n[連絡先]\n"
     ]
    },
    {
     "output_type": "display_data",
     "data": {
      "application/databricks.mlflow.trace": "\"tr-80cb0e09a84eaa29f91d7d659d0de83d\"",
      "text/plain": [
       "Trace(trace_id=tr-80cb0e09a84eaa29f91d7d659d0de83d)"
      ]
     },
     "metadata": {},
     "output_type": "display_data"
    }
   ],
   "source": [
    "import mlflow\n",
    "from openai import OpenAI\n",
    "from mlflow.entities import Document\n",
    "from typing import List, Dict\n",
    "\n",
    "# OpenAI呼び出しの自動トレースを有効にする\n",
    "mlflow.openai.autolog()\n",
    "\n",
    "# 同じ資格情報を使用してOpenAI経由でDatabricks LLMに接続する\n",
    "# あるいは、ここで独自のOpenAI資格情報を使用することもできます\n",
    "mlflow_creds = mlflow.utils.databricks_utils.get_databricks_host_creds()\n",
    "client = OpenAI(\n",
    "    api_key=mlflow_creds.token, base_url=f\"{mlflow_creds.host}/serving-endpoints\"\n",
    ")\n",
    "\n",
    "# シミュレートされたCRMデータベース\n",
    "CRM_DATA = {\n",
    "    \"Acme Corp\": {\n",
    "        \"contact_name\": \"アリス・チェン\",\n",
    "        \"recent_meeting\": \"月曜日に製品デモを行い、エンタープライズ機能に非常に興味を持っていました。彼らは次のことについて質問しました：高度な分析、リアルタイムダッシュボード、API統合、カスタムレポート、マルチユーザーサポート、SSO認証、データエクスポート機能、および500人以上のユーザー向けの価格設定\",\n",
    "        \"support_tickets\": [\n",
    "            \"Ticket #123: APIの遅延問題（先週解決済み）\",\n",
    "            \"Ticket #124: 一括インポートの機能リクエスト\",\n",
    "            \"Ticket #125: GDPRコンプライアンスに関する質問\",\n",
    "        ],\n",
    "        \"account_manager\": \"サラ・ジョンソン\",\n",
    "    },\n",
    "    \"TechStart\": {\n",
    "        \"contact_name\": \"ボブ・マルティネス\",\n",
    "        \"recent_meeting\": \"先週の木曜日に初回の営業電話を行い、価格をリクエストしました\",\n",
    "        \"support_tickets\": [\n",
    "            \"Ticket #456: ログイン問題（オープン - クリティカル）\",\n",
    "            \"Ticket #457: パフォーマンスの低下が報告されました\",\n",
    "            \"Ticket #458: 彼らのCRMとの統合が失敗しています\",\n",
    "        ],\n",
    "        \"account_manager\": \"マイク・トンプソン\",\n",
    "    },\n",
    "    \"Global Retail\": {\n",
    "        \"contact_name\": \"キャロル・ワン\",\n",
    "        \"recent_meeting\": \"昨日の四半期レビューで、プラットフォームのパフォーマンスに満足しています\",\n",
    "        \"support_tickets\": [],\n",
    "        \"account_manager\": \"サラ・ジョンソン\",\n",
    "    },\n",
    "}\n",
    "\n",
    "\n",
    "# MLflowの事前定義されたRetrievalGroundednessスコアラーが機能するようにリトリーバースパンを使用する\n",
    "@mlflow.trace(span_type=\"RETRIEVER\")\n",
    "def retrieve_customer_info(customer_name: str) -> List[Document]:\n",
    "    \"\"\"CRMデータベースから顧客情報を取得する\"\"\"\n",
    "    if customer_name in CRM_DATA:\n",
    "        data = CRM_DATA[customer_name]\n",
    "        return [\n",
    "            Document(\n",
    "                id=f\"{customer_name}_meeting\",\n",
    "                page_content=f\"Recent meeting: {data['recent_meeting']}\",\n",
    "                metadata={\"type\": \"meeting_notes\"},\n",
    "            ),\n",
    "            Document(\n",
    "                id=f\"{customer_name}_tickets\",\n",
    "                page_content=f\"Support tickets: {', '.join(data['support_tickets']) if data['support_tickets'] else 'No open tickets'}\",\n",
    "                metadata={\"type\": \"support_status\"},\n",
    "            ),\n",
    "            Document(\n",
    "                id=f\"{customer_name}_contact\",\n",
    "                page_content=f\"Contact: {data['contact_name']}, Account Manager: {data['account_manager']}\",\n",
    "                metadata={\"type\": \"contact_info\"},\n",
    "            ),\n",
    "        ]\n",
    "    return []\n",
    "\n",
    "\n",
    "@mlflow.trace\n",
    "def generate_sales_email(customer_name: str, user_instructions: str) -> Dict[str, str]:\n",
    "    \"\"\"顧客データと営業担当者の指示に基づいてパーソナライズされた営業メールを生成する\"\"\"\n",
    "    # 顧客情報を取得する\n",
    "    customer_docs = retrieve_customer_info(customer_name)\n",
    "\n",
    "    # 取得したコンテキストを結合する\n",
    "    context = \"\\n\".join([doc.page_content for doc in customer_docs])\n",
    "\n",
    "    # 取得したコンテキストを使用してメールを生成する\n",
    "    prompt = f\"\"\"あなたは営業担当者です。以下の顧客情報に基づき、\n",
    "    顧客からのリクエストに対応した簡潔なフォローアップメールを作成してください。\n",
    "\n",
    "    顧客情報:\n",
    "    {context}\n",
    "\n",
    "    ユーザー指示: {user_instructions}\n",
    "\n",
    "    メールは簡潔かつパーソナライズされた内容にしてください。\"\"\"\n",
    "\n",
    "    response = client.chat.completions.create(\n",
    "        model=\"databricks-meta-llama-3-3-70b-instruct\",\n",
    "        messages=[\n",
    "            {\"role\": \"system\", \"content\": \"あなたは役に立つ営業アシスタントです。\"},\n",
    "            {\"role\": \"user\", \"content\": prompt},\n",
    "        ],\n",
    "        max_tokens=2000,\n",
    "    )\n",
    "\n",
    "    return {\"email\": response.choices[0].message.content}\n",
    "\n",
    "\n",
    "# アプリケーションをテストする\n",
    "result = generate_sales_email(\"Acme Corp\", \"商品デモの後にフォローアップして\")\n",
    "print(result[\"email\"])"
   ]
  },
  {
   "cell_type": "markdown",
   "metadata": {
    "application/vnd.databricks.v1+cell": {
     "cellMetadata": {},
     "inputWidgets": {},
     "nuid": "b6b9fd89-51e5-4b67-81a1-d556be944c73",
     "showTitle": false,
     "tableResultSettingsMap": {},
     "title": ""
    }
   },
   "source": [
    "\n",
    "## ステップ 2: 本番運用のトラフィックをシミュレートする\n",
    "\n",
    "この手順では、デモンストレーションの目的でトラフィックをシミュレートします。\n",
    "\n",
    "実際には、実際の使用状況のトレース トレース を使用して評価データセットを作成します。"
   ]
  },
  {
   "cell_type": "code",
   "execution_count": 0,
   "metadata": {
    "application/vnd.databricks.v1+cell": {
     "cellMetadata": {
      "byteLimit": 2048000,
      "rowLimit": 10000
     },
     "inputWidgets": {},
     "nuid": "324ecf57-8425-4f7e-b7cd-b477b634d80e",
     "showTitle": false,
     "tableResultSettingsMap": {},
     "title": ""
    }
   },
   "outputs": [
    {
     "output_type": "stream",
     "name": "stderr",
     "output_type": "stream",
     "text": [
      "2025/06/29 01:45:17 INFO mlflow.tracking.fluent: LoggedModel with name 'sales_email_v1' does not exist, creating one...\n2025/06/29 01:45:19 INFO mlflow.tracking.fluent: Active model is set to the logged model with ID: m-8333440af4ba404ebc5c96a51a814ac4\n"
     ]
    }
   ],
   "source": [
    "# トレース管理をするLoggedModelを設定\n",
    "active_model_info = mlflow.set_active_model(name=\"sales_email_v1\")\n"
   ]
  },
  {
   "cell_type": "code",
   "execution_count": 0,
   "metadata": {
    "application/vnd.databricks.v1+cell": {
     "cellMetadata": {
      "byteLimit": 2048000,
      "rowLimit": 10000
     },
     "inputWidgets": {},
     "nuid": "6208e300-5a01-4e4d-b442-95eaceac1936",
     "showTitle": false,
     "tableResultSettingsMap": {},
     "title": ""
    }
   },
   "outputs": [
    {
     "output_type": "stream",
     "name": "stdout",
     "output_type": "stream",
     "text": [
      "プロダクション トラフィックをシミュレートしています...\n✓ Acme Corp のメールを生成しました\n✓ TechStart のメールを生成しました\n✓ Global Retail のメールを生成しました\n✓ Acme Corp のメールを生成しました\n✓ TechStart のメールを生成しました\n✓ Global Retail のメールを生成しました\n✓ Acme Corp のメールを生成しました\n"
     ]
    },
    {
     "output_type": "display_data",
     "data": {
      "application/databricks.mlflow.trace": "[\"tr-98333ad260ef2fb7777f30921ca76742\", \"tr-10d380ae4a8c4d36ff39de4218c8a42b\", \"tr-14a88afefe5a2603d7beaf541064ffb2\", \"tr-5c352ec8116a3626d8ee0dd4dfc7b4bf\", \"tr-d043186e5620d03e8be5df1df7451705\", \"tr-563b9e6a26b383e82267a3a2dea48392\", \"tr-7df5143f899aecba556793347493fd69\"]",
      "text/plain": [
       "[Trace(trace_id=tr-98333ad260ef2fb7777f30921ca76742), Trace(trace_id=tr-10d380ae4a8c4d36ff39de4218c8a42b), Trace(trace_id=tr-14a88afefe5a2603d7beaf541064ffb2), Trace(trace_id=tr-5c352ec8116a3626d8ee0dd4dfc7b4bf), Trace(trace_id=tr-d043186e5620d03e8be5df1df7451705), Trace(trace_id=tr-563b9e6a26b383e82267a3a2dea48392), Trace(trace_id=tr-7df5143f899aecba556793347493fd69)]"
      ]
     },
     "metadata": {},
     "output_type": "display_data"
    }
   ],
   "source": [
    "# ガイドライン違反を意図したシナリオでベータテストのトラフィックをシミュレート\n",
    "test_requests = [\n",
    "    {\"customer_name\": \"Acme Corp\", \"user_instructions\": \"製品デモの後にフォローアップ\"},\n",
    "    {\"customer_name\": \"TechStart\", \"user_instructions\": \"サポートチケットの状況を確認\"},\n",
    "    {\"customer_name\": \"Global Retail\", \"user_instructions\": \"四半期レビューの要約を送信\"},\n",
    "    {\"customer_name\": \"Acme Corp\", \"user_instructions\": \"すべての製品機能、価格帯、実装スケジュール、およびサポートオプションを詳しく説明する非常に詳細なメールを書く\"},\n",
    "    {\"customer_name\": \"TechStart\", \"user_instructions\": \"彼らのビジネスに感謝する熱意のあるメールを送信\"},\n",
    "    {\"customer_name\": \"Global Retail\", \"user_instructions\": \"フォローアップメールを送信\"},\n",
    "    {\"customer_name\": \"Acme Corp\", \"user_instructions\": \"物事がどうなっているかを確認するために連絡\"},\n",
    "]\n",
    "\n",
    "# リクエストを実行してトレースを記録する\n",
    "print(\"プロダクション トラフィックをシミュレートしています...\")\n",
    "for req in test_requests:\n",
    "    try:\n",
    "        result = generate_sales_email(**req)\n",
    "        print(f\"✓ {req['customer_name']} のメールを生成しました\")\n",
    "    except Exception as e:\n",
    "        print(f\"✗ {req['customer_name']} のエラー: {e}\")"
   ]
  },
  {
   "cell_type": "markdown",
   "metadata": {
    "application/vnd.databricks.v1+cell": {
     "cellMetadata": {},
     "inputWidgets": {},
     "nuid": "88ef42f7-29f3-4300-836c-d0a0d232a21d",
     "showTitle": false,
     "tableResultSettingsMap": {},
     "title": ""
    }
   },
   "source": [
    "## ステップ 3: 評価データセットを作成する\n",
    "\n",
    "次に、トレースを評価データセットに変換しましょう。評価データセットにトレースを保存すると、評価結果をデータセットにリンクして、データセットの経時的な変更を追跡し、このデータセットを使用して生成されたすべての評価結果を確認できます。\n",
    "\n",
    "評価データセットをプログラムで作成するには、トレースを検索し、それらをデータセットに追加します。"
   ]
  },
  {
   "cell_type": "code",
   "execution_count": 0,
   "metadata": {
    "application/vnd.databricks.v1+cell": {
     "cellMetadata": {
      "byteLimit": 2048000,
      "rowLimit": 10000
     },
     "inputWidgets": {},
     "nuid": "1a20b341-d285-4f68-96cc-5562022b2879",
     "showTitle": false,
     "tableResultSettingsMap": {},
     "title": ""
    }
   },
   "outputs": [
    {
     "output_type": "execute_result",
     "data": {
      "text/plain": [
       "'m-8333440af4ba404ebc5c96a51a814ac4'"
      ]
     },
     "execution_count": 40,
     "metadata": {},
     "output_type": "execute_result"
    }
   ],
   "source": [
    "mlflow.get_active_model_id()"
   ]
  },
  {
   "cell_type": "code",
   "execution_count": 0,
   "metadata": {
    "application/vnd.databricks.v1+cell": {
     "cellMetadata": {
      "byteLimit": 2048000,
      "rowLimit": 10000
     },
     "inputWidgets": {},
     "nuid": "ae57904f-5f16-497c-812d-341054c996c0",
     "showTitle": false,
     "tableResultSettingsMap": {},
     "title": ""
    }
   },
   "outputs": [
    {
     "output_type": "stream",
     "name": "stdout",
     "output_type": "stream",
     "text": [
      "評価データセットを作成しました: workspace.default.email_generation_eval\nエクスペリメントから 7 件の成功したトレースが見つかりました\n7 件のレコードを評価データセットに追加しました\n\nデータセットのプレビュー:\n総レコード数: 7\n\nサンプルレコード:\nInputs: {'customer_name': 'Acme Corp', 'user_instructions': 'すべての製品機能、価格帯、実装スケジュール、およびサポートオプションを詳しく説明する非常に詳細なメールを書く'}\n"
     ]
    }
   ],
   "source": [
    "import mlflow\n",
    "import mlflow.genai.datasets\n",
    "import time\n",
    "\n",
    "# 1. 評価データセットを作成\n",
    "\n",
    "uc_schema = \"workspace.default\"\n",
    "evaluation_dataset_table_name = \"email_generation_eval\"\n",
    "\n",
    "# すでにデータセットがある場合は削除\n",
    "try:\n",
    "    mlflow.genai.datasets.delete_dataset(\n",
    "        uc_table_name=f\"{uc_schema}.{evaluation_dataset_table_name}\",\n",
    "    )\n",
    "except Exception as e:\n",
    "    print(f\"評価データセットは存在しません: {e}\")\n",
    "\n",
    "# データセットを作成\n",
    "eval_dataset = mlflow.genai.datasets.create_dataset(\n",
    "    uc_table_name=f\"{uc_schema}.{evaluation_dataset_table_name}\",\n",
    ")\n",
    "print(f\"評価データセットを作成しました: {uc_schema}.{evaluation_dataset_table_name}\")\n",
    "\n",
    "# 2. sales_email_v1のトレースを全権取得\n",
    "traces = mlflow.search_traces(\n",
    "    model_id=mlflow.get_active_model_id(),\n",
    "    order_by=[\"attributes.timestamp_ms DESC\"],\n",
    ")\n",
    "\n",
    "print(f\"エクスペリメントから {len(traces)} 件の成功したトレースが見つかりました\")\n",
    "\n",
    "# 3. トレースを評価データセットに追加\n",
    "eval_dataset.merge_records(traces)\n",
    "print(f\"{len(traces)} 件のレコードを評価データセットに追加しました\")\n",
    "# データセットのプレビュー\n",
    "df = eval_dataset.to_df()\n",
    "print(f\"\\nデータセットのプレビュー:\")\n",
    "print(f\"総レコード数: {len(df)}\")\n",
    "print(\"\\nサンプルレコード:\")\n",
    "sample = df.iloc[0]\n",
    "print(f\"Inputs: {sample['inputs']}\")"
   ]
  },
  {
   "cell_type": "code",
   "execution_count": 0,
   "metadata": {
    "application/vnd.databricks.v1+cell": {
     "cellMetadata": {
      "byteLimit": 2048000,
      "rowLimit": 10000
     },
     "inputWidgets": {},
     "nuid": "bc0fd775-1792-4a56-a2f9-a2989009ae91",
     "showTitle": false,
     "tableResultSettingsMap": {},
     "title": ""
    }
   },
   "outputs": [
    {
     "output_type": "display_data",
     "data": {
      "text/html": [
       "<style scoped>\n",
       "  .table-result-container {\n",
       "    max-height: 300px;\n",
       "    overflow: auto;\n",
       "  }\n",
       "  table, th, td {\n",
       "    border: 1px solid black;\n",
       "    border-collapse: collapse;\n",
       "  }\n",
       "  th, td {\n",
       "    padding: 5px;\n",
       "  }\n",
       "  th {\n",
       "    text-align: left;\n",
       "  }\n",
       "</style><div class='table-result-container'><table class='table-result'><thead style='background-color: white'><tr><th>dataset_record_id</th><th>inputs</th><th>expectations</th><th>source</th><th>tags</th><th>create_time</th><th>last_update_time</th><th>created_by</th><th>last_updated_by</th></tr></thead><tbody><tr><td>4a2f5f1f-f157-43e0-a277-96230ee56b48</td><td>List(Acme Corp, すべての製品機能、価格帯、実装スケジュール、およびサポートオプションを詳しく説明する非常に詳細なメールを書く)</td><td>List()</td><td>List(null, null, List(tr-5c352ec8116a3626d8ee0dd4dfc7b4bf))</td><td>List(dbfs:/databricks/mlflow-tracking/3f14e493c7af4ee4b7756305063051c9/tr-5c352ec8116a3626d8ee0dd4dfc7b4bf/artifacts, generate_sales_email, isanakamishiro@gmail.com)</td><td>2025-06-29T02:16:18.299Z</td><td>2025-06-29T02:16:18.299Z</td><td>isanakamishiro@gmail.com</td><td>isanakamishiro@gmail.com</td></tr><tr><td>59b2b9b0-de7e-4d35-b7e6-3e9246e11914</td><td>List(Global Retail, フォローアップメールを送信)</td><td>List()</td><td>List(null, null, List(tr-563b9e6a26b383e82267a3a2dea48392))</td><td>List(dbfs:/databricks/mlflow-tracking/3f14e493c7af4ee4b7756305063051c9/tr-563b9e6a26b383e82267a3a2dea48392/artifacts, generate_sales_email, isanakamishiro@gmail.com)</td><td>2025-06-29T02:16:18.299Z</td><td>2025-06-29T02:16:18.299Z</td><td>isanakamishiro@gmail.com</td><td>isanakamishiro@gmail.com</td></tr><tr><td>5c49a362-a9ab-44f7-a588-8230a8ec99b1</td><td>List(Acme Corp, 物事がどうなっているかを確認するために連絡)</td><td>List()</td><td>List(null, null, List(tr-7df5143f899aecba556793347493fd69))</td><td>List(dbfs:/databricks/mlflow-tracking/3f14e493c7af4ee4b7756305063051c9/tr-7df5143f899aecba556793347493fd69/artifacts, generate_sales_email, isanakamishiro@gmail.com)</td><td>2025-06-29T02:16:18.299Z</td><td>2025-06-29T02:16:18.299Z</td><td>isanakamishiro@gmail.com</td><td>isanakamishiro@gmail.com</td></tr><tr><td>7ddb20a5-3c1c-4cf2-9dbf-bb3f7fdc6051</td><td>List(TechStart, 彼らのビジネスに感謝する熱意のあるメールを送信)</td><td>List()</td><td>List(null, null, List(tr-d043186e5620d03e8be5df1df7451705))</td><td>List(dbfs:/databricks/mlflow-tracking/3f14e493c7af4ee4b7756305063051c9/tr-d043186e5620d03e8be5df1df7451705/artifacts, generate_sales_email, isanakamishiro@gmail.com)</td><td>2025-06-29T02:16:18.299Z</td><td>2025-06-29T02:16:18.299Z</td><td>isanakamishiro@gmail.com</td><td>isanakamishiro@gmail.com</td></tr><tr><td>8f053e6f-f7e7-47f1-a17f-09b87415d7b4</td><td>List(TechStart, サポートチケットの状況を確認)</td><td>List()</td><td>List(null, null, List(tr-10d380ae4a8c4d36ff39de4218c8a42b))</td><td>List(dbfs:/databricks/mlflow-tracking/3f14e493c7af4ee4b7756305063051c9/tr-10d380ae4a8c4d36ff39de4218c8a42b/artifacts, generate_sales_email, isanakamishiro@gmail.com)</td><td>2025-06-29T02:16:18.299Z</td><td>2025-06-29T02:16:18.299Z</td><td>isanakamishiro@gmail.com</td><td>isanakamishiro@gmail.com</td></tr><tr><td>98d07009-3609-4dfe-b3fb-dd1370a159cb</td><td>List(Acme Corp, 製品デモの後にフォローアップ)</td><td>List()</td><td>List(null, null, List(tr-98333ad260ef2fb7777f30921ca76742))</td><td>List(dbfs:/databricks/mlflow-tracking/3f14e493c7af4ee4b7756305063051c9/tr-98333ad260ef2fb7777f30921ca76742/artifacts, generate_sales_email, isanakamishiro@gmail.com)</td><td>2025-06-29T02:16:18.299Z</td><td>2025-06-29T02:16:18.299Z</td><td>isanakamishiro@gmail.com</td><td>isanakamishiro@gmail.com</td></tr><tr><td>fe3a08dd-b851-4a8a-abcc-61440f3b8a8d</td><td>List(Global Retail, 四半期レビューの要約を送信)</td><td>List()</td><td>List(null, null, List(tr-14a88afefe5a2603d7beaf541064ffb2))</td><td>List(dbfs:/databricks/mlflow-tracking/3f14e493c7af4ee4b7756305063051c9/tr-14a88afefe5a2603d7beaf541064ffb2/artifacts, generate_sales_email, isanakamishiro@gmail.com)</td><td>2025-06-29T02:16:18.299Z</td><td>2025-06-29T02:16:18.299Z</td><td>isanakamishiro@gmail.com</td><td>isanakamishiro@gmail.com</td></tr></tbody></table></div>"
      ]
     },
     "metadata": {
      "application/vnd.databricks.v1+output": {
       "addedWidgets": {},
       "aggData": [],
       "aggError": "",
       "aggOverflow": false,
       "aggSchema": [],
       "aggSeriesLimitReached": false,
       "aggType": "",
       "arguments": {},
       "columnCustomDisplayInfos": {},
       "data": [
        [
         "4a2f5f1f-f157-43e0-a277-96230ee56b48",
         [
          "Acme Corp",
          "すべての製品機能、価格帯、実装スケジュール、およびサポートオプションを詳しく説明する非常に詳細なメールを書く"
         ],
         [],
         [
          null,
          null,
          [
           "tr-5c352ec8116a3626d8ee0dd4dfc7b4bf"
          ]
         ],
         [
          "dbfs:/databricks/mlflow-tracking/3f14e493c7af4ee4b7756305063051c9/tr-5c352ec8116a3626d8ee0dd4dfc7b4bf/artifacts",
          "generate_sales_email",
          "isanakamishiro@gmail.com"
         ],
         "2025-06-29T02:16:18.299Z",
         "2025-06-29T02:16:18.299Z",
         "isanakamishiro@gmail.com",
         "isanakamishiro@gmail.com"
        ],
        [
         "59b2b9b0-de7e-4d35-b7e6-3e9246e11914",
         [
          "Global Retail",
          "フォローアップメールを送信"
         ],
         [],
         [
          null,
          null,
          [
           "tr-563b9e6a26b383e82267a3a2dea48392"
          ]
         ],
         [
          "dbfs:/databricks/mlflow-tracking/3f14e493c7af4ee4b7756305063051c9/tr-563b9e6a26b383e82267a3a2dea48392/artifacts",
          "generate_sales_email",
          "isanakamishiro@gmail.com"
         ],
         "2025-06-29T02:16:18.299Z",
         "2025-06-29T02:16:18.299Z",
         "isanakamishiro@gmail.com",
         "isanakamishiro@gmail.com"
        ],
        [
         "5c49a362-a9ab-44f7-a588-8230a8ec99b1",
         [
          "Acme Corp",
          "物事がどうなっているかを確認するために連絡"
         ],
         [],
         [
          null,
          null,
          [
           "tr-7df5143f899aecba556793347493fd69"
          ]
         ],
         [
          "dbfs:/databricks/mlflow-tracking/3f14e493c7af4ee4b7756305063051c9/tr-7df5143f899aecba556793347493fd69/artifacts",
          "generate_sales_email",
          "isanakamishiro@gmail.com"
         ],
         "2025-06-29T02:16:18.299Z",
         "2025-06-29T02:16:18.299Z",
         "isanakamishiro@gmail.com",
         "isanakamishiro@gmail.com"
        ],
        [
         "7ddb20a5-3c1c-4cf2-9dbf-bb3f7fdc6051",
         [
          "TechStart",
          "彼らのビジネスに感謝する熱意のあるメールを送信"
         ],
         [],
         [
          null,
          null,
          [
           "tr-d043186e5620d03e8be5df1df7451705"
          ]
         ],
         [
          "dbfs:/databricks/mlflow-tracking/3f14e493c7af4ee4b7756305063051c9/tr-d043186e5620d03e8be5df1df7451705/artifacts",
          "generate_sales_email",
          "isanakamishiro@gmail.com"
         ],
         "2025-06-29T02:16:18.299Z",
         "2025-06-29T02:16:18.299Z",
         "isanakamishiro@gmail.com",
         "isanakamishiro@gmail.com"
        ],
        [
         "8f053e6f-f7e7-47f1-a17f-09b87415d7b4",
         [
          "TechStart",
          "サポートチケットの状況を確認"
         ],
         [],
         [
          null,
          null,
          [
           "tr-10d380ae4a8c4d36ff39de4218c8a42b"
          ]
         ],
         [
          "dbfs:/databricks/mlflow-tracking/3f14e493c7af4ee4b7756305063051c9/tr-10d380ae4a8c4d36ff39de4218c8a42b/artifacts",
          "generate_sales_email",
          "isanakamishiro@gmail.com"
         ],
         "2025-06-29T02:16:18.299Z",
         "2025-06-29T02:16:18.299Z",
         "isanakamishiro@gmail.com",
         "isanakamishiro@gmail.com"
        ],
        [
         "98d07009-3609-4dfe-b3fb-dd1370a159cb",
         [
          "Acme Corp",
          "製品デモの後にフォローアップ"
         ],
         [],
         [
          null,
          null,
          [
           "tr-98333ad260ef2fb7777f30921ca76742"
          ]
         ],
         [
          "dbfs:/databricks/mlflow-tracking/3f14e493c7af4ee4b7756305063051c9/tr-98333ad260ef2fb7777f30921ca76742/artifacts",
          "generate_sales_email",
          "isanakamishiro@gmail.com"
         ],
         "2025-06-29T02:16:18.299Z",
         "2025-06-29T02:16:18.299Z",
         "isanakamishiro@gmail.com",
         "isanakamishiro@gmail.com"
        ],
        [
         "fe3a08dd-b851-4a8a-abcc-61440f3b8a8d",
         [
          "Global Retail",
          "四半期レビューの要約を送信"
         ],
         [],
         [
          null,
          null,
          [
           "tr-14a88afefe5a2603d7beaf541064ffb2"
          ]
         ],
         [
          "dbfs:/databricks/mlflow-tracking/3f14e493c7af4ee4b7756305063051c9/tr-14a88afefe5a2603d7beaf541064ffb2/artifacts",
          "generate_sales_email",
          "isanakamishiro@gmail.com"
         ],
         "2025-06-29T02:16:18.299Z",
         "2025-06-29T02:16:18.299Z",
         "isanakamishiro@gmail.com",
         "isanakamishiro@gmail.com"
        ]
       ],
       "datasetInfos": [],
       "dbfsResultPath": null,
       "isJsonSchema": true,
       "metadata": {},
       "overflow": false,
       "plotOptions": {
        "customPlotOptions": {},
        "displayType": "table",
        "pivotAggregation": null,
        "pivotColumns": null,
        "xColumns": null,
        "yColumns": null
       },
       "removedWidgets": [],
       "schema": [
        {
         "metadata": "{}",
         "name": "dataset_record_id",
         "type": "\"string\""
        },
        {
         "metadata": "{}",
         "name": "inputs",
         "type": "{\"fields\":[{\"metadata\":{},\"name\":\"customer_name\",\"nullable\":true,\"type\":\"string\"},{\"metadata\":{},\"name\":\"user_instructions\",\"nullable\":true,\"type\":\"string\"}],\"type\":\"struct\"}"
        },
        {
         "metadata": "{}",
         "name": "expectations",
         "type": "{\"fields\":[],\"type\":\"struct\"}"
        },
        {
         "metadata": "{}",
         "name": "source",
         "type": "{\"fields\":[{\"metadata\":{},\"name\":\"document\",\"nullable\":true,\"type\":\"void\"},{\"metadata\":{},\"name\":\"human\",\"nullable\":true,\"type\":\"void\"},{\"metadata\":{},\"name\":\"trace\",\"nullable\":true,\"type\":{\"fields\":[{\"metadata\":{},\"name\":\"trace_id\",\"nullable\":true,\"type\":\"string\"}],\"type\":\"struct\"}}],\"type\":\"struct\"}"
        },
        {
         "metadata": "{}",
         "name": "tags",
         "type": "{\"fields\":[{\"metadata\":{},\"name\":\"mlflow.artifactLocation\",\"nullable\":true,\"type\":\"string\"},{\"metadata\":{},\"name\":\"mlflow.traceName\",\"nullable\":true,\"type\":\"string\"},{\"metadata\":{},\"name\":\"mlflow.user\",\"nullable\":true,\"type\":\"string\"}],\"type\":\"struct\"}"
        },
        {
         "metadata": "{}",
         "name": "create_time",
         "type": "\"string\""
        },
        {
         "metadata": "{}",
         "name": "last_update_time",
         "type": "\"string\""
        },
        {
         "metadata": "{}",
         "name": "created_by",
         "type": "\"string\""
        },
        {
         "metadata": "{}",
         "name": "last_updated_by",
         "type": "\"string\""
        }
       ],
       "type": "table"
      }
     },
     "output_type": "display_data"
    },
    {
     "output_type": "display_data",
     "data": {
      "text/plain": [
       "Databricks visualization. Run in Databricks to view."
      ]
     },
     "metadata": {
      "application/vnd.databricks.v1.subcommand+json": {
       "baseErrorDetails": null,
       "bindings": {},
       "collapsed": false,
       "command": "eval_dataset = mlflow.genai.datasets.get_dataset(\n    uc_table_name=f\"{uc_schema}.{evaluation_dataset_table_name}\",\n)\n\ndisplay(eval_dataset.to_df())",
       "commandTitle": "可視化 1",
       "commandType": "auto",
       "commandVersion": 0,
       "commentThread": [],
       "commentsVisible": false,
       "contentSha256Hex": null,
       "customPlotOptions": {
        "redashChart": [
         {
          "key": "type",
          "value": "DETAILS"
         },
         {
          "key": "options",
          "value": {
           "columns": [
            {
             "name": "dataset_record_id",
             "title": "dataset_record_id",
             "type": "string"
            },
            {
             "name": "inputs",
             "title": "inputs",
             "type": "string"
            },
            {
             "name": "expectations",
             "title": "expectations",
             "type": "string"
            },
            {
             "name": "source",
             "title": "source",
             "type": "string"
            },
            {
             "name": "tags",
             "title": "tags",
             "type": "string"
            },
            {
             "name": "create_time",
             "title": "create_time",
             "type": "string"
            },
            {
             "name": "last_update_time",
             "title": "last_update_time",
             "type": "string"
            },
            {
             "name": "created_by",
             "title": "created_by",
             "type": "string"
            },
            {
             "name": "last_updated_by",
             "title": "last_updated_by",
             "type": "string"
            }
           ],
           "version": 1
          }
         }
        ]
       },
       "datasetPreviewNameToCmdIdMap": {},
       "diffDeletes": [],
       "diffInserts": [],
       "displayType": "redashChart",
       "error": null,
       "errorDetails": null,
       "errorSummary": null,
       "errorTraceType": null,
       "finishTime": 0,
       "globalVars": {},
       "guid": "",
       "height": "auto",
       "hideCommandCode": false,
       "hideCommandResult": false,
       "iPythonMetadata": null,
       "inputWidgets": {},
       "isLockedInExamMode": false,
       "latestUser": "a user",
       "latestUserId": null,
       "listResultMetadata": null,
       "metadata": {},
       "nuid": "17ea5ce6-2e3f-4404-91cd-c223090ab6de",
       "origId": 0,
       "parentHierarchy": [],
       "pivotAggregation": null,
       "pivotColumns": null,
       "position": 4.53125,
       "resultDbfsErrorMessage": null,
       "resultDbfsStatus": "INLINED_IN_TREE",
       "results": null,
       "showCommandTitle": false,
       "startTime": 0,
       "state": "input",
       "streamStates": {},
       "subcommandOptions": {},
       "submitTime": 0,
       "subtype": "tableResultSubCmd.visualization",
       "tableResultIndex": 0,
       "tableResultSettingsMap": {},
       "useConsistentColors": false,
       "version": "CommandV1",
       "width": "auto",
       "workflows": [],
       "xColumns": null,
       "yColumns": null
      }
     },
     "output_type": "display_data"
    }
   ],
   "source": [
    "eval_dataset = mlflow.genai.datasets.get_dataset(\n",
    "    uc_table_name=f\"{uc_schema}.{evaluation_dataset_table_name}\",\n",
    ")\n",
    "\n",
    "display(eval_dataset.to_df())"
   ]
  },
  {
   "cell_type": "markdown",
   "metadata": {
    "application/vnd.databricks.v1+cell": {
     "cellMetadata": {},
     "inputWidgets": {},
     "nuid": "56bac03f-6e25-41c2-a0e7-fb2cedb8a04f",
     "showTitle": false,
     "tableResultSettingsMap": {},
     "title": ""
    }
   },
   "source": [
    "\n",
    "## ステップ4:事前定義されたスコアラーで評価を実行する[​](#ステップ4事前定義されたスコアラーで評価を実行�する \"ステップ4事前定義されたスコアラーで評価を実行する への直接リンク\")\n",
    "\n",
    "次に、MLflow に用意されている [定義済みのスコアラー](/aws/ja/mlflow3/genai/eval-monitor/concepts/judges/pre-built-judges-scorers) を使用して、生成AI アプリケーションの品質のさまざまな側面を自動的に評価してみましょう。詳細については、 [LLM ベースのスコアラー](/aws/ja/mlflow3/genai/eval-monitor/concepts/judges/) と [コードベースのスコアラー](/aws/ja/mlflow3/genai/eval-monitor/concepts/scorers) のリファレンスページを参照してください。\n",
    "\n",
    "注記\n",
    "\n",
    "必要に応じて、MLflow を使用してアプリケーションとプロンプトのバージョンを追跡できます。詳細については、 [トラック アプリとプロンプト バージョンの](/aws/ja/mlflow3/genai/prompt-version-mgmt/prompt-registry/track-prompts-app-versions) ガイドをご覧ください。"
   ]
  },
  {
   "cell_type": "code",
   "execution_count": 0,
   "metadata": {
    "application/vnd.databricks.v1+cell": {
     "cellMetadata": {
      "byteLimit": 2048000,
      "rowLimit": 10000
     },
     "inputWidgets": {},
     "nuid": "8df34725-96db-43e1-aaf7-01ea02449d24",
     "showTitle": false,
     "tableResultSettingsMap": {},
     "title": ""
    }
   },
   "outputs": [
    {
     "output_type": "stream",
     "name": "stderr",
     "output_type": "stream",
     "text": [
      "2025/06/29 02:23:51 INFO mlflow.genai.utils.data_validation: Testing model prediction with the first sample in the dataset.\n2025/06/29 02:24:02 INFO mlflow.tracking.fluent: Active model is set to the logged model with ID: m-8333440af4ba404ebc5c96a51a814ac4\n2025/06/29 02:24:02 INFO mlflow.tracking.fluent: Use `mlflow.set_active_model` to set the active model to a different one if needed.\n2025/06/29 02:24:03 INFO mlflow.models.evaluation.utils.trace: Auto tracing is temporarily enabled during the model evaluation for computing some metrics and debugging. To disable tracing, call `mlflow.autolog(disable=True)`.\n"
     ]
    },
    {
     "output_type": "display_data",
     "data": {
      "application/vnd.jupyter.widget-view+json": {
       "model_id": "b6b9c0517e07433d9ea493da59afed97",
       "version_major": 2,
       "version_minor": 0
      },
      "text/plain": [
       "Evaluating:   0%|          | 0/7 [Elapsed: 00:00, Remaining: ?] "
      ]
     },
     "metadata": {},
     "output_type": "display_data"
    },
    {
     "output_type": "display_data",
     "data": {
      "text/html": [
       "<!DOCTYPE html>\n",
       "<html lang=\"en\">\n",
       "<head>\n",
       "    <title>Evaluation output</title>\n",
       "    <meta charset=\"UTF-8\">\n",
       "    <meta name=\"viewport\" content=\"width=device-width, initial-scale=1.0\">\n",
       "    <style>\n",
       "        body {\n",
       "            font-family: Arial, sans-serif;\n",
       "        }\n",
       "\n",
       "        .header {\n",
       "            a.button {\n",
       "                padding: 4px 8px;\n",
       "                line-height: 20px;\n",
       "                box-shadow: none;\n",
       "                height: 20px;\n",
       "                display: inline-flex;\n",
       "                align-items: center;\n",
       "                justify-content: center;\n",
       "                vertical-align: middle;\n",
       "                background-color: rgb(34, 114, 180);\n",
       "                color: rgb(255, 255, 255);\n",
       "                text-decoration: none;\n",
       "                animation-duration: 0s;\n",
       "                transition: none 0s ease 0s;\n",
       "                position: relative;\n",
       "                white-space: nowrap;\n",
       "                text-align: center;\n",
       "                border: 1px solid rgb(192, 205, 216);\n",
       "                cursor: pointer;\n",
       "                user-select: none;\n",
       "                touch-action: manipulation;\n",
       "                border-radius: 4px;\n",
       "                gap: 6px;\n",
       "            }\n",
       "\n",
       "            a.button:hover {\n",
       "                background-color: rgb(14, 83, 139) !important;\n",
       "                border-color: transparent !important;\n",
       "                color: rgb(255, 255, 255) !important;\n",
       "            }\n",
       "        }\n",
       "\n",
       "        .warnings-section {\n",
       "            margin-top: 8px;\n",
       "\n",
       "            ul {\n",
       "                list-style-type: none;\n",
       "            }\n",
       "        }\n",
       "\n",
       "        .instructions-section {\n",
       "            margin-top: 16px;\n",
       "            font-size: 14px;\n",
       "\n",
       "            ul {\n",
       "                margin-top: 0;\n",
       "                margin-bottom: 0;\n",
       "            }\n",
       "        }\n",
       "\n",
       "        code {\n",
       "            font-family: monospace;\n",
       "        }\n",
       "\n",
       "        .note {\n",
       "            color: #666;\n",
       "        }\n",
       "\n",
       "        a {\n",
       "            color: #2272B4;\n",
       "            text-decoration: none;\n",
       "        }\n",
       "\n",
       "        a:hover {\n",
       "            color: #005580;\n",
       "        }\n",
       "    </style>\n",
       "</head>\n",
       "<body>\n",
       "<div>\n",
       "    <div class=\"header\">\n",
       "        <a href=\"https://dbc-f1d46cb2-e7aa.cloud.databricks.com/ml/experiments/3f14e493c7af4ee4b7756305063051c9/runs/bd87f5088b104d658b9c55372f614f41/evaluations/\" class=\"button\">\n",
       "            View evaluation results.\n",
       "            <svg xmlns=\"http://www.w3.org/2000/svg\" width=\"1em\" height=\"1em\" fill=\"none\" viewBox=\"0 0 16 16\" aria-hidden=\"true\" focusable=\"false\" class=\"\">\n",
       "                <path fill=\"currentColor\" d=\"M10 1h5v5h-1.5V3.56L8.53 8.53 7.47 7.47l4.97-4.97H10z\"></path>\n",
       "                <path fill=\"currentColor\" d=\"M1 2.75A.75.75 0 0 1 1.75 2H8v1.5H2.5v10h10V8H14v6.25a.75.75 0 0 1-.75.75H1.75a.75.75 0 0 1-.75-.75z\"></path>\n",
       "            </svg>\n",
       "        </a>\n",
       "    </div>\n",
       "</div>\n",
       "</body>\n",
       "</html>"
      ]
     },
     "metadata": {},
     "output_type": "display_data"
    },
    {
     "output_type": "display_data",
     "data": {
      "application/databricks.mlflow.trace": "[\"tr-f383143bca179fe41e90769f361cc33d\", \"tr-f975a936f29b5a4771fe1e4741165384\", \"tr-b8fee8e33925b8ce47c0902fe82a097a\", \"tr-c2900e95bbc4a2a1f68fb45d7bc71321\", \"tr-68d82a14d9ec188f364155ba9cea1469\", \"tr-8ccc7fcefcc1ec32ab476f71bf5944f3\", \"tr-f61047a886c18bdc4a4faa8b7dcb3502\"]",
      "text/plain": [
       "[Trace(trace_id=tr-f383143bca179fe41e90769f361cc33d), Trace(trace_id=tr-f975a936f29b5a4771fe1e4741165384), Trace(trace_id=tr-b8fee8e33925b8ce47c0902fe82a097a), Trace(trace_id=tr-c2900e95bbc4a2a1f68fb45d7bc71321), Trace(trace_id=tr-68d82a14d9ec188f364155ba9cea1469), Trace(trace_id=tr-8ccc7fcefcc1ec32ab476f71bf5944f3), Trace(trace_id=tr-f61047a886c18bdc4a4faa8b7dcb3502)]"
      ]
     },
     "metadata": {},
     "output_type": "display_data"
    }
   ],
   "source": [
    "from mlflow.genai.scorers import (\n",
    "    RetrievalGroundedness,\n",
    "    RelevanceToQuery,\n",
    "    Safety,\n",
    "    Guidelines,\n",
    ")\n",
    "\n",
    "# スコアラーを変数として保存し、ステップ7で再利用できるようにします\n",
    "\n",
    "email_scorers = [\n",
    "    RetrievalGroundedness(),  # メール内容が取得したデータに基づいているかをチェック\n",
    "    Guidelines(\n",
    "        name=\"follows_instructions\",\n",
    "        guidelines=\"生成されたメールは、リクエスト内のuser_instructions（ユーザー指示）に従っている必要があります。\",\n",
    "    ),\n",
    "    Guidelines(\n",
    "        name=\"concise_communication\",\n",
    "        guidelines=\"メールは必ず簡潔かつ要点を押さえている必要があります。重要な文脈を失うことなく、主要なメッセージを効率的に伝えるべきです。\",\n",
    "    ),\n",
    "    Guidelines(\n",
    "        name=\"mentions_contact_name\",\n",
    "        guidelines=\"メールの挨拶文で、顧客担当者のファーストネーム（例：Alice、Bob、Carol）を明示的に記載する必要があります。「Hello」や「Dear Customer」などの一般的な挨拶は不可とします。\",\n",
    "    ),\n",
    "    Guidelines(\n",
    "        name=\"professional_tone\",\n",
    "        guidelines=\"メールはプロフェッショナルな口調で書かれている必要があります。\",\n",
    "    ),\n",
    "    Guidelines(\n",
    "        name=\"includes_next_steps\",\n",
    "        guidelines=\"メールの最後に、具体的かつ実行可能な次のアクションと明確なタイムラインを必ず記載してください。\",\n",
    "    ),\n",
    "    RelevanceToQuery(),  # メールがユーザーのリクエストに対応しているかをチェック\n",
    "    Safety(),  # 有害または不適切な内容が含まれていないかをチェック\n",
    "]\n",
    "\n",
    "# 定義済みスコアラーで評価を実行\n",
    "eval_results = mlflow.genai.evaluate(\n",
    "    data=eval_dataset,\n",
    "    predict_fn=generate_sales_email,\n",
    "    scorers=email_scorers,\n",
    ")"
   ]
  },
  {
   "cell_type": "code",
   "execution_count": 0,
   "metadata": {
    "application/vnd.databricks.v1+cell": {
     "cellMetadata": {
      "byteLimit": 2048000,
      "rowLimit": 10000
     },
     "inputWidgets": {},
     "nuid": "dbd65cf2-f015-4508-b6c1-cc53812e3208",
     "showTitle": false,
     "tableResultSettingsMap": {},
     "title": ""
    }
   },
   "outputs": [
    {
     "output_type": "execute_result",
     "data": {
      "text/html": [
       "<div>\n",
       "<style scoped>\n",
       "    .dataframe tbody tr th:only-of-type {\n",
       "        vertical-align: middle;\n",
       "    }\n",
       "\n",
       "    .dataframe tbody tr th {\n",
       "        vertical-align: top;\n",
       "    }\n",
       "\n",
       "    .dataframe thead th {\n",
       "        text-align: right;\n",
       "    }\n",
       "</style>\n",
       "<table border=\"1\" class=\"dataframe\">\n",
       "  <thead>\n",
       "    <tr style=\"text-align: right;\">\n",
       "      <th></th>\n",
       "      <th>trace_id</th>\n",
       "      <th>trace</th>\n",
       "      <th>client_request_id</th>\n",
       "      <th>state</th>\n",
       "      <th>request_time</th>\n",
       "      <th>execution_duration</th>\n",
       "      <th>request</th>\n",
       "      <th>response</th>\n",
       "      <th>trace_metadata</th>\n",
       "      <th>tags</th>\n",
       "      <th>spans</th>\n",
       "      <th>assessments</th>\n",
       "    </tr>\n",
       "  </thead>\n",
       "  <tbody>\n",
       "    <tr>\n",
       "      <th>0</th>\n",
       "      <td>tr-f61047a886c18bdc4a4faa8b7dcb3502</td>\n",
       "      <td>{'data': {'intermediate_outputs': {'retrieve_c...</td>\n",
       "      <td>tr-f61047a886c18bdc4a4faa8b7dcb3502</td>\n",
       "      <td>OK</td>\n",
       "      <td>2025-06-29 02:24:03.406</td>\n",
       "      <td>4126</td>\n",
       "      <td>{'customer_name': 'Global Retail', 'user_instr...</td>\n",
       "      <td>{'email': '以下はフォローアップメールの例です。\n",
       "\n",
       "---\n",
       "\n",
       "Subject: 四...</td>\n",
       "      <td>{'mlflow.sourceRun': 'bd87f5088b104d658b9c5537...</td>\n",
       "      <td>{'mlflow.artifactLocation': 'dbfs:/databricks/...</td>\n",
       "      <td>[{'trace_id': '9hBHqIbBi9xKT6qLfcs1Ag==', 'spa...</td>\n",
       "      <td>[{'assessment_id': 'a-1590d61ea57e4edfa0861255...</td>\n",
       "    </tr>\n",
       "    <tr>\n",
       "      <th>1</th>\n",
       "      <td>tr-f975a936f29b5a4771fe1e4741165384</td>\n",
       "      <td>{'data': {'intermediate_outputs': {'retrieve_c...</td>\n",
       "      <td>tr-f975a936f29b5a4771fe1e4741165384</td>\n",
       "      <td>OK</td>\n",
       "      <td>2025-06-29 02:24:03.404</td>\n",
       "      <td>4682</td>\n",
       "      <td>{'customer_name': 'Acme Corp', 'user_instructi...</td>\n",
       "      <td>{'email': '以下のようなメールを作成します。\n",
       "\n",
       "\n",
       "メール本文：\n",
       "アリスさん\n",
       "\n",
       "月曜...</td>\n",
       "      <td>{'mlflow.sourceRun': 'bd87f5088b104d658b9c5537...</td>\n",
       "      <td>{'mlflow.artifactLocation': 'dbfs:/databricks/...</td>\n",
       "      <td>[{'trace_id': '+XWpNvKbWkdx/h5HQRZThA==', 'spa...</td>\n",
       "      <td>[{'assessment_id': 'a-e9103af0bd154d75abff425e...</td>\n",
       "    </tr>\n",
       "    <tr>\n",
       "      <th>2</th>\n",
       "      <td>tr-c2900e95bbc4a2a1f68fb45d7bc71321</td>\n",
       "      <td>{'data': {'intermediate_outputs': {'retrieve_c...</td>\n",
       "      <td>tr-c2900e95bbc4a2a1f68fb45d7bc71321</td>\n",
       "      <td>OK</td>\n",
       "      <td>2025-06-29 02:24:03.403</td>\n",
       "      <td>3994</td>\n",
       "      <td>{'customer_name': 'TechStart', 'user_instructi...</td>\n",
       "      <td>{'email': 'Here's a concise and personalized f...</td>\n",
       "      <td>{'mlflow.sourceRun': 'bd87f5088b104d658b9c5537...</td>\n",
       "      <td>{'mlflow.artifactLocation': 'dbfs:/databricks/...</td>\n",
       "      <td>[{'trace_id': 'wpAOlbvEoqH2j7Rde8cTIQ==', 'spa...</td>\n",
       "      <td>[{'assessment_id': 'a-9374647417d94ab885d130e2...</td>\n",
       "    </tr>\n",
       "    <tr>\n",
       "      <th>3</th>\n",
       "      <td>tr-b8fee8e33925b8ce47c0902fe82a097a</td>\n",
       "      <td>{'data': {'intermediate_outputs': {'retrieve_c...</td>\n",
       "      <td>tr-b8fee8e33925b8ce47c0902fe82a097a</td>\n",
       "      <td>OK</td>\n",
       "      <td>2025-06-29 02:24:03.402</td>\n",
       "      <td>5064</td>\n",
       "      <td>{'customer_name': 'Acme Corp', 'user_instructi...</td>\n",
       "      <td>{'email': '以下はフォローアップメールの例です。\n",
       "\n",
       "サラ・ジョンソン\n",
       "アカウントマ...</td>\n",
       "      <td>{'mlflow.sourceRun': 'bd87f5088b104d658b9c5537...</td>\n",
       "      <td>{'mlflow.artifactLocation': 'dbfs:/databricks/...</td>\n",
       "      <td>[{'trace_id': 'uP7o4zkluM5HwJAv6CoJeg==', 'spa...</td>\n",
       "      <td>[{'assessment_id': 'a-5764b49b9f6e46e78ee13dc0...</td>\n",
       "    </tr>\n",
       "    <tr>\n",
       "      <th>4</th>\n",
       "      <td>tr-8ccc7fcefcc1ec32ab476f71bf5944f3</td>\n",
       "      <td>{'data': {'intermediate_outputs': {'retrieve_c...</td>\n",
       "      <td>tr-8ccc7fcefcc1ec32ab476f71bf5944f3</td>\n",
       "      <td>OK</td>\n",
       "      <td>2025-06-29 02:24:03.402</td>\n",
       "      <td>3897</td>\n",
       "      <td>{'customer_name': 'TechStart', 'user_instructi...</td>\n",
       "      <td>{'email': 'Subject: 感謝の気持ちとフォローアップ\n",
       "\n",
       "ボブさん\n",
       "\n",
       "いつも弊...</td>\n",
       "      <td>{'mlflow.sourceRun': 'bd87f5088b104d658b9c5537...</td>\n",
       "      <td>{'mlflow.artifactLocation': 'dbfs:/databricks/...</td>\n",
       "      <td>[{'trace_id': 'jMx/zvzB7DKrR29xv1lE8w==', 'spa...</td>\n",
       "      <td>[{'assessment_id': 'a-c6ada064c5e64ad295fed237...</td>\n",
       "    </tr>\n",
       "    <tr>\n",
       "      <th>5</th>\n",
       "      <td>tr-f383143bca179fe41e90769f361cc33d</td>\n",
       "      <td>{'data': {'intermediate_outputs': {'retrieve_c...</td>\n",
       "      <td>tr-f383143bca179fe41e90769f361cc33d</td>\n",
       "      <td>OK</td>\n",
       "      <td>2025-06-29 02:24:03.401</td>\n",
       "      <td>2634</td>\n",
       "      <td>{'customer_name': 'Global Retail', 'user_instr...</td>\n",
       "      <td>{'email': '以下はフォローアップメールの例です。\n",
       "\n",
       "主题：四半期レビューのフォロー...</td>\n",
       "      <td>{'mlflow.sourceRun': 'bd87f5088b104d658b9c5537...</td>\n",
       "      <td>{'mlflow.artifactLocation': 'dbfs:/databricks/...</td>\n",
       "      <td>[{'trace_id': '84MUO8oXn+QekHafNhzDPQ==', 'spa...</td>\n",
       "      <td>[{'assessment_id': 'a-4a97c1223e79450e956743dd...</td>\n",
       "    </tr>\n",
       "    <tr>\n",
       "      <th>6</th>\n",
       "      <td>tr-68d82a14d9ec188f364155ba9cea1469</td>\n",
       "      <td>{'data': {'intermediate_outputs': {'retrieve_c...</td>\n",
       "      <td>tr-68d82a14d9ec188f364155ba9cea1469</td>\n",
       "      <td>OK</td>\n",
       "      <td>2025-06-29 02:24:03.400</td>\n",
       "      <td>10626</td>\n",
       "      <td>{'customer_name': 'Acme Corp', 'user_instructi...</td>\n",
       "      <td>{'email': 'アリスさん\n",
       "\n",
       "先日は月曜日の製品デモに参加いただき、ありがとうございま...</td>\n",
       "      <td>{'mlflow.sourceRun': 'bd87f5088b104d658b9c5537...</td>\n",
       "      <td>{'mlflow.artifactLocation': 'dbfs:/databricks/...</td>\n",
       "      <td>[{'trace_id': 'aNgqFNnsGI82QVW6nOoUaQ==', 'spa...</td>\n",
       "      <td>[{'assessment_id': 'a-60676f6420044846896ce421...</td>\n",
       "    </tr>\n",
       "  </tbody>\n",
       "</table>\n",
       "</div>"
      ],
      "text/plain": [
       "                              trace_id  ...                                        assessments\n",
       "0  tr-f61047a886c18bdc4a4faa8b7dcb3502  ...  [{'assessment_id': 'a-1590d61ea57e4edfa0861255...\n",
       "1  tr-f975a936f29b5a4771fe1e4741165384  ...  [{'assessment_id': 'a-e9103af0bd154d75abff425e...\n",
       "2  tr-c2900e95bbc4a2a1f68fb45d7bc71321  ...  [{'assessment_id': 'a-9374647417d94ab885d130e2...\n",
       "3  tr-b8fee8e33925b8ce47c0902fe82a097a  ...  [{'assessment_id': 'a-5764b49b9f6e46e78ee13dc0...\n",
       "4  tr-8ccc7fcefcc1ec32ab476f71bf5944f3  ...  [{'assessment_id': 'a-c6ada064c5e64ad295fed237...\n",
       "5  tr-f383143bca179fe41e90769f361cc33d  ...  [{'assessment_id': 'a-4a97c1223e79450e956743dd...\n",
       "6  tr-68d82a14d9ec188f364155ba9cea1469  ...  [{'assessment_id': 'a-60676f6420044846896ce421...\n",
       "\n",
       "[7 rows x 12 columns]"
      ]
     },
     "execution_count": 85,
     "metadata": {},
     "output_type": "execute_result"
    }
   ],
   "source": [
    "eval_results.tables[\"eval_results\"]"
   ]
  },
  {
   "cell_type": "markdown",
   "metadata": {
    "application/vnd.databricks.v1+cell": {
     "cellMetadata": {},
     "inputWidgets": {},
     "nuid": "aa838419-6f8c-4147-bf30-387064532702",
     "showTitle": false,
     "tableResultSettingsMap": {},
     "title": ""
    }
   },
   "source": [
    "## ステップ 5: 結果の表示と解釈[​](#ステップ-5-結果の表示と解釈 \"ステップ-5-結果の表示と解釈 への直接リンク\")\n",
    "\n",
    "`mlflow.genai.evaluate()`を実行すると、評価データセット内のすべての行の[トレース](/aws/ja/mlflow3/genai/tracing/)と、各スコアラーからの[フィードバック](/aws/ja/mlflow3/genai/tracing/data-model#feedback)が関連付けられた評価ランが作成されます。\n",
    "\n",
    "評価ランを使用して、次のことを行います。\n",
    "\n",
    "* **集計メトリクスの参照** : それぞれのスコアラーのすべてのテストケースにおける平均パフォーマンス\n",
    "* **個々の障害ケースのデバッグ** : 障害が発生した理由を理解し、将来のバージョンで行うべき改善点を特定します\n",
    "* **故障解析** :採点者が課題を特定した具体例\n",
    "\n",
    "この評価では、いくつかの問題が見られます。\n",
    "\n",
    "1. **不適切な指示フォロー** - エージェントは、簡単なチェックインを求められたときに詳細な製品情報を送信したり、熱心なお礼のメッセージを求められたときにサポートチケットの更新を提供したりするなど、ユーザーのリクエストと一致しない応答を頻繁に提供します\n",
    "2. **簡潔さの欠如** - ほとんどのEメールは不必要に長く、重要なメッセージを薄めるほど詳細が多すぎて、Eメールを「簡潔でパーソナライズ」に保つように指示されているにもかかわらず、効率的にコミュニケーションをとることができません。\n",
    "3. **具体的な次のステップが欠けている** - Eメールの大部分は、必須要素として特定された具体的なタイムラインを含む、具体的で実行可能な次のステップで終わらない\n",
    "\n",
    "* Using the UI* Using the SDK\n",
    "\n",
    "MLflow UI の [評価] タブから評価結果にアクセスし、アプリケーションのパフォーマンスを理解します。\n",
    "\n",
    "![trace](https://assets.docs.databricks.com/_static/images/mlflow3-genai/new-images/eval-guide-results.gif)"
   ]
  },
  {
   "cell_type": "code",
   "execution_count": 0,
   "metadata": {
    "application/vnd.databricks.v1+cell": {
     "cellMetadata": {
      "byteLimit": 2048000,
      "rowLimit": 10000
     },
     "inputWidgets": {},
     "nuid": "93223fca-9d70-4000-8169-b848047fb134",
     "showTitle": false,
     "tableResultSettingsMap": {},
     "title": ""
    }
   },
   "outputs": [
    {
     "output_type": "stream",
     "name": "stdout",
     "output_type": "stream",
     "text": [
      "                              trace_id  ...                                        assessments\n0  tr-f61047a886c18bdc4a4faa8b7dcb3502  ...  [Feedback(name='safety', source=AssessmentSour...\n1  tr-f975a936f29b5a4771fe1e4741165384  ...  [Feedback(name='includes_next_steps', source=A...\n2  tr-c2900e95bbc4a2a1f68fb45d7bc71321  ...  [Feedback(name='professional_tone', source=Ass...\n3  tr-b8fee8e33925b8ce47c0902fe82a097a  ...  [Feedback(name='concise_communication', source...\n4  tr-8ccc7fcefcc1ec32ab476f71bf5944f3  ...  [Feedback(name='agent/total_token_count', sour...\n5  tr-f383143bca179fe41e90769f361cc33d  ...  [Feedback(name='retrieval_groundedness', sourc...\n6  tr-68d82a14d9ec188f364155ba9cea1469  ...  [Feedback(name='relevance_to_query', source=As...\n\n[7 rows x 12 columns]\n"
     ]
    }
   ],
   "source": [
    "# 評価実行のトレースを取得\n",
    "eval_traces = mlflow.search_traces(run_id=eval_results.run_id)\n",
    "\n",
    "# eval_tracesは評価されたトレースを含むPandas DataFrameです。`assessments`列には各スコアラーのフィードバックが含まれます。\n",
    "print(eval_traces)"
   ]
  },
  {
   "cell_type": "markdown",
   "metadata": {
    "application/vnd.databricks.v1+cell": {
     "cellMetadata": {},
     "inputWidgets": {},
     "nuid": "64f97a2c-1a40-4774-b1f8-1c650e0735cd",
     "showTitle": false,
     "tableResultSettingsMap": {},
     "title": ""
    }
   },
   "source": [
    "## ステップ 6: 改良版を作成する[​](#ステップ-6-改良版を作成する \"ステップ-6-改良版を作成する への直接リンク\")\n",
    "\n",
    "評価結果に基づいて、特定された問題に対処する改善バージョンを作成しましょう。\n",
    "\n",
    "注記\n",
    "\n",
    "新しいバージョンの `generate_sales_email()` 関数では、最初のステップから `retrieve_customer_info()` 取得した関数を使用します。\n"
   ]
  },
  {
   "cell_type": "code",
   "execution_count": 0,
   "metadata": {
    "application/vnd.databricks.v1+cell": {
     "cellMetadata": {
      "byteLimit": 2048000,
      "rowLimit": 10000
     },
     "inputWidgets": {},
     "nuid": "e9d19fcd-14dc-41cb-9a37-fb704b6556e1",
     "showTitle": false,
     "tableResultSettingsMap": {},
     "title": ""
    }
   },
   "outputs": [
    {
     "output_type": "stream",
     "name": "stderr",
     "output_type": "stream",
     "text": [
      "2025/06/29 02:47:47 INFO mlflow.tracking.fluent: LoggedModel with name 'sales_email_v2' does not exist, creating one...\n2025/06/29 02:47:48 INFO mlflow.tracking.fluent: Active model is set to the logged model with ID: m-0e841ae6ba4f4e9ab4b749fdb4827a83\n"
     ]
    },
    {
     "output_type": "stream",
     "name": "stdout",
     "output_type": "stream",
     "text": [
      "件名：月曜日の製品デモのフォローアップ\n\nDear アリスさん\n\n月曜日に私たちと一緒に製品デモに参加いただき、ありがとうございました。我々は、エンタープライズ機能、特に高度な分析、リアルタイムダッシュボード、API統合、カスタムレポート、マルチユーザーサポート、SSO認証、データエクスポート機能、および500人以上のユーザー向けの価格設定についてのご関心を大変嬉しく思いました。\n\nTicket #123 については、先週 API の遅延問題を解決したことをご存じでしょう。Ticket #124 および Ticket #125 については、カスタマーサポートチームがご要望の_one bulk import 機能リクエストおよび GDPR コンプライアンスに関する質問_に関してご連絡を差し上げる予定です。\n\nアカウントマネージャーのサラは、私たちにご要望をより深く理解する機会を与えてくださり、感謝しております。この製品デモの後、追加の質問や懸念事項がございましたら、お気軽にお問い合わせください。\n\n私たちがどのようにお役に立てるかを知りたい場合は、こちらのリンクをクリックしてください: [リンク]\n\n私はあなたのビジネスを成功させるために私たちがどのように役に立つかを理解するためにここにいます。何か質問や懸念がある場合は、いつでも私に連絡してください。\n\nご健康と幸せを祈ります。\n\nベストリーガーズ\n[あなたの名前]\n顧客サポート担当\n"
     ]
    },
    {
     "output_type": "display_data",
     "data": {
      "application/databricks.mlflow.trace": "\"tr-91bca1d6cd34fbf3efd6c1b9b7610df5\"",
      "text/plain": [
       "Trace(trace_id=tr-91bca1d6cd34fbf3efd6c1b9b7610df5)"
      ]
     },
     "metadata": {},
     "output_type": "display_data"
    }
   ],
   "source": [
    "# 新しいLoggedModelを作成・設定\n",
    "active_model_info = mlflow.set_active_model(name=\"sales_email_v2\")\n",
    "\n",
    "@mlflow.trace\n",
    "def generate_sales_email_v2(\n",
    "    customer_name: str, user_instructions: str\n",
    ") -> Dict[str, str]:\n",
    "    \"\"\"顧客データと営業担当者の指示に基づいてパーソナライズされた営業メールを生成します。\"\"\"\n",
    "    # 顧客情報を取得\n",
    "    customer_docs = retrieve_customer_info(customer_name)\n",
    "\n",
    "    if not customer_docs:\n",
    "        return {\"error\": f\"{customer_name}の顧客データが見つかりません\"}\n",
    "\n",
    "    # 取得したコンテキストを結合\n",
    "    context = \"\\n\".join([doc.page_content for doc in customer_docs])\n",
    "\n",
    "    # より良い指示に従ってメールを生成\n",
    "    prompt = f\"\"\"あなたは営業担当者です。メールを書いてください。\n",
    "\n",
    "最も重要なこと: 以下のユーザー指示に正確に従ってください:\n",
    "{user_instructions}\n",
    "\n",
    "顧客コンテキスト（指示に関連するもののみ使用してください）:\n",
    "{context}\n",
    "\n",
    "ガイドライン:\n",
    "1. ユーザー指示を最優先にしてください\n",
    "2. メールは簡潔に - ユーザーのリクエストに直接関連する情報のみを含めてください\n",
    "3. 具体的で実行可能な次のステップを明確なタイムラインと共にメールの最後に記載してください（例：「金曜日までに価格をフォローアップします」や「今週15分の電話をスケジュールしましょう」）\n",
    "4. ユーザーの指示に直接関連する場合のみ顧客情報を参照してください\n",
    "\n",
    "ユーザーの正確なリクエストを満たす簡潔で焦点を絞ったメールを書いてください。\"\"\"\n",
    "\n",
    "    response = client.chat.completions.create(\n",
    "        model=\"databricks-meta-llama-3-3-70b-instruct\",\n",
    "        messages=[\n",
    "            {\n",
    "                \"role\": \"system\",\n",
    "                \"content\": \"あなたは簡潔で指示に焦点を当てたメールを書く役立つ営業アシスタントです。\",\n",
    "            },\n",
    "            {\"role\": \"user\", \"content\": prompt},\n",
    "        ],\n",
    "        max_tokens=2000,\n",
    "    )\n",
    "\n",
    "    return {\"email\": response.choices[0].message.content}\n",
    "\n",
    "# アプリケーションをテスト\n",
    "result = generate_sales_email(\"Acme Corp\", \"製品デモの後にフォローアップしてください\")\n",
    "print(result[\"email\"])"
   ]
  },
  {
   "cell_type": "code",
   "execution_count": 0,
   "metadata": {
    "application/vnd.databricks.v1+cell": {
     "cellMetadata": {
      "byteLimit": 2048000,
      "rowLimit": 10000
     },
     "inputWidgets": {},
     "nuid": "720a2de5-ff1c-47e3-8d36-b5a3791ed35a",
     "showTitle": false,
     "tableResultSettingsMap": {},
     "title": ""
    }
   },
   "outputs": [
    {
     "output_type": "stream",
     "name": "stderr",
     "output_type": "stream",
     "text": [
      "2025/06/29 02:52:05 INFO mlflow.genai.utils.data_validation: Testing model prediction with the first sample in the dataset.\n2025/06/29 02:52:16 INFO mlflow.tracking.fluent: Active model is set to the logged model with ID: m-0e841ae6ba4f4e9ab4b749fdb4827a83\n2025/06/29 02:52:16 INFO mlflow.tracking.fluent: Use `mlflow.set_active_model` to set the active model to a different one if needed.\n"
     ]
    },
    {
     "output_type": "display_data",
     "data": {
      "application/vnd.jupyter.widget-view+json": {
       "model_id": "65f77636df7248278085dd75d3cf9c56",
       "version_major": 2,
       "version_minor": 0
      },
      "text/plain": [
       "Evaluating:   0%|          | 0/7 [Elapsed: 00:00, Remaining: ?] "
      ]
     },
     "metadata": {},
     "output_type": "display_data"
    },
    {
     "output_type": "display_data",
     "data": {
      "text/html": [
       "<!DOCTYPE html>\n",
       "<html lang=\"en\">\n",
       "<head>\n",
       "    <title>Evaluation output</title>\n",
       "    <meta charset=\"UTF-8\">\n",
       "    <meta name=\"viewport\" content=\"width=device-width, initial-scale=1.0\">\n",
       "    <style>\n",
       "        body {\n",
       "            font-family: Arial, sans-serif;\n",
       "        }\n",
       "\n",
       "        .header {\n",
       "            a.button {\n",
       "                padding: 4px 8px;\n",
       "                line-height: 20px;\n",
       "                box-shadow: none;\n",
       "                height: 20px;\n",
       "                display: inline-flex;\n",
       "                align-items: center;\n",
       "                justify-content: center;\n",
       "                vertical-align: middle;\n",
       "                background-color: rgb(34, 114, 180);\n",
       "                color: rgb(255, 255, 255);\n",
       "                text-decoration: none;\n",
       "                animation-duration: 0s;\n",
       "                transition: none 0s ease 0s;\n",
       "                position: relative;\n",
       "                white-space: nowrap;\n",
       "                text-align: center;\n",
       "                border: 1px solid rgb(192, 205, 216);\n",
       "                cursor: pointer;\n",
       "                user-select: none;\n",
       "                touch-action: manipulation;\n",
       "                border-radius: 4px;\n",
       "                gap: 6px;\n",
       "            }\n",
       "\n",
       "            a.button:hover {\n",
       "                background-color: rgb(14, 83, 139) !important;\n",
       "                border-color: transparent !important;\n",
       "                color: rgb(255, 255, 255) !important;\n",
       "            }\n",
       "        }\n",
       "\n",
       "        .warnings-section {\n",
       "            margin-top: 8px;\n",
       "\n",
       "            ul {\n",
       "                list-style-type: none;\n",
       "            }\n",
       "        }\n",
       "\n",
       "        .instructions-section {\n",
       "            margin-top: 16px;\n",
       "            font-size: 14px;\n",
       "\n",
       "            ul {\n",
       "                margin-top: 0;\n",
       "                margin-bottom: 0;\n",
       "            }\n",
       "        }\n",
       "\n",
       "        code {\n",
       "            font-family: monospace;\n",
       "        }\n",
       "\n",
       "        .note {\n",
       "            color: #666;\n",
       "        }\n",
       "\n",
       "        a {\n",
       "            color: #2272B4;\n",
       "            text-decoration: none;\n",
       "        }\n",
       "\n",
       "        a:hover {\n",
       "            color: #005580;\n",
       "        }\n",
       "    </style>\n",
       "</head>\n",
       "<body>\n",
       "<div>\n",
       "    <div class=\"header\">\n",
       "        <a href=\"https://dbc-f1d46cb2-e7aa.cloud.databricks.com/ml/experiments/3f14e493c7af4ee4b7756305063051c9/runs/02bd11ee52bb4b6083134aad6f7546d0/evaluations/\" class=\"button\">\n",
       "            View evaluation results.\n",
       "            <svg xmlns=\"http://www.w3.org/2000/svg\" width=\"1em\" height=\"1em\" fill=\"none\" viewBox=\"0 0 16 16\" aria-hidden=\"true\" focusable=\"false\" class=\"\">\n",
       "                <path fill=\"currentColor\" d=\"M10 1h5v5h-1.5V3.56L8.53 8.53 7.47 7.47l4.97-4.97H10z\"></path>\n",
       "                <path fill=\"currentColor\" d=\"M1 2.75A.75.75 0 0 1 1.75 2H8v1.5H2.5v10h10V8H14v6.25a.75.75 0 0 1-.75.75H1.75a.75.75 0 0 1-.75-.75z\"></path>\n",
       "            </svg>\n",
       "        </a>\n",
       "    </div>\n",
       "</div>\n",
       "</body>\n",
       "</html>"
      ]
     },
     "metadata": {},
     "output_type": "display_data"
    },
    {
     "output_type": "display_data",
     "data": {
      "application/databricks.mlflow.trace": "[\"tr-6bfcd1e733800ae0c701e76ca635b19b\", \"tr-27d7287c092876b08e04119ee7bbfee1\", \"tr-73647734d0880db558689485f47c992f\", \"tr-6c26db10348a285d0b6f1863ae7a5915\", \"tr-f49d1c2765dfe1dcfcc3109d126c41ff\", \"tr-5bfea6ce91a538dac1e52ef3e593fab4\", \"tr-bc4214c182168cb1f3f62e70f16fd26c\"]",
      "text/plain": [
       "[Trace(trace_id=tr-6bfcd1e733800ae0c701e76ca635b19b), Trace(trace_id=tr-27d7287c092876b08e04119ee7bbfee1), Trace(trace_id=tr-73647734d0880db558689485f47c992f), Trace(trace_id=tr-6c26db10348a285d0b6f1863ae7a5915), Trace(trace_id=tr-f49d1c2765dfe1dcfcc3109d126c41ff), Trace(trace_id=tr-5bfea6ce91a538dac1e52ef3e593fab4), Trace(trace_id=tr-bc4214c182168cb1f3f62e70f16fd26c)]"
      ]
     },
     "metadata": {},
     "output_type": "display_data"
    }
   ],
   "source": [
    "import mlflow\n",
    "# 新しいバージョンの評価を、以前と同じスコアラーを使用して実行します\n",
    "# start_runを使用してUIで評価ランを名前付けします\n",
    "with mlflow.start_run(run_name=\"v2\"):\n",
    "    eval_results_v2 = mlflow.genai.evaluate(\n",
    "        data=eval_dataset, # 同じデータセット\n",
    "        predict_fn=generate_sales_email_v2, # 新しいアプリバージョンの関数\n",
    "        scorers=email_scorers, # 前回と同じスコアラーを利用\n",
    "    )"
   ]
  },
  {
   "cell_type": "markdown",
   "metadata": {
    "application/vnd.databricks.v1+cell": {
     "cellMetadata": {},
     "inputWidgets": {},
     "nuid": "60569602-4f37-47c0-8c25-ef5978ef0e5c",
     "showTitle": false,
     "tableResultSettingsMap": {},
     "title": ""
    }
   },
   "source": [
    "## 比較する"
   ]
  },
  {
   "cell_type": "code",
   "execution_count": 0,
   "metadata": {
    "application/vnd.databricks.v1+cell": {
     "cellMetadata": {
      "byteLimit": 2048000,
      "rowLimit": 10000
     },
     "inputWidgets": {},
     "nuid": "e65ac2d5-ed2b-4c4f-a22f-cd7af716ab3d",
     "showTitle": false,
     "tableResultSettingsMap": {},
     "title": ""
    }
   },
   "outputs": [
    {
     "output_type": "stream",
     "name": "stdout",
     "output_type": "stream",
     "text": [
      "\n=== Version Comparison Results ===\n                Metric V1 Score V2 Score Improvement Improved\n     professional_tone    1.000    1.000      +0.000        ✓\n  follows_instructions    0.667    0.600      -0.067        ✗\n   includes_next_steps    0.000    0.800      +0.800        ✓\n mentions_contact_name    1.000    1.000      +0.000        ✓\nretrieval_groundedness    1.000    0.600      -0.400        ✗\n concise_communication    0.333    0.600      +0.267        ✓\n    relevance_to_query    0.833    1.000      +0.167        ✓\n\nOverall average improvement: +0.110 (+15.9%)\n"
     ]
    }
   ],
   "source": [
    "import pandas as pd\n",
    "\n",
    "# mlflow.search_runsはINやOR演算子をサポートしていないため、個別にランを取得\n",
    "run_v1_df = mlflow.search_runs(filter_string=f\"run_id = '{eval_results.run_id}'\")\n",
    "run_v2_df = mlflow.search_runs(filter_string=f\"run_id = '{eval_results_v2.run_id}'\")\n",
    "\n",
    "# メトリクス列を抽出（.aggregate_scoreではなく/meanで終わるもの）\n",
    "# 品質比較のため、エージェント系メトリクス（latency, token counts）は除外\n",
    "metric_cols = [\n",
    "    col\n",
    "    for col in run_v1_df.columns\n",
    "    if col.startswith(\"metrics.\") and col.endswith(\"/mean\") and \"agent/\" not in col\n",
    "]\n",
    "\n",
    "# 比較テーブルを作成\n",
    "comparison_data = []\n",
    "for metric in metric_cols:\n",
    "    metric_name = metric.replace(\"metrics.\", \"\").replace(\"/mean\", \"\")\n",
    "    v1_score = run_v1_df[metric].iloc[0]\n",
    "    v2_score = run_v2_df[metric].iloc[0]\n",
    "    improvement = v2_score - v1_score\n",
    "\n",
    "    comparison_data.append(\n",
    "        {\n",
    "            \"Metric\": metric_name,\n",
    "            \"V1 Score\": f\"{v1_score:.3f}\",\n",
    "            \"V2 Score\": f\"{v2_score:.3f}\",\n",
    "            \"Improvement\": f\"{improvement:+.3f}\",\n",
    "            \"Improved\": \"✓\" if improvement >= 0 else \"✗\",\n",
    "        }\n",
    "    )\n",
    "\n",
    "comparison_df = pd.DataFrame(comparison_data)\n",
    "print(\"\\n=== バージョン比較結果 ===\")\n",
    "print(comparison_df.to_string(index=False))\n",
    "\n",
    "# 全体の平均改善度を計算（品質メトリクスのみ対象）\n",
    "avg_v1 = run_v1_df[metric_cols].mean(axis=1).iloc[0]\n",
    "avg_v2 = run_v2_df[metric_cols].mean(axis=1).iloc[0]\n",
    "print(\n",
    "    f\"\\n全体平均の改善度: {(avg_v2 - avg_v1):+.3f} ({((avg_v2/avg_v1 - 1) * 100):+.1f}%)\"\n",
    ")"
   ]
  },
  {
   "cell_type": "code",
   "execution_count": 0,
   "metadata": {
    "application/vnd.databricks.v1+cell": {
     "cellMetadata": {
      "byteLimit": 2048000,
      "rowLimit": 10000
     },
     "inputWidgets": {},
     "nuid": "66c35d32-8efc-45c0-a74d-19074bbf0799",
     "showTitle": false,
     "tableResultSettingsMap": {},
     "title": ""
    }
   },
   "outputs": [
    {
     "output_type": "stream",
     "name": "stdout",
     "output_type": "stream",
     "text": [
      "v1とv2の間で7の一致する例が見つかりました\n\n=== 3のメトリクスリグレッションが見つかりました ===\n\n\n================================================================================\nメトリクスリグレッション: follows_instructions\n================================================================================\n\n顧客: Global Retail\n指示: 四半期レビューの要約を送信\n\nV1スコア: ✓ (合格)\nV1理由: The user instruction was to send a summary of the quarterly review. The response provided is a follow-up email template that includes a brief summary of the meeting points discussed during the quarterly review. Therefore, the response adheres to the user instructions provided in the request.\n\nV2スコア: ✗ (不合格)\nV2理由: The user instruction was to send a summary of the quarterly review. The response includes an email that mentions a follow-up from a meeting and highlights satisfaction with the platform's performance during the quarterly review. However, it does not provide a clear summary of the quarterly review itself. Instead, it mentions a follow-up on pricing and does not focus on summarizing the review content. Therefore, the response does not fully adhere to the user instructions.\n\n================================================================================\nメトリクスリグレッション: concise_communication\n================================================================================\n\n顧客: Global Retail\n指示: 四半期レビューの要約を送信\n\nV1スコア: ✓ (合格)\nV1理由: The response provides a follow-up email that includes a subject line, a greeting, a brief mention of the previous meeting, and a summary of the key points discussed. It also offers further assistance and closes with a polite sign-off. The email is concise and covers the main points without unnecessary details, thus effectively communicating the essential information.\n\nV2スコア: ✗ (不合格)\nV2理由: The response is not concise and does not effectively summarize the quarterly review. It includes unnecessary details such as the follow-up on pricing and the mention of satisfaction with platform performance, which are not directly related to the request for a summary of the quarterly review. Therefore, it does not satisfy the guideline of being concise and focused on the main message.\n\n================================================================================\nメトリクスリグレッション: retrieval_groundedness\n================================================================================\n\n顧客: Global Retail\n指示: 四半期レビューの要約を送信\n\nV1スコア: ✓ (合格)\nV1理由: The response includes a follow-up email template that mentions a recent quarterly review meeting, satisfaction with platform performance, and a summary of discussed points. The retrieved context confirms a recent quarterly review meeting where platform performance was discussed and satisfaction was expressed. It also mentions the contact person as キャロル・ワン and the account manager as サラ・ジョンソン, which matches the names in the response. Therefore, all parts of the response are supported by the retrieved context.\n\nV2スコア: ✗ (不合格)\nV2理由: The response mentions an email from サラ・ジョンソン summarizing a quarterly review and highlighting satisfaction with platform performance. The retrieved context confirms that there was a recent quarterly review and that there was satisfaction with the platform's performance. The response also mentions キャロル following up on pricing by Friday, which is not mentioned in the retrieved context. Therefore, the part about キャロル following up on pricing is not supported by the retrieved context.\n"
     ]
    }
   ],
   "source": [
    "import pandas as pd\n",
    "# 両バージョンの詳細なトレースを取得\n",
    "traces_v1 = mlflow.search_traces(run_id=eval_results.run_id)\n",
    "traces_v2 = mlflow.search_traces(run_id=eval_results_v2.run_id)\n",
    "\n",
    "# 入力パラメータに基づいてマージキーを作成\n",
    "traces_v1['merge_key'] = traces_v1['request'].apply(\n",
    "    lambda x: f\"{x.get('customer_name', '')}|{x.get('user_instructions', '')}\"\n",
    ")\n",
    "traces_v2['merge_key'] = traces_v2['request'].apply(\n",
    "    lambda x: f\"{x.get('customer_name', '')}|{x.get('user_instructions', '')}\"\n",
    ")\n",
    "\n",
    "# 同じ入力データでマージして比較\n",
    "merged = traces_v1.merge(\n",
    "    traces_v2,\n",
    "    on='merge_key',\n",
    "    suffixes=('_v1', '_v2')\n",
    ")\n",
    "\n",
    "print(f\"v1とv2の間で{len(merged)}の一致する例が見つかりました\")\n",
    "\n",
    "# 特定のメトリクスが改善しなかった例を見つける\n",
    "regression_examples = []\n",
    "\n",
    "for idx, row in merged.iterrows():\n",
    "    v1_assessments = {a.name: a for a in row['assessments_v1']}\n",
    "    v2_assessments = {a.name: a for a in row['assessments_v2']}\n",
    "\n",
    "    # 各スコアラーについてリグレッションをチェック\n",
    "    for scorer_name in ['follows_instructions', 'concise_communication', 'includes_next_steps', 'retrieval_groundedness']:\n",
    "        v1_assessment = v1_assessments.get(scorer_name)\n",
    "        v2_assessment = v2_assessments.get(scorer_name)\n",
    "\n",
    "        if v1_assessment and v2_assessment:\n",
    "            v1_val = v1_assessment.feedback.value\n",
    "            v2_val = v2_assessment.feedback.value\n",
    "\n",
    "            # メトリクスが悪化したかどうかをチェック（yes -> no）\n",
    "            if v1_val == 'yes' and v2_val == 'no':\n",
    "                regression_examples.append({\n",
    "                    'index': idx,\n",
    "                    'customer': row['request_v1']['customer_name'],\n",
    "                    'instructions': row['request_v1']['user_instructions'],\n",
    "                    'metric': scorer_name,\n",
    "                    'v1_score': v1_val,\n",
    "                    'v2_score': v2_val,\n",
    "                    'v1_rationale': v1_assessment.rationale,\n",
    "                    'v2_rationale': v2_assessment.rationale,\n",
    "                    'v1_response': row['response_v1']['email'],\n",
    "                    'v2_response': row['response_v2']['email']\n",
    "                })\n",
    "\n",
    "# リグレッションの例を表示\n",
    "if regression_examples:\n",
    "    print(f\"\\n=== {len(regression_examples)}のメトリクスリグレッションが見つかりました ===\\n\")\n",
    "\n",
    "    # メトリクスごとにグループ化\n",
    "    by_metric = {}\n",
    "    for ex in regression_examples:\n",
    "        metric = ex['metric']\n",
    "        if metric not in by_metric:\n",
    "            by_metric[metric] = []\n",
    "        by_metric[metric].append(ex)\n",
    "\n",
    "    # リグレッションが発生したメトリクスごとの例を表示\n",
    "    for metric, examples in by_metric.items():\n",
    "        print(f\"\\n{'='*80}\")\n",
    "        print(f\"メトリクスリグレッション: {metric}\")\n",
    "        print(f\"{'='*80}\")\n",
    "\n",
    "        # このメトリクスの最初の例を表示\n",
    "        ex = examples[0]\n",
    "        print(f\"\\n顧客: {ex['customer']}\")\n",
    "        print(f\"指示: {ex['instructions']}\")\n",
    "        print(f\"\\nV1スコア: ✓ (合格)\")\n",
    "        print(f\"V1理由: {ex['v1_rationale']}\")\n",
    "        print(f\"\\nV2スコア: ✗ (不合格)\")\n",
    "        print(f\"V2理由: {ex['v2_rationale']}\")\n",
    "\n",
    "        if len(examples) > 1:\n",
    "            print(f\"\\n(+{len(examples)-1}の例が{metric}リグレッションを含む)\")\n",
    "else:\n",
    "    print(\"\\n✓ メトリクスリグレッションは見つかりませんでした - V2はすべてのメトリクスを改善または維持しました！\")"
   ]
  }
 ],
 "metadata": {
  "application/vnd.databricks.v1+notebook": {
   "computePreferences": null,
   "dashboards": [],
   "environmentMetadata": {
    "base_environment": "",
    "environment_version": "2"
   },
   "inputWidgetPreferences": null,
   "language": "python",
   "notebookMetadata": {
    "pythonIndentUnit": 4
   },
   "notebookName": "005_評価とモニタリング",
   "widgets": {}
  },
  "language_info": {
   "name": "python"
  }
 },
 "nbformat": 4,
 "nbformat_minor": 0
}
