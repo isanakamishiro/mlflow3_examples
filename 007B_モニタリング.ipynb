{
 "cells": [
  {
   "cell_type": "markdown",
   "metadata": {
    "application/vnd.databricks.v1+cell": {
     "cellMetadata": {},
     "inputWidgets": {},
     "nuid": "3018b5d2-ccbc-441e-a967-2c54a0b5f07b",
     "showTitle": false,
     "tableResultSettingsMap": {},
     "title": ""
    }
   },
   "source": [
    "\n",
    "# 本番運用の品質モニタリング (スコアラーの自動実行)\n",
    "\n",
    "https://docs.databricks.com/aws/ja/mlflow3/genai/eval-monitor/run-scorer-in-prod"
   ]
  },
  {
   "cell_type": "code",
   "execution_count": 0,
   "metadata": {
    "application/vnd.databricks.v1+cell": {
     "cellMetadata": {
      "byteLimit": 2048000,
      "rowLimit": 10000
     },
     "inputWidgets": {},
     "nuid": "766f531d-c5a4-4d9d-9c97-d4d94c68700a",
     "showTitle": false,
     "tableResultSettingsMap": {},
     "title": ""
    }
   },
   "outputs": [
    {
     "output_type": "stream",
     "name": "stdout",
     "output_type": "stream",
     "text": [
      "Collecting mlflow>=3.1.1 (from mlflow[databricks]>=3.1.1)\n  Downloading mlflow-3.1.1-py3-none-any.whl.metadata (29 kB)\nCollecting openai\n  Downloading openai-1.93.0-py3-none-any.whl.metadata (29 kB)\nCollecting mlflow-skinny==3.1.1 (from mlflow>=3.1.1->mlflow[databricks]>=3.1.1)\n  Downloading mlflow_skinny-3.1.1-py3-none-any.whl.metadata (30 kB)\nCollecting Flask<4 (from mlflow>=3.1.1->mlflow[databricks]>=3.1.1)\n  Downloading flask-3.1.1-py3-none-any.whl.metadata (3.0 kB)\nCollecting alembic!=1.10.0,<2 (from mlflow>=3.1.1->mlflow[databricks]>=3.1.1)\n  Downloading alembic-1.16.2-py3-none-any.whl.metadata (7.3 kB)\nCollecting docker<8,>=4.0.0 (from mlflow>=3.1.1->mlflow[databricks]>=3.1.1)\n  Downloading docker-7.1.0-py3-none-any.whl.metadata (3.8 kB)\nCollecting graphene<4 (from mlflow>=3.1.1->mlflow[databricks]>=3.1.1)\n  Downloading graphene-3.4.3-py2.py3-none-any.whl.metadata (6.9 kB)\nCollecting gunicorn<24 (from mlflow>=3.1.1->mlflow[databricks]>=3.1.1)\n  Downloading gunicorn-23.0.0-py3-none-any.whl.metadata (4.4 kB)\nRequirement already satisfied: matplotlib<4 in /databricks/python3/lib/python3.11/site-packages (from mlflow>=3.1.1->mlflow[databricks]>=3.1.1) (3.7.2)\nRequirement already satisfied: numpy<3 in /databricks/python3/lib/python3.11/site-packages (from mlflow>=3.1.1->mlflow[databricks]>=3.1.1) (1.23.5)\nRequirement already satisfied: pandas<3 in /databricks/python3/lib/python3.11/site-packages (from mlflow>=3.1.1->mlflow[databricks]>=3.1.1) (1.5.3)\nRequirement already satisfied: pyarrow<21,>=4.0.0 in /databricks/python3/lib/python3.11/site-packages (from mlflow>=3.1.1->mlflow[databricks]>=3.1.1) (14.0.1)\nRequirement already satisfied: scikit-learn<2 in /databricks/python3/lib/python3.11/site-packages (from mlflow>=3.1.1->mlflow[databricks]>=3.1.1) (1.3.0)\nRequirement already satisfied: scipy<2 in /databricks/python3/lib/python3.11/site-packages (from mlflow>=3.1.1->mlflow[databricks]>=3.1.1) (1.11.1)\nCollecting sqlalchemy<3,>=1.4.0 (from mlflow>=3.1.1->mlflow[databricks]>=3.1.1)\n  Downloading sqlalchemy-2.0.41-cp311-cp311-manylinux_2_17_aarch64.manylinux2014_aarch64.whl.metadata (9.6 kB)\nRequirement already satisfied: cachetools<7,>=5.0.0 in /databricks/python3/lib/python3.11/site-packages (from mlflow-skinny==3.1.1->mlflow>=3.1.1->mlflow[databricks]>=3.1.1) (5.5.0)\nRequirement already satisfied: click<9,>=7.0 in /databricks/python3/lib/python3.11/site-packages (from mlflow-skinny==3.1.1->mlflow>=3.1.1->mlflow[databricks]>=3.1.1) (8.0.4)\nRequirement already satisfied: cloudpickle<4 in /databricks/python3/lib/python3.11/site-packages (from mlflow-skinny==3.1.1->mlflow>=3.1.1->mlflow[databricks]>=3.1.1) (3.0.0)\nRequirement already satisfied: databricks-sdk<1,>=0.20.0 in /databricks/python3/lib/python3.11/site-packages (from mlflow-skinny==3.1.1->mlflow>=3.1.1->mlflow[databricks]>=3.1.1) (0.40.0)\nCollecting fastapi<1 (from mlflow-skinny==3.1.1->mlflow>=3.1.1->mlflow[databricks]>=3.1.1)\n  Downloading fastapi-0.115.14-py3-none-any.whl.metadata (27 kB)\nRequirement already satisfied: gitpython<4,>=3.1.9 in /databricks/python3/lib/python3.11/site-packages (from mlflow-skinny==3.1.1->mlflow>=3.1.1->mlflow[databricks]>=3.1.1) (3.1.43)\nRequirement already satisfied: importlib_metadata!=4.7.0,<9,>=3.7.0 in /databricks/python3/lib/python3.11/site-packages (from mlflow-skinny==3.1.1->mlflow>=3.1.1->mlflow[databricks]>=3.1.1) (6.0.0)\nCollecting opentelemetry-api<3,>=1.9.0 (from mlflow-skinny==3.1.1->mlflow>=3.1.1->mlflow[databricks]>=3.1.1)\n  Downloading opentelemetry_api-1.34.1-py3-none-any.whl.metadata (1.5 kB)\nCollecting opentelemetry-sdk<3,>=1.9.0 (from mlflow-skinny==3.1.1->mlflow>=3.1.1->mlflow[databricks]>=3.1.1)\n  Downloading opentelemetry_sdk-1.34.1-py3-none-any.whl.metadata (1.6 kB)\nRequirement already satisfied: packaging<26 in /databricks/python3/lib/python3.11/site-packages (from mlflow-skinny==3.1.1->mlflow>=3.1.1->mlflow[databricks]>=3.1.1) (23.2)\nRequirement already satisfied: protobuf<7,>=3.12.0 in /databricks/python3/lib/python3.11/site-packages (from mlflow-skinny==3.1.1->mlflow>=3.1.1->mlflow[databricks]>=3.1.1) (5.29.3)\nCollecting pydantic<3,>=1.10.8 (from mlflow-skinny==3.1.1->mlflow>=3.1.1->mlflow[databricks]>=3.1.1)\n  Downloading pydantic-2.11.7-py3-none-any.whl.metadata (67 kB)\nRequirement already satisfied: pyyaml<7,>=5.1 in /databricks/python3/lib/python3.11/site-packages (from mlflow-skinny==3.1.1->mlflow>=3.1.1->mlflow[databricks]>=3.1.1) (6.0)\nRequirement already satisfied: requests<3,>=2.17.3 in /databricks/python3/lib/python3.11/site-packages (from mlflow-skinny==3.1.1->mlflow>=3.1.1->mlflow[databricks]>=3.1.1) (2.31.0)\nRequirement already satisfied: sqlparse<1,>=0.4.0 in /databricks/python3/lib/python3.11/site-packages (from mlflow-skinny==3.1.1->mlflow>=3.1.1->mlflow[databricks]>=3.1.1) (0.5.1)\nRequirement already satisfied: typing-extensions<5,>=4.0.0 in /databricks/python3/lib/python3.11/site-packages (from mlflow-skinny==3.1.1->mlflow>=3.1.1->mlflow[databricks]>=3.1.1) (4.10.0)\nCollecting uvicorn<1 (from mlflow-skinny==3.1.1->mlflow>=3.1.1->mlflow[databricks]>=3.1.1)\n  Downloading uvicorn-0.35.0-py3-none-any.whl.metadata (6.5 kB)\nCollecting anyio<5,>=3.5.0 (from openai)\n  Downloading anyio-4.9.0-py3-none-any.whl.metadata (4.7 kB)\nRequirement already satisfied: distro<2,>=1.7.0 in /usr/lib/python3/dist-packages (from openai) (1.7.0)\nCollecting httpx<1,>=0.23.0 (from openai)\n  Downloading httpx-0.28.1-py3-none-any.whl.metadata (7.1 kB)\nCollecting jiter<1,>=0.4.0 (from openai)\n  Downloading jiter-0.10.0-cp311-cp311-manylinux_2_17_aarch64.manylinux2014_aarch64.whl.metadata (5.2 kB)\nCollecting sniffio (from openai)\n  Downloading sniffio-1.3.1-py3-none-any.whl.metadata (3.9 kB)\nCollecting tqdm>4 (from openai)\n  Downloading tqdm-4.67.1-py3-none-any.whl.metadata (57 kB)\nCollecting typing-extensions<5,>=4.0.0 (from mlflow-skinny==3.1.1->mlflow>=3.1.1->mlflow[databricks]>=3.1.1)\n  Downloading typing_extensions-4.14.1-py3-none-any.whl.metadata (3.0 kB)\nRequirement already satisfied: azure-storage-file-datalake>12 in /databricks/python3/lib/python3.11/site-packages (from mlflow[databricks]>=3.1.1) (12.14.0)\nRequirement already satisfied: google-cloud-storage>=1.30.0 in /databricks/python3/lib/python3.11/site-packages (from mlflow[databricks]>=3.1.1) (2.18.2)\nRequirement already satisfied: boto3>1 in /databricks/python3/lib/python3.11/site-packages (from mlflow[databricks]>=3.1.1) (1.34.39)\nRequirement already satisfied: botocore in /databricks/python3/lib/python3.11/site-packages (from mlflow[databricks]>=3.1.1) (1.34.39)\nCollecting databricks-agents<2.0,>=1.0.0 (from mlflow[databricks]>=3.1.1)\n  Downloading databricks_agents-1.1.0-py3-none-any.whl.metadata (3.5 kB)\nCollecting Mako (from alembic!=1.10.0,<2->mlflow>=3.1.1->mlflow[databricks]>=3.1.1)\n  Downloading mako-1.3.10-py3-none-any.whl.metadata (2.9 kB)\nRequirement already satisfied: idna>=2.8 in /databricks/python3/lib/python3.11/site-packages (from anyio<5,>=3.5.0->openai) (3.4)\nRequirement already satisfied: azure-core<2.0.0,>=1.28.0 in /databricks/python3/lib/python3.11/site-packages (from azure-storage-file-datalake>12->mlflow[databricks]>=3.1.1) (1.32.0)\nRequirement already satisfied: azure-storage-blob<13.0.0,>=12.19.0 in /databricks/python3/lib/python3.11/site-packages (from azure-storage-file-datalake>12->mlflow[databricks]>=3.1.1) (12.19.1)\nRequirement already satisfied: isodate>=0.6.1 in /databricks/python3/lib/python3.11/site-packages (from azure-storage-file-datalake>12->mlflow[databricks]>=3.1.1) (0.7.2)\nRequirement already satisfied: jmespath<2.0.0,>=0.7.1 in /databricks/python3/lib/python3.11/site-packages (from boto3>1->mlflow[databricks]>=3.1.1) (0.10.0)\nRequirement already satisfied: s3transfer<0.11.0,>=0.10.0 in /databricks/python3/lib/python3.11/site-packages (from boto3>1->mlflow[databricks]>=3.1.1) (0.10.3)\nRequirement already satisfied: python-dateutil<3.0.0,>=2.1 in /databricks/python3/lib/python3.11/site-packages (from botocore->mlflow[databricks]>=3.1.1) (2.8.2)\nRequirement already satisfied: urllib3<2.1,>=1.25.4 in /databricks/python3/lib/python3.11/site-packages (from botocore->mlflow[databricks]>=3.1.1) (1.26.16)\nRequirement already satisfied: databricks-connect in /databricks/python3/lib/python3.11/site-packages (from databricks-agents<2.0,>=1.0.0->mlflow[databricks]>=3.1.1) (15.4.5)\nCollecting dataclasses-json (from databricks-agents<2.0,>=1.0.0->mlflow[databricks]>=3.1.1)\n  Downloading dataclasses_json-0.6.7-py3-none-any.whl.metadata (25 kB)\nCollecting databricks-sdk<1,>=0.20.0 (from mlflow-skinny==3.1.1->mlflow>=3.1.1->mlflow[databricks]>=3.1.1)\n  Downloading databricks_sdk-0.55.0-py3-none-any.whl.metadata (39 kB)\nCollecting jinja2>=3.0.0 (from databricks-agents<2.0,>=1.0.0->mlflow[databricks]>=3.1.1)\n  Downloading jinja2-3.1.6-py3-none-any.whl.metadata (2.9 kB)\nCollecting tenacity>=8.5 (from databricks-agents<2.0,>=1.0.0->mlflow[databricks]>=3.1.1)\n  Downloading tenacity-9.1.2-py3-none-any.whl.metadata (1.2 kB)\nCollecting tiktoken>=0.8.0 (from databricks-agents<2.0,>=1.0.0->mlflow[databricks]>=3.1.1)\n  Downloading tiktoken-0.9.0-cp311-cp311-manylinux_2_17_aarch64.manylinux2014_aarch64.whl.metadata (6.7 kB)\nCollecting urllib3<2.1,>=1.25.4 (from botocore->mlflow[databricks]>=3.1.1)\n  Downloading urllib3-2.0.7-py3-none-any.whl.metadata (6.6 kB)\nCollecting blinker>=1.9.0 (from Flask<4->mlflow>=3.1.1->mlflow[databricks]>=3.1.1)\n  Downloading blinker-1.9.0-py3-none-any.whl.metadata (1.6 kB)\nCollecting click<9,>=7.0 (from mlflow-skinny==3.1.1->mlflow>=3.1.1->mlflow[databricks]>=3.1.1)\n  Downloading click-8.2.1-py3-none-any.whl.metadata (2.5 kB)\nCollecting itsdangerous>=2.2.0 (from Flask<4->mlflow>=3.1.1->mlflow[databricks]>=3.1.1)\n  Downloading itsdangerous-2.2.0-py3-none-any.whl.metadata (1.9 kB)\nCollecting markupsafe>=2.1.1 (from Flask<4->mlflow>=3.1.1->mlflow[databricks]>=3.1.1)\n  Downloading MarkupSafe-3.0.2-cp311-cp311-manylinux_2_17_aarch64.manylinux2014_aarch64.whl.metadata (4.0 kB)\nCollecting werkzeug>=3.1.0 (from Flask<4->mlflow>=3.1.1->mlflow[databricks]>=3.1.1)\n  Downloading werkzeug-3.1.3-py3-none-any.whl.metadata (3.7 kB)\nRequirement already satisfied: google-auth<3.0dev,>=2.26.1 in /databricks/python3/lib/python3.11/site-packages (from google-cloud-storage>=1.30.0->mlflow[databricks]>=3.1.1) (2.35.0)\nRequirement already satisfied: google-api-core<3.0.0dev,>=2.15.0 in /databricks/python3/lib/python3.11/site-packages (from google-cloud-storage>=1.30.0->mlflow[databricks]>=3.1.1) (2.18.0)\nRequirement already satisfied: google-cloud-core<3.0dev,>=2.3.0 in /databricks/python3/lib/python3.11/site-packages (from google-cloud-storage>=1.30.0->mlflow[databricks]>=3.1.1) (2.4.1)\nRequirement already satisfied: google-resumable-media>=2.7.2 in /databricks/python3/lib/python3.11/site-packages (from google-cloud-storage>=1.30.0->mlflow[databricks]>=3.1.1) (2.7.2)\nRequirement already satisfied: google-crc32c<2.0dev,>=1.0 in /databricks/python3/lib/python3.11/site-packages (from google-cloud-storage>=1.30.0->mlflow[databricks]>=3.1.1) (1.6.0)\nCollecting graphql-core<3.3,>=3.1 (from graphene<4->mlflow>=3.1.1->mlflow[databricks]>=3.1.1)\n  Downloading graphql_core-3.2.6-py3-none-any.whl.metadata (11 kB)\nCollecting graphql-relay<3.3,>=3.1 (from graphene<4->mlflow>=3.1.1->mlflow[databricks]>=3.1.1)\n  Downloading graphql_relay-3.2.0-py3-none-any.whl.metadata (12 kB)\nRequirement already satisfied: certifi in /databricks/python3/lib/python3.11/site-packages (from httpx<1,>=0.23.0->openai) (2023.7.22)\nCollecting httpcore==1.* (from httpx<1,>=0.23.0->openai)\n  Downloading httpcore-1.0.9-py3-none-any.whl.metadata (21 kB)\nCollecting h11>=0.16 (from httpcore==1.*->httpx<1,>=0.23.0->openai)\n  Downloading h11-0.16.0-py3-none-any.whl.metadata (8.3 kB)\nRequirement already satisfied: contourpy>=1.0.1 in /databricks/python3/lib/python3.11/site-packages (from matplotlib<4->mlflow>=3.1.1->mlflow[databricks]>=3.1.1) (1.0.5)\nRequirement already satisfied: cycler>=0.10 in /databricks/python3/lib/python3.11/site-packages (from matplotlib<4->mlflow>=3.1.1->mlflow[databricks]>=3.1.1) (0.11.0)\nRequirement already satisfied: fonttools>=4.22.0 in /databricks/python3/lib/python3.11/site-packages (from matplotlib<4->mlflow>=3.1.1->mlflow[databricks]>=3.1.1) (4.25.0)\nRequirement already satisfied: kiwisolver>=1.0.1 in /databricks/python3/lib/python3.11/site-packages (from matplotlib<4->mlflow>=3.1.1->mlflow[databricks]>=3.1.1) (1.4.4)\nRequirement already satisfied: pillow>=6.2.0 in /databricks/python3/lib/python3.11/site-packages (from matplotlib<4->mlflow>=3.1.1->mlflow[databricks]>=3.1.1) (10.3.0)\nRequirement already satisfied: pyparsing<3.1,>=2.3.1 in /databricks/python3/lib/python3.11/site-packages (from matplotlib<4->mlflow>=3.1.1->mlflow[databricks]>=3.1.1) (3.0.9)\nRequirement already satisfied: pytz>=2020.1 in /databricks/python3/lib/python3.11/site-packages (from pandas<3->mlflow>=3.1.1->mlflow[databricks]>=3.1.1) (2022.7)\nCollecting annotated-types>=0.6.0 (from pydantic<3,>=1.10.8->mlflow-skinny==3.1.1->mlflow>=3.1.1->mlflow[databricks]>=3.1.1)\n  Downloading annotated_types-0.7.0-py3-none-any.whl.metadata (15 kB)\nCollecting pydantic-core==2.33.2 (from pydantic<3,>=1.10.8->mlflow-skinny==3.1.1->mlflow>=3.1.1->mlflow[databricks]>=3.1.1)\n  Downloading pydantic_core-2.33.2-cp311-cp311-manylinux_2_17_aarch64.manylinux2014_aarch64.whl.metadata (6.8 kB)\nCollecting typing-inspection>=0.4.0 (from pydantic<3,>=1.10.8->mlflow-skinny==3.1.1->mlflow>=3.1.1->mlflow[databricks]>=3.1.1)\n  Downloading typing_inspection-0.4.1-py3-none-any.whl.metadata (2.6 kB)\nRequirement already satisfied: joblib>=1.1.1 in /databricks/python3/lib/python3.11/site-packages (from scikit-learn<2->mlflow>=3.1.1->mlflow[databricks]>=3.1.1) (1.2.0)\nRequirement already satisfied: threadpoolctl>=2.0.0 in /databricks/python3/lib/python3.11/site-packages (from scikit-learn<2->mlflow>=3.1.1->mlflow[databricks]>=3.1.1) (2.2.0)\nCollecting greenlet>=1 (from sqlalchemy<3,>=1.4.0->mlflow>=3.1.1->mlflow[databricks]>=3.1.1)\n  Downloading greenlet-3.2.3-cp311-cp311-manylinux2014_aarch64.manylinux_2_17_aarch64.whl.metadata (4.1 kB)\nRequirement already satisfied: six>=1.11.0 in /usr/lib/python3/dist-packages (from azure-core<2.0.0,>=1.28.0->azure-storage-file-datalake>12->mlflow[databricks]>=3.1.1) (1.16.0)\nRequirement already satisfied: cryptography>=2.1.4 in /databricks/python3/lib/python3.11/site-packages (from azure-storage-blob<13.0.0,>=12.19.0->azure-storage-file-datalake>12->mlflow[databricks]>=3.1.1) (41.0.3)\nCollecting starlette<0.47.0,>=0.40.0 (from fastapi<1->mlflow-skinny==3.1.1->mlflow>=3.1.1->mlflow[databricks]>=3.1.1)\n  Downloading starlette-0.46.2-py3-none-any.whl.metadata (6.2 kB)\nRequirement already satisfied: gitdb<5,>=4.0.1 in /databricks/python3/lib/python3.11/site-packages (from gitpython<4,>=3.1.9->mlflow-skinny==3.1.1->mlflow>=3.1.1->mlflow[databricks]>=3.1.1) (4.0.11)\nRequirement already satisfied: googleapis-common-protos<2.0.dev0,>=1.56.2 in /databricks/python3/lib/python3.11/site-packages (from google-api-core<3.0.0dev,>=2.15.0->google-cloud-storage>=1.30.0->mlflow[databricks]>=3.1.1) (1.65.0)\nCollecting protobuf<7,>=3.12.0 (from mlflow-skinny==3.1.1->mlflow>=3.1.1->mlflow[databricks]>=3.1.1)\n  Downloading protobuf-4.25.8-cp37-abi3-manylinux2014_aarch64.whl.metadata (541 bytes)\nRequirement already satisfied: proto-plus<2.0.0dev,>=1.22.3 in /databricks/python3/lib/python3.11/site-packages (from google-api-core<3.0.0dev,>=2.15.0->google-cloud-storage>=1.30.0->mlflow[databricks]>=3.1.1) (1.25.0)\nRequirement already satisfied: pyasn1-modules>=0.2.1 in /databricks/python3/lib/python3.11/site-packages (from google-auth<3.0dev,>=2.26.1->google-cloud-storage>=1.30.0->mlflow[databricks]>=3.1.1) (0.2.8)\nRequirement already satisfied: rsa<5,>=3.1.4 in /databricks/python3/lib/python3.11/site-packages (from google-auth<3.0dev,>=2.26.1->google-cloud-storage>=1.30.0->mlflow[databricks]>=3.1.1) (4.9)\nRequirement already satisfied: zipp>=0.5 in /databricks/python3/lib/python3.11/site-packages (from importlib_metadata!=4.7.0,<9,>=3.7.0->mlflow-skinny==3.1.1->mlflow>=3.1.1->mlflow[databricks]>=3.1.1) (3.11.0)\nCollecting opentelemetry-semantic-conventions==0.55b1 (from opentelemetry-sdk<3,>=1.9.0->mlflow-skinny==3.1.1->mlflow>=3.1.1->mlflow[databricks]>=3.1.1)\n  Downloading opentelemetry_semantic_conventions-0.55b1-py3-none-any.whl.metadata (2.5 kB)\nRequirement already satisfied: charset-normalizer<4,>=2 in /databricks/python3/lib/python3.11/site-packages (from requests<3,>=2.17.3->mlflow-skinny==3.1.1->mlflow>=3.1.1->mlflow[databricks]>=3.1.1) (2.0.4)\nCollecting regex>=2022.1.18 (from tiktoken>=0.8.0->databricks-agents<2.0,>=1.0.0->mlflow[databricks]>=3.1.1)\n  Downloading regex-2024.11.6-cp311-cp311-manylinux_2_17_aarch64.manylinux2014_aarch64.whl.metadata (40 kB)\nRequirement already satisfied: grpcio-status>=1.59.3 in /databricks/python3/lib/python3.11/site-packages (from databricks-connect->databricks-agents<2.0,>=1.0.0->mlflow[databricks]>=3.1.1) (1.69.0)\nRequirement already satisfied: grpcio>=1.59.3 in /databricks/python3/lib/python3.11/site-packages (from databricks-connect->databricks-agents<2.0,>=1.0.0->mlflow[databricks]>=3.1.1) (1.69.0)\nRequirement already satisfied: py4j==0.10.9.7 in /databricks/python3/lib/python3.11/site-packages (from databricks-connect->databricks-agents<2.0,>=1.0.0->mlflow[databricks]>=3.1.1) (0.10.9.7)\nRequirement already satisfied: setuptools>=68.0.0 in /databricks/python3/lib/python3.11/site-packages (from databricks-connect->databricks-agents<2.0,>=1.0.0->mlflow[databricks]>=3.1.1) (75.1.0)\nCollecting marshmallow<4.0.0,>=3.18.0 (from dataclasses-json->databricks-agents<2.0,>=1.0.0->mlflow[databricks]>=3.1.1)\n  Downloading marshmallow-3.26.1-py3-none-any.whl.metadata (7.3 kB)\nCollecting typing-inspect<1,>=0.4.0 (from dataclasses-json->databricks-agents<2.0,>=1.0.0->mlflow[databricks]>=3.1.1)\n  Downloading typing_inspect-0.9.0-py3-none-any.whl.metadata (1.5 kB)\nRequirement already satisfied: cffi>=1.12 in /databricks/python3/lib/python3.11/site-packages (from cryptography>=2.1.4->azure-storage-blob<13.0.0,>=12.19.0->azure-storage-file-datalake>12->mlflow[databricks]>=3.1.1) (1.15.1)\nRequirement already satisfied: smmap<6,>=3.0.1 in /databricks/python3/lib/python3.11/site-packages (from gitdb<5,>=4.0.1->gitpython<4,>=3.1.9->mlflow-skinny==3.1.1->mlflow>=3.1.1->mlflow[databricks]>=3.1.1) (5.0.1)\nINFO: pip is looking at multiple versions of grpcio-status to determine which version is compatible with other requirements. This could take a while.\nCollecting grpcio-status>=1.59.3 (from databricks-connect->databricks-agents<2.0,>=1.0.0->mlflow[databricks]>=3.1.1)\n  Downloading grpcio_status-1.73.1-py3-none-any.whl.metadata (1.1 kB)\n  Downloading grpcio_status-1.73.0-py3-none-any.whl.metadata (1.1 kB)\n  Downloading grpcio_status-1.72.2-py3-none-any.whl.metadata (1.1 kB)\n  Downloading grpcio_status-1.72.1-py3-none-any.whl.metadata (1.1 kB)\n  Downloading grpcio_status-1.71.2-py3-none-any.whl.metadata (1.1 kB)\n  Downloading grpcio_status-1.71.0-py3-none-any.whl.metadata (1.1 kB)\n  Downloading grpcio_status-1.70.0-py3-none-any.whl.metadata (1.1 kB)\nINFO: pip is still looking at multiple versions of grpcio-status to determine which version is compatible with other requirements. This could take a while.\n  Downloading grpcio_status-1.68.1-py3-none-any.whl.metadata (1.1 kB)\n  Downloading grpcio_status-1.68.0-py3-none-any.whl.metadata (1.1 kB)\n  Downloading grpcio_status-1.67.1-py3-none-any.whl.metadata (1.1 kB)\n  Downloading grpcio_status-1.67.0-py3-none-any.whl.metadata (1.1 kB)\n  Downloading grpcio_status-1.66.2-py3-none-any.whl.metadata (1.1 kB)\nINFO: This is taking longer than usual. You might need to provide the dependency resolver with stricter constraints to reduce runtime. See https://pip.pypa.io/warnings/backtracking for guidance. If you want to abort this run, press Ctrl + C.\n  Downloading grpcio_status-1.66.1-py3-none-any.whl.metadata (1.1 kB)\n  Downloading grpcio_status-1.66.0-py3-none-any.whl.metadata (1.1 kB)\n  Downloading grpcio_status-1.65.5-py3-none-any.whl.metadata (1.1 kB)\n  Downloading grpcio_status-1.65.4-py3-none-any.whl.metadata (1.1 kB)\n  Downloading grpcio_status-1.65.2-py3-none-any.whl.metadata (1.1 kB)\n  Downloading grpcio_status-1.65.1-py3-none-any.whl.metadata (1.1 kB)\n  Downloading grpcio_status-1.64.3-py3-none-any.whl.metadata (1.1 kB)\n  Downloading grpcio_status-1.64.1-py3-none-any.whl.metadata (1.1 kB)\n  Downloading grpcio_status-1.64.0-py3-none-any.whl.metadata (1.1 kB)\n  Downloading grpcio_status-1.63.2-py3-none-any.whl.metadata (1.1 kB)\n  Downloading grpcio_status-1.63.0-py3-none-any.whl.metadata (1.1 kB)\n  Downloading grpcio_status-1.62.3-py3-none-any.whl.metadata (1.3 kB)\nRequirement already satisfied: pyasn1<0.5.0,>=0.4.6 in /databricks/python3/lib/python3.11/site-packages (from pyasn1-modules>=0.2.1->google-auth<3.0dev,>=2.26.1->google-cloud-storage>=1.30.0->mlflow[databricks]>=3.1.1) (0.4.8)\nRequirement already satisfied: mypy-extensions>=0.3.0 in /databricks/python3/lib/python3.11/site-packages (from typing-inspect<1,>=0.4.0->dataclasses-json->databricks-agents<2.0,>=1.0.0->mlflow[databricks]>=3.1.1) (0.4.3)\nRequirement already satisfied: pycparser in /databricks/python3/lib/python3.11/site-packages (from cffi>=1.12->cryptography>=2.1.4->azure-storage-blob<13.0.0,>=12.19.0->azure-storage-file-datalake>12->mlflow[databricks]>=3.1.1) (2.21)\nDownloading mlflow-3.1.1-py3-none-any.whl (24.7 MB)\n\u001B[?25l   \u001B[90m━━━━━━━━━━━━━━━━━━━━━━━━━━━━━━━━━━━━━━━━\u001B[0m \u001B[32m0.0/24.7 MB\u001B[0m \u001B[31m?\u001B[0m eta \u001B[36m-:--:--\u001B[0m\n\u001B[2K   \u001B[91m━━━━━━━━━━━━━━━━━━━━━━━━━━━━━━━━━━━━━━━\u001B[0m\u001B[91m╸\u001B[0m \u001B[32m24.6/24.7 MB\u001B[0m \u001B[31m165.2 MB/s\u001B[0m eta \u001B[36m0:00:01\u001B[0m\n\u001B[2K   \u001B[90m━━━━━━━━━━━━━━━━━━━━━━━━━━━━━━━━━━━━━━━━\u001B[0m \u001B[32m24.7/24.7 MB\u001B[0m \u001B[31m108.9 MB/s\u001B[0m eta \u001B[36m0:00:00\u001B[0m\n\u001B[?25hDownloading mlflow_skinny-3.1.1-py3-none-any.whl (1.9 MB)\n\u001B[?25l   \u001B[90m━━━━━━━━━━━━━━━━━━━━━━━━━━━━━━━━━━━━━━━━\u001B[0m \u001B[32m0.0/1.9 MB\u001B[0m \u001B[31m?\u001B[0m eta \u001B[36m-:--:--\u001B[0m\n\u001B[2K   \u001B[90m━━━━━━━━━━━━━━━━━━━━━━━━━━━━━━━━━━━━━━━━\u001B[0m \u001B[32m1.9/1.9 MB\u001B[0m \u001B[31m70.7 MB/s\u001B[0m eta \u001B[36m0:00:00\u001B[0m\n\u001B[?25hDownloading openai-1.93.0-py3-none-any.whl (755 kB)\n\u001B[?25l   \u001B[90m━━━━━━━━━━━━━━━━━━━━━━━━━━━━━━━━━━━━━━━━\u001B[0m \u001B[32m0.0/755.0 kB\u001B[0m \u001B[31m?\u001B[0m eta \u001B[36m-:--:--\u001B[0m\n\u001B[2K   \u001B[90m━━━━━━━━━━━━━━━━━━━━━━━━━━━━━━━━━━━━━━━━\u001B[0m \u001B[32m755.0/755.0 kB\u001B[0m \u001B[31m50.1 MB/s\u001B[0m eta \u001B[36m0:00:00\u001B[0m\n\u001B[?25hDownloading alembic-1.16.2-py3-none-any.whl (242 kB)\nDownloading anyio-4.9.0-py3-none-any.whl (100 kB)\nDownloading databricks_agents-1.1.0-py3-none-any.whl (189 kB)\nDownloading docker-7.1.0-py3-none-any.whl (147 kB)\nDownloading flask-3.1.1-py3-none-any.whl (103 kB)\nDownloading graphene-3.4.3-py2.py3-none-any.whl (114 kB)\nDownloading gunicorn-23.0.0-py3-none-any.whl (85 kB)\nDownloading httpx-0.28.1-py3-none-any.whl (73 kB)\nDownloading httpcore-1.0.9-py3-none-any.whl (78 kB)\nDownloading jiter-0.10.0-cp311-cp311-manylinux_2_17_aarch64.manylinux2014_aarch64.whl (345 kB)\nDownloading pydantic-2.11.7-py3-none-any.whl (444 kB)\nDownloading pydantic_core-2.33.2-cp311-cp311-manylinux_2_17_aarch64.manylinux2014_aarch64.whl (1.9 MB)\n\u001B[?25l   \u001B[90m━━━━━━━━━━━━━━━━━━━━━━━━━━━━━━━━━━━━━━━━\u001B[0m \u001B[32m0.0/1.9 MB\u001B[0m \u001B[31m?\u001B[0m eta \u001B[36m-:--:--\u001B[0m\n\u001B[2K   \u001B[90m━━━━━━━━━━━━━━━━━━━━━━━━━━━━━━━━━━━━━━━━\u001B[0m \u001B[32m1.9/1.9 MB\u001B[0m \u001B[31m124.0 MB/s\u001B[0m eta \u001B[36m0:00:00\u001B[0m\n\u001B[?25hDownloading sniffio-1.3.1-py3-none-any.whl (10 kB)\nDownloading sqlalchemy-2.0.41-cp311-cp311-manylinux_2_17_aarch64.manylinux2014_aarch64.whl (3.3 MB)\n\u001B[?25l   \u001B[90m━━━━━━━━━━━━━━━━━━━━━━━━━━━━━━━━━━━━━━━━\u001B[0m \u001B[32m0.0/3.3 MB\u001B[0m \u001B[31m?\u001B[0m eta \u001B[36m-:--:--\u001B[0m\n\u001B[2K   \u001B[90m━━━━━━━━━━━━━━━━━━━━━━━━━━━━━━━━━━━━━━━━\u001B[0m \u001B[32m3.3/3.3 MB\u001B[0m \u001B[31m69.4 MB/s\u001B[0m eta \u001B[36m0:00:00\u001B[0m\n\u001B[?25hDownloading tqdm-4.67.1-py3-none-any.whl (78 kB)\nDownloading typing_extensions-4.14.1-py3-none-any.whl (43 kB)\nDownloading annotated_types-0.7.0-py3-none-any.whl (13 kB)\nDownloading blinker-1.9.0-py3-none-any.whl (8.5 kB)\nDownloading click-8.2.1-py3-none-any.whl (102 kB)\nDownloading databricks_sdk-0.55.0-py3-none-any.whl (722 kB)\n\u001B[?25l   \u001B[90m━━━━━━━━━━━━━━━━━━━━━━━━━━━━━━━━━━━━━━━━\u001B[0m \u001B[32m0.0/722.9 kB\u001B[0m \u001B[31m?\u001B[0m eta \u001B[36m-:--:--\u001B[0m\n\u001B[2K   \u001B[90m━━━━━━━━━━━━━━━━━━━━━━━━━━━━━━━━━━━━━━━━\u001B[0m \u001B[32m722.9/722.9 kB\u001B[0m \u001B[31m72.7 MB/s\u001B[0m eta \u001B[36m0:00:00\u001B[0m\n\u001B[?25hDownloading fastapi-0.115.14-py3-none-any.whl (95 kB)\nDownloading graphql_core-3.2.6-py3-none-any.whl (203 kB)\nDownloading graphql_relay-3.2.0-py3-none-any.whl (16 kB)\nDownloading greenlet-3.2.3-cp311-cp311-manylinux2014_aarch64.manylinux_2_17_aarch64.whl (630 kB)\n\u001B[?25l   \u001B[90m━━━━━━━━━━━━━━━━━━━━━━━━━━━━━━━━━━━━━━━━\u001B[0m \u001B[32m0.0/630.4 kB\u001B[0m \u001B[31m?\u001B[0m eta \u001B[36m-:--:--\u001B[0m\n\u001B[2K   \u001B[90m━━━━━━━━━━━━━━━━━━━━━━━━━━━━━━━━━━━━━━━━\u001B[0m \u001B[32m630.4/630.4 kB\u001B[0m \u001B[31m63.2 MB/s\u001B[0m eta \u001B[36m0:00:00\u001B[0m\n\u001B[?25hDownloading itsdangerous-2.2.0-py3-none-any.whl (16 kB)\nDownloading jinja2-3.1.6-py3-none-any.whl (134 kB)\nDownloading MarkupSafe-3.0.2-cp311-cp311-manylinux_2_17_aarch64.manylinux2014_aarch64.whl (23 kB)\nDownloading opentelemetry_api-1.34.1-py3-none-any.whl (65 kB)\nDownloading opentelemetry_sdk-1.34.1-py3-none-any.whl (118 kB)\nDownloading opentelemetry_semantic_conventions-0.55b1-py3-none-any.whl (196 kB)\nDownloading protobuf-4.25.8-cp37-abi3-manylinux2014_aarch64.whl (294 kB)\nDownloading tenacity-9.1.2-py3-none-any.whl (28 kB)\nDownloading tiktoken-0.9.0-cp311-cp311-manylinux_2_17_aarch64.manylinux2014_aarch64.whl (1.1 MB)\n\u001B[?25l   \u001B[90m━━━━━━━━━━━━━━━━━━━━━━━━━━━━━━━━━━━━━━━━\u001B[0m \u001B[32m0.0/1.1 MB\u001B[0m \u001B[31m?\u001B[0m eta \u001B[36m-:--:--\u001B[0m\n\u001B[2K   \u001B[90m━━━━━━━━━━━━━━━━━━━━━━━━━━━━━━━━━━━━━━━━\u001B[0m \u001B[32m1.1/1.1 MB\u001B[0m \u001B[31m55.0 MB/s\u001B[0m eta \u001B[36m0:00:00\u001B[0m\n\u001B[?25hDownloading typing_inspection-0.4.1-py3-none-any.whl (14 kB)\nDownloading urllib3-2.0.7-py3-none-any.whl (124 kB)\nDownloading uvicorn-0.35.0-py3-none-any.whl (66 kB)\nDownloading werkzeug-3.1.3-py3-none-any.whl (224 kB)\nDownloading dataclasses_json-0.6.7-py3-none-any.whl (28 kB)\nDownloading mako-1.3.10-py3-none-any.whl (78 kB)\nDownloading grpcio_status-1.62.3-py3-none-any.whl (14 kB)\nDownloading h11-0.16.0-py3-none-any.whl (37 kB)\nDownloading marshmallow-3.26.1-py3-none-any.whl (50 kB)\nDownloading regex-2024.11.6-cp311-cp311-manylinux_2_17_aarch64.manylinux2014_aarch64.whl (792 kB)\n\u001B[?25l   \u001B[90m━━━━━━━━━━━━━━━━━━━━━━━━━━━━━━━━━━━━━━━━\u001B[0m \u001B[32m0.0/792.1 kB\u001B[0m \u001B[31m?\u001B[0m eta \u001B[36m-:--:--\u001B[0m\n\u001B[2K   \u001B[90m━━━━━━━━━━━━━━━━━━━━━━━━━━━━━━━━━━━━━━━━\u001B[0m \u001B[32m792.1/792.1 kB\u001B[0m \u001B[31m55.0 MB/s\u001B[0m eta \u001B[36m0:00:00\u001B[0m\n\u001B[?25hDownloading starlette-0.46.2-py3-none-any.whl (72 kB)\nDownloading typing_inspect-0.9.0-py3-none-any.whl (8.8 kB)\nInstalling collected packages: urllib3, typing-extensions, tqdm, tenacity, sniffio, regex, protobuf, marshmallow, markupsafe, jiter, itsdangerous, h11, gunicorn, greenlet, graphql-core, click, blinker, annotated-types, werkzeug, uvicorn, typing-inspection, typing-inspect, sqlalchemy, pydantic-core, opentelemetry-api, Mako, jinja2, httpcore, graphql-relay, anyio, tiktoken, starlette, pydantic, opentelemetry-semantic-conventions, httpx, grpcio-status, graphene, Flask, docker, dataclasses-json, databricks-sdk, alembic, opentelemetry-sdk, openai, fastapi, mlflow-skinny, mlflow, databricks-agents\n  Attempting uninstall: urllib3\n    Found existing installation: urllib3 1.26.16\n    Not uninstalling urllib3 at /databricks/python3/lib/python3.11/site-packages, outside environment /local_disk0/.ephemeral_nfs/envs/pythonEnv-c04acf38-cc65-472f-a7c3-79fcafdbfe74\n    Can't uninstall 'urllib3'. No files were found to uninstall.\n  Attempting uninstall: typing-extensions\n    Found existing installation: typing_extensions 4.10.0\n    Not uninstalling typing-extensions at /databricks/python3/lib/python3.11/site-packages, outside environment /local_disk0/.ephemeral_nfs/envs/pythonEnv-c04acf38-cc65-472f-a7c3-79fcafdbfe74\n    Can't uninstall 'typing_extensions'. No files were found to uninstall.\n  Attempting uninstall: tenacity\n    Found existing installation: tenacity 8.2.2\n    Not uninstalling tenacity at /databricks/python3/lib/python3.11/site-packages, outside environment /local_disk0/.ephemeral_nfs/envs/pythonEnv-c04acf38-cc65-472f-a7c3-79fcafdbfe74\n    Can't uninstall 'tenacity'. No files were found to uninstall.\n  Attempting uninstall: protobuf\n    Found existing installation: protobuf 5.29.3\n    Not uninstalling protobuf at /databricks/python3/lib/python3.11/site-packages, outside environment /local_disk0/.ephemeral_nfs/envs/pythonEnv-c04acf38-cc65-472f-a7c3-79fcafdbfe74\n    Can't uninstall 'protobuf'. No files were found to uninstall.\n  Attempting uninstall: click\n    Found existing installation: click 8.0.4\n    Not uninstalling click at /databricks/python3/lib/python3.11/site-packages, outside environment /local_disk0/.ephemeral_nfs/envs/pythonEnv-c04acf38-cc65-472f-a7c3-79fcafdbfe74\n    Can't uninstall 'click'. No files were found to uninstall.\n  Attempting uninstall: blinker\n    Found existing installation: blinker 1.4\n    Not uninstalling blinker at /usr/lib/python3/dist-packages, outside environment /local_disk0/.ephemeral_nfs/envs/pythonEnv-c04acf38-cc65-472f-a7c3-79fcafdbfe74\n    Can't uninstall 'blinker'. No files were found to uninstall.\n  Attempting uninstall: pydantic\n    Found existing installation: pydantic 1.10.6\n    Not uninstalling pydantic at /databricks/python3/lib/python3.11/site-packages, outside environment /local_disk0/.ephemeral_nfs/envs/pythonEnv-c04acf38-cc65-472f-a7c3-79fcafdbfe74\n    Can't uninstall 'pydantic'. No files were found to uninstall.\n  Attempting uninstall: grpcio-status\n    Found existing installation: grpcio-status 1.69.0\n    Not uninstalling grpcio-status at /databricks/python3/lib/python3.11/site-packages, outside environment /local_disk0/.ephemeral_nfs/envs/pythonEnv-c04acf38-cc65-472f-a7c3-79fcafdbfe74\n    Can't uninstall 'grpcio-status'. No files were found to uninstall.\n  Attempting uninstall: databricks-sdk\n    Found existing installation: databricks-sdk 0.40.0\n    Not uninstalling databricks-sdk at /databricks/python3/lib/python3.11/site-packages, outside environment /local_disk0/.ephemeral_nfs/envs/pythonEnv-c04acf38-cc65-472f-a7c3-79fcafdbfe74\n    Can't uninstall 'databricks-sdk'. No files were found to uninstall.\n  Attempting uninstall: mlflow-skinny\n    Found existing installation: mlflow-skinny 2.11.4\n    Not uninstalling mlflow-skinny at /databricks/python3/lib/python3.11/site-packages, outside environment /local_disk0/.ephemeral_nfs/envs/pythonEnv-c04acf38-cc65-472f-a7c3-79fcafdbfe74\n    Can't uninstall 'mlflow-skinny'. No files were found to uninstall.\nSuccessfully installed Flask-3.1.1 Mako-1.3.10 alembic-1.16.2 annotated-types-0.7.0 anyio-4.9.0 blinker-1.9.0 click-8.2.1 databricks-agents-1.1.0 databricks-sdk-0.55.0 dataclasses-json-0.6.7 docker-7.1.0 fastapi-0.115.14 graphene-3.4.3 graphql-core-3.2.6 graphql-relay-3.2.0 greenlet-3.2.3 grpcio-status-1.62.3 gunicorn-23.0.0 h11-0.16.0 httpcore-1.0.9 httpx-0.28.1 itsdangerous-2.2.0 jinja2-3.1.6 jiter-0.10.0 markupsafe-3.0.2 marshmallow-3.26.1 mlflow-3.1.1 mlflow-skinny-3.1.1 openai-1.93.0 opentelemetry-api-1.34.1 opentelemetry-sdk-1.34.1 opentelemetry-semantic-conventions-0.55b1 protobuf-4.25.8 pydantic-2.11.7 pydantic-core-2.33.2 regex-2024.11.6 sniffio-1.3.1 sqlalchemy-2.0.41 starlette-0.46.2 tenacity-9.1.2 tiktoken-0.9.0 tqdm-4.67.1 typing-extensions-4.14.1 typing-inspect-0.9.0 typing-inspection-0.4.1 urllib3-2.0.7 uvicorn-0.35.0 werkzeug-3.1.3\n\u001B[43mNote: you may need to restart the kernel using %restart_python or dbutils.library.restartPython() to use updated packages.\u001B[0m\n"
     ]
    }
   ],
   "source": [
    "%pip install -U \"mlflow[databricks]>=3.1.1\" openai\n",
    "\n",
    "%restart_python"
   ]
  },
  {
   "cell_type": "markdown",
   "metadata": {
    "application/vnd.databricks.v1+cell": {
     "cellMetadata": {},
     "inputWidgets": {},
     "nuid": "6bf87f41-d22e-41fa-b851-f2c17f6e32e4",
     "showTitle": false,
     "tableResultSettingsMap": {},
     "title": ""
    }
   },
   "source": [
    "## Traceデータの作成"
   ]
  },
  {
   "cell_type": "code",
   "execution_count": 0,
   "metadata": {
    "application/vnd.databricks.v1+cell": {
     "cellMetadata": {
      "byteLimit": 2048000,
      "rowLimit": 10000
     },
     "inputWidgets": {},
     "nuid": "9f7255d6-5338-420a-b093-fb0e96ff3e78",
     "showTitle": false,
     "tableResultSettingsMap": {},
     "title": ""
    }
   },
   "outputs": [
    {
     "output_type": "execute_result",
     "data": {
      "text/plain": [
       "{'explanation': 'PowerBIのダッシュボード機能については以下の点が重要です。\\n\\n*   レポートやデータセットなどの主要な情報を集めた可視化されたページです。\\n*   キーメトリックをリアルタイムで表示し、ビジネス上の成果と問題点を把握できます。\\n*   カスタマイズが可能で、自分好みのレイアウトやデザインにすることができます。\\n*   シェアリング機能があり、チーム内でダッシュボードを共有できます。'}"
      ]
     },
     "execution_count": 19,
     "metadata": {},
     "output_type": "execute_result"
    },
    {
     "output_type": "display_data",
     "data": {
      "application/databricks.mlflow.trace": "[\"tr-420b0884b601fedfbdf5840b5d55e5eb\", \"tr-c407396a5d1b81f7602266f27ad644fc\", \"tr-5c4df1c6507149d0673accc14f8cc1df\", \"tr-edd2d0ecd8e7f2d3dfb0b2db4d1851cc\", \"tr-a90c4ce88493acbcce752b85dc78f0b7\"]",
      "text/plain": [
       "[Trace(trace_id=tr-420b0884b601fedfbdf5840b5d55e5eb), Trace(trace_id=tr-c407396a5d1b81f7602266f27ad644fc), Trace(trace_id=tr-5c4df1c6507149d0673accc14f8cc1df), Trace(trace_id=tr-edd2d0ecd8e7f2d3dfb0b2db4d1851cc), Trace(trace_id=tr-a90c4ce88493acbcce752b85dc78f0b7)]"
      ]
     },
     "metadata": {},
     "output_type": "display_data"
    }
   ],
   "source": [
    "import mlflow\n",
    "from openai import OpenAI\n",
    "from mlflow.entities import Document\n",
    "from typing import List, Dict\n",
    "\n",
    "# OpenAI呼び出しの自動トレースを有効にする\n",
    "mlflow.openai.autolog()\n",
    "\n",
    "# 同じ資格情報を使用してOpenAI経由でDatabricks LLMに接続する\n",
    "# あるいは、ここで独自のOpenAI資格情報を使用することもできます\n",
    "mlflow_creds = mlflow.utils.databricks_utils.get_databricks_host_creds()\n",
    "client = OpenAI(\n",
    "    api_key=mlflow_creds.token, base_url=f\"{mlflow_creds.host}/serving-endpoints\"\n",
    ")\n",
    "\n",
    "\n",
    "@mlflow.trace\n",
    "def generate_feature_explanation(system_name: str, feature_name: str) -> Dict[str, str]:\n",
    "    \"\"\"指定されたシステム/モジュール名と機能名について、説明を作成する\"\"\"\n",
    "\n",
    "    # 取得したコンテキストを使用してメールを生成する\n",
    "    prompt = f\"\"\"あなたは機械学習やデータエンジニアリングのエキスパートです。\n",
    "    下記のシステム名および機能名で示される機能について、解説してください。\n",
    "\n",
    "    システム名:\n",
    "    {system_name}\n",
    "\n",
    "    機能名:\n",
    "    {feature_name}\n",
    "    \n",
    "    説明は簡潔かつ箇条書きでまとめてください。\"\"\"\n",
    "\n",
    "    response = client.chat.completions.create(\n",
    "        model=\"databricks-meta-llama-3-3-70b-instruct\",\n",
    "        messages=[\n",
    "            {\"role\": \"system\", \"content\": \"あなたは役に立つアシスタントです。\"},\n",
    "            {\"role\": \"user\", \"content\": prompt},\n",
    "        ],\n",
    "        max_tokens=2000,\n",
    "    )\n",
    "\n",
    "    return {\"explanation\": response.choices[0].message.content}\n",
    "\n",
    "\n",
    "# トレースを作成する\n",
    "generate_feature_explanation(\"MLflow\", \"ChatAgent\")\n",
    "generate_feature_explanation(\"MLflow\", \"Tracing\")\n",
    "generate_feature_explanation(\"Databricks\", \"Unity Catalog\")\n",
    "generate_feature_explanation(\"Databricks\", \"Agent Evaluation\")\n",
    "generate_feature_explanation(\"PowerBI\", \"Dashboard\")"
   ]
  },
  {
   "cell_type": "code",
   "execution_count": 0,
   "metadata": {
    "application/vnd.databricks.v1+cell": {
     "cellMetadata": {
      "byteLimit": 2048000,
      "rowLimit": 10000
     },
     "inputWidgets": {},
     "nuid": "96bb34c2-d943-43e1-88b8-a8d9b82caa91",
     "showTitle": false,
     "tableResultSettingsMap": {},
     "title": ""
    }
   },
   "outputs": [
    {
     "output_type": "display_data",
     "data": {
      "application/vnd.jupyter.widget-view+json": {
       "model_id": "a34ee5f937514bc3bfb6d80b8d0ade89",
       "version_major": 2,
       "version_minor": 0
      },
      "text/plain": [
       "Evaluating:   0%|          | 0/5 [Elapsed: 00:00, Remaining: ?] "
      ]
     },
     "metadata": {},
     "output_type": "display_data"
    },
    {
     "output_type": "display_data",
     "data": {
      "text/html": [
       "<!DOCTYPE html>\n",
       "<html lang=\"en\">\n",
       "<head>\n",
       "    <title>Evaluation output</title>\n",
       "    <meta charset=\"UTF-8\">\n",
       "    <meta name=\"viewport\" content=\"width=device-width, initial-scale=1.0\">\n",
       "    <style>\n",
       "        body {\n",
       "            font-family: Arial, sans-serif;\n",
       "        }\n",
       "\n",
       "        .header {\n",
       "            a.button {\n",
       "                padding: 4px 8px;\n",
       "                line-height: 20px;\n",
       "                box-shadow: none;\n",
       "                height: 20px;\n",
       "                display: inline-flex;\n",
       "                align-items: center;\n",
       "                justify-content: center;\n",
       "                vertical-align: middle;\n",
       "                background-color: rgb(34, 114, 180);\n",
       "                color: rgb(255, 255, 255);\n",
       "                text-decoration: none;\n",
       "                animation-duration: 0s;\n",
       "                transition: none 0s ease 0s;\n",
       "                position: relative;\n",
       "                white-space: nowrap;\n",
       "                text-align: center;\n",
       "                border: 1px solid rgb(192, 205, 216);\n",
       "                cursor: pointer;\n",
       "                user-select: none;\n",
       "                touch-action: manipulation;\n",
       "                border-radius: 4px;\n",
       "                gap: 6px;\n",
       "            }\n",
       "\n",
       "            a.button:hover {\n",
       "                background-color: rgb(14, 83, 139) !important;\n",
       "                border-color: transparent !important;\n",
       "                color: rgb(255, 255, 255) !important;\n",
       "            }\n",
       "        }\n",
       "\n",
       "        .warnings-section {\n",
       "            margin-top: 8px;\n",
       "\n",
       "            ul {\n",
       "                list-style-type: none;\n",
       "            }\n",
       "        }\n",
       "\n",
       "        .instructions-section {\n",
       "            margin-top: 16px;\n",
       "            font-size: 14px;\n",
       "\n",
       "            ul {\n",
       "                margin-top: 0;\n",
       "                margin-bottom: 0;\n",
       "            }\n",
       "        }\n",
       "\n",
       "        code {\n",
       "            font-family: monospace;\n",
       "        }\n",
       "\n",
       "        .note {\n",
       "            color: #666;\n",
       "        }\n",
       "\n",
       "        a {\n",
       "            color: #2272B4;\n",
       "            text-decoration: none;\n",
       "        }\n",
       "\n",
       "        a:hover {\n",
       "            color: #005580;\n",
       "        }\n",
       "    </style>\n",
       "</head>\n",
       "<body>\n",
       "<div>\n",
       "    <div class=\"header\">\n",
       "        <a href=\"https://dbc-f1d46cb2-e7aa.cloud.databricks.com/ml/experiments/9d0e2291e38d41dbab77f4ba7e76fb6d/runs/22cca6b9e3e4430fb7416880121697d7/evaluations/\" class=\"button\">\n",
       "            View evaluation results.\n",
       "            <svg xmlns=\"http://www.w3.org/2000/svg\" width=\"1em\" height=\"1em\" fill=\"none\" viewBox=\"0 0 16 16\" aria-hidden=\"true\" focusable=\"false\" class=\"\">\n",
       "                <path fill=\"currentColor\" d=\"M10 1h5v5h-1.5V3.56L8.53 8.53 7.47 7.47l4.97-4.97H10z\"></path>\n",
       "                <path fill=\"currentColor\" d=\"M1 2.75A.75.75 0 0 1 1.75 2H8v1.5H2.5v10h10V8H14v6.25a.75.75 0 0 1-.75.75H1.75a.75.75 0 0 1-.75-.75z\"></path>\n",
       "            </svg>\n",
       "        </a>\n",
       "    </div>\n",
       "</div>\n",
       "</body>\n",
       "</html>"
      ]
     },
     "metadata": {},
     "output_type": "display_data"
    },
    {
     "output_type": "display_data",
     "data": {
      "application/databricks.mlflow.trace": "[\"tr-5c4df1c6507149d0673accc14f8cc1df\", \"tr-c407396a5d1b81f7602266f27ad644fc\", \"tr-edd2d0ecd8e7f2d3dfb0b2db4d1851cc\", \"tr-a90c4ce88493acbcce752b85dc78f0b7\", \"tr-420b0884b601fedfbdf5840b5d55e5eb\"]",
      "text/plain": [
       "[Trace(trace_id=tr-5c4df1c6507149d0673accc14f8cc1df), Trace(trace_id=tr-c407396a5d1b81f7602266f27ad644fc), Trace(trace_id=tr-edd2d0ecd8e7f2d3dfb0b2db4d1851cc), Trace(trace_id=tr-a90c4ce88493acbcce752b85dc78f0b7), Trace(trace_id=tr-420b0884b601fedfbdf5840b5d55e5eb)]"
      ]
     },
     "metadata": {},
     "output_type": "display_data"
    }
   ],
   "source": [
    "import mlflow\n",
    "\n",
    "from mlflow.genai.scorers import Guidelines\n",
    "\n",
    "# 実験から最大10件のトレースをサンプリング\n",
    "traces = mlflow.search_traces(max_results=10)\n",
    "\n",
    "# スコアラーを使って評価を実行\n",
    "with mlflow.start_run(run_name=\"eval_v1\"):\n",
    "    mlflow.genai.evaluate(\n",
    "        data=traces,\n",
    "        scorers=[\n",
    "            Guidelines(\n",
    "                name=\"mlflow_only\",\n",
    "                # ガイドラインはリクエストとレスポンスを参照可能\n",
    "                guidelines=\"リクエストがMLflowに関連していない場合、応答は回答を拒否しなければなりません。\",\n",
    "            ),\n",
    "        ],\n",
    "    )"
   ]
  },
  {
   "cell_type": "markdown",
   "metadata": {
    "application/vnd.databricks.v1+cell": {
     "cellMetadata": {},
     "inputWidgets": {},
     "nuid": "20a77270-6727-4251-89ab-f18ed325fbdf",
     "showTitle": false,
     "tableResultSettingsMap": {},
     "title": ""
    }
   },
   "source": [
    "## ステップ 2: モニタリングを有効にする\n",
    "\n",
    "それでは、モニタリングサービスを有効にしましょう。 有効にすると、モニタリング サービスは、評価されたトレースのコピーをMLflow エクスペリメントから、指定した スキーマのDelta Unity Catalogテーブルに同期します。"
   ]
  },
  {
   "cell_type": "code",
   "execution_count": 0,
   "metadata": {
    "application/vnd.databricks.v1+cell": {
     "cellMetadata": {
      "byteLimit": 2048000,
      "rowLimit": 10000
     },
     "inputWidgets": {},
     "nuid": "1dec70be-a127-4290-941b-16e78b029b25",
     "showTitle": false,
     "tableResultSettingsMap": {},
     "title": ""
    }
   },
   "outputs": [
    {
     "output_type": "display_data",
     "data": {
      "text/plain": [
       "\u001B[0;31m---------------------------------------------------------------------------\u001B[0m\n",
       "\u001B[0;31mHTTPError\u001B[0m                                 Traceback (most recent call last)\n",
       "File \u001B[0;32m<command-3979169371715332>, line 8\u001B[0m\n",
       "\u001B[1;32m      1\u001B[0m \u001B[38;5;66;03m# これらのパッケージは mlflow[databricks] で自動的にインストールされます\u001B[39;00m\n",
       "\u001B[1;32m      2\u001B[0m \u001B[38;5;28;01mfrom\u001B[39;00m \u001B[38;5;21;01mdatabricks\u001B[39;00m\u001B[38;5;21;01m.\u001B[39;00m\u001B[38;5;21;01magents\u001B[39;00m\u001B[38;5;21;01m.\u001B[39;00m\u001B[38;5;21;01mmonitoring\u001B[39;00m \u001B[38;5;28;01mimport\u001B[39;00m (\n",
       "\u001B[1;32m      3\u001B[0m     create_external_monitor,\n",
       "\u001B[1;32m      4\u001B[0m     AssessmentsSuiteConfig,\n",
       "\u001B[1;32m      5\u001B[0m     GuidelinesJudge,\n",
       "\u001B[1;32m      6\u001B[0m )\n",
       "\u001B[0;32m----> 8\u001B[0m external_monitor \u001B[38;5;241m=\u001B[39m create_external_monitor(\n",
       "\u001B[1;32m      9\u001B[0m     catalog_name\u001B[38;5;241m=\u001B[39m\u001B[38;5;124m\"\u001B[39m\u001B[38;5;124mworkspace\u001B[39m\u001B[38;5;124m\"\u001B[39m,\n",
       "\u001B[1;32m     10\u001B[0m     schema_name\u001B[38;5;241m=\u001B[39m\u001B[38;5;124m\"\u001B[39m\u001B[38;5;124mmonitor\u001B[39m\u001B[38;5;124m\"\u001B[39m,\n",
       "\u001B[1;32m     11\u001B[0m     assessments_config\u001B[38;5;241m=\u001B[39mAssessmentsSuiteConfig(\n",
       "\u001B[1;32m     12\u001B[0m         sample\u001B[38;5;241m=\u001B[39m\u001B[38;5;241m1.0\u001B[39m,  \u001B[38;5;66;03m# サンプリングレート\u001B[39;00m\n",
       "\u001B[1;32m     13\u001B[0m         assessments\u001B[38;5;241m=\u001B[39m[\n",
       "\u001B[1;32m     14\u001B[0m             \u001B[38;5;66;03m# ガイドラインはリクエストとレスポンスを参照可能\u001B[39;00m\n",
       "\u001B[1;32m     15\u001B[0m             GuidelinesJudge(\n",
       "\u001B[1;32m     16\u001B[0m                 guidelines\u001B[38;5;241m=\u001B[39m{\n",
       "\u001B[1;32m     17\u001B[0m                     \u001B[38;5;66;03m# 任意の数のガイドラインを key-value で指定可能\u001B[39;00m\n",
       "\u001B[1;32m     18\u001B[0m                     \u001B[38;5;124m\"\u001B[39m\u001B[38;5;124mmlflow_only\u001B[39m\u001B[38;5;124m\"\u001B[39m: [\u001B[38;5;124m\"\u001B[39m\u001B[38;5;124mリクエストがMLflowに関連していない場合、応答は回答を拒否しなければなりません。\u001B[39m\u001B[38;5;124m\"\u001B[39m]\n",
       "\u001B[1;32m     19\u001B[0m                 }\n",
       "\u001B[1;32m     20\u001B[0m             ),\n",
       "\u001B[1;32m     21\u001B[0m         ],\n",
       "\u001B[1;32m     22\u001B[0m     ),\n",
       "\u001B[1;32m     23\u001B[0m )\n",
       "\u001B[1;32m     25\u001B[0m \u001B[38;5;28mprint\u001B[39m(external_monitor)\n",
       "\n",
       "File \u001B[0;32m/local_disk0/.ephemeral_nfs/envs/pythonEnv-c04acf38-cc65-472f-a7c3-79fcafdbfe74/lib/python3.11/site-packages/databricks/rag_eval/context.py:297\u001B[0m, in \u001B[0;36meval_context.<locals>.wrapper\u001B[0;34m(*args, **kwargs)\u001B[0m\n",
       "\u001B[1;32m    295\u001B[0m \u001B[38;5;66;03m# Raise the original error if there was one, otherwise return\u001B[39;00m\n",
       "\u001B[1;32m    296\u001B[0m \u001B[38;5;28;01mif\u001B[39;00m error \u001B[38;5;129;01mis\u001B[39;00m \u001B[38;5;129;01mnot\u001B[39;00m \u001B[38;5;28;01mNone\u001B[39;00m:\n",
       "\u001B[0;32m--> 297\u001B[0m     \u001B[38;5;28;01mraise\u001B[39;00m error\n",
       "\u001B[1;32m    298\u001B[0m \u001B[38;5;28;01melse\u001B[39;00m:\n",
       "\u001B[1;32m    299\u001B[0m     \u001B[38;5;28;01mreturn\u001B[39;00m result\n",
       "\n",
       "File \u001B[0;32m/local_disk0/.ephemeral_nfs/envs/pythonEnv-c04acf38-cc65-472f-a7c3-79fcafdbfe74/lib/python3.11/site-packages/databricks/rag_eval/context.py:288\u001B[0m, in \u001B[0;36meval_context.<locals>.wrapper\u001B[0;34m(*args, **kwargs)\u001B[0m\n",
       "\u001B[1;32m    285\u001B[0m result \u001B[38;5;241m=\u001B[39m \u001B[38;5;28;01mNone\u001B[39;00m\n",
       "\u001B[1;32m    287\u001B[0m \u001B[38;5;28;01mtry\u001B[39;00m:\n",
       "\u001B[0;32m--> 288\u001B[0m     result \u001B[38;5;241m=\u001B[39m func(\u001B[38;5;241m*\u001B[39margs, \u001B[38;5;241m*\u001B[39m\u001B[38;5;241m*\u001B[39mkwargs)\n",
       "\u001B[1;32m    289\u001B[0m \u001B[38;5;28;01mexcept\u001B[39;00m \u001B[38;5;167;01mException\u001B[39;00m \u001B[38;5;28;01mas\u001B[39;00m e:  \u001B[38;5;66;03m# pylint: disable=broad-except\u001B[39;00m\n",
       "\u001B[1;32m    290\u001B[0m     error \u001B[38;5;241m=\u001B[39m e\n",
       "\n",
       "File \u001B[0;32m/local_disk0/.ephemeral_nfs/envs/pythonEnv-c04acf38-cc65-472f-a7c3-79fcafdbfe74/lib/python3.11/site-packages/databricks/rag_eval/monitoring/api.py:220\u001B[0m, in \u001B[0;36mcreate_external_monitor\u001B[0;34m(catalog_name, schema_name, assessments_config, experiment_id, experiment_name)\u001B[0m\n",
       "\u001B[1;32m    195\u001B[0m \u001B[38;5;129m@context\u001B[39m\u001B[38;5;241m.\u001B[39meval_context\n",
       "\u001B[1;32m    196\u001B[0m \u001B[38;5;28;01mdef\u001B[39;00m \u001B[38;5;21mcreate_external_monitor\u001B[39m(\n",
       "\u001B[1;32m    197\u001B[0m     \u001B[38;5;241m*\u001B[39m,\n",
       "\u001B[0;32m   (...)\u001B[0m\n",
       "\u001B[1;32m    202\u001B[0m     experiment_name: \u001B[38;5;28mstr\u001B[39m \u001B[38;5;241m|\u001B[39m \u001B[38;5;28;01mNone\u001B[39;00m \u001B[38;5;241m=\u001B[39m \u001B[38;5;28;01mNone\u001B[39;00m,\n",
       "\u001B[1;32m    203\u001B[0m ) \u001B[38;5;241m-\u001B[39m\u001B[38;5;241m>\u001B[39m entities\u001B[38;5;241m.\u001B[39mExternalMonitor:\n",
       "\u001B[1;32m    204\u001B[0m \u001B[38;5;250m    \u001B[39m\u001B[38;5;124;03m\"\"\"Create a monitor for a GenAI application served outside Databricks.\u001B[39;00m\n",
       "\u001B[1;32m    205\u001B[0m \n",
       "\u001B[1;32m    206\u001B[0m \u001B[38;5;124;03m    Args:\u001B[39;00m\n",
       "\u001B[0;32m   (...)\u001B[0m\n",
       "\u001B[1;32m    218\u001B[0m \u001B[38;5;124;03m        ExternalMonitor: The created monitor.\u001B[39;00m\n",
       "\u001B[1;32m    219\u001B[0m \u001B[38;5;124;03m    \"\"\"\u001B[39;00m\n",
       "\u001B[0;32m--> 220\u001B[0m     monitor \u001B[38;5;241m=\u001B[39m _do_create_external_monitor(\n",
       "\u001B[1;32m    221\u001B[0m         catalog_name\u001B[38;5;241m=\u001B[39mcatalog_name,\n",
       "\u001B[1;32m    222\u001B[0m         schema_name\u001B[38;5;241m=\u001B[39mschema_name,\n",
       "\u001B[1;32m    223\u001B[0m         assessments_config\u001B[38;5;241m=\u001B[39massessments_config,\n",
       "\u001B[1;32m    224\u001B[0m         experiment_id\u001B[38;5;241m=\u001B[39mexperiment_id,\n",
       "\u001B[1;32m    225\u001B[0m         experiment_name\u001B[38;5;241m=\u001B[39mexperiment_name,\n",
       "\u001B[1;32m    226\u001B[0m     )\n",
       "\u001B[1;32m    228\u001B[0m     \u001B[38;5;28mprint\u001B[39m(\u001B[38;5;124mf\u001B[39m\u001B[38;5;124m'\u001B[39m\u001B[38;5;124mCreated monitor for experiment \u001B[39m\u001B[38;5;124m\"\u001B[39m\u001B[38;5;132;01m{\u001B[39;00mmonitor\u001B[38;5;241m.\u001B[39mexperiment_id\u001B[38;5;132;01m}\u001B[39;00m\u001B[38;5;124m\"\u001B[39m\u001B[38;5;124m.\u001B[39m\u001B[38;5;124m'\u001B[39m)\n",
       "\u001B[1;32m    229\u001B[0m     \u001B[38;5;28mprint\u001B[39m(\u001B[38;5;124mf\u001B[39m\u001B[38;5;124m\"\u001B[39m\u001B[38;5;130;01m\\n\u001B[39;00m\u001B[38;5;124mView traces: \u001B[39m\u001B[38;5;132;01m{\u001B[39;00mmonitor\u001B[38;5;241m.\u001B[39mmonitoring_page_url\u001B[38;5;132;01m}\u001B[39;00m\u001B[38;5;124m\"\u001B[39m)\n",
       "\n",
       "File \u001B[0;32m/local_disk0/.ephemeral_nfs/envs/pythonEnv-c04acf38-cc65-472f-a7c3-79fcafdbfe74/lib/python3.11/site-packages/databricks/rag_eval/monitoring/api.py:187\u001B[0m, in \u001B[0;36m_do_create_external_monitor\u001B[0;34m(catalog_name, schema_name, assessments_config, experiment_id, experiment_name)\u001B[0m\n",
       "\u001B[1;32m    182\u001B[0m ckpt_table_uc_entity \u001B[38;5;241m=\u001B[39m uc_utils\u001B[38;5;241m.\u001B[39mUnityCatalogEntity\u001B[38;5;241m.\u001B[39mfrom_fullname(\n",
       "\u001B[1;32m    183\u001B[0m     \u001B[38;5;124mf\u001B[39m\u001B[38;5;124m\"\u001B[39m\u001B[38;5;132;01m{\u001B[39;00mcatalog_name\u001B[38;5;132;01m}\u001B[39;00m\u001B[38;5;124m.\u001B[39m\u001B[38;5;132;01m{\u001B[39;00mschema_name\u001B[38;5;132;01m}\u001B[39;00m\u001B[38;5;124m.\u001B[39m\u001B[38;5;132;01m{\u001B[39;00mckpt_table_entity_name\u001B[38;5;132;01m}\u001B[39;00m\u001B[38;5;124m\"\u001B[39m\n",
       "\u001B[1;32m    184\u001B[0m )\n",
       "\u001B[1;32m    185\u001B[0m endpoint_name \u001B[38;5;241m=\u001B[39m external_monitoring\u001B[38;5;241m.\u001B[39mbuild_endpoint_name(ckpt_table_uc_entity\u001B[38;5;241m.\u001B[39mentity)\n",
       "\u001B[0;32m--> 187\u001B[0m \u001B[38;5;28;01mreturn\u001B[39;00m _get_managed_evals_client()\u001B[38;5;241m.\u001B[39mcreate_monitor(\n",
       "\u001B[1;32m    188\u001B[0m     endpoint_name\u001B[38;5;241m=\u001B[39mendpoint_name,\n",
       "\u001B[1;32m    189\u001B[0m     assessments_config\u001B[38;5;241m=\u001B[39massessments_config,\n",
       "\u001B[1;32m    190\u001B[0m     experiment_id\u001B[38;5;241m=\u001B[39mexperiment\u001B[38;5;241m.\u001B[39mexperiment_id,\n",
       "\u001B[1;32m    191\u001B[0m     monitoring_table\u001B[38;5;241m=\u001B[39mckpt_table_uc_entity\u001B[38;5;241m.\u001B[39mfullname,\n",
       "\u001B[1;32m    192\u001B[0m )\n",
       "\n",
       "File \u001B[0;32m/local_disk0/.ephemeral_nfs/envs/pythonEnv-c04acf38-cc65-472f-a7c3-79fcafdbfe74/lib/python3.11/site-packages/databricks/rag_eval/clients/managedevals/managed_evals_client.py:681\u001B[0m, in \u001B[0;36mManagedEvalsClient.create_monitor\u001B[0;34m(self, endpoint_name, assessments_config, experiment_id, monitoring_table)\u001B[0m\n",
       "\u001B[1;32m    674\u001B[0m \u001B[38;5;28;01mwith\u001B[39;00m \u001B[38;5;28mself\u001B[39m\u001B[38;5;241m.\u001B[39mget_default_request_session(\n",
       "\u001B[1;32m    675\u001B[0m     headers\u001B[38;5;241m=\u001B[39m_get_default_headers()\n",
       "\u001B[1;32m    676\u001B[0m ) \u001B[38;5;28;01mas\u001B[39;00m session:\n",
       "\u001B[1;32m    677\u001B[0m     response \u001B[38;5;241m=\u001B[39m session\u001B[38;5;241m.\u001B[39mpost(\n",
       "\u001B[1;32m    678\u001B[0m         url\u001B[38;5;241m=\u001B[39m\u001B[38;5;28mself\u001B[39m\u001B[38;5;241m.\u001B[39mget_method_url(\u001B[38;5;124mf\u001B[39m\u001B[38;5;124m\"\u001B[39m\u001B[38;5;124m/managed-evals/monitors/\u001B[39m\u001B[38;5;132;01m{\u001B[39;00mendpoint_name\u001B[38;5;132;01m}\u001B[39;00m\u001B[38;5;124m\"\u001B[39m),\n",
       "\u001B[1;32m    679\u001B[0m         json\u001B[38;5;241m=\u001B[39mrequest_body,\n",
       "\u001B[1;32m    680\u001B[0m     )\n",
       "\u001B[0;32m--> 681\u001B[0m raise_for_status(response)\n",
       "\u001B[1;32m    682\u001B[0m monitor_info_rest \u001B[38;5;241m=\u001B[39m rest_entities\u001B[38;5;241m.\u001B[39mMonitorInfo\u001B[38;5;241m.\u001B[39mfrom_dict(\n",
       "\u001B[1;32m    683\u001B[0m     response\u001B[38;5;241m.\u001B[39mjson(), infer_missing\u001B[38;5;241m=\u001B[39m\u001B[38;5;28;01mTrue\u001B[39;00m\n",
       "\u001B[1;32m    684\u001B[0m )\n",
       "\u001B[1;32m    686\u001B[0m \u001B[38;5;28;01mif\u001B[39;00m monitor_info_rest\u001B[38;5;241m.\u001B[39mis_external:\n",
       "\n",
       "File \u001B[0;32m/local_disk0/.ephemeral_nfs/envs/pythonEnv-c04acf38-cc65-472f-a7c3-79fcafdbfe74/lib/python3.11/site-packages/databricks/rag_eval/clients/databricks_api_client.py:116\u001B[0m, in \u001B[0;36mraise_for_status\u001B[0;34m(resp)\u001B[0m\n",
       "\u001B[1;32m    112\u001B[0m \u001B[38;5;28;01melif\u001B[39;00m \u001B[38;5;241m500\u001B[39m \u001B[38;5;241m<\u001B[39m\u001B[38;5;241m=\u001B[39m resp\u001B[38;5;241m.\u001B[39mstatus_code \u001B[38;5;241m<\u001B[39m \u001B[38;5;241m600\u001B[39m:\n",
       "\u001B[1;32m    113\u001B[0m     http_error_msg \u001B[38;5;241m=\u001B[39m (\n",
       "\u001B[1;32m    114\u001B[0m         \u001B[38;5;124mf\u001B[39m\u001B[38;5;124m\"\u001B[39m\u001B[38;5;132;01m{\u001B[39;00mresp\u001B[38;5;241m.\u001B[39mstatus_code\u001B[38;5;132;01m}\u001B[39;00m\u001B[38;5;124m Server Error: \u001B[39m\u001B[38;5;132;01m{\u001B[39;00mresp\u001B[38;5;241m.\u001B[39mreason\u001B[38;5;132;01m}\u001B[39;00m\u001B[38;5;130;01m\\n\u001B[39;00m\u001B[38;5;132;01m{\u001B[39;00mresp\u001B[38;5;241m.\u001B[39mtext\u001B[38;5;132;01m}\u001B[39;00m\u001B[38;5;124m. \u001B[39m\u001B[38;5;124m\"\u001B[39m\n",
       "\u001B[1;32m    115\u001B[0m     )\n",
       "\u001B[0;32m--> 116\u001B[0m \u001B[38;5;28;01mraise\u001B[39;00m requests\u001B[38;5;241m.\u001B[39mHTTPError(http_error_msg, response\u001B[38;5;241m=\u001B[39mresp)\n",
       "\n",
       "\u001B[0;31mHTTPError\u001B[0m: 504 Server Error: Gateway Timeout\n",
       "{\"error_code\":\"DEADLINE_EXCEEDED\",\"details\":[{\"@type\":\"type.googleapis.com/google.rpc.RequestInfo\",\"request_id\":\"8aecce3d-e061-447c-9fd3-23de6ee44647\",\"serving_data\":\"\"}]}. "
      ]
     },
     "metadata": {
      "application/vnd.databricks.v1+output": {
       "addedWidgets": {},
       "arguments": {},
       "datasetInfos": [],
       "jupyterProps": {
        "ename": "HTTPError",
        "evalue": "504 Server Error: Gateway Timeout\n{\"error_code\":\"DEADLINE_EXCEEDED\",\"details\":[{\"@type\":\"type.googleapis.com/google.rpc.RequestInfo\",\"request_id\":\"8aecce3d-e061-447c-9fd3-23de6ee44647\",\"serving_data\":\"\"}]}. "
       },
       "metadata": {
        "errorSummary": "<span class='ansi-red-fg'>HTTPError</span>: 504 Server Error: Gateway Timeout\n{\"error_code\":\"DEADLINE_EXCEEDED\",\"details\":[{\"@type\":\"type.googleapis.com/google.rpc.RequestInfo\",\"request_id\":\"8aecce3d-e061-447c-9fd3-23de6ee44647\",\"serving_data\":\"\"}]}. "
       },
       "removedWidgets": [],
       "sqlProps": null,
       "stackFrames": [
        "\u001B[0;31m---------------------------------------------------------------------------\u001B[0m",
        "\u001B[0;31mHTTPError\u001B[0m                                 Traceback (most recent call last)",
        "File \u001B[0;32m<command-3979169371715332>, line 8\u001B[0m\n\u001B[1;32m      1\u001B[0m \u001B[38;5;66;03m# これらのパッケージは mlflow[databricks] で自動的にインストールされます\u001B[39;00m\n\u001B[1;32m      2\u001B[0m \u001B[38;5;28;01mfrom\u001B[39;00m \u001B[38;5;21;01mdatabricks\u001B[39;00m\u001B[38;5;21;01m.\u001B[39;00m\u001B[38;5;21;01magents\u001B[39;00m\u001B[38;5;21;01m.\u001B[39;00m\u001B[38;5;21;01mmonitoring\u001B[39;00m \u001B[38;5;28;01mimport\u001B[39;00m (\n\u001B[1;32m      3\u001B[0m     create_external_monitor,\n\u001B[1;32m      4\u001B[0m     AssessmentsSuiteConfig,\n\u001B[1;32m      5\u001B[0m     GuidelinesJudge,\n\u001B[1;32m      6\u001B[0m )\n\u001B[0;32m----> 8\u001B[0m external_monitor \u001B[38;5;241m=\u001B[39m create_external_monitor(\n\u001B[1;32m      9\u001B[0m     catalog_name\u001B[38;5;241m=\u001B[39m\u001B[38;5;124m\"\u001B[39m\u001B[38;5;124mworkspace\u001B[39m\u001B[38;5;124m\"\u001B[39m,\n\u001B[1;32m     10\u001B[0m     schema_name\u001B[38;5;241m=\u001B[39m\u001B[38;5;124m\"\u001B[39m\u001B[38;5;124mmonitor\u001B[39m\u001B[38;5;124m\"\u001B[39m,\n\u001B[1;32m     11\u001B[0m     assessments_config\u001B[38;5;241m=\u001B[39mAssessmentsSuiteConfig(\n\u001B[1;32m     12\u001B[0m         sample\u001B[38;5;241m=\u001B[39m\u001B[38;5;241m1.0\u001B[39m,  \u001B[38;5;66;03m# サンプリングレート\u001B[39;00m\n\u001B[1;32m     13\u001B[0m         assessments\u001B[38;5;241m=\u001B[39m[\n\u001B[1;32m     14\u001B[0m             \u001B[38;5;66;03m# ガイドラインはリクエストとレスポンスを参照可能\u001B[39;00m\n\u001B[1;32m     15\u001B[0m             GuidelinesJudge(\n\u001B[1;32m     16\u001B[0m                 guidelines\u001B[38;5;241m=\u001B[39m{\n\u001B[1;32m     17\u001B[0m                     \u001B[38;5;66;03m# 任意の数のガイドラインを key-value で指定可能\u001B[39;00m\n\u001B[1;32m     18\u001B[0m                     \u001B[38;5;124m\"\u001B[39m\u001B[38;5;124mmlflow_only\u001B[39m\u001B[38;5;124m\"\u001B[39m: [\u001B[38;5;124m\"\u001B[39m\u001B[38;5;124mリクエストがMLflowに関連していない場合、応答は回答を拒否しなければなりません。\u001B[39m\u001B[38;5;124m\"\u001B[39m]\n\u001B[1;32m     19\u001B[0m                 }\n\u001B[1;32m     20\u001B[0m             ),\n\u001B[1;32m     21\u001B[0m         ],\n\u001B[1;32m     22\u001B[0m     ),\n\u001B[1;32m     23\u001B[0m )\n\u001B[1;32m     25\u001B[0m \u001B[38;5;28mprint\u001B[39m(external_monitor)\n",
        "File \u001B[0;32m/local_disk0/.ephemeral_nfs/envs/pythonEnv-c04acf38-cc65-472f-a7c3-79fcafdbfe74/lib/python3.11/site-packages/databricks/rag_eval/context.py:297\u001B[0m, in \u001B[0;36meval_context.<locals>.wrapper\u001B[0;34m(*args, **kwargs)\u001B[0m\n\u001B[1;32m    295\u001B[0m \u001B[38;5;66;03m# Raise the original error if there was one, otherwise return\u001B[39;00m\n\u001B[1;32m    296\u001B[0m \u001B[38;5;28;01mif\u001B[39;00m error \u001B[38;5;129;01mis\u001B[39;00m \u001B[38;5;129;01mnot\u001B[39;00m \u001B[38;5;28;01mNone\u001B[39;00m:\n\u001B[0;32m--> 297\u001B[0m     \u001B[38;5;28;01mraise\u001B[39;00m error\n\u001B[1;32m    298\u001B[0m \u001B[38;5;28;01melse\u001B[39;00m:\n\u001B[1;32m    299\u001B[0m     \u001B[38;5;28;01mreturn\u001B[39;00m result\n",
        "File \u001B[0;32m/local_disk0/.ephemeral_nfs/envs/pythonEnv-c04acf38-cc65-472f-a7c3-79fcafdbfe74/lib/python3.11/site-packages/databricks/rag_eval/context.py:288\u001B[0m, in \u001B[0;36meval_context.<locals>.wrapper\u001B[0;34m(*args, **kwargs)\u001B[0m\n\u001B[1;32m    285\u001B[0m result \u001B[38;5;241m=\u001B[39m \u001B[38;5;28;01mNone\u001B[39;00m\n\u001B[1;32m    287\u001B[0m \u001B[38;5;28;01mtry\u001B[39;00m:\n\u001B[0;32m--> 288\u001B[0m     result \u001B[38;5;241m=\u001B[39m func(\u001B[38;5;241m*\u001B[39margs, \u001B[38;5;241m*\u001B[39m\u001B[38;5;241m*\u001B[39mkwargs)\n\u001B[1;32m    289\u001B[0m \u001B[38;5;28;01mexcept\u001B[39;00m \u001B[38;5;167;01mException\u001B[39;00m \u001B[38;5;28;01mas\u001B[39;00m e:  \u001B[38;5;66;03m# pylint: disable=broad-except\u001B[39;00m\n\u001B[1;32m    290\u001B[0m     error \u001B[38;5;241m=\u001B[39m e\n",
        "File \u001B[0;32m/local_disk0/.ephemeral_nfs/envs/pythonEnv-c04acf38-cc65-472f-a7c3-79fcafdbfe74/lib/python3.11/site-packages/databricks/rag_eval/monitoring/api.py:220\u001B[0m, in \u001B[0;36mcreate_external_monitor\u001B[0;34m(catalog_name, schema_name, assessments_config, experiment_id, experiment_name)\u001B[0m\n\u001B[1;32m    195\u001B[0m \u001B[38;5;129m@context\u001B[39m\u001B[38;5;241m.\u001B[39meval_context\n\u001B[1;32m    196\u001B[0m \u001B[38;5;28;01mdef\u001B[39;00m \u001B[38;5;21mcreate_external_monitor\u001B[39m(\n\u001B[1;32m    197\u001B[0m     \u001B[38;5;241m*\u001B[39m,\n\u001B[0;32m   (...)\u001B[0m\n\u001B[1;32m    202\u001B[0m     experiment_name: \u001B[38;5;28mstr\u001B[39m \u001B[38;5;241m|\u001B[39m \u001B[38;5;28;01mNone\u001B[39;00m \u001B[38;5;241m=\u001B[39m \u001B[38;5;28;01mNone\u001B[39;00m,\n\u001B[1;32m    203\u001B[0m ) \u001B[38;5;241m-\u001B[39m\u001B[38;5;241m>\u001B[39m entities\u001B[38;5;241m.\u001B[39mExternalMonitor:\n\u001B[1;32m    204\u001B[0m \u001B[38;5;250m    \u001B[39m\u001B[38;5;124;03m\"\"\"Create a monitor for a GenAI application served outside Databricks.\u001B[39;00m\n\u001B[1;32m    205\u001B[0m \n\u001B[1;32m    206\u001B[0m \u001B[38;5;124;03m    Args:\u001B[39;00m\n\u001B[0;32m   (...)\u001B[0m\n\u001B[1;32m    218\u001B[0m \u001B[38;5;124;03m        ExternalMonitor: The created monitor.\u001B[39;00m\n\u001B[1;32m    219\u001B[0m \u001B[38;5;124;03m    \"\"\"\u001B[39;00m\n\u001B[0;32m--> 220\u001B[0m     monitor \u001B[38;5;241m=\u001B[39m _do_create_external_monitor(\n\u001B[1;32m    221\u001B[0m         catalog_name\u001B[38;5;241m=\u001B[39mcatalog_name,\n\u001B[1;32m    222\u001B[0m         schema_name\u001B[38;5;241m=\u001B[39mschema_name,\n\u001B[1;32m    223\u001B[0m         assessments_config\u001B[38;5;241m=\u001B[39massessments_config,\n\u001B[1;32m    224\u001B[0m         experiment_id\u001B[38;5;241m=\u001B[39mexperiment_id,\n\u001B[1;32m    225\u001B[0m         experiment_name\u001B[38;5;241m=\u001B[39mexperiment_name,\n\u001B[1;32m    226\u001B[0m     )\n\u001B[1;32m    228\u001B[0m     \u001B[38;5;28mprint\u001B[39m(\u001B[38;5;124mf\u001B[39m\u001B[38;5;124m'\u001B[39m\u001B[38;5;124mCreated monitor for experiment \u001B[39m\u001B[38;5;124m\"\u001B[39m\u001B[38;5;132;01m{\u001B[39;00mmonitor\u001B[38;5;241m.\u001B[39mexperiment_id\u001B[38;5;132;01m}\u001B[39;00m\u001B[38;5;124m\"\u001B[39m\u001B[38;5;124m.\u001B[39m\u001B[38;5;124m'\u001B[39m)\n\u001B[1;32m    229\u001B[0m     \u001B[38;5;28mprint\u001B[39m(\u001B[38;5;124mf\u001B[39m\u001B[38;5;124m\"\u001B[39m\u001B[38;5;130;01m\\n\u001B[39;00m\u001B[38;5;124mView traces: \u001B[39m\u001B[38;5;132;01m{\u001B[39;00mmonitor\u001B[38;5;241m.\u001B[39mmonitoring_page_url\u001B[38;5;132;01m}\u001B[39;00m\u001B[38;5;124m\"\u001B[39m)\n",
        "File \u001B[0;32m/local_disk0/.ephemeral_nfs/envs/pythonEnv-c04acf38-cc65-472f-a7c3-79fcafdbfe74/lib/python3.11/site-packages/databricks/rag_eval/monitoring/api.py:187\u001B[0m, in \u001B[0;36m_do_create_external_monitor\u001B[0;34m(catalog_name, schema_name, assessments_config, experiment_id, experiment_name)\u001B[0m\n\u001B[1;32m    182\u001B[0m ckpt_table_uc_entity \u001B[38;5;241m=\u001B[39m uc_utils\u001B[38;5;241m.\u001B[39mUnityCatalogEntity\u001B[38;5;241m.\u001B[39mfrom_fullname(\n\u001B[1;32m    183\u001B[0m     \u001B[38;5;124mf\u001B[39m\u001B[38;5;124m\"\u001B[39m\u001B[38;5;132;01m{\u001B[39;00mcatalog_name\u001B[38;5;132;01m}\u001B[39;00m\u001B[38;5;124m.\u001B[39m\u001B[38;5;132;01m{\u001B[39;00mschema_name\u001B[38;5;132;01m}\u001B[39;00m\u001B[38;5;124m.\u001B[39m\u001B[38;5;132;01m{\u001B[39;00mckpt_table_entity_name\u001B[38;5;132;01m}\u001B[39;00m\u001B[38;5;124m\"\u001B[39m\n\u001B[1;32m    184\u001B[0m )\n\u001B[1;32m    185\u001B[0m endpoint_name \u001B[38;5;241m=\u001B[39m external_monitoring\u001B[38;5;241m.\u001B[39mbuild_endpoint_name(ckpt_table_uc_entity\u001B[38;5;241m.\u001B[39mentity)\n\u001B[0;32m--> 187\u001B[0m \u001B[38;5;28;01mreturn\u001B[39;00m _get_managed_evals_client()\u001B[38;5;241m.\u001B[39mcreate_monitor(\n\u001B[1;32m    188\u001B[0m     endpoint_name\u001B[38;5;241m=\u001B[39mendpoint_name,\n\u001B[1;32m    189\u001B[0m     assessments_config\u001B[38;5;241m=\u001B[39massessments_config,\n\u001B[1;32m    190\u001B[0m     experiment_id\u001B[38;5;241m=\u001B[39mexperiment\u001B[38;5;241m.\u001B[39mexperiment_id,\n\u001B[1;32m    191\u001B[0m     monitoring_table\u001B[38;5;241m=\u001B[39mckpt_table_uc_entity\u001B[38;5;241m.\u001B[39mfullname,\n\u001B[1;32m    192\u001B[0m )\n",
        "File \u001B[0;32m/local_disk0/.ephemeral_nfs/envs/pythonEnv-c04acf38-cc65-472f-a7c3-79fcafdbfe74/lib/python3.11/site-packages/databricks/rag_eval/clients/managedevals/managed_evals_client.py:681\u001B[0m, in \u001B[0;36mManagedEvalsClient.create_monitor\u001B[0;34m(self, endpoint_name, assessments_config, experiment_id, monitoring_table)\u001B[0m\n\u001B[1;32m    674\u001B[0m \u001B[38;5;28;01mwith\u001B[39;00m \u001B[38;5;28mself\u001B[39m\u001B[38;5;241m.\u001B[39mget_default_request_session(\n\u001B[1;32m    675\u001B[0m     headers\u001B[38;5;241m=\u001B[39m_get_default_headers()\n\u001B[1;32m    676\u001B[0m ) \u001B[38;5;28;01mas\u001B[39;00m session:\n\u001B[1;32m    677\u001B[0m     response \u001B[38;5;241m=\u001B[39m session\u001B[38;5;241m.\u001B[39mpost(\n\u001B[1;32m    678\u001B[0m         url\u001B[38;5;241m=\u001B[39m\u001B[38;5;28mself\u001B[39m\u001B[38;5;241m.\u001B[39mget_method_url(\u001B[38;5;124mf\u001B[39m\u001B[38;5;124m\"\u001B[39m\u001B[38;5;124m/managed-evals/monitors/\u001B[39m\u001B[38;5;132;01m{\u001B[39;00mendpoint_name\u001B[38;5;132;01m}\u001B[39;00m\u001B[38;5;124m\"\u001B[39m),\n\u001B[1;32m    679\u001B[0m         json\u001B[38;5;241m=\u001B[39mrequest_body,\n\u001B[1;32m    680\u001B[0m     )\n\u001B[0;32m--> 681\u001B[0m raise_for_status(response)\n\u001B[1;32m    682\u001B[0m monitor_info_rest \u001B[38;5;241m=\u001B[39m rest_entities\u001B[38;5;241m.\u001B[39mMonitorInfo\u001B[38;5;241m.\u001B[39mfrom_dict(\n\u001B[1;32m    683\u001B[0m     response\u001B[38;5;241m.\u001B[39mjson(), infer_missing\u001B[38;5;241m=\u001B[39m\u001B[38;5;28;01mTrue\u001B[39;00m\n\u001B[1;32m    684\u001B[0m )\n\u001B[1;32m    686\u001B[0m \u001B[38;5;28;01mif\u001B[39;00m monitor_info_rest\u001B[38;5;241m.\u001B[39mis_external:\n",
        "File \u001B[0;32m/local_disk0/.ephemeral_nfs/envs/pythonEnv-c04acf38-cc65-472f-a7c3-79fcafdbfe74/lib/python3.11/site-packages/databricks/rag_eval/clients/databricks_api_client.py:116\u001B[0m, in \u001B[0;36mraise_for_status\u001B[0;34m(resp)\u001B[0m\n\u001B[1;32m    112\u001B[0m \u001B[38;5;28;01melif\u001B[39;00m \u001B[38;5;241m500\u001B[39m \u001B[38;5;241m<\u001B[39m\u001B[38;5;241m=\u001B[39m resp\u001B[38;5;241m.\u001B[39mstatus_code \u001B[38;5;241m<\u001B[39m \u001B[38;5;241m600\u001B[39m:\n\u001B[1;32m    113\u001B[0m     http_error_msg \u001B[38;5;241m=\u001B[39m (\n\u001B[1;32m    114\u001B[0m         \u001B[38;5;124mf\u001B[39m\u001B[38;5;124m\"\u001B[39m\u001B[38;5;132;01m{\u001B[39;00mresp\u001B[38;5;241m.\u001B[39mstatus_code\u001B[38;5;132;01m}\u001B[39;00m\u001B[38;5;124m Server Error: \u001B[39m\u001B[38;5;132;01m{\u001B[39;00mresp\u001B[38;5;241m.\u001B[39mreason\u001B[38;5;132;01m}\u001B[39;00m\u001B[38;5;130;01m\\n\u001B[39;00m\u001B[38;5;132;01m{\u001B[39;00mresp\u001B[38;5;241m.\u001B[39mtext\u001B[38;5;132;01m}\u001B[39;00m\u001B[38;5;124m. \u001B[39m\u001B[38;5;124m\"\u001B[39m\n\u001B[1;32m    115\u001B[0m     )\n\u001B[0;32m--> 116\u001B[0m \u001B[38;5;28;01mraise\u001B[39;00m requests\u001B[38;5;241m.\u001B[39mHTTPError(http_error_msg, response\u001B[38;5;241m=\u001B[39mresp)\n",
        "\u001B[0;31mHTTPError\u001B[0m: 504 Server Error: Gateway Timeout\n{\"error_code\":\"DEADLINE_EXCEEDED\",\"details\":[{\"@type\":\"type.googleapis.com/google.rpc.RequestInfo\",\"request_id\":\"8aecce3d-e061-447c-9fd3-23de6ee44647\",\"serving_data\":\"\"}]}. "
       ],
       "type": "baseError"
      }
     },
     "output_type": "display_data"
    }
   ],
   "source": [
    "# これらのパッケージは mlflow[databricks] で自動的にインストールされます\n",
    "from databricks.agents.monitoring import (\n",
    "    create_external_monitor,\n",
    "    AssessmentsSuiteConfig,\n",
    "    GuidelinesJudge,\n",
    ")\n",
    "\n",
    "external_monitor = create_external_monitor(\n",
    "    catalog_name=\"workspace\",\n",
    "    schema_name=\"monitor\",\n",
    "    assessments_config=AssessmentsSuiteConfig(\n",
    "        sample=1.0,  # サンプリングレート\n",
    "        assessments=[\n",
    "            # ガイドラインはリクエストとレスポンスを参照可能\n",
    "            GuidelinesJudge(\n",
    "                guidelines={\n",
    "                    # 任意の数のガイドラインを key-value で指定可能\n",
    "                    \"mlflow_only\": [\"リクエストがMLflowに関連していない場合、応答は回答を拒否しなければなりません。\"]\n",
    "                }\n",
    "            ),\n",
    "        ],\n",
    "    ),\n",
    ")\n",
    "\n",
    "print(external_monitor)"
   ]
  },
  {
   "cell_type": "markdown",
   "metadata": {
    "application/vnd.databricks.v1+cell": {
     "cellMetadata": {},
     "inputWidgets": {},
     "nuid": "8f4d0b09-dc32-44ee-bfaa-575a99f8aabc",
     "showTitle": false,
     "tableResultSettingsMap": {},
     "title": ""
    }
   },
   "source": [
    "\n",
    "# ステップ4.モニタリング結果の使用\n",
    "モニタリング ジョブを初めて実行するには、~15 分から 30 分かかります。 最初の実行後、15 分ごとに実行されます。 本番運用のトラフィックが大量にある場合、ジョブの完了にさらに時間がかかる可能性があることに注意してください。\n",
    "\n",
    "ジョブが実行されるたびに、次のことが行われます。\n",
    "\n",
    "トレースのサンプルに対して各スコアラーを実行します\n",
    "\n",
    "スコアラーごとにサンプリングレートが異なる場合、モニタリングジョブは、同じトレースをできるだけ多くスコアリングしようとします。たとえば、スコアラー A のサンプリング レートが 20%で、スコアラー B のサンプリング レートが 40% の場合、トレースの同じ 20% が A と B に使用されます。\n",
    "スコアラーからの フィードバック を MLflow エクスペリメントの各トレースに添付します\n",
    "\n",
    "すべてのトレース (サンプリングされたトレースだけでなく) のコピーを、手順 1 で構成された Delta テーブルに書き込みます。\n",
    "\n",
    "モニタリング結果は、 MLflow エクスペリメントのTraceタブを使用して表示できます。または、生成された Delta テーブルで SQL または Spark を使用してトレースのクエリを実行することもできます。"
   ]
  },
  {
   "cell_type": "code",
   "execution_count": 0,
   "metadata": {
    "application/vnd.databricks.v1+cell": {
     "cellMetadata": {
      "byteLimit": 2048000,
      "rowLimit": 10000
     },
     "inputWidgets": {},
     "nuid": "b8e9b7ae-7386-4b1f-a8df-f74bf2446dd1",
     "showTitle": false,
     "tableResultSettingsMap": {},
     "title": ""
    }
   },
   "outputs": [
    {
     "output_type": "execute_result",
     "data": {
      "text/plain": [
       "{'explanation': 'MLflowのLLM Evaluation機能についての説明は以下のとおりです。\\n\\n*   LLM Evaluationは、MLflowのモデル評価機能の一部であり、大規模言語モデル(LLM)のパフォーマンスを評価するために使用されます。\\n*   この機能により、開発者はLLMをさまざまなメトリックや基準で評価し、モデルの精度や有効性を把握できます。\\n*   LLM Evaluationは、データセットやタスクに依存しない汎用的な評価フレームワークを提供し、開発者はLLMの強みと弱みを特定し、必要な最適化や改善を実施できます。\\n*   これにより、LLMの信頼性と 安全性を高めることができ、より優れたAIソリューションの開発を支援します。'}"
      ]
     },
     "execution_count": 25,
     "metadata": {},
     "output_type": "execute_result"
    },
    {
     "output_type": "display_data",
     "data": {
      "application/databricks.mlflow.trace": "[\"tr-3deb4ac1d13e534e488987fd7989c84e\", \"tr-f895b8c022dc3ce49b597e5a2fb2f7e4\", \"tr-a5089f208a45064ddc664226e4960dca\", \"tr-66068e1431194e1e0b8db3c629f2fc42\", \"tr-473769212534a264deb8da874bc447d0\"]",
      "text/plain": [
       "[Trace(trace_id=tr-3deb4ac1d13e534e488987fd7989c84e), Trace(trace_id=tr-f895b8c022dc3ce49b597e5a2fb2f7e4), Trace(trace_id=tr-a5089f208a45064ddc664226e4960dca), Trace(trace_id=tr-66068e1431194e1e0b8db3c629f2fc42), Trace(trace_id=tr-473769212534a264deb8da874bc447d0)]"
      ]
     },
     "metadata": {},
     "output_type": "display_data"
    }
   ],
   "source": [
    "# 追加のトレースを作成する\n",
    "generate_feature_explanation(\"MLflow\", \"PromptRegistry\")\n",
    "generate_feature_explanation(\"python\", \"Pandas\")\n",
    "generate_feature_explanation(\"python\", \"numpy\")\n",
    "generate_feature_explanation(\"Databricks\", \"Model Serving\")\n",
    "generate_feature_explanation(\"MLflow\", \"LLM Evaluation\")\n"
   ]
  }
 ],
 "metadata": {
  "application/vnd.databricks.v1+notebook": {
   "computePreferences": null,
   "dashboards": [],
   "environmentMetadata": {
    "base_environment": "",
    "environment_version": "2"
   },
   "inputWidgetPreferences": null,
   "language": "python",
   "notebookMetadata": {
    "pythonIndentUnit": 4
   },
   "notebookName": "007B_モニタリング",
   "widgets": {}
  },
  "language_info": {
   "name": "python"
  }
 },
 "nbformat": 4,
 "nbformat_minor": 0
}
