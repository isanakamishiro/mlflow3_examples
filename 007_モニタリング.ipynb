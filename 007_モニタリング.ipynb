{
 "cells": [
  {
   "cell_type": "markdown",
   "metadata": {
    "application/vnd.databricks.v1+cell": {
     "cellMetadata": {},
     "inputWidgets": {},
     "nuid": "3018b5d2-ccbc-441e-a967-2c54a0b5f07b",
     "showTitle": false,
     "tableResultSettingsMap": {},
     "title": ""
    }
   },
   "source": [
    "\n",
    "# 本番運用の品質モニタリング (スコアラーの自動実行)\n",
    "\n",
    "https://docs.databricks.com/aws/ja/mlflow3/genai/eval-monitor/run-scorer-in-prod"
   ]
  },
  {
   "cell_type": "code",
   "execution_count": 0,
   "metadata": {
    "application/vnd.databricks.v1+cell": {
     "cellMetadata": {
      "byteLimit": 2048000,
      "rowLimit": 10000
     },
     "inputWidgets": {},
     "nuid": "766f531d-c5a4-4d9d-9c97-d4d94c68700a",
     "showTitle": false,
     "tableResultSettingsMap": {},
     "title": ""
    }
   },
   "outputs": [
    {
     "output_type": "stream",
     "name": "stdout",
     "output_type": "stream",
     "text": [
      "Requirement already satisfied: mlflow>=3.1.1 in /local_disk0/.ephemeral_nfs/envs/pythonEnv-670064c5-a862-4099-8389-b4d70d9f17e1/lib/python3.11/site-packages (from mlflow[databricks]>=3.1.1) (3.1.1)\nRequirement already satisfied: openai in /local_disk0/.ephemeral_nfs/envs/pythonEnv-670064c5-a862-4099-8389-b4d70d9f17e1/lib/python3.11/site-packages (1.93.0)\nRequirement already satisfied: mlflow-skinny==3.1.1 in /local_disk0/.ephemeral_nfs/envs/pythonEnv-670064c5-a862-4099-8389-b4d70d9f17e1/lib/python3.11/site-packages (from mlflow>=3.1.1->mlflow[databricks]>=3.1.1) (3.1.1)\nRequirement already satisfied: Flask<4 in /local_disk0/.ephemeral_nfs/envs/pythonEnv-670064c5-a862-4099-8389-b4d70d9f17e1/lib/python3.11/site-packages (from mlflow>=3.1.1->mlflow[databricks]>=3.1.1) (3.1.1)\nRequirement already satisfied: alembic!=1.10.0,<2 in /local_disk0/.ephemeral_nfs/envs/pythonEnv-670064c5-a862-4099-8389-b4d70d9f17e1/lib/python3.11/site-packages (from mlflow>=3.1.1->mlflow[databricks]>=3.1.1) (1.16.2)\nRequirement already satisfied: docker<8,>=4.0.0 in /local_disk0/.ephemeral_nfs/envs/pythonEnv-670064c5-a862-4099-8389-b4d70d9f17e1/lib/python3.11/site-packages (from mlflow>=3.1.1->mlflow[databricks]>=3.1.1) (7.1.0)\nRequirement already satisfied: graphene<4 in /local_disk0/.ephemeral_nfs/envs/pythonEnv-670064c5-a862-4099-8389-b4d70d9f17e1/lib/python3.11/site-packages (from mlflow>=3.1.1->mlflow[databricks]>=3.1.1) (3.4.3)\nRequirement already satisfied: gunicorn<24 in /local_disk0/.ephemeral_nfs/envs/pythonEnv-670064c5-a862-4099-8389-b4d70d9f17e1/lib/python3.11/site-packages (from mlflow>=3.1.1->mlflow[databricks]>=3.1.1) (23.0.0)\nRequirement already satisfied: matplotlib<4 in /databricks/python3/lib/python3.11/site-packages (from mlflow>=3.1.1->mlflow[databricks]>=3.1.1) (3.7.2)\nRequirement already satisfied: numpy<3 in /databricks/python3/lib/python3.11/site-packages (from mlflow>=3.1.1->mlflow[databricks]>=3.1.1) (1.23.5)\nRequirement already satisfied: pandas<3 in /databricks/python3/lib/python3.11/site-packages (from mlflow>=3.1.1->mlflow[databricks]>=3.1.1) (1.5.3)\nRequirement already satisfied: pyarrow<21,>=4.0.0 in /databricks/python3/lib/python3.11/site-packages (from mlflow>=3.1.1->mlflow[databricks]>=3.1.1) (14.0.1)\nRequirement already satisfied: scikit-learn<2 in /databricks/python3/lib/python3.11/site-packages (from mlflow>=3.1.1->mlflow[databricks]>=3.1.1) (1.3.0)\nRequirement already satisfied: scipy<2 in /databricks/python3/lib/python3.11/site-packages (from mlflow>=3.1.1->mlflow[databricks]>=3.1.1) (1.11.1)\nRequirement already satisfied: sqlalchemy<3,>=1.4.0 in /local_disk0/.ephemeral_nfs/envs/pythonEnv-670064c5-a862-4099-8389-b4d70d9f17e1/lib/python3.11/site-packages (from mlflow>=3.1.1->mlflow[databricks]>=3.1.1) (2.0.41)\nRequirement already satisfied: cachetools<7,>=5.0.0 in /databricks/python3/lib/python3.11/site-packages (from mlflow-skinny==3.1.1->mlflow>=3.1.1->mlflow[databricks]>=3.1.1) (5.5.0)\nRequirement already satisfied: click<9,>=7.0 in /local_disk0/.ephemeral_nfs/envs/pythonEnv-670064c5-a862-4099-8389-b4d70d9f17e1/lib/python3.11/site-packages (from mlflow-skinny==3.1.1->mlflow>=3.1.1->mlflow[databricks]>=3.1.1) (8.2.1)\nRequirement already satisfied: cloudpickle<4 in /databricks/python3/lib/python3.11/site-packages (from mlflow-skinny==3.1.1->mlflow>=3.1.1->mlflow[databricks]>=3.1.1) (3.0.0)\nRequirement already satisfied: databricks-sdk<1,>=0.20.0 in /local_disk0/.ephemeral_nfs/envs/pythonEnv-670064c5-a862-4099-8389-b4d70d9f17e1/lib/python3.11/site-packages (from mlflow-skinny==3.1.1->mlflow>=3.1.1->mlflow[databricks]>=3.1.1) (0.55.0)\nRequirement already satisfied: fastapi<1 in /local_disk0/.ephemeral_nfs/envs/pythonEnv-670064c5-a862-4099-8389-b4d70d9f17e1/lib/python3.11/site-packages (from mlflow-skinny==3.1.1->mlflow>=3.1.1->mlflow[databricks]>=3.1.1) (0.115.14)\nRequirement already satisfied: gitpython<4,>=3.1.9 in /databricks/python3/lib/python3.11/site-packages (from mlflow-skinny==3.1.1->mlflow>=3.1.1->mlflow[databricks]>=3.1.1) (3.1.43)\nRequirement already satisfied: importlib_metadata!=4.7.0,<9,>=3.7.0 in /databricks/python3/lib/python3.11/site-packages (from mlflow-skinny==3.1.1->mlflow>=3.1.1->mlflow[databricks]>=3.1.1) (6.0.0)\nRequirement already satisfied: opentelemetry-api<3,>=1.9.0 in /local_disk0/.ephemeral_nfs/envs/pythonEnv-670064c5-a862-4099-8389-b4d70d9f17e1/lib/python3.11/site-packages (from mlflow-skinny==3.1.1->mlflow>=3.1.1->mlflow[databricks]>=3.1.1) (1.34.1)\nRequirement already satisfied: opentelemetry-sdk<3,>=1.9.0 in /local_disk0/.ephemeral_nfs/envs/pythonEnv-670064c5-a862-4099-8389-b4d70d9f17e1/lib/python3.11/site-packages (from mlflow-skinny==3.1.1->mlflow>=3.1.1->mlflow[databricks]>=3.1.1) (1.34.1)\nRequirement already satisfied: packaging<26 in /databricks/python3/lib/python3.11/site-packages (from mlflow-skinny==3.1.1->mlflow>=3.1.1->mlflow[databricks]>=3.1.1) (23.2)\nRequirement already satisfied: protobuf<7,>=3.12.0 in /local_disk0/.ephemeral_nfs/envs/pythonEnv-670064c5-a862-4099-8389-b4d70d9f17e1/lib/python3.11/site-packages (from mlflow-skinny==3.1.1->mlflow>=3.1.1->mlflow[databricks]>=3.1.1) (4.25.8)\nRequirement already satisfied: pydantic<3,>=1.10.8 in /local_disk0/.ephemeral_nfs/envs/pythonEnv-670064c5-a862-4099-8389-b4d70d9f17e1/lib/python3.11/site-packages (from mlflow-skinny==3.1.1->mlflow>=3.1.1->mlflow[databricks]>=3.1.1) (2.11.7)\nRequirement already satisfied: pyyaml<7,>=5.1 in /databricks/python3/lib/python3.11/site-packages (from mlflow-skinny==3.1.1->mlflow>=3.1.1->mlflow[databricks]>=3.1.1) (6.0)\nRequirement already satisfied: requests<3,>=2.17.3 in /databricks/python3/lib/python3.11/site-packages (from mlflow-skinny==3.1.1->mlflow>=3.1.1->mlflow[databricks]>=3.1.1) (2.31.0)\nRequirement already satisfied: sqlparse<1,>=0.4.0 in /databricks/python3/lib/python3.11/site-packages (from mlflow-skinny==3.1.1->mlflow>=3.1.1->mlflow[databricks]>=3.1.1) (0.5.1)\nRequirement already satisfied: typing-extensions<5,>=4.0.0 in /local_disk0/.ephemeral_nfs/envs/pythonEnv-670064c5-a862-4099-8389-b4d70d9f17e1/lib/python3.11/site-packages (from mlflow-skinny==3.1.1->mlflow>=3.1.1->mlflow[databricks]>=3.1.1) (4.14.0)\nRequirement already satisfied: uvicorn<1 in /local_disk0/.ephemeral_nfs/envs/pythonEnv-670064c5-a862-4099-8389-b4d70d9f17e1/lib/python3.11/site-packages (from mlflow-skinny==3.1.1->mlflow>=3.1.1->mlflow[databricks]>=3.1.1) (0.35.0)\nRequirement already satisfied: anyio<5,>=3.5.0 in /local_disk0/.ephemeral_nfs/envs/pythonEnv-670064c5-a862-4099-8389-b4d70d9f17e1/lib/python3.11/site-packages (from openai) (4.9.0)\nRequirement already satisfied: distro<2,>=1.7.0 in /usr/lib/python3/dist-packages (from openai) (1.7.0)\nRequirement already satisfied: httpx<1,>=0.23.0 in /local_disk0/.ephemeral_nfs/envs/pythonEnv-670064c5-a862-4099-8389-b4d70d9f17e1/lib/python3.11/site-packages (from openai) (0.28.1)\nRequirement already satisfied: jiter<1,>=0.4.0 in /local_disk0/.ephemeral_nfs/envs/pythonEnv-670064c5-a862-4099-8389-b4d70d9f17e1/lib/python3.11/site-packages (from openai) (0.10.0)\nRequirement already satisfied: sniffio in /local_disk0/.ephemeral_nfs/envs/pythonEnv-670064c5-a862-4099-8389-b4d70d9f17e1/lib/python3.11/site-packages (from openai) (1.3.1)\nRequirement already satisfied: tqdm>4 in /local_disk0/.ephemeral_nfs/envs/pythonEnv-670064c5-a862-4099-8389-b4d70d9f17e1/lib/python3.11/site-packages (from openai) (4.67.1)\nRequirement already satisfied: azure-storage-file-datalake>12 in /databricks/python3/lib/python3.11/site-packages (from mlflow[databricks]>=3.1.1) (12.14.0)\nRequirement already satisfied: google-cloud-storage>=1.30.0 in /databricks/python3/lib/python3.11/site-packages (from mlflow[databricks]>=3.1.1) (2.18.2)\nRequirement already satisfied: boto3>1 in /databricks/python3/lib/python3.11/site-packages (from mlflow[databricks]>=3.1.1) (1.34.39)\nRequirement already satisfied: botocore in /databricks/python3/lib/python3.11/site-packages (from mlflow[databricks]>=3.1.1) (1.34.39)\nRequirement already satisfied: databricks-agents<2.0,>=1.0.0 in /local_disk0/.ephemeral_nfs/envs/pythonEnv-670064c5-a862-4099-8389-b4d70d9f17e1/lib/python3.11/site-packages (from mlflow[databricks]>=3.1.1) (1.1.0)\nRequirement already satisfied: Mako in /local_disk0/.ephemeral_nfs/envs/pythonEnv-670064c5-a862-4099-8389-b4d70d9f17e1/lib/python3.11/site-packages (from alembic!=1.10.0,<2->mlflow>=3.1.1->mlflow[databricks]>=3.1.1) (1.3.10)\nRequirement already satisfied: idna>=2.8 in /databricks/python3/lib/python3.11/site-packages (from anyio<5,>=3.5.0->openai) (3.4)\nRequirement already satisfied: azure-core<2.0.0,>=1.28.0 in /databricks/python3/lib/python3.11/site-packages (from azure-storage-file-datalake>12->mlflow[databricks]>=3.1.1) (1.32.0)\nRequirement already satisfied: azure-storage-blob<13.0.0,>=12.19.0 in /databricks/python3/lib/python3.11/site-packages (from azure-storage-file-datalake>12->mlflow[databricks]>=3.1.1) (12.19.1)\nRequirement already satisfied: isodate>=0.6.1 in /databricks/python3/lib/python3.11/site-packages (from azure-storage-file-datalake>12->mlflow[databricks]>=3.1.1) (0.7.2)\nRequirement already satisfied: jmespath<2.0.0,>=0.7.1 in /databricks/python3/lib/python3.11/site-packages (from boto3>1->mlflow[databricks]>=3.1.1) (0.10.0)\nRequirement already satisfied: s3transfer<0.11.0,>=0.10.0 in /databricks/python3/lib/python3.11/site-packages (from boto3>1->mlflow[databricks]>=3.1.1) (0.10.3)\nRequirement already satisfied: python-dateutil<3.0.0,>=2.1 in /databricks/python3/lib/python3.11/site-packages (from botocore->mlflow[databricks]>=3.1.1) (2.8.2)\nRequirement already satisfied: urllib3<2.1,>=1.25.4 in /local_disk0/.ephemeral_nfs/envs/pythonEnv-670064c5-a862-4099-8389-b4d70d9f17e1/lib/python3.11/site-packages (from botocore->mlflow[databricks]>=3.1.1) (2.0.7)\nRequirement already satisfied: databricks-connect in /databricks/python3/lib/python3.11/site-packages (from databricks-agents<2.0,>=1.0.0->mlflow[databricks]>=3.1.1) (15.4.5)\nRequirement already satisfied: dataclasses-json in /local_disk0/.ephemeral_nfs/envs/pythonEnv-670064c5-a862-4099-8389-b4d70d9f17e1/lib/python3.11/site-packages (from databricks-agents<2.0,>=1.0.0->mlflow[databricks]>=3.1.1) (0.6.7)\nRequirement already satisfied: jinja2>=3.0.0 in /local_disk0/.ephemeral_nfs/envs/pythonEnv-670064c5-a862-4099-8389-b4d70d9f17e1/lib/python3.11/site-packages (from databricks-agents<2.0,>=1.0.0->mlflow[databricks]>=3.1.1) (3.1.6)\nRequirement already satisfied: tenacity>=8.5 in /local_disk0/.ephemeral_nfs/envs/pythonEnv-670064c5-a862-4099-8389-b4d70d9f17e1/lib/python3.11/site-packages (from databricks-agents<2.0,>=1.0.0->mlflow[databricks]>=3.1.1) (9.1.2)\nRequirement already satisfied: tiktoken>=0.8.0 in /local_disk0/.ephemeral_nfs/envs/pythonEnv-670064c5-a862-4099-8389-b4d70d9f17e1/lib/python3.11/site-packages (from databricks-agents<2.0,>=1.0.0->mlflow[databricks]>=3.1.1) (0.9.0)\nRequirement already satisfied: blinker>=1.9.0 in /local_disk0/.ephemeral_nfs/envs/pythonEnv-670064c5-a862-4099-8389-b4d70d9f17e1/lib/python3.11/site-packages (from Flask<4->mlflow>=3.1.1->mlflow[databricks]>=3.1.1) (1.9.0)\nRequirement already satisfied: itsdangerous>=2.2.0 in /local_disk0/.ephemeral_nfs/envs/pythonEnv-670064c5-a862-4099-8389-b4d70d9f17e1/lib/python3.11/site-packages (from Flask<4->mlflow>=3.1.1->mlflow[databricks]>=3.1.1) (2.2.0)\nRequirement already satisfied: markupsafe>=2.1.1 in /local_disk0/.ephemeral_nfs/envs/pythonEnv-670064c5-a862-4099-8389-b4d70d9f17e1/lib/python3.11/site-packages (from Flask<4->mlflow>=3.1.1->mlflow[databricks]>=3.1.1) (3.0.2)\nRequirement already satisfied: werkzeug>=3.1.0 in /local_disk0/.ephemeral_nfs/envs/pythonEnv-670064c5-a862-4099-8389-b4d70d9f17e1/lib/python3.11/site-packages (from Flask<4->mlflow>=3.1.1->mlflow[databricks]>=3.1.1) (3.1.3)\nRequirement already satisfied: google-auth<3.0dev,>=2.26.1 in /databricks/python3/lib/python3.11/site-packages (from google-cloud-storage>=1.30.0->mlflow[databricks]>=3.1.1) (2.35.0)\nRequirement already satisfied: google-api-core<3.0.0dev,>=2.15.0 in /databricks/python3/lib/python3.11/site-packages (from google-cloud-storage>=1.30.0->mlflow[databricks]>=3.1.1) (2.18.0)\nRequirement already satisfied: google-cloud-core<3.0dev,>=2.3.0 in /databricks/python3/lib/python3.11/site-packages (from google-cloud-storage>=1.30.0->mlflow[databricks]>=3.1.1) (2.4.1)\nRequirement already satisfied: google-resumable-media>=2.7.2 in /databricks/python3/lib/python3.11/site-packages (from google-cloud-storage>=1.30.0->mlflow[databricks]>=3.1.1) (2.7.2)\nRequirement already satisfied: google-crc32c<2.0dev,>=1.0 in /databricks/python3/lib/python3.11/site-packages (from google-cloud-storage>=1.30.0->mlflow[databricks]>=3.1.1) (1.6.0)\nRequirement already satisfied: graphql-core<3.3,>=3.1 in /local_disk0/.ephemeral_nfs/envs/pythonEnv-670064c5-a862-4099-8389-b4d70d9f17e1/lib/python3.11/site-packages (from graphene<4->mlflow>=3.1.1->mlflow[databricks]>=3.1.1) (3.2.6)\nRequirement already satisfied: graphql-relay<3.3,>=3.1 in /local_disk0/.ephemeral_nfs/envs/pythonEnv-670064c5-a862-4099-8389-b4d70d9f17e1/lib/python3.11/site-packages (from graphene<4->mlflow>=3.1.1->mlflow[databricks]>=3.1.1) (3.2.0)\nRequirement already satisfied: certifi in /databricks/python3/lib/python3.11/site-packages (from httpx<1,>=0.23.0->openai) (2023.7.22)\nRequirement already satisfied: httpcore==1.* in /local_disk0/.ephemeral_nfs/envs/pythonEnv-670064c5-a862-4099-8389-b4d70d9f17e1/lib/python3.11/site-packages (from httpx<1,>=0.23.0->openai) (1.0.9)\nRequirement already satisfied: h11>=0.16 in /local_disk0/.ephemeral_nfs/envs/pythonEnv-670064c5-a862-4099-8389-b4d70d9f17e1/lib/python3.11/site-packages (from httpcore==1.*->httpx<1,>=0.23.0->openai) (0.16.0)\nRequirement already satisfied: contourpy>=1.0.1 in /databricks/python3/lib/python3.11/site-packages (from matplotlib<4->mlflow>=3.1.1->mlflow[databricks]>=3.1.1) (1.0.5)\nRequirement already satisfied: cycler>=0.10 in /databricks/python3/lib/python3.11/site-packages (from matplotlib<4->mlflow>=3.1.1->mlflow[databricks]>=3.1.1) (0.11.0)\nRequirement already satisfied: fonttools>=4.22.0 in /databricks/python3/lib/python3.11/site-packages (from matplotlib<4->mlflow>=3.1.1->mlflow[databricks]>=3.1.1) (4.25.0)\nRequirement already satisfied: kiwisolver>=1.0.1 in /databricks/python3/lib/python3.11/site-packages (from matplotlib<4->mlflow>=3.1.1->mlflow[databricks]>=3.1.1) (1.4.4)\nRequirement already satisfied: pillow>=6.2.0 in /databricks/python3/lib/python3.11/site-packages (from matplotlib<4->mlflow>=3.1.1->mlflow[databricks]>=3.1.1) (10.3.0)\nRequirement already satisfied: pyparsing<3.1,>=2.3.1 in /databricks/python3/lib/python3.11/site-packages (from matplotlib<4->mlflow>=3.1.1->mlflow[databricks]>=3.1.1) (3.0.9)\nRequirement already satisfied: pytz>=2020.1 in /databricks/python3/lib/python3.11/site-packages (from pandas<3->mlflow>=3.1.1->mlflow[databricks]>=3.1.1) (2022.7)\nRequirement already satisfied: annotated-types>=0.6.0 in /local_disk0/.ephemeral_nfs/envs/pythonEnv-670064c5-a862-4099-8389-b4d70d9f17e1/lib/python3.11/site-packages (from pydantic<3,>=1.10.8->mlflow-skinny==3.1.1->mlflow>=3.1.1->mlflow[databricks]>=3.1.1) (0.7.0)\nRequirement already satisfied: pydantic-core==2.33.2 in /local_disk0/.ephemeral_nfs/envs/pythonEnv-670064c5-a862-4099-8389-b4d70d9f17e1/lib/python3.11/site-packages (from pydantic<3,>=1.10.8->mlflow-skinny==3.1.1->mlflow>=3.1.1->mlflow[databricks]>=3.1.1) (2.33.2)\nRequirement already satisfied: typing-inspection>=0.4.0 in /local_disk0/.ephemeral_nfs/envs/pythonEnv-670064c5-a862-4099-8389-b4d70d9f17e1/lib/python3.11/site-packages (from pydantic<3,>=1.10.8->mlflow-skinny==3.1.1->mlflow>=3.1.1->mlflow[databricks]>=3.1.1) (0.4.1)\nRequirement already satisfied: joblib>=1.1.1 in /databricks/python3/lib/python3.11/site-packages (from scikit-learn<2->mlflow>=3.1.1->mlflow[databricks]>=3.1.1) (1.2.0)\nRequirement already satisfied: threadpoolctl>=2.0.0 in /databricks/python3/lib/python3.11/site-packages (from scikit-learn<2->mlflow>=3.1.1->mlflow[databricks]>=3.1.1) (2.2.0)\nRequirement already satisfied: greenlet>=1 in /local_disk0/.ephemeral_nfs/envs/pythonEnv-670064c5-a862-4099-8389-b4d70d9f17e1/lib/python3.11/site-packages (from sqlalchemy<3,>=1.4.0->mlflow>=3.1.1->mlflow[databricks]>=3.1.1) (3.2.3)\nRequirement already satisfied: six>=1.11.0 in /usr/lib/python3/dist-packages (from azure-core<2.0.0,>=1.28.0->azure-storage-file-datalake>12->mlflow[databricks]>=3.1.1) (1.16.0)\nRequirement already satisfied: cryptography>=2.1.4 in /databricks/python3/lib/python3.11/site-packages (from azure-storage-blob<13.0.0,>=12.19.0->azure-storage-file-datalake>12->mlflow[databricks]>=3.1.1) (41.0.3)\nRequirement already satisfied: starlette<0.47.0,>=0.40.0 in /local_disk0/.ephemeral_nfs/envs/pythonEnv-670064c5-a862-4099-8389-b4d70d9f17e1/lib/python3.11/site-packages (from fastapi<1->mlflow-skinny==3.1.1->mlflow>=3.1.1->mlflow[databricks]>=3.1.1) (0.46.2)\nRequirement already satisfied: gitdb<5,>=4.0.1 in /databricks/python3/lib/python3.11/site-packages (from gitpython<4,>=3.1.9->mlflow-skinny==3.1.1->mlflow>=3.1.1->mlflow[databricks]>=3.1.1) (4.0.11)\nRequirement already satisfied: googleapis-common-protos<2.0.dev0,>=1.56.2 in /databricks/python3/lib/python3.11/site-packages (from google-api-core<3.0.0dev,>=2.15.0->google-cloud-storage>=1.30.0->mlflow[databricks]>=3.1.1) (1.65.0)\nRequirement already satisfied: proto-plus<2.0.0dev,>=1.22.3 in /databricks/python3/lib/python3.11/site-packages (from google-api-core<3.0.0dev,>=2.15.0->google-cloud-storage>=1.30.0->mlflow[databricks]>=3.1.1) (1.25.0)\nRequirement already satisfied: pyasn1-modules>=0.2.1 in /databricks/python3/lib/python3.11/site-packages (from google-auth<3.0dev,>=2.26.1->google-cloud-storage>=1.30.0->mlflow[databricks]>=3.1.1) (0.2.8)\nRequirement already satisfied: rsa<5,>=3.1.4 in /databricks/python3/lib/python3.11/site-packages (from google-auth<3.0dev,>=2.26.1->google-cloud-storage>=1.30.0->mlflow[databricks]>=3.1.1) (4.9)\nRequirement already satisfied: zipp>=0.5 in /databricks/python3/lib/python3.11/site-packages (from importlib_metadata!=4.7.0,<9,>=3.7.0->mlflow-skinny==3.1.1->mlflow>=3.1.1->mlflow[databricks]>=3.1.1) (3.11.0)\nRequirement already satisfied: opentelemetry-semantic-conventions==0.55b1 in /local_disk0/.ephemeral_nfs/envs/pythonEnv-670064c5-a862-4099-8389-b4d70d9f17e1/lib/python3.11/site-packages (from opentelemetry-sdk<3,>=1.9.0->mlflow-skinny==3.1.1->mlflow>=3.1.1->mlflow[databricks]>=3.1.1) (0.55b1)\nRequirement already satisfied: charset-normalizer<4,>=2 in /databricks/python3/lib/python3.11/site-packages (from requests<3,>=2.17.3->mlflow-skinny==3.1.1->mlflow>=3.1.1->mlflow[databricks]>=3.1.1) (2.0.4)\nRequirement already satisfied: regex>=2022.1.18 in /local_disk0/.ephemeral_nfs/envs/pythonEnv-670064c5-a862-4099-8389-b4d70d9f17e1/lib/python3.11/site-packages (from tiktoken>=0.8.0->databricks-agents<2.0,>=1.0.0->mlflow[databricks]>=3.1.1) (2024.11.6)\nRequirement already satisfied: grpcio-status>=1.59.3 in /local_disk0/.ephemeral_nfs/envs/pythonEnv-670064c5-a862-4099-8389-b4d70d9f17e1/lib/python3.11/site-packages (from databricks-connect->databricks-agents<2.0,>=1.0.0->mlflow[databricks]>=3.1.1) (1.62.3)\nRequirement already satisfied: grpcio>=1.59.3 in /databricks/python3/lib/python3.11/site-packages (from databricks-connect->databricks-agents<2.0,>=1.0.0->mlflow[databricks]>=3.1.1) (1.69.0)\nRequirement already satisfied: py4j==0.10.9.7 in /databricks/python3/lib/python3.11/site-packages (from databricks-connect->databricks-agents<2.0,>=1.0.0->mlflow[databricks]>=3.1.1) (0.10.9.7)\nRequirement already satisfied: setuptools>=68.0.0 in /databricks/python3/lib/python3.11/site-packages (from databricks-connect->databricks-agents<2.0,>=1.0.0->mlflow[databricks]>=3.1.1) (75.1.0)\nRequirement already satisfied: marshmallow<4.0.0,>=3.18.0 in /local_disk0/.ephemeral_nfs/envs/pythonEnv-670064c5-a862-4099-8389-b4d70d9f17e1/lib/python3.11/site-packages (from dataclasses-json->databricks-agents<2.0,>=1.0.0->mlflow[databricks]>=3.1.1) (3.26.1)\nRequirement already satisfied: typing-inspect<1,>=0.4.0 in /local_disk0/.ephemeral_nfs/envs/pythonEnv-670064c5-a862-4099-8389-b4d70d9f17e1/lib/python3.11/site-packages (from dataclasses-json->databricks-agents<2.0,>=1.0.0->mlflow[databricks]>=3.1.1) (0.9.0)\nRequirement already satisfied: cffi>=1.12 in /databricks/python3/lib/python3.11/site-packages (from cryptography>=2.1.4->azure-storage-blob<13.0.0,>=12.19.0->azure-storage-file-datalake>12->mlflow[databricks]>=3.1.1) (1.15.1)\nRequirement already satisfied: smmap<6,>=3.0.1 in /databricks/python3/lib/python3.11/site-packages (from gitdb<5,>=4.0.1->gitpython<4,>=3.1.9->mlflow-skinny==3.1.1->mlflow>=3.1.1->mlflow[databricks]>=3.1.1) (5.0.1)\nRequirement already satisfied: pyasn1<0.5.0,>=0.4.6 in /databricks/python3/lib/python3.11/site-packages (from pyasn1-modules>=0.2.1->google-auth<3.0dev,>=2.26.1->google-cloud-storage>=1.30.0->mlflow[databricks]>=3.1.1) (0.4.8)\nRequirement already satisfied: mypy-extensions>=0.3.0 in /databricks/python3/lib/python3.11/site-packages (from typing-inspect<1,>=0.4.0->dataclasses-json->databricks-agents<2.0,>=1.0.0->mlflow[databricks]>=3.1.1) (0.4.3)\nRequirement already satisfied: pycparser in /databricks/python3/lib/python3.11/site-packages (from cffi>=1.12->cryptography>=2.1.4->azure-storage-blob<13.0.0,>=12.19.0->azure-storage-file-datalake>12->mlflow[databricks]>=3.1.1) (2.21)\n\u001B[43mNote: you may need to restart the kernel using %restart_python or dbutils.library.restartPython() to use updated packages.\u001B[0m\n"
     ]
    }
   ],
   "source": [
    "%pip install -U \"mlflow[databricks]>=3.1.1\" openai\n",
    "\n",
    "%restart_python"
   ]
  },
  {
   "cell_type": "markdown",
   "metadata": {
    "application/vnd.databricks.v1+cell": {
     "cellMetadata": {},
     "inputWidgets": {},
     "nuid": "6bf87f41-d22e-41fa-b851-f2c17f6e32e4",
     "showTitle": false,
     "tableResultSettingsMap": {},
     "title": ""
    }
   },
   "source": [
    "## Traceデータの作成"
   ]
  },
  {
   "cell_type": "code",
   "execution_count": 0,
   "metadata": {
    "application/vnd.databricks.v1+cell": {
     "cellMetadata": {
      "byteLimit": 2048000,
      "rowLimit": 10000
     },
     "inputWidgets": {},
     "nuid": "9f7255d6-5338-420a-b093-fb0e96ff3e78",
     "showTitle": false,
     "tableResultSettingsMap": {},
     "title": ""
    }
   },
   "outputs": [
    {
     "output_type": "execute_result",
     "data": {
      "text/plain": [
       "{'explanation': 'PowerBIのダッシュボード機能について解説します。\\n\\nダッシュボードは、PowerBIの重要な機能の一つです。以下はその主な特徴と利点です。\\n\\n*   クイックビューのための設計: ダッシュボードは、重要な指標やデータを一目で把握できるように設計されています。\\n*   カスタマイズ可能: ユーザーは、ダッシュボードに表示されるデータやビジュアルを自由に選び、自分のニーズに合わせてカスタマイズできます。\\n*   インタラクティブ: ダッシュボードはインタラクティブです。ユーザーは、ビジュアルの詳細を表示したり、別のビューに切り替えたりできるため、データの分析が深みを増します。\\n*   共有とコラボレーション: ダッシュボードを他のユーザーと共有することができます。さらに、リアルタイムで更新されるため、チームメンバー間でのコラボレーションや意思決定を促進します。\\n*   モバイルアクセス: PowerBIのダッシュボードはモバイルデバイスからもアクセス可能です。これにより、ユーザーはどこからでも重要なデータにアクセスできます。'}"
      ]
     },
     "execution_count": 18,
     "metadata": {},
     "output_type": "execute_result"
    },
    {
     "output_type": "display_data",
     "data": {
      "application/databricks.mlflow.trace": "[\"tr-09a1f6a4ae44a57e8c054af1bfb61939\", \"tr-5a2e311b290434d46d9b66ee0188c293\", \"tr-0f4e21012373f9c0e23f8f08fcfd34ea\", \"tr-e21e818c9bf8d949c27b04414b7ea278\", \"tr-dfcce47f4a6fd59ce5e309f2d8f73df5\"]",
      "text/plain": [
       "[Trace(trace_id=tr-09a1f6a4ae44a57e8c054af1bfb61939), Trace(trace_id=tr-5a2e311b290434d46d9b66ee0188c293), Trace(trace_id=tr-0f4e21012373f9c0e23f8f08fcfd34ea), Trace(trace_id=tr-e21e818c9bf8d949c27b04414b7ea278), Trace(trace_id=tr-dfcce47f4a6fd59ce5e309f2d8f73df5)]"
      ]
     },
     "metadata": {},
     "output_type": "display_data"
    }
   ],
   "source": [
    "import mlflow\n",
    "from openai import OpenAI\n",
    "from mlflow.entities import Document\n",
    "from typing import List, Dict\n",
    "\n",
    "# OpenAI呼び出しの自動トレースを有効にする\n",
    "mlflow.openai.autolog()\n",
    "\n",
    "# 同じ資格情報を使用してOpenAI経由でDatabricks LLMに接続する\n",
    "# あるいは、ここで独自のOpenAI資格情報を使用することもできます\n",
    "mlflow_creds = mlflow.utils.databricks_utils.get_databricks_host_creds()\n",
    "client = OpenAI(\n",
    "    api_key=mlflow_creds.token, base_url=f\"{mlflow_creds.host}/serving-endpoints\"\n",
    ")\n",
    "\n",
    "@mlflow.trace\n",
    "def generate_feature_explanation(system_name:str, feature_name: str) -> Dict[str, str]:\n",
    "    \"\"\"顧客データと営業担当者の指示に基づいてパーソナライズされた営業メールを生成する\"\"\"\n",
    "\n",
    "    # 取得したコンテキストを使用してメールを生成する\n",
    "    prompt = f\"\"\"あなたは機械学習やデータエンジニアリングのエキスパートです。\n",
    "    下記のシステム名および機能名で示される機能について、解説してください。\n",
    "\n",
    "    システム名:\n",
    "    {system_name}\n",
    "\n",
    "    機能名:\n",
    "    {feature_name}\n",
    "    \n",
    "    説明は簡潔かつ箇条書きでまとめてください。\"\"\"\n",
    "\n",
    "    response = client.chat.completions.create(\n",
    "        model=\"databricks-meta-llama-3-3-70b-instruct\",\n",
    "        messages=[\n",
    "            {\"role\": \"system\", \"content\": \"あなたは役に立つアシスタントです。\"},\n",
    "            {\"role\": \"user\", \"content\": prompt},\n",
    "        ],\n",
    "        max_tokens=2000,\n",
    "    )\n",
    "\n",
    "    return {\"explanation\": response.choices[0].message.content}\n",
    "\n",
    "\n",
    "# トレースを作成する\n",
    "generate_feature_explanation(\"MLflow\", \"ChatAgent\")\n",
    "generate_feature_explanation(\"MLflow\", \"Tracing\")\n",
    "generate_feature_explanation(\"Databricks\", \"Unity Catalog\")\n",
    "generate_feature_explanation(\"Databricks\", \"Agent Evaluation\")\n",
    "generate_feature_explanation(\"PowerBI\", \"Dashboard\")\n"
   ]
  },
  {
   "cell_type": "code",
   "execution_count": 0,
   "metadata": {
    "application/vnd.databricks.v1+cell": {
     "cellMetadata": {
      "byteLimit": 2048000,
      "rowLimit": 10000
     },
     "inputWidgets": {},
     "nuid": "96bb34c2-d943-43e1-88b8-a8d9b82caa91",
     "showTitle": false,
     "tableResultSettingsMap": {},
     "title": ""
    }
   },
   "outputs": [
    {
     "output_type": "display_data",
     "data": {
      "application/vnd.jupyter.widget-view+json": {
       "model_id": "257f17cfc50749f3abb049e1c31e58ce",
       "version_major": 2,
       "version_minor": 0
      },
      "text/plain": [
       "Evaluating:   0%|          | 0/5 [Elapsed: 00:00, Remaining: ?] "
      ]
     },
     "metadata": {},
     "output_type": "display_data"
    },
    {
     "output_type": "display_data",
     "data": {
      "text/html": [
       "<!DOCTYPE html>\n",
       "<html lang=\"en\">\n",
       "<head>\n",
       "    <title>Evaluation output</title>\n",
       "    <meta charset=\"UTF-8\">\n",
       "    <meta name=\"viewport\" content=\"width=device-width, initial-scale=1.0\">\n",
       "    <style>\n",
       "        body {\n",
       "            font-family: Arial, sans-serif;\n",
       "        }\n",
       "\n",
       "        .header {\n",
       "            a.button {\n",
       "                padding: 4px 8px;\n",
       "                line-height: 20px;\n",
       "                box-shadow: none;\n",
       "                height: 20px;\n",
       "                display: inline-flex;\n",
       "                align-items: center;\n",
       "                justify-content: center;\n",
       "                vertical-align: middle;\n",
       "                background-color: rgb(34, 114, 180);\n",
       "                color: rgb(255, 255, 255);\n",
       "                text-decoration: none;\n",
       "                animation-duration: 0s;\n",
       "                transition: none 0s ease 0s;\n",
       "                position: relative;\n",
       "                white-space: nowrap;\n",
       "                text-align: center;\n",
       "                border: 1px solid rgb(192, 205, 216);\n",
       "                cursor: pointer;\n",
       "                user-select: none;\n",
       "                touch-action: manipulation;\n",
       "                border-radius: 4px;\n",
       "                gap: 6px;\n",
       "            }\n",
       "\n",
       "            a.button:hover {\n",
       "                background-color: rgb(14, 83, 139) !important;\n",
       "                border-color: transparent !important;\n",
       "                color: rgb(255, 255, 255) !important;\n",
       "            }\n",
       "        }\n",
       "\n",
       "        .warnings-section {\n",
       "            margin-top: 8px;\n",
       "\n",
       "            ul {\n",
       "                list-style-type: none;\n",
       "            }\n",
       "        }\n",
       "\n",
       "        .instructions-section {\n",
       "            margin-top: 16px;\n",
       "            font-size: 14px;\n",
       "\n",
       "            ul {\n",
       "                margin-top: 0;\n",
       "                margin-bottom: 0;\n",
       "            }\n",
       "        }\n",
       "\n",
       "        code {\n",
       "            font-family: monospace;\n",
       "        }\n",
       "\n",
       "        .note {\n",
       "            color: #666;\n",
       "        }\n",
       "\n",
       "        a {\n",
       "            color: #2272B4;\n",
       "            text-decoration: none;\n",
       "        }\n",
       "\n",
       "        a:hover {\n",
       "            color: #005580;\n",
       "        }\n",
       "    </style>\n",
       "</head>\n",
       "<body>\n",
       "<div>\n",
       "    <div class=\"header\">\n",
       "        <a href=\"https://dbc-f1d46cb2-e7aa.cloud.databricks.com/ml/experiments/d1d81d3f627043299cacc5dc4d071656/runs/9d1a8781dc2f4a649a76971e53815b6b/evaluations/\" class=\"button\">\n",
       "            View evaluation results.\n",
       "            <svg xmlns=\"http://www.w3.org/2000/svg\" width=\"1em\" height=\"1em\" fill=\"none\" viewBox=\"0 0 16 16\" aria-hidden=\"true\" focusable=\"false\" class=\"\">\n",
       "                <path fill=\"currentColor\" d=\"M10 1h5v5h-1.5V3.56L8.53 8.53 7.47 7.47l4.97-4.97H10z\"></path>\n",
       "                <path fill=\"currentColor\" d=\"M1 2.75A.75.75 0 0 1 1.75 2H8v1.5H2.5v10h10V8H14v6.25a.75.75 0 0 1-.75.75H1.75a.75.75 0 0 1-.75-.75z\"></path>\n",
       "            </svg>\n",
       "        </a>\n",
       "    </div>\n",
       "</div>\n",
       "</body>\n",
       "</html>"
      ]
     },
     "metadata": {},
     "output_type": "display_data"
    },
    {
     "output_type": "display_data",
     "data": {
      "application/databricks.mlflow.trace": "[\"tr-dfcce47f4a6fd59ce5e309f2d8f73df5\", \"tr-5a2e311b290434d46d9b66ee0188c293\", \"tr-e21e818c9bf8d949c27b04414b7ea278\", \"tr-09a1f6a4ae44a57e8c054af1bfb61939\", \"tr-0f4e21012373f9c0e23f8f08fcfd34ea\"]",
      "text/plain": [
       "[Trace(trace_id=tr-dfcce47f4a6fd59ce5e309f2d8f73df5), Trace(trace_id=tr-5a2e311b290434d46d9b66ee0188c293), Trace(trace_id=tr-e21e818c9bf8d949c27b04414b7ea278), Trace(trace_id=tr-09a1f6a4ae44a57e8c054af1bfb61939), Trace(trace_id=tr-0f4e21012373f9c0e23f8f08fcfd34ea)]"
      ]
     },
     "metadata": {},
     "output_type": "display_data"
    }
   ],
   "source": [
    "import mlflow\n",
    "\n",
    "from mlflow.genai.scorers import (\n",
    "    Guidelines,\n",
    "    RelevanceToQuery,\n",
    ")\n",
    "\n",
    "# 実験から最大10件のトレースをサンプリング\n",
    "traces = mlflow.search_traces(max_results=10)\n",
    "\n",
    "# スコアラーを使って評価を実行\n",
    "with mlflow.start_run(run_name=\"eval_v1\"):\n",
    "    mlflow.genai.evaluate(\n",
    "        data=traces,\n",
    "        scorers=[\n",
    "            RelevanceToQuery(),\n",
    "            Guidelines(\n",
    "                name=\"mlflow_only\",\n",
    "                # ガイドラインはリクエストとレスポンスを参照可能\n",
    "                guidelines=\"リクエストがMLflowに関連していない場合、応答は回答を拒否しなければなりません。\",\n",
    "            ),\n",
    "            # ガイドラインは複数指定可能\n",
    "            Guidelines(\n",
    "                name=\"customer_service_tone\",\n",
    "                guidelines=\"\"\"応答は次のブランドボイスを維持しなければなりません:\n",
    "        - プロフェッショナルでありながら温かく会話的（企業用語を避ける）\n",
    "        - 感情的な文脈を認識し、解決策に飛びつく前に共感を示す\n",
    "        - 押し付けがましくなく積極的に助けを提供する\n",
    "\n",
    "        具体的には:\n",
    "        - 顧客がフラストレーション、怒り、失望を表明した場合、最初の文は彼らの感情を認識しなければなりません\n",
    "        - 応答は「私」声明を使用して所有権を取る必要があります（例：「私は理解します」ではなく「私たちは理解します」）\n",
    "        - 応答は「単に」、「ただ」、「明らかに」などの懸念を最小限に抑えるフレーズを避けなければなりません\n",
    "        - 応答は具体的な次のステップまたは助けを提供するオープンエンドの提案で終わらなければなりません、一般的な締めくくりではありません\"\"\",\n",
    "            ),\n",
    "        ],\n",
    "    )"
   ]
  },
  {
   "cell_type": "markdown",
   "metadata": {
    "application/vnd.databricks.v1+cell": {
     "cellMetadata": {},
     "inputWidgets": {},
     "nuid": "20a77270-6727-4251-89ab-f18ed325fbdf",
     "showTitle": false,
     "tableResultSettingsMap": {},
     "title": ""
    }
   },
   "source": [
    "## ステップ 2: モニタリングを有効にする\n",
    "\n",
    "それでは、モニタリングサービスを有効にしましょう。 有効にすると、モニタリング サービスは、評価されたトレースのコピーをMLflow エクスペリメントから、指定した スキーマのDelta Unity Catalogテーブルに同期します。"
   ]
  },
  {
   "cell_type": "code",
   "execution_count": 0,
   "metadata": {
    "application/vnd.databricks.v1+cell": {
     "cellMetadata": {
      "byteLimit": 2048000,
      "rowLimit": 10000
     },
     "inputWidgets": {},
     "nuid": "1dec70be-a127-4290-941b-16e78b029b25",
     "showTitle": false,
     "tableResultSettingsMap": {},
     "title": ""
    }
   },
   "outputs": [
    {
     "output_type": "display_data",
     "data": {
      "text/plain": [
       "\u001B[0;31m---------------------------------------------------------------------------\u001B[0m\n",
       "\u001B[0;31mHTTPError\u001B[0m                                 Traceback (most recent call last)\n",
       "File \u001B[0;32m<command-5874206880854678>, line 9\u001B[0m\n",
       "\u001B[1;32m      1\u001B[0m \u001B[38;5;66;03m# これらのパッケージは mlflow[databricks] で自動的にインストールされます\u001B[39;00m\n",
       "\u001B[1;32m      2\u001B[0m \u001B[38;5;28;01mfrom\u001B[39;00m \u001B[38;5;21;01mdatabricks\u001B[39;00m\u001B[38;5;21;01m.\u001B[39;00m\u001B[38;5;21;01magents\u001B[39;00m\u001B[38;5;21;01m.\u001B[39;00m\u001B[38;5;21;01mmonitoring\u001B[39;00m \u001B[38;5;28;01mimport\u001B[39;00m (\n",
       "\u001B[1;32m      3\u001B[0m     create_external_monitor,\n",
       "\u001B[1;32m      4\u001B[0m     AssessmentsSuiteConfig,\n",
       "\u001B[1;32m      5\u001B[0m     BuiltinJudge,\n",
       "\u001B[1;32m      6\u001B[0m     GuidelinesJudge,\n",
       "\u001B[1;32m      7\u001B[0m )\n",
       "\u001B[0;32m----> 9\u001B[0m external_monitor \u001B[38;5;241m=\u001B[39m create_external_monitor(\n",
       "\u001B[1;32m     10\u001B[0m     \u001B[38;5;66;03m# CREATE TABLE 権限のある Unity Catalog スキーマに変更してください\u001B[39;00m\n",
       "\u001B[1;32m     11\u001B[0m     catalog_name\u001B[38;5;241m=\u001B[39m\u001B[38;5;124m\"\u001B[39m\u001B[38;5;124mworkspace\u001B[39m\u001B[38;5;124m\"\u001B[39m,\n",
       "\u001B[1;32m     12\u001B[0m     schema_name\u001B[38;5;241m=\u001B[39m\u001B[38;5;124m\"\u001B[39m\u001B[38;5;124mdefault\u001B[39m\u001B[38;5;124m\"\u001B[39m,\n",
       "\u001B[1;32m     13\u001B[0m     assessments_config\u001B[38;5;241m=\u001B[39mAssessmentsSuiteConfig(\n",
       "\u001B[1;32m     14\u001B[0m         sample\u001B[38;5;241m=\u001B[39m\u001B[38;5;241m1.0\u001B[39m,  \u001B[38;5;66;03m# サンプリングレート\u001B[39;00m\n",
       "\u001B[1;32m     15\u001B[0m         assessments\u001B[38;5;241m=\u001B[39m[\n",
       "\u001B[1;32m     16\u001B[0m             BuiltinJudge(\n",
       "\u001B[1;32m     17\u001B[0m                 name\u001B[38;5;241m=\u001B[39m\u001B[38;5;124m\"\u001B[39m\u001B[38;5;124mrelevance_to_query\u001B[39m\u001B[38;5;124m\"\u001B[39m\n",
       "\u001B[1;32m     18\u001B[0m             ),  \u001B[38;5;66;03m# または {'name': 'relevance_to_query'}\u001B[39;00m\n",
       "\u001B[1;32m     19\u001B[0m             \u001B[38;5;66;03m# ガイドラインはリクエストとレスポンスを参照可能\u001B[39;00m\n",
       "\u001B[1;32m     20\u001B[0m             GuidelinesJudge(\n",
       "\u001B[1;32m     21\u001B[0m                 guidelines\u001B[38;5;241m=\u001B[39m{\n",
       "\u001B[1;32m     22\u001B[0m                     \u001B[38;5;66;03m# 任意の数のガイドラインを key-value で指定可能\u001B[39;00m\n",
       "\u001B[1;32m     23\u001B[0m                     \u001B[38;5;124m\"\u001B[39m\u001B[38;5;124mmlflow_only\u001B[39m\u001B[38;5;124m\"\u001B[39m: [\n",
       "\u001B[1;32m     24\u001B[0m                         \u001B[38;5;124m\"\u001B[39m\u001B[38;5;124mリクエストがMLflowに関連していない場合、応答は回答を拒否しなければなりません。\u001B[39m\u001B[38;5;124m\"\u001B[39m\n",
       "\u001B[1;32m     25\u001B[0m                     ],  \u001B[38;5;66;03m# 配列で指定\u001B[39;00m\n",
       "\u001B[1;32m     26\u001B[0m                     \u001B[38;5;124m\"\u001B[39m\u001B[38;5;124mcustomer_service_tone\u001B[39m\u001B[38;5;124m\"\u001B[39m: [\n",
       "\u001B[1;32m     27\u001B[0m \u001B[38;5;250m                        \u001B[39m\u001B[38;5;124;03m\"\"\"応答は次のブランドボイスを維持しなければなりません:\u001B[39;00m\n",
       "\u001B[1;32m     28\u001B[0m \u001B[38;5;124;03m    - プロフェッショナルでありながら温かく会話的（企業用語を避ける）\u001B[39;00m\n",
       "\u001B[1;32m     29\u001B[0m \u001B[38;5;124;03m    - 感情的な文脈を認識し、解決策に飛びつく前に共感を示す\u001B[39;00m\n",
       "\u001B[1;32m     30\u001B[0m \u001B[38;5;124;03m    - 押し付けがましくなく積極的に助けを提供する\u001B[39;00m\n",
       "\u001B[1;32m     31\u001B[0m \n",
       "\u001B[1;32m     32\u001B[0m \u001B[38;5;124;03m    具体的には:\u001B[39;00m\n",
       "\u001B[1;32m     33\u001B[0m \u001B[38;5;124;03m    - 顧客がフラストレーション、怒り、失望を表明した場合、最初の文は彼らの感情を認識しなければなりません\u001B[39;00m\n",
       "\u001B[1;32m     34\u001B[0m \u001B[38;5;124;03m    - 応答は「私」声明を使用して所有権を取る必要があります（例：「私は理解します」ではなく「私たちは理解します」）\u001B[39;00m\n",
       "\u001B[1;32m     35\u001B[0m \u001B[38;5;124;03m    - 応答は「単に」、「ただ」、「明らかに」などの懸念を最小限に抑えるフレーズを避けなければなりません\u001B[39;00m\n",
       "\u001B[1;32m     36\u001B[0m \u001B[38;5;124;03m    - 応答は具体的な次のステップまたは助けを提供するオープンエンドの提案で終わらなければなりません、一般的な締めくくりではありません\"\"\"\u001B[39;00m\n",
       "\u001B[1;32m     37\u001B[0m                     ],\n",
       "\u001B[1;32m     38\u001B[0m                 }\n",
       "\u001B[1;32m     39\u001B[0m             ),\n",
       "\u001B[1;32m     40\u001B[0m         ],\n",
       "\u001B[1;32m     41\u001B[0m     ),\n",
       "\u001B[1;32m     42\u001B[0m )\n",
       "\u001B[1;32m     44\u001B[0m \u001B[38;5;28mprint\u001B[39m(external_monitor)\n",
       "\n",
       "File \u001B[0;32m/local_disk0/.ephemeral_nfs/envs/pythonEnv-670064c5-a862-4099-8389-b4d70d9f17e1/lib/python3.11/site-packages/databricks/rag_eval/context.py:297\u001B[0m, in \u001B[0;36meval_context.<locals>.wrapper\u001B[0;34m(*args, **kwargs)\u001B[0m\n",
       "\u001B[1;32m    295\u001B[0m \u001B[38;5;66;03m# Raise the original error if there was one, otherwise return\u001B[39;00m\n",
       "\u001B[1;32m    296\u001B[0m \u001B[38;5;28;01mif\u001B[39;00m error \u001B[38;5;129;01mis\u001B[39;00m \u001B[38;5;129;01mnot\u001B[39;00m \u001B[38;5;28;01mNone\u001B[39;00m:\n",
       "\u001B[0;32m--> 297\u001B[0m     \u001B[38;5;28;01mraise\u001B[39;00m error\n",
       "\u001B[1;32m    298\u001B[0m \u001B[38;5;28;01melse\u001B[39;00m:\n",
       "\u001B[1;32m    299\u001B[0m     \u001B[38;5;28;01mreturn\u001B[39;00m result\n",
       "\n",
       "File \u001B[0;32m/local_disk0/.ephemeral_nfs/envs/pythonEnv-670064c5-a862-4099-8389-b4d70d9f17e1/lib/python3.11/site-packages/databricks/rag_eval/context.py:288\u001B[0m, in \u001B[0;36meval_context.<locals>.wrapper\u001B[0;34m(*args, **kwargs)\u001B[0m\n",
       "\u001B[1;32m    285\u001B[0m result \u001B[38;5;241m=\u001B[39m \u001B[38;5;28;01mNone\u001B[39;00m\n",
       "\u001B[1;32m    287\u001B[0m \u001B[38;5;28;01mtry\u001B[39;00m:\n",
       "\u001B[0;32m--> 288\u001B[0m     result \u001B[38;5;241m=\u001B[39m func(\u001B[38;5;241m*\u001B[39margs, \u001B[38;5;241m*\u001B[39m\u001B[38;5;241m*\u001B[39mkwargs)\n",
       "\u001B[1;32m    289\u001B[0m \u001B[38;5;28;01mexcept\u001B[39;00m \u001B[38;5;167;01mException\u001B[39;00m \u001B[38;5;28;01mas\u001B[39;00m e:  \u001B[38;5;66;03m# pylint: disable=broad-except\u001B[39;00m\n",
       "\u001B[1;32m    290\u001B[0m     error \u001B[38;5;241m=\u001B[39m e\n",
       "\n",
       "File \u001B[0;32m/local_disk0/.ephemeral_nfs/envs/pythonEnv-670064c5-a862-4099-8389-b4d70d9f17e1/lib/python3.11/site-packages/databricks/rag_eval/monitoring/api.py:220\u001B[0m, in \u001B[0;36mcreate_external_monitor\u001B[0;34m(catalog_name, schema_name, assessments_config, experiment_id, experiment_name)\u001B[0m\n",
       "\u001B[1;32m    195\u001B[0m \u001B[38;5;129m@context\u001B[39m\u001B[38;5;241m.\u001B[39meval_context\n",
       "\u001B[1;32m    196\u001B[0m \u001B[38;5;28;01mdef\u001B[39;00m \u001B[38;5;21mcreate_external_monitor\u001B[39m(\n",
       "\u001B[1;32m    197\u001B[0m     \u001B[38;5;241m*\u001B[39m,\n",
       "\u001B[0;32m   (...)\u001B[0m\n",
       "\u001B[1;32m    202\u001B[0m     experiment_name: \u001B[38;5;28mstr\u001B[39m \u001B[38;5;241m|\u001B[39m \u001B[38;5;28;01mNone\u001B[39;00m \u001B[38;5;241m=\u001B[39m \u001B[38;5;28;01mNone\u001B[39;00m,\n",
       "\u001B[1;32m    203\u001B[0m ) \u001B[38;5;241m-\u001B[39m\u001B[38;5;241m>\u001B[39m entities\u001B[38;5;241m.\u001B[39mExternalMonitor:\n",
       "\u001B[1;32m    204\u001B[0m \u001B[38;5;250m    \u001B[39m\u001B[38;5;124;03m\"\"\"Create a monitor for a GenAI application served outside Databricks.\u001B[39;00m\n",
       "\u001B[1;32m    205\u001B[0m \n",
       "\u001B[1;32m    206\u001B[0m \u001B[38;5;124;03m    Args:\u001B[39;00m\n",
       "\u001B[0;32m   (...)\u001B[0m\n",
       "\u001B[1;32m    218\u001B[0m \u001B[38;5;124;03m        ExternalMonitor: The created monitor.\u001B[39;00m\n",
       "\u001B[1;32m    219\u001B[0m \u001B[38;5;124;03m    \"\"\"\u001B[39;00m\n",
       "\u001B[0;32m--> 220\u001B[0m     monitor \u001B[38;5;241m=\u001B[39m _do_create_external_monitor(\n",
       "\u001B[1;32m    221\u001B[0m         catalog_name\u001B[38;5;241m=\u001B[39mcatalog_name,\n",
       "\u001B[1;32m    222\u001B[0m         schema_name\u001B[38;5;241m=\u001B[39mschema_name,\n",
       "\u001B[1;32m    223\u001B[0m         assessments_config\u001B[38;5;241m=\u001B[39massessments_config,\n",
       "\u001B[1;32m    224\u001B[0m         experiment_id\u001B[38;5;241m=\u001B[39mexperiment_id,\n",
       "\u001B[1;32m    225\u001B[0m         experiment_name\u001B[38;5;241m=\u001B[39mexperiment_name,\n",
       "\u001B[1;32m    226\u001B[0m     )\n",
       "\u001B[1;32m    228\u001B[0m     \u001B[38;5;28mprint\u001B[39m(\u001B[38;5;124mf\u001B[39m\u001B[38;5;124m'\u001B[39m\u001B[38;5;124mCreated monitor for experiment \u001B[39m\u001B[38;5;124m\"\u001B[39m\u001B[38;5;132;01m{\u001B[39;00mmonitor\u001B[38;5;241m.\u001B[39mexperiment_id\u001B[38;5;132;01m}\u001B[39;00m\u001B[38;5;124m\"\u001B[39m\u001B[38;5;124m.\u001B[39m\u001B[38;5;124m'\u001B[39m)\n",
       "\u001B[1;32m    229\u001B[0m     \u001B[38;5;28mprint\u001B[39m(\u001B[38;5;124mf\u001B[39m\u001B[38;5;124m\"\u001B[39m\u001B[38;5;130;01m\\n\u001B[39;00m\u001B[38;5;124mView traces: \u001B[39m\u001B[38;5;132;01m{\u001B[39;00mmonitor\u001B[38;5;241m.\u001B[39mmonitoring_page_url\u001B[38;5;132;01m}\u001B[39;00m\u001B[38;5;124m\"\u001B[39m)\n",
       "\n",
       "File \u001B[0;32m/local_disk0/.ephemeral_nfs/envs/pythonEnv-670064c5-a862-4099-8389-b4d70d9f17e1/lib/python3.11/site-packages/databricks/rag_eval/monitoring/api.py:187\u001B[0m, in \u001B[0;36m_do_create_external_monitor\u001B[0;34m(catalog_name, schema_name, assessments_config, experiment_id, experiment_name)\u001B[0m\n",
       "\u001B[1;32m    182\u001B[0m ckpt_table_uc_entity \u001B[38;5;241m=\u001B[39m uc_utils\u001B[38;5;241m.\u001B[39mUnityCatalogEntity\u001B[38;5;241m.\u001B[39mfrom_fullname(\n",
       "\u001B[1;32m    183\u001B[0m     \u001B[38;5;124mf\u001B[39m\u001B[38;5;124m\"\u001B[39m\u001B[38;5;132;01m{\u001B[39;00mcatalog_name\u001B[38;5;132;01m}\u001B[39;00m\u001B[38;5;124m.\u001B[39m\u001B[38;5;132;01m{\u001B[39;00mschema_name\u001B[38;5;132;01m}\u001B[39;00m\u001B[38;5;124m.\u001B[39m\u001B[38;5;132;01m{\u001B[39;00mckpt_table_entity_name\u001B[38;5;132;01m}\u001B[39;00m\u001B[38;5;124m\"\u001B[39m\n",
       "\u001B[1;32m    184\u001B[0m )\n",
       "\u001B[1;32m    185\u001B[0m endpoint_name \u001B[38;5;241m=\u001B[39m external_monitoring\u001B[38;5;241m.\u001B[39mbuild_endpoint_name(ckpt_table_uc_entity\u001B[38;5;241m.\u001B[39mentity)\n",
       "\u001B[0;32m--> 187\u001B[0m \u001B[38;5;28;01mreturn\u001B[39;00m _get_managed_evals_client()\u001B[38;5;241m.\u001B[39mcreate_monitor(\n",
       "\u001B[1;32m    188\u001B[0m     endpoint_name\u001B[38;5;241m=\u001B[39mendpoint_name,\n",
       "\u001B[1;32m    189\u001B[0m     assessments_config\u001B[38;5;241m=\u001B[39massessments_config,\n",
       "\u001B[1;32m    190\u001B[0m     experiment_id\u001B[38;5;241m=\u001B[39mexperiment\u001B[38;5;241m.\u001B[39mexperiment_id,\n",
       "\u001B[1;32m    191\u001B[0m     monitoring_table\u001B[38;5;241m=\u001B[39mckpt_table_uc_entity\u001B[38;5;241m.\u001B[39mfullname,\n",
       "\u001B[1;32m    192\u001B[0m )\n",
       "\n",
       "File \u001B[0;32m/local_disk0/.ephemeral_nfs/envs/pythonEnv-670064c5-a862-4099-8389-b4d70d9f17e1/lib/python3.11/site-packages/databricks/rag_eval/clients/managedevals/managed_evals_client.py:681\u001B[0m, in \u001B[0;36mManagedEvalsClient.create_monitor\u001B[0;34m(self, endpoint_name, assessments_config, experiment_id, monitoring_table)\u001B[0m\n",
       "\u001B[1;32m    674\u001B[0m \u001B[38;5;28;01mwith\u001B[39;00m \u001B[38;5;28mself\u001B[39m\u001B[38;5;241m.\u001B[39mget_default_request_session(\n",
       "\u001B[1;32m    675\u001B[0m     headers\u001B[38;5;241m=\u001B[39m_get_default_headers()\n",
       "\u001B[1;32m    676\u001B[0m ) \u001B[38;5;28;01mas\u001B[39;00m session:\n",
       "\u001B[1;32m    677\u001B[0m     response \u001B[38;5;241m=\u001B[39m session\u001B[38;5;241m.\u001B[39mpost(\n",
       "\u001B[1;32m    678\u001B[0m         url\u001B[38;5;241m=\u001B[39m\u001B[38;5;28mself\u001B[39m\u001B[38;5;241m.\u001B[39mget_method_url(\u001B[38;5;124mf\u001B[39m\u001B[38;5;124m\"\u001B[39m\u001B[38;5;124m/managed-evals/monitors/\u001B[39m\u001B[38;5;132;01m{\u001B[39;00mendpoint_name\u001B[38;5;132;01m}\u001B[39;00m\u001B[38;5;124m\"\u001B[39m),\n",
       "\u001B[1;32m    679\u001B[0m         json\u001B[38;5;241m=\u001B[39mrequest_body,\n",
       "\u001B[1;32m    680\u001B[0m     )\n",
       "\u001B[0;32m--> 681\u001B[0m raise_for_status(response)\n",
       "\u001B[1;32m    682\u001B[0m monitor_info_rest \u001B[38;5;241m=\u001B[39m rest_entities\u001B[38;5;241m.\u001B[39mMonitorInfo\u001B[38;5;241m.\u001B[39mfrom_dict(\n",
       "\u001B[1;32m    683\u001B[0m     response\u001B[38;5;241m.\u001B[39mjson(), infer_missing\u001B[38;5;241m=\u001B[39m\u001B[38;5;28;01mTrue\u001B[39;00m\n",
       "\u001B[1;32m    684\u001B[0m )\n",
       "\u001B[1;32m    686\u001B[0m \u001B[38;5;28;01mif\u001B[39;00m monitor_info_rest\u001B[38;5;241m.\u001B[39mis_external:\n",
       "\n",
       "File \u001B[0;32m/local_disk0/.ephemeral_nfs/envs/pythonEnv-670064c5-a862-4099-8389-b4d70d9f17e1/lib/python3.11/site-packages/databricks/rag_eval/clients/databricks_api_client.py:116\u001B[0m, in \u001B[0;36mraise_for_status\u001B[0;34m(resp)\u001B[0m\n",
       "\u001B[1;32m    112\u001B[0m \u001B[38;5;28;01melif\u001B[39;00m \u001B[38;5;241m500\u001B[39m \u001B[38;5;241m<\u001B[39m\u001B[38;5;241m=\u001B[39m resp\u001B[38;5;241m.\u001B[39mstatus_code \u001B[38;5;241m<\u001B[39m \u001B[38;5;241m600\u001B[39m:\n",
       "\u001B[1;32m    113\u001B[0m     http_error_msg \u001B[38;5;241m=\u001B[39m (\n",
       "\u001B[1;32m    114\u001B[0m         \u001B[38;5;124mf\u001B[39m\u001B[38;5;124m\"\u001B[39m\u001B[38;5;132;01m{\u001B[39;00mresp\u001B[38;5;241m.\u001B[39mstatus_code\u001B[38;5;132;01m}\u001B[39;00m\u001B[38;5;124m Server Error: \u001B[39m\u001B[38;5;132;01m{\u001B[39;00mresp\u001B[38;5;241m.\u001B[39mreason\u001B[38;5;132;01m}\u001B[39;00m\u001B[38;5;130;01m\\n\u001B[39;00m\u001B[38;5;132;01m{\u001B[39;00mresp\u001B[38;5;241m.\u001B[39mtext\u001B[38;5;132;01m}\u001B[39;00m\u001B[38;5;124m. \u001B[39m\u001B[38;5;124m\"\u001B[39m\n",
       "\u001B[1;32m    115\u001B[0m     )\n",
       "\u001B[0;32m--> 116\u001B[0m \u001B[38;5;28;01mraise\u001B[39;00m requests\u001B[38;5;241m.\u001B[39mHTTPError(http_error_msg, response\u001B[38;5;241m=\u001B[39mresp)\n",
       "\n",
       "\u001B[0;31mHTTPError\u001B[0m: 500 Server Error: Internal Server Error\n",
       "{\"error_code\":\"INTERNAL_ERROR\",\"message\":\"Error [442f4e0b-4c34-4c9b-8f1d-b1c73ee96146]: Unable to create trace archive job for agent monitor_ckpt__Users_isanakamishiro@gmail_com_examples_ml_eb949b.\",\"details\":[{\"@type\":\"type.googleapis.com/google.rpc.RequestInfo\",\"request_id\":\"442f4e0b-4c34-4c9b-8f1d-b1c73ee96146\",\"serving_data\":\"\"}]}. "
      ]
     },
     "metadata": {
      "application/vnd.databricks.v1+output": {
       "addedWidgets": {},
       "arguments": {},
       "datasetInfos": [],
       "jupyterProps": {
        "ename": "HTTPError",
        "evalue": "500 Server Error: Internal Server Error\n{\"error_code\":\"INTERNAL_ERROR\",\"message\":\"Error [442f4e0b-4c34-4c9b-8f1d-b1c73ee96146]: Unable to create trace archive job for agent monitor_ckpt__Users_isanakamishiro@gmail_com_examples_ml_eb949b.\",\"details\":[{\"@type\":\"type.googleapis.com/google.rpc.RequestInfo\",\"request_id\":\"442f4e0b-4c34-4c9b-8f1d-b1c73ee96146\",\"serving_data\":\"\"}]}. "
       },
       "metadata": {
        "errorSummary": "<span class='ansi-red-fg'>HTTPError</span>: 500 Server Error: Internal Server Error\n{\"error_code\":\"INTERNAL_ERROR\",\"message\":\"Error [442f4e0b-4c34-4c9b-8f1d-b1c73ee96146]: Unable to create trace archive job for agent monitor_ckpt__Users_isanakamishiro@gmail_com_examples_ml_eb949b.\",\"details\":[{\"@type\":\"type.googleapis.com/google.rpc.RequestInfo\",\"request_id\":\"442f4e0b-4c34-4c9b-8f1d-b1c73ee96146\",\"serving_data\":\"\"}]}. "
       },
       "removedWidgets": [],
       "sqlProps": null,
       "stackFrames": [
        "\u001B[0;31m---------------------------------------------------------------------------\u001B[0m",
        "\u001B[0;31mHTTPError\u001B[0m                                 Traceback (most recent call last)",
        "File \u001B[0;32m<command-5874206880854678>, line 9\u001B[0m\n\u001B[1;32m      1\u001B[0m \u001B[38;5;66;03m# これらのパッケージは mlflow[databricks] で自動的にインストールされます\u001B[39;00m\n\u001B[1;32m      2\u001B[0m \u001B[38;5;28;01mfrom\u001B[39;00m \u001B[38;5;21;01mdatabricks\u001B[39;00m\u001B[38;5;21;01m.\u001B[39;00m\u001B[38;5;21;01magents\u001B[39;00m\u001B[38;5;21;01m.\u001B[39;00m\u001B[38;5;21;01mmonitoring\u001B[39;00m \u001B[38;5;28;01mimport\u001B[39;00m (\n\u001B[1;32m      3\u001B[0m     create_external_monitor,\n\u001B[1;32m      4\u001B[0m     AssessmentsSuiteConfig,\n\u001B[1;32m      5\u001B[0m     BuiltinJudge,\n\u001B[1;32m      6\u001B[0m     GuidelinesJudge,\n\u001B[1;32m      7\u001B[0m )\n\u001B[0;32m----> 9\u001B[0m external_monitor \u001B[38;5;241m=\u001B[39m create_external_monitor(\n\u001B[1;32m     10\u001B[0m     \u001B[38;5;66;03m# CREATE TABLE 権限のある Unity Catalog スキーマに変更してください\u001B[39;00m\n\u001B[1;32m     11\u001B[0m     catalog_name\u001B[38;5;241m=\u001B[39m\u001B[38;5;124m\"\u001B[39m\u001B[38;5;124mworkspace\u001B[39m\u001B[38;5;124m\"\u001B[39m,\n\u001B[1;32m     12\u001B[0m     schema_name\u001B[38;5;241m=\u001B[39m\u001B[38;5;124m\"\u001B[39m\u001B[38;5;124mdefault\u001B[39m\u001B[38;5;124m\"\u001B[39m,\n\u001B[1;32m     13\u001B[0m     assessments_config\u001B[38;5;241m=\u001B[39mAssessmentsSuiteConfig(\n\u001B[1;32m     14\u001B[0m         sample\u001B[38;5;241m=\u001B[39m\u001B[38;5;241m1.0\u001B[39m,  \u001B[38;5;66;03m# サンプリングレート\u001B[39;00m\n\u001B[1;32m     15\u001B[0m         assessments\u001B[38;5;241m=\u001B[39m[\n\u001B[1;32m     16\u001B[0m             BuiltinJudge(\n\u001B[1;32m     17\u001B[0m                 name\u001B[38;5;241m=\u001B[39m\u001B[38;5;124m\"\u001B[39m\u001B[38;5;124mrelevance_to_query\u001B[39m\u001B[38;5;124m\"\u001B[39m\n\u001B[1;32m     18\u001B[0m             ),  \u001B[38;5;66;03m# または {'name': 'relevance_to_query'}\u001B[39;00m\n\u001B[1;32m     19\u001B[0m             \u001B[38;5;66;03m# ガイドラインはリクエストとレスポンスを参照可能\u001B[39;00m\n\u001B[1;32m     20\u001B[0m             GuidelinesJudge(\n\u001B[1;32m     21\u001B[0m                 guidelines\u001B[38;5;241m=\u001B[39m{\n\u001B[1;32m     22\u001B[0m                     \u001B[38;5;66;03m# 任意の数のガイドラインを key-value で指定可能\u001B[39;00m\n\u001B[1;32m     23\u001B[0m                     \u001B[38;5;124m\"\u001B[39m\u001B[38;5;124mmlflow_only\u001B[39m\u001B[38;5;124m\"\u001B[39m: [\n\u001B[1;32m     24\u001B[0m                         \u001B[38;5;124m\"\u001B[39m\u001B[38;5;124mリクエストがMLflowに関連していない場合、応答は回答を拒否しなければなりません。\u001B[39m\u001B[38;5;124m\"\u001B[39m\n\u001B[1;32m     25\u001B[0m                     ],  \u001B[38;5;66;03m# 配列で指定\u001B[39;00m\n\u001B[1;32m     26\u001B[0m                     \u001B[38;5;124m\"\u001B[39m\u001B[38;5;124mcustomer_service_tone\u001B[39m\u001B[38;5;124m\"\u001B[39m: [\n\u001B[1;32m     27\u001B[0m \u001B[38;5;250m                        \u001B[39m\u001B[38;5;124;03m\"\"\"応答は次のブランドボイスを維持しなければなりません:\u001B[39;00m\n\u001B[1;32m     28\u001B[0m \u001B[38;5;124;03m    - プロフェッショナルでありながら温かく会話的（企業用語を避ける）\u001B[39;00m\n\u001B[1;32m     29\u001B[0m \u001B[38;5;124;03m    - 感情的な文脈を認識し、解決策に飛びつく前に共感を示す\u001B[39;00m\n\u001B[1;32m     30\u001B[0m \u001B[38;5;124;03m    - 押し付けがましくなく積極的に助けを提供する\u001B[39;00m\n\u001B[1;32m     31\u001B[0m \n\u001B[1;32m     32\u001B[0m \u001B[38;5;124;03m    具体的には:\u001B[39;00m\n\u001B[1;32m     33\u001B[0m \u001B[38;5;124;03m    - 顧客がフラストレーション、怒り、失望を表明した場合、最初の文は彼らの感情を認識しなければなりません\u001B[39;00m\n\u001B[1;32m     34\u001B[0m \u001B[38;5;124;03m    - 応答は「私」声明を使用して所有権を取る必要があります（例：「私は理解します」ではなく「私たちは理解します」）\u001B[39;00m\n\u001B[1;32m     35\u001B[0m \u001B[38;5;124;03m    - 応答は「単に」、「ただ」、「明らかに」などの懸念を最小限に抑えるフレーズを避けなければなりません\u001B[39;00m\n\u001B[1;32m     36\u001B[0m \u001B[38;5;124;03m    - 応答は具体的な次のステップまたは助けを提供するオープンエンドの提案で終わらなければなりません、一般的な締めくくりではありません\"\"\"\u001B[39;00m\n\u001B[1;32m     37\u001B[0m                     ],\n\u001B[1;32m     38\u001B[0m                 }\n\u001B[1;32m     39\u001B[0m             ),\n\u001B[1;32m     40\u001B[0m         ],\n\u001B[1;32m     41\u001B[0m     ),\n\u001B[1;32m     42\u001B[0m )\n\u001B[1;32m     44\u001B[0m \u001B[38;5;28mprint\u001B[39m(external_monitor)\n",
        "File \u001B[0;32m/local_disk0/.ephemeral_nfs/envs/pythonEnv-670064c5-a862-4099-8389-b4d70d9f17e1/lib/python3.11/site-packages/databricks/rag_eval/context.py:297\u001B[0m, in \u001B[0;36meval_context.<locals>.wrapper\u001B[0;34m(*args, **kwargs)\u001B[0m\n\u001B[1;32m    295\u001B[0m \u001B[38;5;66;03m# Raise the original error if there was one, otherwise return\u001B[39;00m\n\u001B[1;32m    296\u001B[0m \u001B[38;5;28;01mif\u001B[39;00m error \u001B[38;5;129;01mis\u001B[39;00m \u001B[38;5;129;01mnot\u001B[39;00m \u001B[38;5;28;01mNone\u001B[39;00m:\n\u001B[0;32m--> 297\u001B[0m     \u001B[38;5;28;01mraise\u001B[39;00m error\n\u001B[1;32m    298\u001B[0m \u001B[38;5;28;01melse\u001B[39;00m:\n\u001B[1;32m    299\u001B[0m     \u001B[38;5;28;01mreturn\u001B[39;00m result\n",
        "File \u001B[0;32m/local_disk0/.ephemeral_nfs/envs/pythonEnv-670064c5-a862-4099-8389-b4d70d9f17e1/lib/python3.11/site-packages/databricks/rag_eval/context.py:288\u001B[0m, in \u001B[0;36meval_context.<locals>.wrapper\u001B[0;34m(*args, **kwargs)\u001B[0m\n\u001B[1;32m    285\u001B[0m result \u001B[38;5;241m=\u001B[39m \u001B[38;5;28;01mNone\u001B[39;00m\n\u001B[1;32m    287\u001B[0m \u001B[38;5;28;01mtry\u001B[39;00m:\n\u001B[0;32m--> 288\u001B[0m     result \u001B[38;5;241m=\u001B[39m func(\u001B[38;5;241m*\u001B[39margs, \u001B[38;5;241m*\u001B[39m\u001B[38;5;241m*\u001B[39mkwargs)\n\u001B[1;32m    289\u001B[0m \u001B[38;5;28;01mexcept\u001B[39;00m \u001B[38;5;167;01mException\u001B[39;00m \u001B[38;5;28;01mas\u001B[39;00m e:  \u001B[38;5;66;03m# pylint: disable=broad-except\u001B[39;00m\n\u001B[1;32m    290\u001B[0m     error \u001B[38;5;241m=\u001B[39m e\n",
        "File \u001B[0;32m/local_disk0/.ephemeral_nfs/envs/pythonEnv-670064c5-a862-4099-8389-b4d70d9f17e1/lib/python3.11/site-packages/databricks/rag_eval/monitoring/api.py:220\u001B[0m, in \u001B[0;36mcreate_external_monitor\u001B[0;34m(catalog_name, schema_name, assessments_config, experiment_id, experiment_name)\u001B[0m\n\u001B[1;32m    195\u001B[0m \u001B[38;5;129m@context\u001B[39m\u001B[38;5;241m.\u001B[39meval_context\n\u001B[1;32m    196\u001B[0m \u001B[38;5;28;01mdef\u001B[39;00m \u001B[38;5;21mcreate_external_monitor\u001B[39m(\n\u001B[1;32m    197\u001B[0m     \u001B[38;5;241m*\u001B[39m,\n\u001B[0;32m   (...)\u001B[0m\n\u001B[1;32m    202\u001B[0m     experiment_name: \u001B[38;5;28mstr\u001B[39m \u001B[38;5;241m|\u001B[39m \u001B[38;5;28;01mNone\u001B[39;00m \u001B[38;5;241m=\u001B[39m \u001B[38;5;28;01mNone\u001B[39;00m,\n\u001B[1;32m    203\u001B[0m ) \u001B[38;5;241m-\u001B[39m\u001B[38;5;241m>\u001B[39m entities\u001B[38;5;241m.\u001B[39mExternalMonitor:\n\u001B[1;32m    204\u001B[0m \u001B[38;5;250m    \u001B[39m\u001B[38;5;124;03m\"\"\"Create a monitor for a GenAI application served outside Databricks.\u001B[39;00m\n\u001B[1;32m    205\u001B[0m \n\u001B[1;32m    206\u001B[0m \u001B[38;5;124;03m    Args:\u001B[39;00m\n\u001B[0;32m   (...)\u001B[0m\n\u001B[1;32m    218\u001B[0m \u001B[38;5;124;03m        ExternalMonitor: The created monitor.\u001B[39;00m\n\u001B[1;32m    219\u001B[0m \u001B[38;5;124;03m    \"\"\"\u001B[39;00m\n\u001B[0;32m--> 220\u001B[0m     monitor \u001B[38;5;241m=\u001B[39m _do_create_external_monitor(\n\u001B[1;32m    221\u001B[0m         catalog_name\u001B[38;5;241m=\u001B[39mcatalog_name,\n\u001B[1;32m    222\u001B[0m         schema_name\u001B[38;5;241m=\u001B[39mschema_name,\n\u001B[1;32m    223\u001B[0m         assessments_config\u001B[38;5;241m=\u001B[39massessments_config,\n\u001B[1;32m    224\u001B[0m         experiment_id\u001B[38;5;241m=\u001B[39mexperiment_id,\n\u001B[1;32m    225\u001B[0m         experiment_name\u001B[38;5;241m=\u001B[39mexperiment_name,\n\u001B[1;32m    226\u001B[0m     )\n\u001B[1;32m    228\u001B[0m     \u001B[38;5;28mprint\u001B[39m(\u001B[38;5;124mf\u001B[39m\u001B[38;5;124m'\u001B[39m\u001B[38;5;124mCreated monitor for experiment \u001B[39m\u001B[38;5;124m\"\u001B[39m\u001B[38;5;132;01m{\u001B[39;00mmonitor\u001B[38;5;241m.\u001B[39mexperiment_id\u001B[38;5;132;01m}\u001B[39;00m\u001B[38;5;124m\"\u001B[39m\u001B[38;5;124m.\u001B[39m\u001B[38;5;124m'\u001B[39m)\n\u001B[1;32m    229\u001B[0m     \u001B[38;5;28mprint\u001B[39m(\u001B[38;5;124mf\u001B[39m\u001B[38;5;124m\"\u001B[39m\u001B[38;5;130;01m\\n\u001B[39;00m\u001B[38;5;124mView traces: \u001B[39m\u001B[38;5;132;01m{\u001B[39;00mmonitor\u001B[38;5;241m.\u001B[39mmonitoring_page_url\u001B[38;5;132;01m}\u001B[39;00m\u001B[38;5;124m\"\u001B[39m)\n",
        "File \u001B[0;32m/local_disk0/.ephemeral_nfs/envs/pythonEnv-670064c5-a862-4099-8389-b4d70d9f17e1/lib/python3.11/site-packages/databricks/rag_eval/monitoring/api.py:187\u001B[0m, in \u001B[0;36m_do_create_external_monitor\u001B[0;34m(catalog_name, schema_name, assessments_config, experiment_id, experiment_name)\u001B[0m\n\u001B[1;32m    182\u001B[0m ckpt_table_uc_entity \u001B[38;5;241m=\u001B[39m uc_utils\u001B[38;5;241m.\u001B[39mUnityCatalogEntity\u001B[38;5;241m.\u001B[39mfrom_fullname(\n\u001B[1;32m    183\u001B[0m     \u001B[38;5;124mf\u001B[39m\u001B[38;5;124m\"\u001B[39m\u001B[38;5;132;01m{\u001B[39;00mcatalog_name\u001B[38;5;132;01m}\u001B[39;00m\u001B[38;5;124m.\u001B[39m\u001B[38;5;132;01m{\u001B[39;00mschema_name\u001B[38;5;132;01m}\u001B[39;00m\u001B[38;5;124m.\u001B[39m\u001B[38;5;132;01m{\u001B[39;00mckpt_table_entity_name\u001B[38;5;132;01m}\u001B[39;00m\u001B[38;5;124m\"\u001B[39m\n\u001B[1;32m    184\u001B[0m )\n\u001B[1;32m    185\u001B[0m endpoint_name \u001B[38;5;241m=\u001B[39m external_monitoring\u001B[38;5;241m.\u001B[39mbuild_endpoint_name(ckpt_table_uc_entity\u001B[38;5;241m.\u001B[39mentity)\n\u001B[0;32m--> 187\u001B[0m \u001B[38;5;28;01mreturn\u001B[39;00m _get_managed_evals_client()\u001B[38;5;241m.\u001B[39mcreate_monitor(\n\u001B[1;32m    188\u001B[0m     endpoint_name\u001B[38;5;241m=\u001B[39mendpoint_name,\n\u001B[1;32m    189\u001B[0m     assessments_config\u001B[38;5;241m=\u001B[39massessments_config,\n\u001B[1;32m    190\u001B[0m     experiment_id\u001B[38;5;241m=\u001B[39mexperiment\u001B[38;5;241m.\u001B[39mexperiment_id,\n\u001B[1;32m    191\u001B[0m     monitoring_table\u001B[38;5;241m=\u001B[39mckpt_table_uc_entity\u001B[38;5;241m.\u001B[39mfullname,\n\u001B[1;32m    192\u001B[0m )\n",
        "File \u001B[0;32m/local_disk0/.ephemeral_nfs/envs/pythonEnv-670064c5-a862-4099-8389-b4d70d9f17e1/lib/python3.11/site-packages/databricks/rag_eval/clients/managedevals/managed_evals_client.py:681\u001B[0m, in \u001B[0;36mManagedEvalsClient.create_monitor\u001B[0;34m(self, endpoint_name, assessments_config, experiment_id, monitoring_table)\u001B[0m\n\u001B[1;32m    674\u001B[0m \u001B[38;5;28;01mwith\u001B[39;00m \u001B[38;5;28mself\u001B[39m\u001B[38;5;241m.\u001B[39mget_default_request_session(\n\u001B[1;32m    675\u001B[0m     headers\u001B[38;5;241m=\u001B[39m_get_default_headers()\n\u001B[1;32m    676\u001B[0m ) \u001B[38;5;28;01mas\u001B[39;00m session:\n\u001B[1;32m    677\u001B[0m     response \u001B[38;5;241m=\u001B[39m session\u001B[38;5;241m.\u001B[39mpost(\n\u001B[1;32m    678\u001B[0m         url\u001B[38;5;241m=\u001B[39m\u001B[38;5;28mself\u001B[39m\u001B[38;5;241m.\u001B[39mget_method_url(\u001B[38;5;124mf\u001B[39m\u001B[38;5;124m\"\u001B[39m\u001B[38;5;124m/managed-evals/monitors/\u001B[39m\u001B[38;5;132;01m{\u001B[39;00mendpoint_name\u001B[38;5;132;01m}\u001B[39;00m\u001B[38;5;124m\"\u001B[39m),\n\u001B[1;32m    679\u001B[0m         json\u001B[38;5;241m=\u001B[39mrequest_body,\n\u001B[1;32m    680\u001B[0m     )\n\u001B[0;32m--> 681\u001B[0m raise_for_status(response)\n\u001B[1;32m    682\u001B[0m monitor_info_rest \u001B[38;5;241m=\u001B[39m rest_entities\u001B[38;5;241m.\u001B[39mMonitorInfo\u001B[38;5;241m.\u001B[39mfrom_dict(\n\u001B[1;32m    683\u001B[0m     response\u001B[38;5;241m.\u001B[39mjson(), infer_missing\u001B[38;5;241m=\u001B[39m\u001B[38;5;28;01mTrue\u001B[39;00m\n\u001B[1;32m    684\u001B[0m )\n\u001B[1;32m    686\u001B[0m \u001B[38;5;28;01mif\u001B[39;00m monitor_info_rest\u001B[38;5;241m.\u001B[39mis_external:\n",
        "File \u001B[0;32m/local_disk0/.ephemeral_nfs/envs/pythonEnv-670064c5-a862-4099-8389-b4d70d9f17e1/lib/python3.11/site-packages/databricks/rag_eval/clients/databricks_api_client.py:116\u001B[0m, in \u001B[0;36mraise_for_status\u001B[0;34m(resp)\u001B[0m\n\u001B[1;32m    112\u001B[0m \u001B[38;5;28;01melif\u001B[39;00m \u001B[38;5;241m500\u001B[39m \u001B[38;5;241m<\u001B[39m\u001B[38;5;241m=\u001B[39m resp\u001B[38;5;241m.\u001B[39mstatus_code \u001B[38;5;241m<\u001B[39m \u001B[38;5;241m600\u001B[39m:\n\u001B[1;32m    113\u001B[0m     http_error_msg \u001B[38;5;241m=\u001B[39m (\n\u001B[1;32m    114\u001B[0m         \u001B[38;5;124mf\u001B[39m\u001B[38;5;124m\"\u001B[39m\u001B[38;5;132;01m{\u001B[39;00mresp\u001B[38;5;241m.\u001B[39mstatus_code\u001B[38;5;132;01m}\u001B[39;00m\u001B[38;5;124m Server Error: \u001B[39m\u001B[38;5;132;01m{\u001B[39;00mresp\u001B[38;5;241m.\u001B[39mreason\u001B[38;5;132;01m}\u001B[39;00m\u001B[38;5;130;01m\\n\u001B[39;00m\u001B[38;5;132;01m{\u001B[39;00mresp\u001B[38;5;241m.\u001B[39mtext\u001B[38;5;132;01m}\u001B[39;00m\u001B[38;5;124m. \u001B[39m\u001B[38;5;124m\"\u001B[39m\n\u001B[1;32m    115\u001B[0m     )\n\u001B[0;32m--> 116\u001B[0m \u001B[38;5;28;01mraise\u001B[39;00m requests\u001B[38;5;241m.\u001B[39mHTTPError(http_error_msg, response\u001B[38;5;241m=\u001B[39mresp)\n",
        "\u001B[0;31mHTTPError\u001B[0m: 500 Server Error: Internal Server Error\n{\"error_code\":\"INTERNAL_ERROR\",\"message\":\"Error [442f4e0b-4c34-4c9b-8f1d-b1c73ee96146]: Unable to create trace archive job for agent monitor_ckpt__Users_isanakamishiro@gmail_com_examples_ml_eb949b.\",\"details\":[{\"@type\":\"type.googleapis.com/google.rpc.RequestInfo\",\"request_id\":\"442f4e0b-4c34-4c9b-8f1d-b1c73ee96146\",\"serving_data\":\"\"}]}. "
       ],
       "type": "baseError"
      }
     },
     "output_type": "display_data"
    }
   ],
   "source": [
    "# これらのパッケージは mlflow[databricks] で自動的にインストールされます\n",
    "from databricks.agents.monitoring import (\n",
    "    create_external_monitor,\n",
    "    AssessmentsSuiteConfig,\n",
    "    BuiltinJudge,\n",
    "    GuidelinesJudge,\n",
    ")\n",
    "\n",
    "external_monitor = create_external_monitor(\n",
    "    # CREATE TABLE 権限のある Unity Catalog スキーマに変更してください\n",
    "    catalog_name=\"workspace\",\n",
    "    schema_name=\"default\",\n",
    "    assessments_config=AssessmentsSuiteConfig(\n",
    "        sample=1.0,  # サンプリングレート\n",
    "        assessments=[\n",
    "            BuiltinJudge(\n",
    "                name=\"relevance_to_query\"\n",
    "            ),  # または {'name': 'relevance_to_query'}\n",
    "            # ガイドラインはリクエストとレスポンスを参照可能\n",
    "            GuidelinesJudge(\n",
    "                guidelines={\n",
    "                    # 任意の数のガイドラインを key-value で指定可能\n",
    "                    \"mlflow_only\": [\n",
    "                        \"リクエストがMLflowに関連していない場合、応答は回答を拒否しなければなりません。\"\n",
    "                    ],  # 配列で指定\n",
    "                    \"customer_service_tone\": [\n",
    "                        \"\"\"応答は次のブランドボイスを維持しなければなりません:\n",
    "    - プロフェッショナルでありながら温かく会話的（企業用語を避ける）\n",
    "    - 感情的な文脈を認識し、解決策に飛びつく前に共感を示す\n",
    "    - 押し付けがましくなく積極的に助けを提供する\n",
    "\n",
    "    具体的には:\n",
    "    - 顧客がフラストレーション、怒り、失望を表明した場合、最初の文は彼らの感情を認識しなければなりません\n",
    "    - 応答は「私」声明を使用して所有権を取る必要があります（例：「私は理解します」ではなく「私たちは理解します」）\n",
    "    - 応答は「単に」、「ただ」、「明らかに」などの懸念を最小限に抑えるフレーズを避けなければなりません\n",
    "    - 応答は具体的な次のステップまたは助けを提供するオープンエンドの提案で終わらなければなりません、一般的な締めくくりではありません\"\"\"\n",
    "                    ],\n",
    "                }\n",
    "            ),\n",
    "        ],\n",
    "    ),\n",
    ")\n",
    "\n",
    "print(external_monitor)"
   ]
  },
  {
   "cell_type": "markdown",
   "metadata": {
    "application/vnd.databricks.v1+cell": {
     "cellMetadata": {},
     "inputWidgets": {},
     "nuid": "8f4d0b09-dc32-44ee-bfaa-575a99f8aabc",
     "showTitle": false,
     "tableResultSettingsMap": {},
     "title": ""
    }
   },
   "source": [
    "\n",
    "# ステップ4.モニタリング結果の使用\n",
    "モニタリング ジョブを初めて実行するには、~15 分から 30 分かかります。 最初の実行後、15 分ごとに実行されます。 本番運用のトラフィックが大量にある場合、ジョブの完了にさらに時間がかかる可能性があることに注意してください。\n",
    "\n",
    "ジョブが実行されるたびに、次のことが行われます。\n",
    "\n",
    "トレースのサンプルに対して各スコアラーを実行します\n",
    "\n",
    "スコアラーごとにサンプリングレートが異なる場合、モニタリングジョブは、同じトレースをできるだけ多くスコアリングしようとします。たとえば、スコアラー A のサンプリング レートが 20%で、スコアラー B のサンプリング レートが 40% の場合、トレースの同じ 20% が A と B に使用されます。\n",
    "スコアラーからの フィードバック を MLflow エクスペリメントの各トレースに添付します\n",
    "\n",
    "すべてのトレース (サンプリングされたトレースだけでなく) のコピーを、手順 1 で構成された Delta テーブルに書き込みます。\n",
    "\n",
    "モニタリング結果は、 MLflow エクスペリメントのTraceタブを使用して表示できます。または、生成された Delta テーブルで SQL または Spark を使用してトレースのクエリを実行することもできます。"
   ]
  },
  {
   "cell_type": "code",
   "execution_count": 0,
   "metadata": {
    "application/vnd.databricks.v1+cell": {
     "cellMetadata": {
      "byteLimit": 2048000,
      "rowLimit": 10000
     },
     "inputWidgets": {},
     "nuid": "b8e9b7ae-7386-4b1f-a8df-f74bf2446dd1",
     "showTitle": false,
     "tableResultSettingsMap": {},
     "title": ""
    }
   },
   "outputs": [
    {
     "output_type": "execute_result",
     "data": {
      "text/plain": [
       "{'explanation': 'MLflowにおけるLLM Evaluationの機能について、以下の点が解説できます。\\n\\n*   LLMとは、大規模言語モデル（Large Language Model）の略称です。\\n*   LLM Evaluationは、機械学習モデル、特にLLMの性能を評価するための機能です。\\n*   この機能を利用することで、開発者はモデルをトレーニングした後、その性能を客観的に評価できます。\\n*   評価には、精度、再現率、F1スコアなどのメトリックが用いられます。\\n*   これらのメトリックは、モデルがデータを正しく予測・分類する能力を示します。\\n*   LLM Evaluationは、モデル開発の重要なステップであり、開発者がモデルを改善し、最適なパフォーマンスを実現するのに役立ちます。'}"
      ]
     },
     "execution_count": 32,
     "metadata": {},
     "output_type": "execute_result"
    },
    {
     "output_type": "display_data",
     "data": {
      "application/databricks.mlflow.trace": "[\"tr-659451e46cef6b93d6bfd6c60a3cab42\", \"tr-77df998c39304b8020f4684a636ae13a\", \"tr-d73d33f59da306032b787189eacd805c\", \"tr-4974ace0af12050ebbf697a4c717c67e\", \"tr-028b0705090540bae8d21966687c65d2\"]",
      "text/plain": [
       "[Trace(trace_id=tr-659451e46cef6b93d6bfd6c60a3cab42), Trace(trace_id=tr-77df998c39304b8020f4684a636ae13a), Trace(trace_id=tr-d73d33f59da306032b787189eacd805c), Trace(trace_id=tr-4974ace0af12050ebbf697a4c717c67e), Trace(trace_id=tr-028b0705090540bae8d21966687c65d2)]"
      ]
     },
     "metadata": {},
     "output_type": "display_data"
    }
   ],
   "source": [
    "# 追加のトレースを作成する\n",
    "generate_feature_explanation(\"MLflow\", \"PromptRegistry\")\n",
    "generate_feature_explanation(\"python\", \"Pandas\")\n",
    "generate_feature_explanation(\"python\", \"numpy\")\n",
    "generate_feature_explanation(\"Databricks\", \"Model Serving\")\n",
    "generate_feature_explanation(\"MLflow\", \"LLM Evaluation\")\n"
   ]
  }
 ],
 "metadata": {
  "application/vnd.databricks.v1+notebook": {
   "computePreferences": null,
   "dashboards": [],
   "environmentMetadata": {
    "base_environment": "",
    "environment_version": "2"
   },
   "inputWidgetPreferences": null,
   "language": "python",
   "notebookMetadata": {
    "pythonIndentUnit": 4
   },
   "notebookName": "007_モニタリング",
   "widgets": {}
  },
  "language_info": {
   "name": "python"
  }
 },
 "nbformat": 4,
 "nbformat_minor": 0
}
