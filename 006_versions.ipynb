{
 "cells": [
  {
   "cell_type": "markdown",
   "metadata": {
    "application/vnd.databricks.v1+cell": {
     "cellMetadata": {},
     "inputWidgets": {},
     "nuid": "bc266db7-3276-4ee2-8ab9-d2719909b5ae",
     "showTitle": false,
     "tableResultSettingsMap": {},
     "title": ""
    }
   },
   "source": [
    "# MLflow を使用して Git ベースのアプリケーションのバージョンを追跡する\n",
    "\n",
    "https://docs.databricks.com/aws/ja/mlflow3/genai/prompt-version-mgmt/version-tracking/track-application-versions-with-mlflow"
   ]
  },
  {
   "cell_type": "markdown",
   "metadata": {
    "application/vnd.databricks.v1+cell": {
     "cellMetadata": {},
     "inputWidgets": {},
     "nuid": "424c4703-4999-4281-a1af-b25cfa864b29",
     "showTitle": false,
     "tableResultSettingsMap": {},
     "title": ""
    }
   },
   "source": [
    "**LoggedModel** は、Experiment 内で AI モデル、エージェント、または GenAI アプリケーションを表すファーストクラスのエンティティです。開発ライフサイクル全体を通じて、モデルアーティファクト、実行トレース、評価指標、メタデータの統合トラッキングを提供します。"
   ]
  },
  {
   "cell_type": "markdown",
   "metadata": {
    "application/vnd.databricks.v1+cell": {
     "cellMetadata": {},
     "inputWidgets": {},
     "nuid": "722d0bfb-65e5-4437-8ef6-298ce3cc657d",
     "showTitle": false,
     "tableResultSettingsMap": {},
     "title": ""
    }
   },
   "source": [
    "## LoggedModel の主な機能\n",
    "LoggedModel は次のものを接続する中心的なハブとして機能します:\n",
    "\n",
    "- **モデルアーティファクト** と構成パラメータ\n",
    "- 開発および本番環境からの **実行トレース**\n",
    "- **評価指標** とパフォーマンス評価\n",
    "- **バージョン履歴** とデプロイ追跡"
   ]
  },
  {
   "cell_type": "markdown",
   "metadata": {
    "application/vnd.databricks.v1+cell": {
     "cellMetadata": {},
     "inputWidgets": {},
     "nuid": "8026fb07-e8fc-4cae-beb3-5f7eee883a6b",
     "showTitle": false,
     "tableResultSettingsMap": {},
     "title": ""
    }
   },
   "source": [
    "\n",
    "## LoggedModel の利点\n",
    "**統合トラッキング:** すべてのモデル関連アーティファクト、トレース、メトリクスが単一のエンティティの下に整理され、モデルの挙動とパフォーマンスを完全に可視化できます。\n",
    "\n",
    "**自動トレースリンク:** アクティブモデルパターンを使用すると、すべての実行トレースが自動的に LoggedModel に関連付けられ、手動での追跡作業が不要になります。\n",
    "\n",
    "**バージョン管理:** LoggedModel は、異なるモデル反復間での体系的なバージョン管理と比較をサポートし、データ駆動型のモデル選択を可能にします。\n",
    "\n",
    "**評価統合:** 評価指標や結果が直接 LoggedModel にリンクされ、包括的なパフォーマンス評価が可能です。"
   ]
  },
  {
   "cell_type": "code",
   "execution_count": 0,
   "metadata": {
    "application/vnd.databricks.v1+cell": {
     "cellMetadata": {
      "byteLimit": 2048000,
      "rowLimit": 10000
     },
     "inputWidgets": {},
     "nuid": "64e66503-f050-47ca-80f9-b19c619d3128",
     "showTitle": false,
     "tableResultSettingsMap": {},
     "title": ""
    }
   },
   "outputs": [
    {
     "output_type": "stream",
     "name": "stdout",
     "output_type": "stream",
     "text": [
      "Requirement already satisfied: mlflow>=3.1.0 in /local_disk0/.ephemeral_nfs/envs/pythonEnv-5f7feb9d-3c00-4c6d-8cab-cad6e83aabcd/lib/python3.11/site-packages (from mlflow[databricks]>=3.1.0) (3.1.1)\nRequirement already satisfied: openai in /local_disk0/.ephemeral_nfs/envs/pythonEnv-5f7feb9d-3c00-4c6d-8cab-cad6e83aabcd/lib/python3.11/site-packages (1.93.0)\nRequirement already satisfied: mlflow-skinny==3.1.1 in /local_disk0/.ephemeral_nfs/envs/pythonEnv-5f7feb9d-3c00-4c6d-8cab-cad6e83aabcd/lib/python3.11/site-packages (from mlflow>=3.1.0->mlflow[databricks]>=3.1.0) (3.1.1)\nRequirement already satisfied: Flask<4 in /local_disk0/.ephemeral_nfs/envs/pythonEnv-5f7feb9d-3c00-4c6d-8cab-cad6e83aabcd/lib/python3.11/site-packages (from mlflow>=3.1.0->mlflow[databricks]>=3.1.0) (3.1.1)\nRequirement already satisfied: alembic!=1.10.0,<2 in /local_disk0/.ephemeral_nfs/envs/pythonEnv-5f7feb9d-3c00-4c6d-8cab-cad6e83aabcd/lib/python3.11/site-packages (from mlflow>=3.1.0->mlflow[databricks]>=3.1.0) (1.16.2)\nRequirement already satisfied: docker<8,>=4.0.0 in /local_disk0/.ephemeral_nfs/envs/pythonEnv-5f7feb9d-3c00-4c6d-8cab-cad6e83aabcd/lib/python3.11/site-packages (from mlflow>=3.1.0->mlflow[databricks]>=3.1.0) (7.1.0)\nRequirement already satisfied: graphene<4 in /local_disk0/.ephemeral_nfs/envs/pythonEnv-5f7feb9d-3c00-4c6d-8cab-cad6e83aabcd/lib/python3.11/site-packages (from mlflow>=3.1.0->mlflow[databricks]>=3.1.0) (3.4.3)\nRequirement already satisfied: gunicorn<24 in /local_disk0/.ephemeral_nfs/envs/pythonEnv-5f7feb9d-3c00-4c6d-8cab-cad6e83aabcd/lib/python3.11/site-packages (from mlflow>=3.1.0->mlflow[databricks]>=3.1.0) (23.0.0)\nRequirement already satisfied: matplotlib<4 in /databricks/python3/lib/python3.11/site-packages (from mlflow>=3.1.0->mlflow[databricks]>=3.1.0) (3.7.2)\nRequirement already satisfied: numpy<3 in /databricks/python3/lib/python3.11/site-packages (from mlflow>=3.1.0->mlflow[databricks]>=3.1.0) (1.23.5)\nRequirement already satisfied: pandas<3 in /databricks/python3/lib/python3.11/site-packages (from mlflow>=3.1.0->mlflow[databricks]>=3.1.0) (1.5.3)\nRequirement already satisfied: pyarrow<21,>=4.0.0 in /databricks/python3/lib/python3.11/site-packages (from mlflow>=3.1.0->mlflow[databricks]>=3.1.0) (14.0.1)\nRequirement already satisfied: scikit-learn<2 in /databricks/python3/lib/python3.11/site-packages (from mlflow>=3.1.0->mlflow[databricks]>=3.1.0) (1.3.0)\nRequirement already satisfied: scipy<2 in /databricks/python3/lib/python3.11/site-packages (from mlflow>=3.1.0->mlflow[databricks]>=3.1.0) (1.11.1)\nRequirement already satisfied: sqlalchemy<3,>=1.4.0 in /local_disk0/.ephemeral_nfs/envs/pythonEnv-5f7feb9d-3c00-4c6d-8cab-cad6e83aabcd/lib/python3.11/site-packages (from mlflow>=3.1.0->mlflow[databricks]>=3.1.0) (2.0.41)\nRequirement already satisfied: cachetools<7,>=5.0.0 in /databricks/python3/lib/python3.11/site-packages (from mlflow-skinny==3.1.1->mlflow>=3.1.0->mlflow[databricks]>=3.1.0) (5.5.0)\nRequirement already satisfied: click<9,>=7.0 in /local_disk0/.ephemeral_nfs/envs/pythonEnv-5f7feb9d-3c00-4c6d-8cab-cad6e83aabcd/lib/python3.11/site-packages (from mlflow-skinny==3.1.1->mlflow>=3.1.0->mlflow[databricks]>=3.1.0) (8.2.1)\nRequirement already satisfied: cloudpickle<4 in /databricks/python3/lib/python3.11/site-packages (from mlflow-skinny==3.1.1->mlflow>=3.1.0->mlflow[databricks]>=3.1.0) (3.0.0)\nRequirement already satisfied: databricks-sdk<1,>=0.20.0 in /local_disk0/.ephemeral_nfs/envs/pythonEnv-5f7feb9d-3c00-4c6d-8cab-cad6e83aabcd/lib/python3.11/site-packages (from mlflow-skinny==3.1.1->mlflow>=3.1.0->mlflow[databricks]>=3.1.0) (0.55.0)\nRequirement already satisfied: fastapi<1 in /local_disk0/.ephemeral_nfs/envs/pythonEnv-5f7feb9d-3c00-4c6d-8cab-cad6e83aabcd/lib/python3.11/site-packages (from mlflow-skinny==3.1.1->mlflow>=3.1.0->mlflow[databricks]>=3.1.0) (0.115.13)\nRequirement already satisfied: gitpython<4,>=3.1.9 in /databricks/python3/lib/python3.11/site-packages (from mlflow-skinny==3.1.1->mlflow>=3.1.0->mlflow[databricks]>=3.1.0) (3.1.43)\nRequirement already satisfied: importlib_metadata!=4.7.0,<9,>=3.7.0 in /databricks/python3/lib/python3.11/site-packages (from mlflow-skinny==3.1.1->mlflow>=3.1.0->mlflow[databricks]>=3.1.0) (6.0.0)\nRequirement already satisfied: opentelemetry-api<3,>=1.9.0 in /local_disk0/.ephemeral_nfs/envs/pythonEnv-5f7feb9d-3c00-4c6d-8cab-cad6e83aabcd/lib/python3.11/site-packages (from mlflow-skinny==3.1.1->mlflow>=3.1.0->mlflow[databricks]>=3.1.0) (1.34.1)\nRequirement already satisfied: opentelemetry-sdk<3,>=1.9.0 in /local_disk0/.ephemeral_nfs/envs/pythonEnv-5f7feb9d-3c00-4c6d-8cab-cad6e83aabcd/lib/python3.11/site-packages (from mlflow-skinny==3.1.1->mlflow>=3.1.0->mlflow[databricks]>=3.1.0) (1.34.1)\nRequirement already satisfied: packaging<26 in /databricks/python3/lib/python3.11/site-packages (from mlflow-skinny==3.1.1->mlflow>=3.1.0->mlflow[databricks]>=3.1.0) (23.2)\nRequirement already satisfied: protobuf<7,>=3.12.0 in /local_disk0/.ephemeral_nfs/envs/pythonEnv-5f7feb9d-3c00-4c6d-8cab-cad6e83aabcd/lib/python3.11/site-packages (from mlflow-skinny==3.1.1->mlflow>=3.1.0->mlflow[databricks]>=3.1.0) (4.25.8)\nRequirement already satisfied: pydantic<3,>=1.10.8 in /local_disk0/.ephemeral_nfs/envs/pythonEnv-5f7feb9d-3c00-4c6d-8cab-cad6e83aabcd/lib/python3.11/site-packages (from mlflow-skinny==3.1.1->mlflow>=3.1.0->mlflow[databricks]>=3.1.0) (2.11.7)\nRequirement already satisfied: pyyaml<7,>=5.1 in /databricks/python3/lib/python3.11/site-packages (from mlflow-skinny==3.1.1->mlflow>=3.1.0->mlflow[databricks]>=3.1.0) (6.0)\nRequirement already satisfied: requests<3,>=2.17.3 in /databricks/python3/lib/python3.11/site-packages (from mlflow-skinny==3.1.1->mlflow>=3.1.0->mlflow[databricks]>=3.1.0) (2.31.0)\nRequirement already satisfied: sqlparse<1,>=0.4.0 in /databricks/python3/lib/python3.11/site-packages (from mlflow-skinny==3.1.1->mlflow>=3.1.0->mlflow[databricks]>=3.1.0) (0.5.1)\nRequirement already satisfied: typing-extensions<5,>=4.0.0 in /local_disk0/.ephemeral_nfs/envs/pythonEnv-5f7feb9d-3c00-4c6d-8cab-cad6e83aabcd/lib/python3.11/site-packages (from mlflow-skinny==3.1.1->mlflow>=3.1.0->mlflow[databricks]>=3.1.0) (4.14.0)\nRequirement already satisfied: uvicorn<1 in /local_disk0/.ephemeral_nfs/envs/pythonEnv-5f7feb9d-3c00-4c6d-8cab-cad6e83aabcd/lib/python3.11/site-packages (from mlflow-skinny==3.1.1->mlflow>=3.1.0->mlflow[databricks]>=3.1.0) (0.34.3)\nRequirement already satisfied: anyio<5,>=3.5.0 in /local_disk0/.ephemeral_nfs/envs/pythonEnv-5f7feb9d-3c00-4c6d-8cab-cad6e83aabcd/lib/python3.11/site-packages (from openai) (4.9.0)\nRequirement already satisfied: distro<2,>=1.7.0 in /usr/lib/python3/dist-packages (from openai) (1.7.0)\nRequirement already satisfied: httpx<1,>=0.23.0 in /local_disk0/.ephemeral_nfs/envs/pythonEnv-5f7feb9d-3c00-4c6d-8cab-cad6e83aabcd/lib/python3.11/site-packages (from openai) (0.28.1)\nRequirement already satisfied: jiter<1,>=0.4.0 in /local_disk0/.ephemeral_nfs/envs/pythonEnv-5f7feb9d-3c00-4c6d-8cab-cad6e83aabcd/lib/python3.11/site-packages (from openai) (0.10.0)\nRequirement already satisfied: sniffio in /local_disk0/.ephemeral_nfs/envs/pythonEnv-5f7feb9d-3c00-4c6d-8cab-cad6e83aabcd/lib/python3.11/site-packages (from openai) (1.3.1)\nRequirement already satisfied: tqdm>4 in /local_disk0/.ephemeral_nfs/envs/pythonEnv-5f7feb9d-3c00-4c6d-8cab-cad6e83aabcd/lib/python3.11/site-packages (from openai) (4.67.1)\nRequirement already satisfied: azure-storage-file-datalake>12 in /databricks/python3/lib/python3.11/site-packages (from mlflow[databricks]>=3.1.0) (12.14.0)\nRequirement already satisfied: google-cloud-storage>=1.30.0 in /databricks/python3/lib/python3.11/site-packages (from mlflow[databricks]>=3.1.0) (2.18.2)\nRequirement already satisfied: boto3>1 in /databricks/python3/lib/python3.11/site-packages (from mlflow[databricks]>=3.1.0) (1.34.39)\nRequirement already satisfied: botocore in /databricks/python3/lib/python3.11/site-packages (from mlflow[databricks]>=3.1.0) (1.34.39)\nRequirement already satisfied: databricks-agents<2.0,>=1.0.0 in /local_disk0/.ephemeral_nfs/envs/pythonEnv-5f7feb9d-3c00-4c6d-8cab-cad6e83aabcd/lib/python3.11/site-packages (from mlflow[databricks]>=3.1.0) (1.1.0)\nRequirement already satisfied: Mako in /local_disk0/.ephemeral_nfs/envs/pythonEnv-5f7feb9d-3c00-4c6d-8cab-cad6e83aabcd/lib/python3.11/site-packages (from alembic!=1.10.0,<2->mlflow>=3.1.0->mlflow[databricks]>=3.1.0) (1.3.10)\nRequirement already satisfied: idna>=2.8 in /databricks/python3/lib/python3.11/site-packages (from anyio<5,>=3.5.0->openai) (3.4)\nRequirement already satisfied: azure-core<2.0.0,>=1.28.0 in /databricks/python3/lib/python3.11/site-packages (from azure-storage-file-datalake>12->mlflow[databricks]>=3.1.0) (1.32.0)\nRequirement already satisfied: azure-storage-blob<13.0.0,>=12.19.0 in /databricks/python3/lib/python3.11/site-packages (from azure-storage-file-datalake>12->mlflow[databricks]>=3.1.0) (12.19.1)\nRequirement already satisfied: isodate>=0.6.1 in /databricks/python3/lib/python3.11/site-packages (from azure-storage-file-datalake>12->mlflow[databricks]>=3.1.0) (0.7.2)\nRequirement already satisfied: jmespath<2.0.0,>=0.7.1 in /databricks/python3/lib/python3.11/site-packages (from boto3>1->mlflow[databricks]>=3.1.0) (0.10.0)\nRequirement already satisfied: s3transfer<0.11.0,>=0.10.0 in /databricks/python3/lib/python3.11/site-packages (from boto3>1->mlflow[databricks]>=3.1.0) (0.10.3)\nRequirement already satisfied: python-dateutil<3.0.0,>=2.1 in /databricks/python3/lib/python3.11/site-packages (from botocore->mlflow[databricks]>=3.1.0) (2.8.2)\nRequirement already satisfied: urllib3<2.1,>=1.25.4 in /local_disk0/.ephemeral_nfs/envs/pythonEnv-5f7feb9d-3c00-4c6d-8cab-cad6e83aabcd/lib/python3.11/site-packages (from botocore->mlflow[databricks]>=3.1.0) (2.0.7)\nRequirement already satisfied: databricks-connect in /databricks/python3/lib/python3.11/site-packages (from databricks-agents<2.0,>=1.0.0->mlflow[databricks]>=3.1.0) (15.4.5)\nRequirement already satisfied: dataclasses-json in /local_disk0/.ephemeral_nfs/envs/pythonEnv-5f7feb9d-3c00-4c6d-8cab-cad6e83aabcd/lib/python3.11/site-packages (from databricks-agents<2.0,>=1.0.0->mlflow[databricks]>=3.1.0) (0.6.7)\nRequirement already satisfied: jinja2>=3.0.0 in /local_disk0/.ephemeral_nfs/envs/pythonEnv-5f7feb9d-3c00-4c6d-8cab-cad6e83aabcd/lib/python3.11/site-packages (from databricks-agents<2.0,>=1.0.0->mlflow[databricks]>=3.1.0) (3.1.6)\nRequirement already satisfied: tenacity>=8.5 in /local_disk0/.ephemeral_nfs/envs/pythonEnv-5f7feb9d-3c00-4c6d-8cab-cad6e83aabcd/lib/python3.11/site-packages (from databricks-agents<2.0,>=1.0.0->mlflow[databricks]>=3.1.0) (9.1.2)\nRequirement already satisfied: tiktoken>=0.8.0 in /local_disk0/.ephemeral_nfs/envs/pythonEnv-5f7feb9d-3c00-4c6d-8cab-cad6e83aabcd/lib/python3.11/site-packages (from databricks-agents<2.0,>=1.0.0->mlflow[databricks]>=3.1.0) (0.9.0)\nRequirement already satisfied: blinker>=1.9.0 in /local_disk0/.ephemeral_nfs/envs/pythonEnv-5f7feb9d-3c00-4c6d-8cab-cad6e83aabcd/lib/python3.11/site-packages (from Flask<4->mlflow>=3.1.0->mlflow[databricks]>=3.1.0) (1.9.0)\nRequirement already satisfied: itsdangerous>=2.2.0 in /local_disk0/.ephemeral_nfs/envs/pythonEnv-5f7feb9d-3c00-4c6d-8cab-cad6e83aabcd/lib/python3.11/site-packages (from Flask<4->mlflow>=3.1.0->mlflow[databricks]>=3.1.0) (2.2.0)\nRequirement already satisfied: markupsafe>=2.1.1 in /local_disk0/.ephemeral_nfs/envs/pythonEnv-5f7feb9d-3c00-4c6d-8cab-cad6e83aabcd/lib/python3.11/site-packages (from Flask<4->mlflow>=3.1.0->mlflow[databricks]>=3.1.0) (3.0.2)\nRequirement already satisfied: werkzeug>=3.1.0 in /local_disk0/.ephemeral_nfs/envs/pythonEnv-5f7feb9d-3c00-4c6d-8cab-cad6e83aabcd/lib/python3.11/site-packages (from Flask<4->mlflow>=3.1.0->mlflow[databricks]>=3.1.0) (3.1.3)\nRequirement already satisfied: google-auth<3.0dev,>=2.26.1 in /databricks/python3/lib/python3.11/site-packages (from google-cloud-storage>=1.30.0->mlflow[databricks]>=3.1.0) (2.35.0)\nRequirement already satisfied: google-api-core<3.0.0dev,>=2.15.0 in /databricks/python3/lib/python3.11/site-packages (from google-cloud-storage>=1.30.0->mlflow[databricks]>=3.1.0) (2.18.0)\nRequirement already satisfied: google-cloud-core<3.0dev,>=2.3.0 in /databricks/python3/lib/python3.11/site-packages (from google-cloud-storage>=1.30.0->mlflow[databricks]>=3.1.0) (2.4.1)\nRequirement already satisfied: google-resumable-media>=2.7.2 in /databricks/python3/lib/python3.11/site-packages (from google-cloud-storage>=1.30.0->mlflow[databricks]>=3.1.0) (2.7.2)\nRequirement already satisfied: google-crc32c<2.0dev,>=1.0 in /databricks/python3/lib/python3.11/site-packages (from google-cloud-storage>=1.30.0->mlflow[databricks]>=3.1.0) (1.6.0)\nRequirement already satisfied: graphql-core<3.3,>=3.1 in /local_disk0/.ephemeral_nfs/envs/pythonEnv-5f7feb9d-3c00-4c6d-8cab-cad6e83aabcd/lib/python3.11/site-packages (from graphene<4->mlflow>=3.1.0->mlflow[databricks]>=3.1.0) (3.2.6)\nRequirement already satisfied: graphql-relay<3.3,>=3.1 in /local_disk0/.ephemeral_nfs/envs/pythonEnv-5f7feb9d-3c00-4c6d-8cab-cad6e83aabcd/lib/python3.11/site-packages (from graphene<4->mlflow>=3.1.0->mlflow[databricks]>=3.1.0) (3.2.0)\nRequirement already satisfied: certifi in /databricks/python3/lib/python3.11/site-packages (from httpx<1,>=0.23.0->openai) (2023.7.22)\nRequirement already satisfied: httpcore==1.* in /local_disk0/.ephemeral_nfs/envs/pythonEnv-5f7feb9d-3c00-4c6d-8cab-cad6e83aabcd/lib/python3.11/site-packages (from httpx<1,>=0.23.0->openai) (1.0.9)\nRequirement already satisfied: h11>=0.16 in /local_disk0/.ephemeral_nfs/envs/pythonEnv-5f7feb9d-3c00-4c6d-8cab-cad6e83aabcd/lib/python3.11/site-packages (from httpcore==1.*->httpx<1,>=0.23.0->openai) (0.16.0)\nRequirement already satisfied: contourpy>=1.0.1 in /databricks/python3/lib/python3.11/site-packages (from matplotlib<4->mlflow>=3.1.0->mlflow[databricks]>=3.1.0) (1.0.5)\nRequirement already satisfied: cycler>=0.10 in /databricks/python3/lib/python3.11/site-packages (from matplotlib<4->mlflow>=3.1.0->mlflow[databricks]>=3.1.0) (0.11.0)\nRequirement already satisfied: fonttools>=4.22.0 in /databricks/python3/lib/python3.11/site-packages (from matplotlib<4->mlflow>=3.1.0->mlflow[databricks]>=3.1.0) (4.25.0)\nRequirement already satisfied: kiwisolver>=1.0.1 in /databricks/python3/lib/python3.11/site-packages (from matplotlib<4->mlflow>=3.1.0->mlflow[databricks]>=3.1.0) (1.4.4)\nRequirement already satisfied: pillow>=6.2.0 in /databricks/python3/lib/python3.11/site-packages (from matplotlib<4->mlflow>=3.1.0->mlflow[databricks]>=3.1.0) (10.3.0)\nRequirement already satisfied: pyparsing<3.1,>=2.3.1 in /databricks/python3/lib/python3.11/site-packages (from matplotlib<4->mlflow>=3.1.0->mlflow[databricks]>=3.1.0) (3.0.9)\nRequirement already satisfied: pytz>=2020.1 in /databricks/python3/lib/python3.11/site-packages (from pandas<3->mlflow>=3.1.0->mlflow[databricks]>=3.1.0) (2022.7)\nRequirement already satisfied: annotated-types>=0.6.0 in /local_disk0/.ephemeral_nfs/envs/pythonEnv-5f7feb9d-3c00-4c6d-8cab-cad6e83aabcd/lib/python3.11/site-packages (from pydantic<3,>=1.10.8->mlflow-skinny==3.1.1->mlflow>=3.1.0->mlflow[databricks]>=3.1.0) (0.7.0)\nRequirement already satisfied: pydantic-core==2.33.2 in /local_disk0/.ephemeral_nfs/envs/pythonEnv-5f7feb9d-3c00-4c6d-8cab-cad6e83aabcd/lib/python3.11/site-packages (from pydantic<3,>=1.10.8->mlflow-skinny==3.1.1->mlflow>=3.1.0->mlflow[databricks]>=3.1.0) (2.33.2)\nRequirement already satisfied: typing-inspection>=0.4.0 in /local_disk0/.ephemeral_nfs/envs/pythonEnv-5f7feb9d-3c00-4c6d-8cab-cad6e83aabcd/lib/python3.11/site-packages (from pydantic<3,>=1.10.8->mlflow-skinny==3.1.1->mlflow>=3.1.0->mlflow[databricks]>=3.1.0) (0.4.1)\nRequirement already satisfied: joblib>=1.1.1 in /databricks/python3/lib/python3.11/site-packages (from scikit-learn<2->mlflow>=3.1.0->mlflow[databricks]>=3.1.0) (1.2.0)\nRequirement already satisfied: threadpoolctl>=2.0.0 in /databricks/python3/lib/python3.11/site-packages (from scikit-learn<2->mlflow>=3.1.0->mlflow[databricks]>=3.1.0) (2.2.0)\nRequirement already satisfied: greenlet>=1 in /local_disk0/.ephemeral_nfs/envs/pythonEnv-5f7feb9d-3c00-4c6d-8cab-cad6e83aabcd/lib/python3.11/site-packages (from sqlalchemy<3,>=1.4.0->mlflow>=3.1.0->mlflow[databricks]>=3.1.0) (3.2.3)\nRequirement already satisfied: six>=1.11.0 in /usr/lib/python3/dist-packages (from azure-core<2.0.0,>=1.28.0->azure-storage-file-datalake>12->mlflow[databricks]>=3.1.0) (1.16.0)\nRequirement already satisfied: cryptography>=2.1.4 in /databricks/python3/lib/python3.11/site-packages (from azure-storage-blob<13.0.0,>=12.19.0->azure-storage-file-datalake>12->mlflow[databricks]>=3.1.0) (41.0.3)\nRequirement already satisfied: starlette<0.47.0,>=0.40.0 in /local_disk0/.ephemeral_nfs/envs/pythonEnv-5f7feb9d-3c00-4c6d-8cab-cad6e83aabcd/lib/python3.11/site-packages (from fastapi<1->mlflow-skinny==3.1.1->mlflow>=3.1.0->mlflow[databricks]>=3.1.0) (0.46.2)\nRequirement already satisfied: gitdb<5,>=4.0.1 in /databricks/python3/lib/python3.11/site-packages (from gitpython<4,>=3.1.9->mlflow-skinny==3.1.1->mlflow>=3.1.0->mlflow[databricks]>=3.1.0) (4.0.11)\nRequirement already satisfied: googleapis-common-protos<2.0.dev0,>=1.56.2 in /databricks/python3/lib/python3.11/site-packages (from google-api-core<3.0.0dev,>=2.15.0->google-cloud-storage>=1.30.0->mlflow[databricks]>=3.1.0) (1.65.0)\nRequirement already satisfied: proto-plus<2.0.0dev,>=1.22.3 in /databricks/python3/lib/python3.11/site-packages (from google-api-core<3.0.0dev,>=2.15.0->google-cloud-storage>=1.30.0->mlflow[databricks]>=3.1.0) (1.25.0)\nRequirement already satisfied: pyasn1-modules>=0.2.1 in /databricks/python3/lib/python3.11/site-packages (from google-auth<3.0dev,>=2.26.1->google-cloud-storage>=1.30.0->mlflow[databricks]>=3.1.0) (0.2.8)\nRequirement already satisfied: rsa<5,>=3.1.4 in /databricks/python3/lib/python3.11/site-packages (from google-auth<3.0dev,>=2.26.1->google-cloud-storage>=1.30.0->mlflow[databricks]>=3.1.0) (4.9)\nRequirement already satisfied: zipp>=0.5 in /databricks/python3/lib/python3.11/site-packages (from importlib_metadata!=4.7.0,<9,>=3.7.0->mlflow-skinny==3.1.1->mlflow>=3.1.0->mlflow[databricks]>=3.1.0) (3.11.0)\nRequirement already satisfied: opentelemetry-semantic-conventions==0.55b1 in /local_disk0/.ephemeral_nfs/envs/pythonEnv-5f7feb9d-3c00-4c6d-8cab-cad6e83aabcd/lib/python3.11/site-packages (from opentelemetry-sdk<3,>=1.9.0->mlflow-skinny==3.1.1->mlflow>=3.1.0->mlflow[databricks]>=3.1.0) (0.55b1)\nRequirement already satisfied: charset-normalizer<4,>=2 in /databricks/python3/lib/python3.11/site-packages (from requests<3,>=2.17.3->mlflow-skinny==3.1.1->mlflow>=3.1.0->mlflow[databricks]>=3.1.0) (2.0.4)\nRequirement already satisfied: regex>=2022.1.18 in /local_disk0/.ephemeral_nfs/envs/pythonEnv-5f7feb9d-3c00-4c6d-8cab-cad6e83aabcd/lib/python3.11/site-packages (from tiktoken>=0.8.0->databricks-agents<2.0,>=1.0.0->mlflow[databricks]>=3.1.0) (2024.11.6)\nRequirement already satisfied: grpcio-status>=1.59.3 in /local_disk0/.ephemeral_nfs/envs/pythonEnv-5f7feb9d-3c00-4c6d-8cab-cad6e83aabcd/lib/python3.11/site-packages (from databricks-connect->databricks-agents<2.0,>=1.0.0->mlflow[databricks]>=3.1.0) (1.62.3)\nRequirement already satisfied: grpcio>=1.59.3 in /databricks/python3/lib/python3.11/site-packages (from databricks-connect->databricks-agents<2.0,>=1.0.0->mlflow[databricks]>=3.1.0) (1.69.0)\nRequirement already satisfied: py4j==0.10.9.7 in /databricks/python3/lib/python3.11/site-packages (from databricks-connect->databricks-agents<2.0,>=1.0.0->mlflow[databricks]>=3.1.0) (0.10.9.7)\nRequirement already satisfied: setuptools>=68.0.0 in /databricks/python3/lib/python3.11/site-packages (from databricks-connect->databricks-agents<2.0,>=1.0.0->mlflow[databricks]>=3.1.0) (75.1.0)\nRequirement already satisfied: marshmallow<4.0.0,>=3.18.0 in /local_disk0/.ephemeral_nfs/envs/pythonEnv-5f7feb9d-3c00-4c6d-8cab-cad6e83aabcd/lib/python3.11/site-packages (from dataclasses-json->databricks-agents<2.0,>=1.0.0->mlflow[databricks]>=3.1.0) (3.26.1)\nRequirement already satisfied: typing-inspect<1,>=0.4.0 in /local_disk0/.ephemeral_nfs/envs/pythonEnv-5f7feb9d-3c00-4c6d-8cab-cad6e83aabcd/lib/python3.11/site-packages (from dataclasses-json->databricks-agents<2.0,>=1.0.0->mlflow[databricks]>=3.1.0) (0.9.0)\nRequirement already satisfied: cffi>=1.12 in /databricks/python3/lib/python3.11/site-packages (from cryptography>=2.1.4->azure-storage-blob<13.0.0,>=12.19.0->azure-storage-file-datalake>12->mlflow[databricks]>=3.1.0) (1.15.1)\nRequirement already satisfied: smmap<6,>=3.0.1 in /databricks/python3/lib/python3.11/site-packages (from gitdb<5,>=4.0.1->gitpython<4,>=3.1.9->mlflow-skinny==3.1.1->mlflow>=3.1.0->mlflow[databricks]>=3.1.0) (5.0.1)\nRequirement already satisfied: pyasn1<0.5.0,>=0.4.6 in /databricks/python3/lib/python3.11/site-packages (from pyasn1-modules>=0.2.1->google-auth<3.0dev,>=2.26.1->google-cloud-storage>=1.30.0->mlflow[databricks]>=3.1.0) (0.4.8)\nRequirement already satisfied: mypy-extensions>=0.3.0 in /databricks/python3/lib/python3.11/site-packages (from typing-inspect<1,>=0.4.0->dataclasses-json->databricks-agents<2.0,>=1.0.0->mlflow[databricks]>=3.1.0) (0.4.3)\nRequirement already satisfied: pycparser in /databricks/python3/lib/python3.11/site-packages (from cffi>=1.12->cryptography>=2.1.4->azure-storage-blob<13.0.0,>=12.19.0->azure-storage-file-datalake>12->mlflow[databricks]>=3.1.0) (2.21)\n\u001B[43mNote: you may need to restart the kernel using %restart_python or dbutils.library.restartPython() to use updated packages.\u001B[0m\n"
     ]
    }
   ],
   "source": [
    "%pip install --upgrade \"mlflow[databricks]>=3.1.0\" openai\n",
    "\n",
    "%restart_python"
   ]
  },
  {
   "cell_type": "code",
   "execution_count": 0,
   "metadata": {
    "application/vnd.databricks.v1+cell": {
     "cellMetadata": {
      "byteLimit": 2048000,
      "rowLimit": 10000
     },
     "inputWidgets": {},
     "nuid": "e975856c-f6b6-446f-9e9d-91ba6632cc0f",
     "showTitle": false,
     "tableResultSettingsMap": {},
     "title": ""
    }
   },
   "outputs": [
    {
     "output_type": "stream",
     "name": "stdout",
     "output_type": "stream",
     "text": [
      "MLflowは、機械学習モデルの管理、開発、デプロイを支援するオープンソースのプラットフォームです。\n"
     ]
    },
    {
     "output_type": "display_data",
     "data": {
      "application/databricks.mlflow.trace": "\"tr-fe1ae80d0414f811a8f3144616f45931\"",
      "text/plain": [
       "Trace(trace_id=tr-fe1ae80d0414f811a8f3144616f45931)"
      ]
     },
     "metadata": {},
     "output_type": "display_data"
    }
   ],
   "source": [
    "import mlflow\n",
    "from openai import OpenAI\n",
    "\n",
    "# MLflowの自動ロギングを有効にして、アプリケーションにトレースを追加\n",
    "mlflow.openai.autolog()\n",
    "\n",
    "# トレースデコレータを使用してアプリケーションのエントリポイントをキャプチャ\n",
    "@mlflow.trace\n",
    "def my_app(model_input: str):\n",
    "    # Notebook実行の資格情報を利用してDatabricks Foundation Model APIへのCredentialを取得\n",
    "    mlflow_creds = mlflow.utils.databricks_utils.get_databricks_host_creds()\n",
    "    client = OpenAI(\n",
    "        api_key=mlflow_creds.token, base_url=f\"{mlflow_creds.host}/serving-endpoints\"\n",
    "    )\n",
    "\n",
    "    # この呼び出しは`mlflow.openai.autolog()`によって自動的に計測されます\n",
    "    response = client.chat.completions.create(\n",
    "        model=\"databricks-meta-llama-3-3-70b-instruct\",\n",
    "        messages=[\n",
    "            {\n",
    "                \"role\": \"system\",\n",
    "                \"content\": \"あなたは役に立つアシスタントです。\",\n",
    "            },\n",
    "            {\n",
    "                \"role\": \"user\",\n",
    "                \"content\": model_input,\n",
    "            },\n",
    "        ],\n",
    "    )\n",
    "    return response.choices[0].message.content\n",
    "\n",
    "# テスト実行\n",
    "result = my_app(model_input=\"MLflowとは何ですか？\")\n",
    "print(result)"
   ]
  },
  {
   "cell_type": "code",
   "execution_count": 0,
   "metadata": {
    "application/vnd.databricks.v1+cell": {
     "cellMetadata": {
      "byteLimit": 2048000,
      "rowLimit": 10000
     },
     "inputWidgets": {},
     "nuid": "2d40edcc-20f1-4c8e-bbcb-93e0cdadb7a9",
     "showTitle": false,
     "tableResultSettingsMap": {},
     "title": ""
    }
   },
   "outputs": [
    {
     "output_type": "stream",
     "name": "stderr",
     "output_type": "stream",
     "text": [
      "🔗 View Logged Model at: https://dbc-f1d46cb2-e7aa.cloud.databricks.com/ml/experiments/5cdd0258ddc24c8bbe19dfe08a33daee/models/m-ab3ffe66db86421e801934ce33a10a7c?o=1765512908890676\n/local_disk0/.ephemeral_nfs/envs/pythonEnv-6e58b23d-d637-4ea9-a8a5-cdd09e2846da/lib/python3.11/site-packages/mlflow/pyfunc/utils/data_validation.py:47: UserWarning: \u001B[31mType hint used in the model's predict function is not supported for MLflow's schema validation. Type hints must be wrapped in list[...] because MLflow assumes the predict method to take multiple input instances. Specify your type hint as `list[str]` for a valid signature. Remove the type hint to disable this warning. To enable validation for the input data, specify input example or model signature when logging the model. \u001B[0m\n  func_info = _get_func_info_if_type_hint_supported(func)\n/local_disk0/.ephemeral_nfs/envs/pythonEnv-6e58b23d-d637-4ea9-a8a5-cdd09e2846da/lib/python3.11/site-packages/mlflow/pyfunc/__init__.py:3191: UserWarning: Failed to infer signature from type hint: Type hints must be wrapped in list[...] because MLflow assumes the predict method to take multiple input instances. Specify your type hint as `list[str]` for a valid signature.\n  signature_from_type_hints = _infer_signature_from_type_hints(\n\u001B[31m2025/06/28 09:02:17 WARNING mlflow.models.model: Model logged without a signature and input example. Please set `input_example` parameter when logging the model to auto infer the model signature.\u001B[0m\n"
     ]
    }
   ],
   "source": [
    "model_info = mlflow.pyfunc.log_model(\n",
    "    name=\"my_app\",\n",
    "    python_model=my_app,\n",
    "    pip_requirements=[\"openai\"],\n",
    ")"
   ]
  },
  {
   "cell_type": "code",
   "execution_count": 0,
   "metadata": {
    "application/vnd.databricks.v1+cell": {
     "cellMetadata": {
      "byteLimit": 2048000,
      "rowLimit": 10000
     },
     "inputWidgets": {},
     "nuid": "7193e49f-e53b-4b9e-9534-645b71e43e8c",
     "showTitle": false,
     "tableResultSettingsMap": {},
     "title": ""
    }
   },
   "outputs": [
    {
     "output_type": "display_data",
     "data": {
      "application/vnd.jupyter.widget-view+json": {
       "model_id": "600544c21dc84e4190947a26df2eeae0",
       "version_major": 2,
       "version_minor": 0
      },
      "text/plain": [
       "Downloading artifacts:   0%|          | 0/9 [00:00<?, ?it/s]"
      ]
     },
     "metadata": {},
     "output_type": "display_data"
    },
    {
     "output_type": "stream",
     "name": "stdout",
     "output_type": "stream",
     "text": [
      "MLflowは、機械学習の開発ライフサイクルを管理するために使用されるオープンソースのソフトウェアです。\n\nMLflowは、以下のような機能を提供します：\n\n1.  **実験名管理**：実験名（実験）は、機械学習モデルのトレーニングやテストの実行を管理する単位です。MLflowでは、実験名を登録して管理できます。\n2.  **パラメータ管理**：機械学習モデルをトレーニングする際に使用するパラメータ（ハイパーパラメータ）を管理できます。\n3.  **メトリック管理**：実験名の結果として出力されるメトリック（精度、損失関数など）を管理できます。\n4.  **モデル管理**：トレーニングされた機械学習モデルを管理できます。\n5.  **モデルサービング**：トレーニングされたモデルをWeb APIとして公開し、予測を要求できるようにします。\n\nMLflowは、機械学習の開発プロセスを効率化し、再現性を高め、チームでの協業を容易にすることを目指しています。\n"
     ]
    },
    {
     "output_type": "display_data",
     "data": {
      "application/databricks.mlflow.trace": "\"tr-5aba90fc81e8dba76742cad0e2b41dba\"",
      "text/plain": [
       "Trace(trace_id=tr-5aba90fc81e8dba76742cad0e2b41dba)"
      ]
     },
     "metadata": {},
     "output_type": "display_data"
    }
   ],
   "source": [
    "model = mlflow.pyfunc.load_model(model_info.model_uri)\n",
    "prediction = model.predict(\"MLflowとは何ですか？\")\n",
    "print(prediction)\n"
   ]
  },
  {
   "cell_type": "markdown",
   "metadata": {
    "application/vnd.databricks.v1+cell": {
     "cellMetadata": {},
     "inputWidgets": {},
     "nuid": "8cd5e6ac-e510-4a6d-ba72-8778c9b555fd",
     "showTitle": false,
     "tableResultSettingsMap": {},
     "title": ""
    }
   },
   "source": [
    "## バージョン管理"
   ]
  },
  {
   "cell_type": "code",
   "execution_count": 0,
   "metadata": {
    "application/vnd.databricks.v1+cell": {
     "cellMetadata": {
      "byteLimit": 2048000,
      "rowLimit": 10000
     },
     "inputWidgets": {},
     "nuid": "3c3b8d8b-3253-472d-b2ce-cc8cf18c1594",
     "showTitle": false,
     "tableResultSettingsMap": {},
     "title": ""
    }
   },
   "outputs": [
    {
     "output_type": "stream",
     "name": "stdout",
     "output_type": "stream",
     "text": [
      "MLflowは、機械学習のライフサイクルを管理するためのオープンソースプラットフォームです。MLflowは、データの前処理、モデルのトレーニング、ハイパーパラメータのチューニング、モデルのデプロイなど、機械学習プロジェクトのさまざまな段階を管理するためのツールを提供します。\n\nMLflowの主な機能は以下のとおりです。\n\n1. **実験の管理**: MLflowは、機械学習実験を管理するためのツールを提供します。実験のパラメータ、メトリクス、成果物を追跡し、比較することができます。\n2. **モデルの管理**: MLflowは、機械学習モデルを管理するためのツールを提供します。モデルを保存、読み込み、デプロイすることができます。\n3. **再現性の確保**: MLflowは、機械学習実験の再現性を確保するためのツールを提供します。実験の環境、パラメータ、データなどを記録し、再現することができます。\n\nMLflowを使用することで、以下のようなメリットがあります。\n\n* 機械学習プロジェクトの管理が容易になる\n* 実験の再現性が確保される\n* モデルのデプロイが容易になる\n* チームでの共同作業が容易になる\n\nMLflowは、Python、R、Javaなどのさまざまなプログラミング言語に対応しており、さまざまな機械学習ライブラリ（TensorFlow、PyTorch、Scikit-learnなど）と統合することができます。\n"
     ]
    },
    {
     "output_type": "display_data",
     "data": {
      "application/databricks.mlflow.trace": "\"tr-bb9841ce93df91e6e2528bf791420904\"",
      "text/plain": [
       "Trace(trace_id=tr-bb9841ce93df91e6e2528bf791420904)"
      ]
     },
     "metadata": {},
     "output_type": "display_data"
    }
   ],
   "source": [
    "import mlflow\n",
    "from openai import OpenAI\n",
    "\n",
    "mlflow.openai.autolog()\n",
    "\n",
    "@mlflow.trace\n",
    "def my_app_revised(model_input: str):\n",
    "    # Notebook実行の資格情報を利用してDatabricks Foundation Model APIへのCredentialを取得\n",
    "    mlflow_creds = mlflow.utils.databricks_utils.get_databricks_host_creds()\n",
    "    client = OpenAI(\n",
    "        api_key=mlflow_creds.token, base_url=f\"{mlflow_creds.host}/serving-endpoints\"\n",
    "    )\n",
    "\n",
    "    # 利用するモデルをLlama3.3 70BからLlama4 に変更する\n",
    "    response = client.chat.completions.create(\n",
    "        model=\"databricks-llama-4-maverick\",\n",
    "        messages=[\n",
    "            {\n",
    "                \"role\": \"system\",\n",
    "                \"content\": \"あなたは役に立つアシスタントです。\",\n",
    "            },\n",
    "            {\n",
    "                \"role\": \"user\",\n",
    "                \"content\": model_input,\n",
    "            },\n",
    "        ],\n",
    "    )\n",
    "    return response.choices[0].message.content\n",
    "\n",
    "# テスト実行\n",
    "result = my_app_revised(model_input=\"MLflowとは何ですか？\")\n",
    "print(result)"
   ]
  },
  {
   "cell_type": "code",
   "execution_count": 0,
   "metadata": {
    "application/vnd.databricks.v1+cell": {
     "cellMetadata": {
      "byteLimit": 2048000,
      "rowLimit": 10000
     },
     "inputWidgets": {},
     "nuid": "a85aa876-60f2-4244-8a51-cf18e2e19d31",
     "showTitle": false,
     "tableResultSettingsMap": {},
     "title": ""
    }
   },
   "outputs": [
    {
     "output_type": "stream",
     "name": "stderr",
     "output_type": "stream",
     "text": [
      "2025/06/28 09:13:11 INFO mlflow.tracking.fluent: LoggedModel with name 'my_app_dev' does not exist, creating one...\n2025/06/28 09:13:12 INFO mlflow.tracking.fluent: Active model is set to the logged model with ID: m-8979bb49155245f5937d4e3c81df9616\n"
     ]
    }
   ],
   "source": [
    "active_model_info = mlflow.set_active_model(name=\"my_app_dev\")"
   ]
  },
  {
   "cell_type": "code",
   "execution_count": 0,
   "metadata": {
    "application/vnd.databricks.v1+cell": {
     "cellMetadata": {
      "byteLimit": 2048000,
      "rowLimit": 10000
     },
     "inputWidgets": {},
     "nuid": "2cfc376b-13ed-42f5-98e9-154097f1307b",
     "showTitle": false,
     "tableResultSettingsMap": {},
     "title": ""
    }
   },
   "outputs": [
    {
     "output_type": "display_data",
     "data": {
      "application/databricks.mlflow.trace": "\"tr-db05ca17d892d902060bcf021510e023\"",
      "text/plain": [
       "Trace(trace_id=tr-db05ca17d892d902060bcf021510e023)"
      ]
     },
     "metadata": {},
     "output_type": "display_data"
    }
   ],
   "source": [
    "# テスト実行２\n",
    "my_app_revised(model_input=\"MLflowとは何ですか？\")"
   ]
  },
  {
   "cell_type": "code",
   "execution_count": 0,
   "metadata": {
    "application/vnd.databricks.v1+cell": {
     "cellMetadata": {
      "byteLimit": 2048000,
      "rowLimit": 10000
     },
     "inputWidgets": {},
     "nuid": "f41055b7-3a2a-4378-a8b0-dad4e7a63bb7",
     "showTitle": false,
     "tableResultSettingsMap": {},
     "title": ""
    }
   },
   "outputs": [
    {
     "output_type": "stream",
     "name": "stderr",
     "output_type": "stream",
     "text": [
      "2025/06/28 09:32:32 INFO mlflow.tracking.fluent: LoggedModel with name 'my_app_dev2' does not exist, creating one...\n2025/06/28 09:32:33 INFO mlflow.tracking.fluent: Active model is set to the logged model with ID: m-d448753cef784faf8a6fb62652725652\n"
     ]
    },
    {
     "output_type": "stream",
     "name": "stdout",
     "output_type": "stream",
     "text": [
      "MLflow（えむえるふろー）ってのはな、機械学習（まーちゃんがくしゅー）のプロジェクトを管理（かんり）するツールやねん。簡単に言うと、まーちゃんがくモデルの開発（かいはつ）からデプロイ（ぶんかつかいふ）までを一貫（いっかん）して管理できるようにするんや。これ、データサイエンティスト（でーたさーばんてぃすと）やエンジニア（えんじにあ）にとってはめっちゃ便利（べんり）なやつやねん。\n\nMLflowには主に4つの機能（きのう）があってん。\n\n1. **MLflow Tracking**：実験（じっけん）の記録（きろく）と管理。どんなパラメータ（ぱらめーた）で、どんな結果（けっか）が出たかを追跡（ついせき）できるねん。\n2. **MLflow Projects**：プロジェクトの管理。まーちゃんがくモデルのコードや環境（かんきょう）をパッケージ化（ぱっけーじか）して、再現性（さいせいせい）を高めるねん。\n3. **MLflow Models**：モデルの管理とデプロイ。まーちゃんがくモデルを複数の環境（かんきょう）で簡単にデプロイできるようにするねん。\n4. **MLflow Model Registry**：モデルの登録（とうろく）と管理。まーちゃんがくモデルのバージョン管理（ばーじょんかんり）や、ステージング（すてーじんぐ）環境（かんきょう）への移行（いこう）などをサポートするねん。\n\nMLflowを使うと、まーちゃんがくプロジェクトの効率（こうりつ）がグンと上がるねん。チーム開発（ちーむかいはつ）でも個人開発（こじんかいはつ）でも、MLflowは役に立つはずやで！\n"
     ]
    },
    {
     "output_type": "display_data",
     "data": {
      "application/databricks.mlflow.trace": "\"tr-91c7ff3dead1d805136bd45a2eab5cf8\"",
      "text/plain": [
       "Trace(trace_id=tr-91c7ff3dead1d805136bd45a2eab5cf8)"
      ]
     },
     "metadata": {},
     "output_type": "display_data"
    }
   ],
   "source": [
    "# 新たなバージョンのモデルも併せて作成・設定\n",
    "active_model_info = mlflow.set_active_model(name=\"my_app_dev2\")\n",
    "\n",
    "@mlflow.trace\n",
    "def my_app_revise_ver2(model_input: str):\n",
    "    mlflow_creds = mlflow.utils.databricks_utils.get_databricks_host_creds()\n",
    "    client = OpenAI(\n",
    "        api_key=mlflow_creds.token, base_url=f\"{mlflow_creds.host}/serving-endpoints\"\n",
    "    )\n",
    "\n",
    "    # システムプロンプトを変更\n",
    "    response = client.chat.completions.create(\n",
    "        model=\"databricks-llama-4-maverick\",\n",
    "        messages=[\n",
    "            {\n",
    "                \"role\": \"system\",\n",
    "                \"content\": \"あなたは役に立つアシスタントです。関西弁で面白おかしく回答してください。\",\n",
    "            },\n",
    "            {\n",
    "                \"role\": \"user\",\n",
    "                \"content\": model_input,\n",
    "            },\n",
    "        ],\n",
    "    )\n",
    "    return response.choices[0].message.content\n",
    "\n",
    "# テスト実行\n",
    "result = my_app_revise_ver2(model_input=\"MLflowとは何ですか？\")\n",
    "print(result)"
   ]
  },
  {
   "cell_type": "code",
   "execution_count": 0,
   "metadata": {
    "application/vnd.databricks.v1+cell": {
     "cellMetadata": {
      "byteLimit": 2048000,
      "rowLimit": 10000
     },
     "inputWidgets": {},
     "nuid": "63315141-643d-4b4f-a74d-f294c515f2fb",
     "showTitle": false,
     "tableResultSettingsMap": {},
     "title": ""
    }
   },
   "outputs": [
    {
     "output_type": "stream",
     "name": "stderr",
     "output_type": "stream",
     "text": [
      "fatal: not a git repository (or any parent up to mount point /)\nStopping at filesystem boundary (GIT_DISCOVERY_ACROSS_FILESYSTEM not set).\n2025/06/25 11:22:21 INFO mlflow.tracking.fluent: Active model is set to the logged model with ID: m-8fc0cecb0c1b45f4bf8ddac92f09ac9c\n"
     ]
    },
    {
     "output_type": "stream",
     "name": "stdout",
     "output_type": "stream",
     "text": [
      "Active LoggedModel: 'customer_support_agent-local-dev', Model ID: 'm-8fc0cecb0c1b45f4bf8ddac92f09ac9c'\n"
     ]
    }
   ],
   "source": [
    "# Keep original imports\n",
    "### NEW CODE\n",
    "import subprocess\n",
    "\n",
    "# Define your application and its version identifier\n",
    "app_name = \"customer_support_agent\"\n",
    "\n",
    "# Get current git commit hash for versioning\n",
    "try:\n",
    "    git_commit = (\n",
    "        subprocess.check_output([\"git\", \"rev-parse\", \"HEAD\"])\n",
    "        .decode(\"ascii\")\n",
    "        .strip()[:8]\n",
    "    )\n",
    "    version_identifier = f\"git-{git_commit}\"\n",
    "except subprocess.CalledProcessError:\n",
    "    version_identifier = \"local-dev\"  # Fallback if not in a git repo\n",
    "logged_model_name = f\"{app_name}-{version_identifier}\"\n",
    "\n",
    "# Set the active model context\n",
    "active_model_info = mlflow.set_active_model(name=logged_model_name)\n",
    "print(\n",
    "    f\"Active LoggedModel: '{active_model_info.name}', Model ID: '{active_model_info.model_id}'\"\n",
    ")\n",
    "\n",
    "### END NEW CODE\n",
    "\n",
    "### ORIGINAL CODE BELOW\n",
    "### ..."
   ]
  },
  {
   "cell_type": "code",
   "execution_count": 0,
   "metadata": {
    "application/vnd.databricks.v1+cell": {
     "cellMetadata": {
      "byteLimit": 2048000,
      "rowLimit": 10000
     },
     "inputWidgets": {},
     "nuid": "3bac024e-3457-420a-92c8-39a9c002fc48",
     "showTitle": false,
     "tableResultSettingsMap": {},
     "title": ""
    }
   },
   "outputs": [],
   "source": [
    "app_params = {\n",
    "    \"llm\": \"gpt-4o-mini\",\n",
    "    \"temperature\": 0.7,\n",
    "    \"retrieval_strategy\": \"vector_search_v3\",\n",
    "}\n",
    "\n",
    "# Log params\n",
    "mlflow.log_model_params(model_id=active_model_info.model_id, params=app_params)"
   ]
  },
  {
   "cell_type": "code",
   "execution_count": 0,
   "metadata": {
    "application/vnd.databricks.v1+cell": {
     "cellMetadata": {
      "byteLimit": 2048000,
      "rowLimit": 10000
     },
     "inputWidgets": {},
     "nuid": "6bb05a37-88c1-46ac-95b6-4c0f230c246d",
     "showTitle": false,
     "tableResultSettingsMap": {},
     "title": ""
    }
   },
   "outputs": [
    {
     "output_type": "stream",
     "name": "stdout",
     "output_type": "stream",
     "text": [
      "MLflow is an open-source platform for managing the end-to-end machine learning (ML) lifecycle. It was developed by Databricks and is now a part of the Linux Foundation's AI Foundation. MLflow provides a standardized way to manage ML experiments, models, and deployments, making it easier to reproduce, collaborate, and deploy ML models.\n\nMLflow consists of four main components:\n\n1. **MLflow Tracking**: This component allows users to log and track experiments, including parameters, metrics, and artifacts. It provides a centralized repository for storing and comparing the results of different experiments.\n2. **MLflow Projects**: This component provides a standard way to package and distribute ML code, making it easy to reproduce and deploy models. It includes tools for managing dependencies, environments, and entry points.\n3. **MLflow Models**: This component provides a standardized way to manage and deploy ML models. It includes tools for serving models, managing model versions, and integrating with various deployment platforms.\n4. **MLflow Model Serving**: This component provides a simple way to deploy and manage ML models in production environments. It includes tools for serving models, managing model versions, and integrating with various deployment platforms.\n\nSome of the key benefits of using MLflow include:\n\n* **Reproducibility**: MLflow makes it easy to reproduce experiments and models, which is essential for ensuring the reliability and accuracy of ML results.\n* **Collaboration**: MLflow provides a standardized way to share and collaborate on ML projects, making it easier for teams to work together.\n* **Deployability**: MLflow makes it easy to deploy ML models in production environments, which is essential for getting value from ML investments.\n* **Flexibility**: MLflow supports a wide range of ML frameworks and libraries, including TensorFlow, PyTorch, Scikit-learn, and more.\n\nOverall, MLflow is a powerful platform for managing the ML lifecycle, and it has gained widespread adoption in the industry.\nDatabricks is a cloud-based platform that provides a fast, easy, and collaborative Apache Spark-based analytics platform. It was founded by the original creators of Apache Spark and is designed to help data engineers, data scientists, and data analysts work together to build and deploy data pipelines, machine learning models, and data warehouses.\n\nDatabricks offers a range of features and tools that enable users to:\n\n1. **Process large-scale data**: Databricks provides a scalable and performant platform for processing big data using Apache Spark.\n2. **Collaborate**: Databricks offers a collaborative environment for data teams to work together on data projects, share notebooks, and track changes.\n3. **Build data pipelines**: Databricks provides a simple and intuitive way to build, deploy, and manage data pipelines using Apache Spark.\n4. **Develop machine learning models**: Databricks offers a range of machine learning libraries and frameworks, including TensorFlow, PyTorch, and scikit-learn, to build and deploy machine learning models.\n5. **Create data warehouses**: Databricks provides a cloud-based data warehousing solution that allows users to create, manage, and query data warehouses using SQL and Apache Spark.\n6. **Integrate with other tools**: Databricks integrates with a range of other tools and platforms, including Azure, AWS, Google Cloud, Tableau, Power BI, and more.\n\nSome of the key benefits of using Databricks include:\n\n* **Faster time-to-insight**: Databricks provides a fast and scalable platform for processing big data, which enables users to get insights and results faster.\n* **Improved collaboration**: Databricks offers a collaborative environment that enables data teams to work together more effectively.\n* **Simplified data engineering**: Databricks provides a simple and intuitive way to build, deploy, and manage data pipelines, which reduces the complexity and cost of data engineering.\n* **Cost-effective**: Databricks provides a cost-effective solution for big data processing and analytics, which reduces the need for expensive hardware and infrastructure.\n\nOverall, Databricks is a powerful platform that helps organizations to unlock the value of their data and drive business insights and innovation.\n"
     ]
    },
    {
     "output_type": "display_data",
     "data": {
      "application/databricks.mlflow.trace": "[\"tr-65eefa4cb84fe184b4d49214ac3f5430\", \"tr-62827f64bd07d860b657d528546ed71b\"]",
      "text/plain": [
       "[Trace(trace_id=tr-65eefa4cb84fe184b4d49214ac3f5430), Trace(trace_id=tr-62827f64bd07d860b657d528546ed71b)]"
      ]
     },
     "metadata": {},
     "output_type": "display_data"
    }
   ],
   "source": [
    "# These 2 invocations will be linked to the same LoggedModel\n",
    "result = my_app(input=\"What is MLflow?\")\n",
    "print(result)\n",
    "\n",
    "result = my_app(input=\"What is Databricks?\")\n",
    "print(result)"
   ]
  },
  {
   "cell_type": "code",
   "execution_count": 0,
   "metadata": {
    "application/vnd.databricks.v1+cell": {
     "cellMetadata": {
      "byteLimit": 2048000,
      "rowLimit": 10000
     },
     "inputWidgets": {},
     "nuid": "dd94fb08-b341-44ed-bd98-ad7f3e4a4b47",
     "showTitle": false,
     "tableResultSettingsMap": {},
     "title": ""
    }
   },
   "outputs": [
    {
     "output_type": "stream",
     "name": "stderr",
     "output_type": "stream",
     "text": [
      "2025/06/25 11:22:53 INFO mlflow.tracking.fluent: LoggedModel with name 'new-name-set-manually' does not exist, creating one...\n2025/06/25 11:22:54 INFO mlflow.tracking.fluent: Active model is set to the logged model with ID: m-90b706992d3b4fc0856ad9e0126d5eee\n"
     ]
    },
    {
     "output_type": "stream",
     "name": "stdout",
     "output_type": "stream",
     "text": [
      "Active LoggedModel: 'new-name-set-manually', Model ID: 'm-90b706992d3b4fc0856ad9e0126d5eee'\nGenAI stands for General Artificial Intelligence. It refers to a type of artificial intelligence that is designed to perform any intellectual task that a human can. In other words, GenAI is a machine intelligence that can learn, reason, and apply knowledge across a wide range of tasks, similar to human intelligence.\n\nGenAI is often contrasted with Narrow or Weak AI, which is designed to perform a specific task, such as image recognition, language translation, or playing chess. Narrow AI is typically trained on a specific dataset and is not capable of general reasoning or problem-solving.\n\nThe goal of GenAI research is to create a machine that can:\n\n1. Learn from experience and adapt to new situations\n2. Reason and solve problems using logic and abstraction\n3. Understand and generate human language\n4. Exhibit creativity and common sense\n5. Integrate multiple sources of knowledge and information\n\nGenAI has the potential to revolutionize many areas of life, including healthcare, finance, education, and transportation. However, creating a true GenAI is still an ongoing research challenge, and many experts believe that we are still far from achieving human-like intelligence in machines.\n\nSome of the key challenges in developing GenAI include:\n\n1. Developing a deep understanding of human intelligence and cognition\n2. Creating algorithms and architectures that can learn and reason across multiple domains\n3. Integrating multiple AI systems and technologies to create a cohesive whole\n4. Ensuring that GenAI systems are transparent, explainable, and trustworthy\n\nWhile we have made significant progress in AI research, the development of GenAI is an ongoing effort that requires continued advances in areas like machine learning, natural language processing, computer vision, and cognitive architectures.\n"
     ]
    },
    {
     "output_type": "display_data",
     "data": {
      "application/databricks.mlflow.trace": "\"tr-1ae64cb0bc90384f0c20918d73d57ce6\"",
      "text/plain": [
       "Trace(trace_id=tr-1ae64cb0bc90384f0c20918d73d57ce6)"
      ]
     },
     "metadata": {},
     "output_type": "display_data"
    }
   ],
   "source": [
    "\n",
    "# Set the active model context\n",
    "active_model_info = mlflow.set_active_model(name=\"new-name-set-manually\")\n",
    "print(\n",
    "    f\"Active LoggedModel: '{active_model_info.name}', Model ID: '{active_model_info.model_id}'\"\n",
    ")\n",
    "\n",
    "app_params = {\n",
    "    \"llm\": \"gpt-4o\",\n",
    "    \"temperature\": 0.7,\n",
    "    \"retrieval_strategy\": \"vector_search_v4\",\n",
    "}\n",
    "\n",
    "# Log params\n",
    "mlflow.log_model_params(model_id=active_model_info.model_id, params=app_params)\n",
    "\n",
    "# This will create a new LoggedModel\n",
    "result = my_app(input=\"What is GenAI?\")\n",
    "print(result)"
   ]
  }
 ],
 "metadata": {
  "application/vnd.databricks.v1+notebook": {
   "computePreferences": null,
   "dashboards": [],
   "environmentMetadata": {
    "base_environment": "",
    "environment_version": "2"
   },
   "inputWidgetPreferences": null,
   "language": "python",
   "notebookMetadata": {
    "pythonIndentUnit": 4
   },
   "notebookName": "006_versions",
   "widgets": {}
  },
  "language_info": {
   "name": "python"
  }
 },
 "nbformat": 4,
 "nbformat_minor": 0
}
